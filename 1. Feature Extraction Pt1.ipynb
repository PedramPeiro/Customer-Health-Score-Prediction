{
 "cells": [
  {
   "cell_type": "markdown",
   "metadata": {},
   "source": [
    "# Importing Libs"
   ]
  },
  {
   "cell_type": "code",
   "execution_count": 1,
   "metadata": {
    "ExecuteTime": {
     "end_time": "2022-09-16T05:57:47.224137Z",
     "start_time": "2022-09-16T05:57:46.518023Z"
    }
   },
   "outputs": [],
   "source": [
    "import pandas as pd\n",
    "import numpy as np\n",
    "import glob\n",
    "import os\n",
    "pd.set_option('display.max_rows', None)"
   ]
  },
  {
   "cell_type": "markdown",
   "metadata": {},
   "source": [
    "# Importing dataset"
   ]
  },
  {
   "cell_type": "markdown",
   "metadata": {},
   "source": [
    "Place all your \"file.csv\" files in a folder named files and then use its path as mentioned below"
   ]
  },
  {
   "cell_type": "code",
   "execution_count": 2,
   "metadata": {
    "ExecuteTime": {
     "end_time": "2022-09-16T06:07:00.421458Z",
     "start_time": "2022-09-16T05:57:47.226130Z"
    }
   },
   "outputs": [
    {
     "name": "stdout",
     "output_type": "stream",
     "text": [
      "Records of corrupted data registered by BizDomains are saved \n",
      "in a csv file named \"corrupted_Deals.csv\" and you can check the times for each\n",
      "number of problematic cases in datetime entrance: 3311, number of rows before: 2152632, number of rows after: 2149321\n"
     ]
    },
    {
     "data": {
      "text/html": [
       "<div>\n",
       "<style scoped>\n",
       "    .dataframe tbody tr th:only-of-type {\n",
       "        vertical-align: middle;\n",
       "    }\n",
       "\n",
       "    .dataframe tbody tr th {\n",
       "        vertical-align: top;\n",
       "    }\n",
       "\n",
       "    .dataframe thead th {\n",
       "        text-align: right;\n",
       "    }\n",
       "</style>\n",
       "<table border=\"1\" class=\"dataframe\">\n",
       "  <thead>\n",
       "    <tr style=\"text-align: right;\">\n",
       "      <th></th>\n",
       "      <th>DealId</th>\n",
       "      <th>IsDeletedDeal</th>\n",
       "      <th>RegisterTimeDeal</th>\n",
       "      <th>StatusDeal</th>\n",
       "      <th>IsDeletedActivity</th>\n",
       "      <th>RegisterDateActivity</th>\n",
       "      <th>IsDoneActivity</th>\n",
       "      <th>DoneDateActivity</th>\n",
       "      <th>DealFinishTime</th>\n",
       "    </tr>\n",
       "  </thead>\n",
       "  <tbody>\n",
       "    <tr>\n",
       "      <th>0</th>\n",
       "      <td>cef52513-8f12-4601-91f2-00002ce80633</td>\n",
       "      <td>False</td>\n",
       "      <td>2022-04-14 21:19:41.000</td>\n",
       "      <td>1</td>\n",
       "      <td>NaN</td>\n",
       "      <td>NaT</td>\n",
       "      <td>NaN</td>\n",
       "      <td>NaT</td>\n",
       "      <td>2022-04-14 21:20:16.480</td>\n",
       "    </tr>\n",
       "    <tr>\n",
       "      <th>1</th>\n",
       "      <td>5977d067-a390-4b9c-9d58-00003b1f11cf</td>\n",
       "      <td>False</td>\n",
       "      <td>2022-06-08 12:37:08.210</td>\n",
       "      <td>0</td>\n",
       "      <td>NaN</td>\n",
       "      <td>NaT</td>\n",
       "      <td>NaN</td>\n",
       "      <td>NaT</td>\n",
       "      <td>NaT</td>\n",
       "    </tr>\n",
       "    <tr>\n",
       "      <th>2</th>\n",
       "      <td>80f17f47-87a7-4259-b234-00004c7c6056</td>\n",
       "      <td>False</td>\n",
       "      <td>2022-06-24 19:03:12.280</td>\n",
       "      <td>1</td>\n",
       "      <td>NaN</td>\n",
       "      <td>NaT</td>\n",
       "      <td>NaN</td>\n",
       "      <td>NaT</td>\n",
       "      <td>2022-06-24 19:03:12.280</td>\n",
       "    </tr>\n",
       "    <tr>\n",
       "      <th>3</th>\n",
       "      <td>c6ad7211-1856-4129-b3b0-000053ded53b</td>\n",
       "      <td>False</td>\n",
       "      <td>2022-04-10 08:37:00.803</td>\n",
       "      <td>1</td>\n",
       "      <td>NaN</td>\n",
       "      <td>NaT</td>\n",
       "      <td>NaN</td>\n",
       "      <td>NaT</td>\n",
       "      <td>2022-04-10 08:37:00.803</td>\n",
       "    </tr>\n",
       "    <tr>\n",
       "      <th>4</th>\n",
       "      <td>30322eb0-a08d-4b98-80e2-000067a52945</td>\n",
       "      <td>False</td>\n",
       "      <td>2022-06-13 08:11:20.647</td>\n",
       "      <td>0</td>\n",
       "      <td>NaN</td>\n",
       "      <td>NaT</td>\n",
       "      <td>NaN</td>\n",
       "      <td>NaT</td>\n",
       "      <td>NaT</td>\n",
       "    </tr>\n",
       "  </tbody>\n",
       "</table>\n",
       "</div>"
      ],
      "text/plain": [
       "                                 DealId  IsDeletedDeal  \\\n",
       "0  cef52513-8f12-4601-91f2-00002ce80633          False   \n",
       "1  5977d067-a390-4b9c-9d58-00003b1f11cf          False   \n",
       "2  80f17f47-87a7-4259-b234-00004c7c6056          False   \n",
       "3  c6ad7211-1856-4129-b3b0-000053ded53b          False   \n",
       "4  30322eb0-a08d-4b98-80e2-000067a52945          False   \n",
       "\n",
       "         RegisterTimeDeal  StatusDeal IsDeletedActivity RegisterDateActivity  \\\n",
       "0 2022-04-14 21:19:41.000           1               NaN                  NaT   \n",
       "1 2022-06-08 12:37:08.210           0               NaN                  NaT   \n",
       "2 2022-06-24 19:03:12.280           1               NaN                  NaT   \n",
       "3 2022-04-10 08:37:00.803           1               NaN                  NaT   \n",
       "4 2022-06-13 08:11:20.647           0               NaN                  NaT   \n",
       "\n",
       "  IsDoneActivity DoneDateActivity          DealFinishTime  \n",
       "0            NaN              NaT 2022-04-14 21:20:16.480  \n",
       "1            NaN              NaT                     NaT  \n",
       "2            NaN              NaT 2022-06-24 19:03:12.280  \n",
       "3            NaN              NaT 2022-04-10 08:37:00.803  \n",
       "4            NaN              NaT                     NaT  "
      ]
     },
     "execution_count": 2,
     "metadata": {},
     "output_type": "execute_result"
    }
   ],
   "source": [
    "path = r\"files\" # use your path\n",
    "all_files = glob.glob(os.path.join(path , \"*.csv\"))\n",
    "\n",
    "li = []\n",
    "\n",
    "for filename in all_files:\n",
    "    df = pd.read_csv(filename, index_col=None, header=0)\n",
    "    li.append(df)\n",
    "\n",
    "frame = pd.concat(li, axis=0, ignore_index=True)\n",
    "\n",
    "df = frame.rename(columns={'IsDeleted':'IsDeletedDeal','Id':'DealId' , 'Id.1':'ActivityId','IsDeleted.1':'IsDeletedActivity','RegisterTime':'RegisterTimeDeal',\n",
    "                                                                                    'Status':'StatusDeal','RegisterDate':'RegisterDateActivity','IsDone':'IsDoneActivity',\n",
    "                                                                                    'DoneDate':'DoneDateActivity'})\n",
    "df['DealId']=df['DealId'].str.lower()\n",
    "df['DoneDateActivity'] = np.where(df['IsDoneActivity']==False , np.nan ,df['DoneDateActivity'])\n",
    "df['DealFinishTime']=np.where(df['StatusDeal']==1 , df['ChangeToWonTime'] , \n",
    "                                np.where(df['StatusDeal']==2 , df['ChangeToLossTime'] , None))\n",
    "indecies=[]\n",
    "def ApplyCoerceError(row):\n",
    "    try:\n",
    "        y=pd.to_datetime(row)\n",
    "        return True\n",
    "    except Exception:\n",
    "        return False\n",
    "indecies = df[['RegisterDateActivity' , 'DoneDateActivity' , 'DealFinishTime' , 'RegisterTimeDeal']].apply(ApplyCoerceError, axis=1).tolist()\n",
    "shape1=df.shape[0]\n",
    "print('''Records of corrupted data registered by BizDomains are saved \n",
    "in a csv file named \"corrupted_Deals.csv\" and you can check the times for each''')\n",
    "df[~np.array(indecies)].to_csv('corrupted_Deals.csv')\n",
    "df = df[indecies]\n",
    "shape2=df.shape[0]\n",
    "print(f'number of problematic cases in datetime entrance: {shape1-shape2}, number of rows before: {shape1}, number of rows after: {shape2}')\n",
    "\n",
    "df['RegisterDateActivity'] = pd.to_datetime(df['RegisterDateActivity'])\n",
    "df['DoneDateActivity'] = pd.to_datetime(df['DoneDateActivity'] )\n",
    "df['RegisterTimeDeal'] = pd.to_datetime(df['RegisterTimeDeal'])\n",
    "df['DealFinishTime'] = pd.to_datetime(df['DealFinishTime'])\n",
    "\n",
    "# Deleting the rows with unconventional type of date/time which was stored as NaT\n",
    "df.drop(['ChangeToWonTime' , 'ChangeToLossTime' , 'ActivityId'],axis=1,inplace=True)\n",
    "df.head()"
   ]
  },
  {
   "cell_type": "markdown",
   "metadata": {},
   "source": [
    "# Joining Biz Dataset"
   ]
  },
  {
   "cell_type": "markdown",
   "metadata": {},
   "source": [
    "If BizDomainIds are included in the initial dataset, just apply line 7 and 8 of the code cell below on the given df"
   ]
  },
  {
   "cell_type": "code",
   "execution_count": 3,
   "metadata": {
    "ExecuteTime": {
     "end_time": "2022-09-16T06:07:03.933072Z",
     "start_time": "2022-09-16T06:07:00.424450Z"
    }
   },
   "outputs": [
    {
     "name": "stdout",
     "output_type": "stream",
     "text": [
      "(1122804, 2)\n"
     ]
    },
    {
     "data": {
      "text/html": [
       "<div>\n",
       "<style scoped>\n",
       "    .dataframe tbody tr th:only-of-type {\n",
       "        vertical-align: middle;\n",
       "    }\n",
       "\n",
       "    .dataframe tbody tr th {\n",
       "        vertical-align: top;\n",
       "    }\n",
       "\n",
       "    .dataframe thead th {\n",
       "        text-align: right;\n",
       "    }\n",
       "</style>\n",
       "<table border=\"1\" class=\"dataframe\">\n",
       "  <thead>\n",
       "    <tr style=\"text-align: right;\">\n",
       "      <th></th>\n",
       "      <th>DealId</th>\n",
       "      <th>IsDeletedDeal</th>\n",
       "      <th>RegisterTimeDeal</th>\n",
       "      <th>StatusDeal</th>\n",
       "      <th>IsDeletedActivity</th>\n",
       "      <th>RegisterDateActivity</th>\n",
       "      <th>IsDoneActivity</th>\n",
       "      <th>DoneDateActivity</th>\n",
       "      <th>DealFinishTime</th>\n",
       "      <th>BizDomainId</th>\n",
       "    </tr>\n",
       "  </thead>\n",
       "  <tbody>\n",
       "    <tr>\n",
       "      <th>0</th>\n",
       "      <td>cef52513-8f12-4601-91f2-00002ce80633</td>\n",
       "      <td>False</td>\n",
       "      <td>2022-04-14 21:19:41.000</td>\n",
       "      <td>1</td>\n",
       "      <td>NaN</td>\n",
       "      <td>NaT</td>\n",
       "      <td>NaN</td>\n",
       "      <td>NaT</td>\n",
       "      <td>2022-04-14 21:20:16.480</td>\n",
       "      <td>314a88a8-6d18-4972-abf5-d701f54dee15</td>\n",
       "    </tr>\n",
       "    <tr>\n",
       "      <th>1</th>\n",
       "      <td>5977d067-a390-4b9c-9d58-00003b1f11cf</td>\n",
       "      <td>False</td>\n",
       "      <td>2022-06-08 12:37:08.210</td>\n",
       "      <td>0</td>\n",
       "      <td>NaN</td>\n",
       "      <td>NaT</td>\n",
       "      <td>NaN</td>\n",
       "      <td>NaT</td>\n",
       "      <td>NaT</td>\n",
       "      <td>ca7dd0be-49a6-4b2e-ab21-3616d57e9571</td>\n",
       "    </tr>\n",
       "    <tr>\n",
       "      <th>2</th>\n",
       "      <td>80f17f47-87a7-4259-b234-00004c7c6056</td>\n",
       "      <td>False</td>\n",
       "      <td>2022-06-24 19:03:12.280</td>\n",
       "      <td>1</td>\n",
       "      <td>NaN</td>\n",
       "      <td>NaT</td>\n",
       "      <td>NaN</td>\n",
       "      <td>NaT</td>\n",
       "      <td>2022-06-24 19:03:12.280</td>\n",
       "      <td>729423ab-c61c-4b98-8b49-56ac0349e7c9</td>\n",
       "    </tr>\n",
       "    <tr>\n",
       "      <th>3</th>\n",
       "      <td>c6ad7211-1856-4129-b3b0-000053ded53b</td>\n",
       "      <td>False</td>\n",
       "      <td>2022-04-10 08:37:00.803</td>\n",
       "      <td>1</td>\n",
       "      <td>NaN</td>\n",
       "      <td>NaT</td>\n",
       "      <td>NaN</td>\n",
       "      <td>NaT</td>\n",
       "      <td>2022-04-10 08:37:00.803</td>\n",
       "      <td>9963048e-7339-4014-8e82-6115c8e337f4</td>\n",
       "    </tr>\n",
       "    <tr>\n",
       "      <th>4</th>\n",
       "      <td>30322eb0-a08d-4b98-80e2-000067a52945</td>\n",
       "      <td>False</td>\n",
       "      <td>2022-06-13 08:11:20.647</td>\n",
       "      <td>0</td>\n",
       "      <td>NaN</td>\n",
       "      <td>NaT</td>\n",
       "      <td>NaN</td>\n",
       "      <td>NaT</td>\n",
       "      <td>NaT</td>\n",
       "      <td>986cdeeb-a977-4ffa-ade8-05fc2f566d19</td>\n",
       "    </tr>\n",
       "  </tbody>\n",
       "</table>\n",
       "</div>"
      ],
      "text/plain": [
       "                                 DealId  IsDeletedDeal  \\\n",
       "0  cef52513-8f12-4601-91f2-00002ce80633          False   \n",
       "1  5977d067-a390-4b9c-9d58-00003b1f11cf          False   \n",
       "2  80f17f47-87a7-4259-b234-00004c7c6056          False   \n",
       "3  c6ad7211-1856-4129-b3b0-000053ded53b          False   \n",
       "4  30322eb0-a08d-4b98-80e2-000067a52945          False   \n",
       "\n",
       "         RegisterTimeDeal  StatusDeal IsDeletedActivity RegisterDateActivity  \\\n",
       "0 2022-04-14 21:19:41.000           1               NaN                  NaT   \n",
       "1 2022-06-08 12:37:08.210           0               NaN                  NaT   \n",
       "2 2022-06-24 19:03:12.280           1               NaN                  NaT   \n",
       "3 2022-04-10 08:37:00.803           1               NaN                  NaT   \n",
       "4 2022-06-13 08:11:20.647           0               NaN                  NaT   \n",
       "\n",
       "  IsDoneActivity DoneDateActivity          DealFinishTime  \\\n",
       "0            NaN              NaT 2022-04-14 21:20:16.480   \n",
       "1            NaN              NaT                     NaT   \n",
       "2            NaN              NaT 2022-06-24 19:03:12.280   \n",
       "3            NaN              NaT 2022-04-10 08:37:00.803   \n",
       "4            NaN              NaT                     NaT   \n",
       "\n",
       "                            BizDomainId  \n",
       "0  314a88a8-6d18-4972-abf5-d701f54dee15  \n",
       "1  ca7dd0be-49a6-4b2e-ab21-3616d57e9571  \n",
       "2  729423ab-c61c-4b98-8b49-56ac0349e7c9  \n",
       "3  9963048e-7339-4014-8e82-6115c8e337f4  \n",
       "4  986cdeeb-a977-4ffa-ade8-05fc2f566d19  "
      ]
     },
     "execution_count": 3,
     "metadata": {},
     "output_type": "execute_result"
    }
   ],
   "source": [
    "biz1=pd.read_csv(r\"Bizdomain1.csv\")\n",
    "biz2=pd.read_csv(r\"Bizdomain2.csv\")\n",
    "\n",
    "# complete bizdomains (appending 2 sheets of Bizdomain excel)\n",
    "biz=pd.concat([biz1,biz2])\n",
    "print(biz.shape)\n",
    "biz['DealId']=biz['DealId'].str.lower()\n",
    "biz['BizDomainId']=biz['BizDomainId'].str.lower()\n",
    "\n",
    "#test for merging of complete biz and 100 rows of file01 which was calcultaed for interval calculs\n",
    "df2 = pd.merge(df, biz, how='left')\n",
    "df2.head()"
   ]
  },
  {
   "cell_type": "markdown",
   "metadata": {},
   "source": [
    "# Joining ExpireDate Dataset"
   ]
  },
  {
   "cell_type": "code",
   "execution_count": 4,
   "metadata": {
    "ExecuteTime": {
     "end_time": "2022-09-16T06:07:03.963988Z",
     "start_time": "2022-09-16T06:07:03.937060Z"
    }
   },
   "outputs": [
    {
     "data": {
      "text/html": [
       "<div>\n",
       "<style scoped>\n",
       "    .dataframe tbody tr th:only-of-type {\n",
       "        vertical-align: middle;\n",
       "    }\n",
       "\n",
       "    .dataframe tbody tr th {\n",
       "        vertical-align: top;\n",
       "    }\n",
       "\n",
       "    .dataframe thead th {\n",
       "        text-align: right;\n",
       "    }\n",
       "</style>\n",
       "<table border=\"1\" class=\"dataframe\">\n",
       "  <thead>\n",
       "    <tr style=\"text-align: right;\">\n",
       "      <th></th>\n",
       "      <th>BizDomainId</th>\n",
       "      <th>BizRegisterDate</th>\n",
       "      <th>BizExpireDate</th>\n",
       "      <th>BizAccessDate</th>\n",
       "      <th>BizBoughtUser</th>\n",
       "      <th>BizActive?</th>\n",
       "    </tr>\n",
       "  </thead>\n",
       "  <tbody>\n",
       "    <tr>\n",
       "      <th>0</th>\n",
       "      <td>98de7ea4-44c2-4913-8214-00010aedefe9</td>\n",
       "      <td>10/25/2019</td>\n",
       "      <td>5/16/2021</td>\n",
       "      <td>9/28/2021</td>\n",
       "      <td>15</td>\n",
       "      <td>0</td>\n",
       "    </tr>\n",
       "    <tr>\n",
       "      <th>1</th>\n",
       "      <td>b00f0ace-2581-437b-9ab4-00975f3d3fc0</td>\n",
       "      <td>10/10/2021</td>\n",
       "      <td>10/25/2022</td>\n",
       "      <td>4/30/2022</td>\n",
       "      <td>1</td>\n",
       "      <td>0</td>\n",
       "    </tr>\n",
       "    <tr>\n",
       "      <th>2</th>\n",
       "      <td>69a4c374-98b3-400d-aeae-00b4db07c67c</td>\n",
       "      <td>1/2/2021</td>\n",
       "      <td>2/8/2021</td>\n",
       "      <td>5/25/2021</td>\n",
       "      <td>2</td>\n",
       "      <td>0</td>\n",
       "    </tr>\n",
       "    <tr>\n",
       "      <th>3</th>\n",
       "      <td>0ae71d29-e241-4fb1-890e-01000311b28d</td>\n",
       "      <td>4/21/2016</td>\n",
       "      <td>8/10/2016</td>\n",
       "      <td>2/9/2017</td>\n",
       "      <td>5</td>\n",
       "      <td>0</td>\n",
       "    </tr>\n",
       "    <tr>\n",
       "      <th>4</th>\n",
       "      <td>c53d80e3-b31c-43aa-9451-02b97be31677</td>\n",
       "      <td>1/2/2020</td>\n",
       "      <td>5/4/2021</td>\n",
       "      <td>5/9/2022</td>\n",
       "      <td>30</td>\n",
       "      <td>0</td>\n",
       "    </tr>\n",
       "  </tbody>\n",
       "</table>\n",
       "</div>"
      ],
      "text/plain": [
       "                            BizDomainId BizRegisterDate BizExpireDate  \\\n",
       "0  98de7ea4-44c2-4913-8214-00010aedefe9      10/25/2019     5/16/2021   \n",
       "1  b00f0ace-2581-437b-9ab4-00975f3d3fc0      10/10/2021    10/25/2022   \n",
       "2  69a4c374-98b3-400d-aeae-00b4db07c67c        1/2/2021      2/8/2021   \n",
       "3  0ae71d29-e241-4fb1-890e-01000311b28d       4/21/2016     8/10/2016   \n",
       "4  c53d80e3-b31c-43aa-9451-02b97be31677        1/2/2020      5/4/2021   \n",
       "\n",
       "  BizAccessDate  BizBoughtUser  BizActive?  \n",
       "0     9/28/2021             15           0  \n",
       "1     4/30/2022              1           0  \n",
       "2     5/25/2021              2           0  \n",
       "3      2/9/2017              5           0  \n",
       "4      5/9/2022             30           0  "
      ]
     },
     "execution_count": 4,
     "metadata": {},
     "output_type": "execute_result"
    }
   ],
   "source": [
    "ExpireDate=pd.read_csv(r\"ExpireDate.csv\").rename(columns={'تاریخ ثبت نام':'BizRegisterDate','تاریخ انقضا':'BizExpireDate' , 'اخرین تاریخ دسترسی':'BizAccessDate',\n",
    "                                                                                    'یوزر خریداری شده':'BizBoughtUser','آیا فعال است':'BizActive?'})\n",
    "ExpireDate['BizDomainId']=ExpireDate['BizDomainId'].str.lower()\n",
    "ExpireDate.head()"
   ]
  },
  {
   "cell_type": "markdown",
   "metadata": {},
   "source": [
    "Pay attention to `exportdate` as it should be changed for preprocessing th train and test data."
   ]
  },
  {
   "cell_type": "code",
   "execution_count": 5,
   "metadata": {
    "ExecuteTime": {
     "end_time": "2022-09-16T06:07:05.293434Z",
     "start_time": "2022-09-16T06:07:03.965983Z"
    }
   },
   "outputs": [
    {
     "data": {
      "text/html": [
       "<div>\n",
       "<style scoped>\n",
       "    .dataframe tbody tr th:only-of-type {\n",
       "        vertical-align: middle;\n",
       "    }\n",
       "\n",
       "    .dataframe tbody tr th {\n",
       "        vertical-align: top;\n",
       "    }\n",
       "\n",
       "    .dataframe thead th {\n",
       "        text-align: right;\n",
       "    }\n",
       "</style>\n",
       "<table border=\"1\" class=\"dataframe\">\n",
       "  <thead>\n",
       "    <tr style=\"text-align: right;\">\n",
       "      <th></th>\n",
       "      <th>DealId</th>\n",
       "      <th>IsDeletedDeal</th>\n",
       "      <th>RegisterTimeDeal</th>\n",
       "      <th>StatusDeal</th>\n",
       "      <th>IsDeletedActivity</th>\n",
       "      <th>RegisterDateActivity</th>\n",
       "      <th>IsDoneActivity</th>\n",
       "      <th>DoneDateActivity</th>\n",
       "      <th>DealFinishTime</th>\n",
       "      <th>BizDomainId</th>\n",
       "      <th>BizRegisterDate</th>\n",
       "      <th>BizExpireDate</th>\n",
       "      <th>BizAccessDate</th>\n",
       "      <th>BizBoughtUser</th>\n",
       "      <th>BizActive?</th>\n",
       "      <th>BizIsExpired?</th>\n",
       "    </tr>\n",
       "  </thead>\n",
       "  <tbody>\n",
       "    <tr>\n",
       "      <th>0</th>\n",
       "      <td>cef52513-8f12-4601-91f2-00002ce80633</td>\n",
       "      <td>False</td>\n",
       "      <td>2022-04-14 21:19:41.000</td>\n",
       "      <td>1</td>\n",
       "      <td>NaN</td>\n",
       "      <td>NaT</td>\n",
       "      <td>NaN</td>\n",
       "      <td>NaT</td>\n",
       "      <td>2022-04-14 21:20:16.480</td>\n",
       "      <td>314a88a8-6d18-4972-abf5-d701f54dee15</td>\n",
       "      <td>2022-01-12</td>\n",
       "      <td>2023-01-27</td>\n",
       "      <td>2022-07-30</td>\n",
       "      <td>3.0</td>\n",
       "      <td>1.0</td>\n",
       "      <td>0</td>\n",
       "    </tr>\n",
       "    <tr>\n",
       "      <th>1</th>\n",
       "      <td>5977d067-a390-4b9c-9d58-00003b1f11cf</td>\n",
       "      <td>False</td>\n",
       "      <td>2022-06-08 12:37:08.210</td>\n",
       "      <td>0</td>\n",
       "      <td>NaN</td>\n",
       "      <td>NaT</td>\n",
       "      <td>NaN</td>\n",
       "      <td>NaT</td>\n",
       "      <td>NaT</td>\n",
       "      <td>ca7dd0be-49a6-4b2e-ab21-3616d57e9571</td>\n",
       "      <td>2019-07-18</td>\n",
       "      <td>2022-09-26</td>\n",
       "      <td>2022-07-31</td>\n",
       "      <td>3.0</td>\n",
       "      <td>1.0</td>\n",
       "      <td>0</td>\n",
       "    </tr>\n",
       "    <tr>\n",
       "      <th>2</th>\n",
       "      <td>80f17f47-87a7-4259-b234-00004c7c6056</td>\n",
       "      <td>False</td>\n",
       "      <td>2022-06-24 19:03:12.280</td>\n",
       "      <td>1</td>\n",
       "      <td>NaN</td>\n",
       "      <td>NaT</td>\n",
       "      <td>NaN</td>\n",
       "      <td>NaT</td>\n",
       "      <td>2022-06-24 19:03:12.280</td>\n",
       "      <td>729423ab-c61c-4b98-8b49-56ac0349e7c9</td>\n",
       "      <td>2020-08-10</td>\n",
       "      <td>2022-11-15</td>\n",
       "      <td>2022-07-31</td>\n",
       "      <td>5.0</td>\n",
       "      <td>1.0</td>\n",
       "      <td>0</td>\n",
       "    </tr>\n",
       "    <tr>\n",
       "      <th>3</th>\n",
       "      <td>c6ad7211-1856-4129-b3b0-000053ded53b</td>\n",
       "      <td>False</td>\n",
       "      <td>2022-04-10 08:37:00.803</td>\n",
       "      <td>1</td>\n",
       "      <td>NaN</td>\n",
       "      <td>NaT</td>\n",
       "      <td>NaN</td>\n",
       "      <td>NaT</td>\n",
       "      <td>2022-04-10 08:37:00.803</td>\n",
       "      <td>9963048e-7339-4014-8e82-6115c8e337f4</td>\n",
       "      <td>2021-09-24</td>\n",
       "      <td>2022-11-02</td>\n",
       "      <td>2022-07-31</td>\n",
       "      <td>4.0</td>\n",
       "      <td>1.0</td>\n",
       "      <td>0</td>\n",
       "    </tr>\n",
       "    <tr>\n",
       "      <th>4</th>\n",
       "      <td>30322eb0-a08d-4b98-80e2-000067a52945</td>\n",
       "      <td>False</td>\n",
       "      <td>2022-06-13 08:11:20.647</td>\n",
       "      <td>0</td>\n",
       "      <td>NaN</td>\n",
       "      <td>NaT</td>\n",
       "      <td>NaN</td>\n",
       "      <td>NaT</td>\n",
       "      <td>NaT</td>\n",
       "      <td>986cdeeb-a977-4ffa-ade8-05fc2f566d19</td>\n",
       "      <td>2021-10-16</td>\n",
       "      <td>2022-10-31</td>\n",
       "      <td>2022-07-31</td>\n",
       "      <td>1.0</td>\n",
       "      <td>1.0</td>\n",
       "      <td>0</td>\n",
       "    </tr>\n",
       "  </tbody>\n",
       "</table>\n",
       "</div>"
      ],
      "text/plain": [
       "                                 DealId  IsDeletedDeal  \\\n",
       "0  cef52513-8f12-4601-91f2-00002ce80633          False   \n",
       "1  5977d067-a390-4b9c-9d58-00003b1f11cf          False   \n",
       "2  80f17f47-87a7-4259-b234-00004c7c6056          False   \n",
       "3  c6ad7211-1856-4129-b3b0-000053ded53b          False   \n",
       "4  30322eb0-a08d-4b98-80e2-000067a52945          False   \n",
       "\n",
       "         RegisterTimeDeal  StatusDeal IsDeletedActivity RegisterDateActivity  \\\n",
       "0 2022-04-14 21:19:41.000           1               NaN                  NaT   \n",
       "1 2022-06-08 12:37:08.210           0               NaN                  NaT   \n",
       "2 2022-06-24 19:03:12.280           1               NaN                  NaT   \n",
       "3 2022-04-10 08:37:00.803           1               NaN                  NaT   \n",
       "4 2022-06-13 08:11:20.647           0               NaN                  NaT   \n",
       "\n",
       "  IsDoneActivity DoneDateActivity          DealFinishTime  \\\n",
       "0            NaN              NaT 2022-04-14 21:20:16.480   \n",
       "1            NaN              NaT                     NaT   \n",
       "2            NaN              NaT 2022-06-24 19:03:12.280   \n",
       "3            NaN              NaT 2022-04-10 08:37:00.803   \n",
       "4            NaN              NaT                     NaT   \n",
       "\n",
       "                            BizDomainId BizRegisterDate BizExpireDate  \\\n",
       "0  314a88a8-6d18-4972-abf5-d701f54dee15      2022-01-12    2023-01-27   \n",
       "1  ca7dd0be-49a6-4b2e-ab21-3616d57e9571      2019-07-18    2022-09-26   \n",
       "2  729423ab-c61c-4b98-8b49-56ac0349e7c9      2020-08-10    2022-11-15   \n",
       "3  9963048e-7339-4014-8e82-6115c8e337f4      2021-09-24    2022-11-02   \n",
       "4  986cdeeb-a977-4ffa-ade8-05fc2f566d19      2021-10-16    2022-10-31   \n",
       "\n",
       "  BizAccessDate  BizBoughtUser  BizActive?  BizIsExpired?  \n",
       "0    2022-07-30            3.0         1.0              0  \n",
       "1    2022-07-31            3.0         1.0              0  \n",
       "2    2022-07-31            5.0         1.0              0  \n",
       "3    2022-07-31            4.0         1.0              0  \n",
       "4    2022-07-31            1.0         1.0              0  "
      ]
     },
     "execution_count": 5,
     "metadata": {},
     "output_type": "execute_result"
    }
   ],
   "source": [
    "df2 = pd.merge(df2, ExpireDate, how='left')\n",
    "df2['BizRegisterDate'] = pd.to_datetime(df2['BizRegisterDate'])\n",
    "df2['BizExpireDate'] = pd.to_datetime(df2['BizExpireDate'])\n",
    "df2['BizAccessDate'] = pd.to_datetime(df2['BizAccessDate'])\n",
    "exportdate=pd.Timestamp('2022-7-31T12') # insert your export date\n",
    "df2['BizIsExpired?']=np.where(df2['BizExpireDate']>=exportdate,0,1)\n",
    "df2.head()"
   ]
  },
  {
   "cell_type": "markdown",
   "metadata": {},
   "source": [
    "#### Changing all T/F to 1/0"
   ]
  },
  {
   "cell_type": "code",
   "execution_count": 6,
   "metadata": {
    "ExecuteTime": {
     "end_time": "2022-09-16T06:07:06.004539Z",
     "start_time": "2022-09-16T06:07:05.295441Z"
    }
   },
   "outputs": [
    {
     "data": {
      "text/html": [
       "<div>\n",
       "<style scoped>\n",
       "    .dataframe tbody tr th:only-of-type {\n",
       "        vertical-align: middle;\n",
       "    }\n",
       "\n",
       "    .dataframe tbody tr th {\n",
       "        vertical-align: top;\n",
       "    }\n",
       "\n",
       "    .dataframe thead th {\n",
       "        text-align: right;\n",
       "    }\n",
       "</style>\n",
       "<table border=\"1\" class=\"dataframe\">\n",
       "  <thead>\n",
       "    <tr style=\"text-align: right;\">\n",
       "      <th></th>\n",
       "      <th>DealId</th>\n",
       "      <th>IsDeletedDeal</th>\n",
       "      <th>RegisterTimeDeal</th>\n",
       "      <th>StatusDeal</th>\n",
       "      <th>IsDeletedActivity</th>\n",
       "      <th>RegisterDateActivity</th>\n",
       "      <th>IsDoneActivity</th>\n",
       "      <th>DoneDateActivity</th>\n",
       "      <th>DealFinishTime</th>\n",
       "      <th>BizDomainId</th>\n",
       "      <th>BizRegisterDate</th>\n",
       "      <th>BizExpireDate</th>\n",
       "      <th>BizAccessDate</th>\n",
       "      <th>BizBoughtUser</th>\n",
       "      <th>BizActive?</th>\n",
       "      <th>BizIsExpired?</th>\n",
       "    </tr>\n",
       "  </thead>\n",
       "  <tbody>\n",
       "    <tr>\n",
       "      <th>0</th>\n",
       "      <td>cef52513-8f12-4601-91f2-00002ce80633</td>\n",
       "      <td>0</td>\n",
       "      <td>2022-04-14 21:19:41.000</td>\n",
       "      <td>1</td>\n",
       "      <td>NaN</td>\n",
       "      <td>NaT</td>\n",
       "      <td>NaN</td>\n",
       "      <td>NaT</td>\n",
       "      <td>2022-04-14 21:20:16.480</td>\n",
       "      <td>314a88a8-6d18-4972-abf5-d701f54dee15</td>\n",
       "      <td>2022-01-12</td>\n",
       "      <td>2023-01-27</td>\n",
       "      <td>2022-07-30</td>\n",
       "      <td>3.0</td>\n",
       "      <td>1.0</td>\n",
       "      <td>0</td>\n",
       "    </tr>\n",
       "    <tr>\n",
       "      <th>1</th>\n",
       "      <td>5977d067-a390-4b9c-9d58-00003b1f11cf</td>\n",
       "      <td>0</td>\n",
       "      <td>2022-06-08 12:37:08.210</td>\n",
       "      <td>0</td>\n",
       "      <td>NaN</td>\n",
       "      <td>NaT</td>\n",
       "      <td>NaN</td>\n",
       "      <td>NaT</td>\n",
       "      <td>NaT</td>\n",
       "      <td>ca7dd0be-49a6-4b2e-ab21-3616d57e9571</td>\n",
       "      <td>2019-07-18</td>\n",
       "      <td>2022-09-26</td>\n",
       "      <td>2022-07-31</td>\n",
       "      <td>3.0</td>\n",
       "      <td>1.0</td>\n",
       "      <td>0</td>\n",
       "    </tr>\n",
       "    <tr>\n",
       "      <th>2</th>\n",
       "      <td>80f17f47-87a7-4259-b234-00004c7c6056</td>\n",
       "      <td>0</td>\n",
       "      <td>2022-06-24 19:03:12.280</td>\n",
       "      <td>1</td>\n",
       "      <td>NaN</td>\n",
       "      <td>NaT</td>\n",
       "      <td>NaN</td>\n",
       "      <td>NaT</td>\n",
       "      <td>2022-06-24 19:03:12.280</td>\n",
       "      <td>729423ab-c61c-4b98-8b49-56ac0349e7c9</td>\n",
       "      <td>2020-08-10</td>\n",
       "      <td>2022-11-15</td>\n",
       "      <td>2022-07-31</td>\n",
       "      <td>5.0</td>\n",
       "      <td>1.0</td>\n",
       "      <td>0</td>\n",
       "    </tr>\n",
       "    <tr>\n",
       "      <th>3</th>\n",
       "      <td>c6ad7211-1856-4129-b3b0-000053ded53b</td>\n",
       "      <td>0</td>\n",
       "      <td>2022-04-10 08:37:00.803</td>\n",
       "      <td>1</td>\n",
       "      <td>NaN</td>\n",
       "      <td>NaT</td>\n",
       "      <td>NaN</td>\n",
       "      <td>NaT</td>\n",
       "      <td>2022-04-10 08:37:00.803</td>\n",
       "      <td>9963048e-7339-4014-8e82-6115c8e337f4</td>\n",
       "      <td>2021-09-24</td>\n",
       "      <td>2022-11-02</td>\n",
       "      <td>2022-07-31</td>\n",
       "      <td>4.0</td>\n",
       "      <td>1.0</td>\n",
       "      <td>0</td>\n",
       "    </tr>\n",
       "    <tr>\n",
       "      <th>4</th>\n",
       "      <td>30322eb0-a08d-4b98-80e2-000067a52945</td>\n",
       "      <td>0</td>\n",
       "      <td>2022-06-13 08:11:20.647</td>\n",
       "      <td>0</td>\n",
       "      <td>NaN</td>\n",
       "      <td>NaT</td>\n",
       "      <td>NaN</td>\n",
       "      <td>NaT</td>\n",
       "      <td>NaT</td>\n",
       "      <td>986cdeeb-a977-4ffa-ade8-05fc2f566d19</td>\n",
       "      <td>2021-10-16</td>\n",
       "      <td>2022-10-31</td>\n",
       "      <td>2022-07-31</td>\n",
       "      <td>1.0</td>\n",
       "      <td>1.0</td>\n",
       "      <td>0</td>\n",
       "    </tr>\n",
       "  </tbody>\n",
       "</table>\n",
       "</div>"
      ],
      "text/plain": [
       "                                 DealId  IsDeletedDeal  \\\n",
       "0  cef52513-8f12-4601-91f2-00002ce80633              0   \n",
       "1  5977d067-a390-4b9c-9d58-00003b1f11cf              0   \n",
       "2  80f17f47-87a7-4259-b234-00004c7c6056              0   \n",
       "3  c6ad7211-1856-4129-b3b0-000053ded53b              0   \n",
       "4  30322eb0-a08d-4b98-80e2-000067a52945              0   \n",
       "\n",
       "         RegisterTimeDeal  StatusDeal  IsDeletedActivity RegisterDateActivity  \\\n",
       "0 2022-04-14 21:19:41.000           1                NaN                  NaT   \n",
       "1 2022-06-08 12:37:08.210           0                NaN                  NaT   \n",
       "2 2022-06-24 19:03:12.280           1                NaN                  NaT   \n",
       "3 2022-04-10 08:37:00.803           1                NaN                  NaT   \n",
       "4 2022-06-13 08:11:20.647           0                NaN                  NaT   \n",
       "\n",
       "   IsDoneActivity DoneDateActivity          DealFinishTime  \\\n",
       "0             NaN              NaT 2022-04-14 21:20:16.480   \n",
       "1             NaN              NaT                     NaT   \n",
       "2             NaN              NaT 2022-06-24 19:03:12.280   \n",
       "3             NaN              NaT 2022-04-10 08:37:00.803   \n",
       "4             NaN              NaT                     NaT   \n",
       "\n",
       "                            BizDomainId BizRegisterDate BizExpireDate  \\\n",
       "0  314a88a8-6d18-4972-abf5-d701f54dee15      2022-01-12    2023-01-27   \n",
       "1  ca7dd0be-49a6-4b2e-ab21-3616d57e9571      2019-07-18    2022-09-26   \n",
       "2  729423ab-c61c-4b98-8b49-56ac0349e7c9      2020-08-10    2022-11-15   \n",
       "3  9963048e-7339-4014-8e82-6115c8e337f4      2021-09-24    2022-11-02   \n",
       "4  986cdeeb-a977-4ffa-ade8-05fc2f566d19      2021-10-16    2022-10-31   \n",
       "\n",
       "  BizAccessDate  BizBoughtUser  BizActive?  BizIsExpired?  \n",
       "0    2022-07-30            3.0         1.0              0  \n",
       "1    2022-07-31            3.0         1.0              0  \n",
       "2    2022-07-31            5.0         1.0              0  \n",
       "3    2022-07-31            4.0         1.0              0  \n",
       "4    2022-07-31            1.0         1.0              0  "
      ]
     },
     "execution_count": 6,
     "metadata": {},
     "output_type": "execute_result"
    }
   ],
   "source": [
    "df2['IsDeletedDeal']=df2['IsDeletedDeal'].map({True: 1, False: 0})\n",
    "df2['IsDeletedActivity']=df2['IsDeletedActivity'].map({True: 1, False: 0})\n",
    "df2['IsDoneActivity']=df2['IsDoneActivity'].map({True: 1, False: 0})\n",
    "df2.head()"
   ]
  },
  {
   "cell_type": "markdown",
   "metadata": {},
   "source": [
    "## Deleting data if IsDeletedDeal=1 , StatusDeal=0"
   ]
  },
  {
   "cell_type": "code",
   "execution_count": 7,
   "metadata": {
    "ExecuteTime": {
     "end_time": "2022-09-16T06:07:06.653839Z",
     "start_time": "2022-09-16T06:07:06.006529Z"
    },
    "scrolled": true
   },
   "outputs": [
    {
     "data": {
      "text/plain": [
       "(1970974, 16)"
      ]
     },
     "execution_count": 7,
     "metadata": {},
     "output_type": "execute_result"
    }
   ],
   "source": [
    "indecies = df2[(df2['IsDeletedDeal']==1) & (df2['StatusDeal']==0)].index\n",
    "df2 = df2.drop(indecies)\n",
    "df2.shape"
   ]
  },
  {
   "cell_type": "markdown",
   "metadata": {},
   "source": [
    "## Function for Deals and Activities for Fixing the Finish Time"
   ]
  },
  {
   "cell_type": "code",
   "execution_count": 8,
   "metadata": {
    "ExecuteTime": {
     "end_time": "2022-09-16T06:07:06.668796Z",
     "start_time": "2022-09-16T06:07:06.659789Z"
    }
   },
   "outputs": [],
   "source": [
    "def ApplyIterFunction(row):\n",
    "    '''\n",
    "    input:\n",
    "    each row of the dataframe\n",
    "    \n",
    "    ----------------------\n",
    "    \n",
    "    output:\n",
    "    This changes are made:\n",
    "    \n",
    "    - if a Deal is \"ongoing\" and \"not deleted\", and its Bizdomain is \"expired\",deal's finish time \n",
    "      equals to minimum of access date and expire date. Moreover, if it has a activity which is \"ongoing\"\n",
    "      and \"not deleted\", the activity's finish time also equals to minimum of access date and expire date. \n",
    "      If the deal is ongoing for real (meaning that the bizmoain is not expired) the finish time of the deal \n",
    "      equals to the date when we exported the data. Additionally, f it has a activity which is \"ongoing\"\n",
    "      and \"not deleted\", the activity's finish time also equals to export date.\n",
    "      \n",
    "    - if the Deal is \"Done\" before and \"not deleted\", AND its \"activity is not deleted\", \n",
    "      the done date of the activity equals to the related deal finish time.\n",
    "      \n",
    "    - If a deal has an activity, the register time of the activity shoud equal to minimum of \n",
    "      register time of the activity AND finish time of that.\n",
    "    '''\n",
    "    \n",
    "    if (row['StatusDeal']==0) and (row['IsDeletedDeal']==0):\n",
    "        if row['BizIsExpired?']==1:\n",
    "            #calculating the last time user accessed to didar (which is the min time of accessed date and expire date)\n",
    "            dummy=min(row['BizExpireDate'] , row['BizAccessDate'])\n",
    "            row['DealFinishTime']=dummy    # FinishTime of a expired bizdomain which has an ongoing deal\n",
    "            \n",
    "            # checking the activity\n",
    "            if row['IsDoneActivity']==0 and row['IsDeletedActivity']==0:\n",
    "                row['DoneDateActivity']=dummy\n",
    "        \n",
    "        # the deal is ongoing for real\n",
    "        else:\n",
    "            row['DealFinishTime']=exportdate\n",
    "            if row['IsDoneActivity']==0 and row['IsDeletedActivity']==0:\n",
    "                row['DoneDateActivity']=exportdate\n",
    "                \n",
    "    # replace the time of DoneDateActivity with DealFinishTime for Activities that arent complete and not deleted\n",
    "    # also their deal is okay (not deleted and completed)\n",
    "    elif (row['StatusDeal']!=0) and (row['IsDeletedDeal']==0):\n",
    "        if row['IsDeletedActivity']==0:\n",
    "            row['DoneDateActivity']=min(row['DealFinishTime'] , row['DoneDateActivity'])\n",
    "            \n",
    "    # fixing the register time of the OKAY activities if RegTime>DoneDate      \n",
    "    if not pd.isna(row['RegisterDateActivity']):\n",
    "        row['RegisterDateActivity'] = min(row['RegisterDateActivity'],row['DoneDateActivity'])\n",
    "        \n",
    "    return row"
   ]
  },
  {
   "cell_type": "code",
   "execution_count": 9,
   "metadata": {
    "ExecuteTime": {
     "end_time": "2022-09-16T06:09:57.952999Z",
     "start_time": "2022-09-16T06:07:06.670752Z"
    }
   },
   "outputs": [
    {
     "data": {
      "text/html": [
       "<div>\n",
       "<style scoped>\n",
       "    .dataframe tbody tr th:only-of-type {\n",
       "        vertical-align: middle;\n",
       "    }\n",
       "\n",
       "    .dataframe tbody tr th {\n",
       "        vertical-align: top;\n",
       "    }\n",
       "\n",
       "    .dataframe thead th {\n",
       "        text-align: right;\n",
       "    }\n",
       "</style>\n",
       "<table border=\"1\" class=\"dataframe\">\n",
       "  <thead>\n",
       "    <tr style=\"text-align: right;\">\n",
       "      <th></th>\n",
       "      <th>DealId</th>\n",
       "      <th>IsDeletedDeal</th>\n",
       "      <th>RegisterTimeDeal</th>\n",
       "      <th>StatusDeal</th>\n",
       "      <th>IsDeletedActivity</th>\n",
       "      <th>RegisterDateActivity</th>\n",
       "      <th>IsDoneActivity</th>\n",
       "      <th>DoneDateActivity</th>\n",
       "      <th>DealFinishTime</th>\n",
       "      <th>BizDomainId</th>\n",
       "      <th>BizRegisterDate</th>\n",
       "      <th>BizExpireDate</th>\n",
       "      <th>BizAccessDate</th>\n",
       "      <th>BizBoughtUser</th>\n",
       "      <th>BizActive?</th>\n",
       "      <th>BizIsExpired?</th>\n",
       "    </tr>\n",
       "  </thead>\n",
       "  <tbody>\n",
       "    <tr>\n",
       "      <th>0</th>\n",
       "      <td>cef52513-8f12-4601-91f2-00002ce80633</td>\n",
       "      <td>0</td>\n",
       "      <td>2022-04-14 21:19:41.000</td>\n",
       "      <td>1</td>\n",
       "      <td>NaN</td>\n",
       "      <td>NaT</td>\n",
       "      <td>NaN</td>\n",
       "      <td>NaT</td>\n",
       "      <td>2022-04-14 21:20:16.480</td>\n",
       "      <td>314a88a8-6d18-4972-abf5-d701f54dee15</td>\n",
       "      <td>2022-01-12</td>\n",
       "      <td>2023-01-27</td>\n",
       "      <td>2022-07-30</td>\n",
       "      <td>3.0</td>\n",
       "      <td>1.0</td>\n",
       "      <td>0</td>\n",
       "    </tr>\n",
       "    <tr>\n",
       "      <th>1</th>\n",
       "      <td>5977d067-a390-4b9c-9d58-00003b1f11cf</td>\n",
       "      <td>0</td>\n",
       "      <td>2022-06-08 12:37:08.210</td>\n",
       "      <td>0</td>\n",
       "      <td>NaN</td>\n",
       "      <td>NaT</td>\n",
       "      <td>NaN</td>\n",
       "      <td>NaT</td>\n",
       "      <td>2022-07-31 12:00:00.000</td>\n",
       "      <td>ca7dd0be-49a6-4b2e-ab21-3616d57e9571</td>\n",
       "      <td>2019-07-18</td>\n",
       "      <td>2022-09-26</td>\n",
       "      <td>2022-07-31</td>\n",
       "      <td>3.0</td>\n",
       "      <td>1.0</td>\n",
       "      <td>0</td>\n",
       "    </tr>\n",
       "    <tr>\n",
       "      <th>2</th>\n",
       "      <td>80f17f47-87a7-4259-b234-00004c7c6056</td>\n",
       "      <td>0</td>\n",
       "      <td>2022-06-24 19:03:12.280</td>\n",
       "      <td>1</td>\n",
       "      <td>NaN</td>\n",
       "      <td>NaT</td>\n",
       "      <td>NaN</td>\n",
       "      <td>NaT</td>\n",
       "      <td>2022-06-24 19:03:12.280</td>\n",
       "      <td>729423ab-c61c-4b98-8b49-56ac0349e7c9</td>\n",
       "      <td>2020-08-10</td>\n",
       "      <td>2022-11-15</td>\n",
       "      <td>2022-07-31</td>\n",
       "      <td>5.0</td>\n",
       "      <td>1.0</td>\n",
       "      <td>0</td>\n",
       "    </tr>\n",
       "    <tr>\n",
       "      <th>3</th>\n",
       "      <td>c6ad7211-1856-4129-b3b0-000053ded53b</td>\n",
       "      <td>0</td>\n",
       "      <td>2022-04-10 08:37:00.803</td>\n",
       "      <td>1</td>\n",
       "      <td>NaN</td>\n",
       "      <td>NaT</td>\n",
       "      <td>NaN</td>\n",
       "      <td>NaT</td>\n",
       "      <td>2022-04-10 08:37:00.803</td>\n",
       "      <td>9963048e-7339-4014-8e82-6115c8e337f4</td>\n",
       "      <td>2021-09-24</td>\n",
       "      <td>2022-11-02</td>\n",
       "      <td>2022-07-31</td>\n",
       "      <td>4.0</td>\n",
       "      <td>1.0</td>\n",
       "      <td>0</td>\n",
       "    </tr>\n",
       "    <tr>\n",
       "      <th>4</th>\n",
       "      <td>30322eb0-a08d-4b98-80e2-000067a52945</td>\n",
       "      <td>0</td>\n",
       "      <td>2022-06-13 08:11:20.647</td>\n",
       "      <td>0</td>\n",
       "      <td>NaN</td>\n",
       "      <td>NaT</td>\n",
       "      <td>NaN</td>\n",
       "      <td>NaT</td>\n",
       "      <td>2022-07-31 12:00:00.000</td>\n",
       "      <td>986cdeeb-a977-4ffa-ade8-05fc2f566d19</td>\n",
       "      <td>2021-10-16</td>\n",
       "      <td>2022-10-31</td>\n",
       "      <td>2022-07-31</td>\n",
       "      <td>1.0</td>\n",
       "      <td>1.0</td>\n",
       "      <td>0</td>\n",
       "    </tr>\n",
       "  </tbody>\n",
       "</table>\n",
       "</div>"
      ],
      "text/plain": [
       "                                 DealId  IsDeletedDeal  \\\n",
       "0  cef52513-8f12-4601-91f2-00002ce80633              0   \n",
       "1  5977d067-a390-4b9c-9d58-00003b1f11cf              0   \n",
       "2  80f17f47-87a7-4259-b234-00004c7c6056              0   \n",
       "3  c6ad7211-1856-4129-b3b0-000053ded53b              0   \n",
       "4  30322eb0-a08d-4b98-80e2-000067a52945              0   \n",
       "\n",
       "         RegisterTimeDeal  StatusDeal  IsDeletedActivity RegisterDateActivity  \\\n",
       "0 2022-04-14 21:19:41.000           1                NaN                  NaT   \n",
       "1 2022-06-08 12:37:08.210           0                NaN                  NaT   \n",
       "2 2022-06-24 19:03:12.280           1                NaN                  NaT   \n",
       "3 2022-04-10 08:37:00.803           1                NaN                  NaT   \n",
       "4 2022-06-13 08:11:20.647           0                NaN                  NaT   \n",
       "\n",
       "   IsDoneActivity DoneDateActivity          DealFinishTime  \\\n",
       "0             NaN              NaT 2022-04-14 21:20:16.480   \n",
       "1             NaN              NaT 2022-07-31 12:00:00.000   \n",
       "2             NaN              NaT 2022-06-24 19:03:12.280   \n",
       "3             NaN              NaT 2022-04-10 08:37:00.803   \n",
       "4             NaN              NaT 2022-07-31 12:00:00.000   \n",
       "\n",
       "                            BizDomainId BizRegisterDate BizExpireDate  \\\n",
       "0  314a88a8-6d18-4972-abf5-d701f54dee15      2022-01-12    2023-01-27   \n",
       "1  ca7dd0be-49a6-4b2e-ab21-3616d57e9571      2019-07-18    2022-09-26   \n",
       "2  729423ab-c61c-4b98-8b49-56ac0349e7c9      2020-08-10    2022-11-15   \n",
       "3  9963048e-7339-4014-8e82-6115c8e337f4      2021-09-24    2022-11-02   \n",
       "4  986cdeeb-a977-4ffa-ade8-05fc2f566d19      2021-10-16    2022-10-31   \n",
       "\n",
       "  BizAccessDate  BizBoughtUser  BizActive?  BizIsExpired?  \n",
       "0    2022-07-30            3.0         1.0              0  \n",
       "1    2022-07-31            3.0         1.0              0  \n",
       "2    2022-07-31            5.0         1.0              0  \n",
       "3    2022-07-31            4.0         1.0              0  \n",
       "4    2022-07-31            1.0         1.0              0  "
      ]
     },
     "execution_count": 9,
     "metadata": {},
     "output_type": "execute_result"
    }
   ],
   "source": [
    "df2 = df2.apply(ApplyIterFunction, axis=1)\n",
    "df2.head()"
   ]
  },
  {
   "cell_type": "markdown",
   "metadata": {},
   "source": [
    "## Activity: IsDone==0 & IsDeleted==1"
   ]
  },
  {
   "cell_type": "code",
   "execution_count": 10,
   "metadata": {
    "ExecuteTime": {
     "end_time": "2022-09-16T06:09:58.014834Z",
     "start_time": "2022-09-16T06:09:57.955992Z"
    }
   },
   "outputs": [],
   "source": [
    "mask = (df2['IsDoneActivity'] == 0) & (df2['IsDeletedActivity'] == 1)\n",
    "u_biz_id = list(set(df2.loc[mask,'BizDomainId']))"
   ]
  },
  {
   "cell_type": "markdown",
   "metadata": {},
   "source": [
    "#### Finding the correct activities of the bizdomains that have problems (in roder to reach out to their means)"
   ]
  },
  {
   "cell_type": "code",
   "execution_count": 11,
   "metadata": {
    "ExecuteTime": {
     "end_time": "2022-09-16T06:13:25.843759Z",
     "start_time": "2022-09-16T06:09:58.017826Z"
    }
   },
   "outputs": [],
   "source": [
    "# Use this line to get rid of the replacement warning\n",
    "pd.options.mode.chained_assignment = None\n",
    "res = []\n",
    "first_part_biz = []\n",
    "for biz in u_biz_id:\n",
    "    mask = (df2['BizDomainId'] == biz)  & (df2['IsDoneActivity'] == 1)\n",
    "    dif = (df2.loc[mask,'DoneDateActivity'] - df2.loc[mask,'RegisterDateActivity']).dt.total_seconds()\n",
    "    # Some of the activities' duration are showed to be negative, we replace them with zero\n",
    "    dif[dif<0] = 0\n",
    "    # Compute the average interval time, in hours unit\n",
    "    mean = np.mean(dif)/3600\n",
    "    if not (pd.isna(mean)):\n",
    "        res.append((biz,mean))\n",
    "        first_part_biz.append(biz)\n",
    "# res"
   ]
  },
  {
   "cell_type": "markdown",
   "metadata": {},
   "source": [
    "#### BizDomanis without any correct activities to calculate their means"
   ]
  },
  {
   "cell_type": "code",
   "execution_count": 12,
   "metadata": {
    "ExecuteTime": {
     "end_time": "2022-09-16T06:19:14.436422Z",
     "start_time": "2022-09-16T06:13:25.845557Z"
    }
   },
   "outputs": [],
   "source": [
    "# we must find other bizdomains mean\n",
    "# Generating unique list of biz domains\n",
    "u_bizset = set(df2['BizDomainId'])\n",
    "# Computing the difference between u_bizset and the problematic bizdomain set\n",
    "final_biz = u_bizset.difference(set(u_biz_id))\n",
    "# Computing mean for each bizid in the final_biz list\n",
    "temp = []\n",
    "for biz in final_biz:\n",
    "    mask = (df2['BizDomainId'] == biz) & (df2['IsDoneActivity'] == 1)\n",
    "    dif = (df2.loc[mask,'DoneDateActivity'] - df2.loc[mask,'RegisterDateActivity']).dt.total_seconds() \n",
    "    # Some of the activities' duration are showed to be negative, we replace them with zero\n",
    "    dif[dif<0] = 0\n",
    "    # Compute the average interval time, in hours unit\n",
    "    mean = np.mean(dif)/3600\n",
    "    if not (pd.isna(mean)):\n",
    "        temp.append((biz,mean))\n",
    "  # Computing the global mean\n",
    "temp.extend(res)\n",
    "g_mean = sum(elt[1] for elt in temp)/len(temp)\n",
    "second_part_biz = list(set(u_biz_id).difference(first_part_biz))\n",
    "\n",
    "for biz in second_part_biz:\n",
    "    res.append((biz,g_mean))\n",
    "    \n",
    "for el in res:\n",
    "    mask = (df2['BizDomainId']==el[0]) & (df2['IsDoneActivity'] == False) & (df2['IsDeletedActivity'] == True)\n",
    "    df2.loc[mask,'DoneDateActivity'] = df2.loc[mask,'RegisterDateActivity'] + pd.Timedelta(el[1],\"hours\")"
   ]
  },
  {
   "cell_type": "markdown",
   "metadata": {},
   "source": [
    "## Function for Fixing the order of the times of occurrence\n",
    "#### DealStartTime<ActivityStartTime<ActivityFinishTime<DealFinishTime"
   ]
  },
  {
   "cell_type": "code",
   "execution_count": 13,
   "metadata": {
    "ExecuteTime": {
     "end_time": "2022-09-16T06:19:14.451382Z",
     "start_time": "2022-09-16T06:19:14.439408Z"
    }
   },
   "outputs": [],
   "source": [
    "def ApplyFixingTime(row):\n",
    "    \n",
    "    row['RegisterTimeDeal']=min(row['RegisterTimeDeal'] , row['DealFinishTime'])\n",
    "    if not pd.isna(row['RegisterDateActivity']):\n",
    "        row['RegisterDateActivity'] = max(row['RegisterDateActivity'] , row['RegisterTimeDeal'])\n",
    "        row['DoneDateActivity'] = min(row['DoneDateActivity'] , row['DealFinishTime'])\n",
    "        row['DoneDateActivity'] = max(row['DoneDateActivity'] , row['RegisterDateActivity'])\n",
    "    return row"
   ]
  },
  {
   "cell_type": "code",
   "execution_count": 14,
   "metadata": {
    "ExecuteTime": {
     "end_time": "2022-09-16T06:22:34.081771Z",
     "start_time": "2022-09-16T06:19:14.454368Z"
    }
   },
   "outputs": [],
   "source": [
    "df2 = df2.apply(ApplyFixingTime , axis=1)"
   ]
  },
  {
   "cell_type": "markdown",
   "metadata": {},
   "source": [
    "# Exporting the cleaned dataset"
   ]
  },
  {
   "cell_type": "markdown",
   "metadata": {},
   "source": [
    "Export data based on the shape of the df, each 1,000,000 rows should be saved a separate csv file"
   ]
  },
  {
   "cell_type": "code",
   "execution_count": 15,
   "metadata": {
    "ExecuteTime": {
     "end_time": "2022-09-16T06:22:34.097737Z",
     "start_time": "2022-09-16T06:22:34.083766Z"
    }
   },
   "outputs": [
    {
     "data": {
      "text/plain": [
       "(1970974, 16)"
      ]
     },
     "execution_count": 15,
     "metadata": {},
     "output_type": "execute_result"
    }
   ],
   "source": [
    "df2.shape"
   ]
  },
  {
   "cell_type": "code",
   "execution_count": 20,
   "metadata": {
    "ExecuteTime": {
     "end_time": "2022-09-16T06:25:42.431289Z",
     "start_time": "2022-09-16T06:24:43.636446Z"
    }
   },
   "outputs": [],
   "source": [
    "os.mkdir('files_cleaned')\n",
    "df2.loc[:1000000,:].to_csv('files_cleaned\\df_file_cleaned1.csv')\n",
    "df2.loc[1000000:,:].to_csv('files_cleaned\\df_file_cleaned2.csv')"
   ]
  },
  {
   "cell_type": "markdown",
   "metadata": {},
   "source": [
    "# Importing the cleaned dataset"
   ]
  },
  {
   "cell_type": "markdown",
   "metadata": {},
   "source": [
    "Change the directory of exported data to `files_cleaned` and then use the cell below if you desire to use them. Exporting should be done because the cleaned dataset will be used in future Feature Extractions."
   ]
  },
  {
   "cell_type": "code",
   "execution_count": 21,
   "metadata": {
    "ExecuteTime": {
     "end_time": "2022-09-16T06:29:00.630418Z",
     "start_time": "2022-09-16T06:28:48.646485Z"
    }
   },
   "outputs": [
    {
     "data": {
      "text/html": [
       "<div>\n",
       "<style scoped>\n",
       "    .dataframe tbody tr th:only-of-type {\n",
       "        vertical-align: middle;\n",
       "    }\n",
       "\n",
       "    .dataframe tbody tr th {\n",
       "        vertical-align: top;\n",
       "    }\n",
       "\n",
       "    .dataframe thead th {\n",
       "        text-align: right;\n",
       "    }\n",
       "</style>\n",
       "<table border=\"1\" class=\"dataframe\">\n",
       "  <thead>\n",
       "    <tr style=\"text-align: right;\">\n",
       "      <th></th>\n",
       "      <th>DealId</th>\n",
       "      <th>IsDeletedDeal</th>\n",
       "      <th>RegisterTimeDeal</th>\n",
       "      <th>StatusDeal</th>\n",
       "      <th>IsDeletedActivity</th>\n",
       "      <th>RegisterDateActivity</th>\n",
       "      <th>IsDoneActivity</th>\n",
       "      <th>DoneDateActivity</th>\n",
       "      <th>DealFinishTime</th>\n",
       "      <th>BizDomainId</th>\n",
       "      <th>BizRegisterDate</th>\n",
       "      <th>BizExpireDate</th>\n",
       "      <th>BizAccessDate</th>\n",
       "      <th>BizBoughtUser</th>\n",
       "      <th>BizActive?</th>\n",
       "      <th>BizIsExpired?</th>\n",
       "    </tr>\n",
       "  </thead>\n",
       "  <tbody>\n",
       "    <tr>\n",
       "      <th>0</th>\n",
       "      <td>cef52513-8f12-4601-91f2-00002ce80633</td>\n",
       "      <td>0</td>\n",
       "      <td>2022-04-14 21:19:41.000</td>\n",
       "      <td>1</td>\n",
       "      <td>NaN</td>\n",
       "      <td>NaT</td>\n",
       "      <td>NaN</td>\n",
       "      <td>NaT</td>\n",
       "      <td>2022-04-14 21:20:16.480</td>\n",
       "      <td>314a88a8-6d18-4972-abf5-d701f54dee15</td>\n",
       "      <td>2022-01-12</td>\n",
       "      <td>2023-01-27</td>\n",
       "      <td>2022-07-30</td>\n",
       "      <td>3.0</td>\n",
       "      <td>1.0</td>\n",
       "      <td>0</td>\n",
       "    </tr>\n",
       "    <tr>\n",
       "      <th>1</th>\n",
       "      <td>5977d067-a390-4b9c-9d58-00003b1f11cf</td>\n",
       "      <td>0</td>\n",
       "      <td>2022-06-08 12:37:08.210</td>\n",
       "      <td>0</td>\n",
       "      <td>NaN</td>\n",
       "      <td>NaT</td>\n",
       "      <td>NaN</td>\n",
       "      <td>NaT</td>\n",
       "      <td>2022-07-31 12:00:00.000</td>\n",
       "      <td>ca7dd0be-49a6-4b2e-ab21-3616d57e9571</td>\n",
       "      <td>2019-07-18</td>\n",
       "      <td>2022-09-26</td>\n",
       "      <td>2022-07-31</td>\n",
       "      <td>3.0</td>\n",
       "      <td>1.0</td>\n",
       "      <td>0</td>\n",
       "    </tr>\n",
       "    <tr>\n",
       "      <th>2</th>\n",
       "      <td>80f17f47-87a7-4259-b234-00004c7c6056</td>\n",
       "      <td>0</td>\n",
       "      <td>2022-06-24 19:03:12.280</td>\n",
       "      <td>1</td>\n",
       "      <td>NaN</td>\n",
       "      <td>NaT</td>\n",
       "      <td>NaN</td>\n",
       "      <td>NaT</td>\n",
       "      <td>2022-06-24 19:03:12.280</td>\n",
       "      <td>729423ab-c61c-4b98-8b49-56ac0349e7c9</td>\n",
       "      <td>2020-08-10</td>\n",
       "      <td>2022-11-15</td>\n",
       "      <td>2022-07-31</td>\n",
       "      <td>5.0</td>\n",
       "      <td>1.0</td>\n",
       "      <td>0</td>\n",
       "    </tr>\n",
       "    <tr>\n",
       "      <th>3</th>\n",
       "      <td>c6ad7211-1856-4129-b3b0-000053ded53b</td>\n",
       "      <td>0</td>\n",
       "      <td>2022-04-10 08:37:00.803</td>\n",
       "      <td>1</td>\n",
       "      <td>NaN</td>\n",
       "      <td>NaT</td>\n",
       "      <td>NaN</td>\n",
       "      <td>NaT</td>\n",
       "      <td>2022-04-10 08:37:00.803</td>\n",
       "      <td>9963048e-7339-4014-8e82-6115c8e337f4</td>\n",
       "      <td>2021-09-24</td>\n",
       "      <td>2022-11-02</td>\n",
       "      <td>2022-07-31</td>\n",
       "      <td>4.0</td>\n",
       "      <td>1.0</td>\n",
       "      <td>0</td>\n",
       "    </tr>\n",
       "    <tr>\n",
       "      <th>4</th>\n",
       "      <td>30322eb0-a08d-4b98-80e2-000067a52945</td>\n",
       "      <td>0</td>\n",
       "      <td>2022-06-13 08:11:20.647</td>\n",
       "      <td>0</td>\n",
       "      <td>NaN</td>\n",
       "      <td>NaT</td>\n",
       "      <td>NaN</td>\n",
       "      <td>NaT</td>\n",
       "      <td>2022-07-31 12:00:00.000</td>\n",
       "      <td>986cdeeb-a977-4ffa-ade8-05fc2f566d19</td>\n",
       "      <td>2021-10-16</td>\n",
       "      <td>2022-10-31</td>\n",
       "      <td>2022-07-31</td>\n",
       "      <td>1.0</td>\n",
       "      <td>1.0</td>\n",
       "      <td>0</td>\n",
       "    </tr>\n",
       "  </tbody>\n",
       "</table>\n",
       "</div>"
      ],
      "text/plain": [
       "                                 DealId  IsDeletedDeal  \\\n",
       "0  cef52513-8f12-4601-91f2-00002ce80633              0   \n",
       "1  5977d067-a390-4b9c-9d58-00003b1f11cf              0   \n",
       "2  80f17f47-87a7-4259-b234-00004c7c6056              0   \n",
       "3  c6ad7211-1856-4129-b3b0-000053ded53b              0   \n",
       "4  30322eb0-a08d-4b98-80e2-000067a52945              0   \n",
       "\n",
       "         RegisterTimeDeal  StatusDeal  IsDeletedActivity RegisterDateActivity  \\\n",
       "0 2022-04-14 21:19:41.000           1                NaN                  NaT   \n",
       "1 2022-06-08 12:37:08.210           0                NaN                  NaT   \n",
       "2 2022-06-24 19:03:12.280           1                NaN                  NaT   \n",
       "3 2022-04-10 08:37:00.803           1                NaN                  NaT   \n",
       "4 2022-06-13 08:11:20.647           0                NaN                  NaT   \n",
       "\n",
       "   IsDoneActivity DoneDateActivity          DealFinishTime  \\\n",
       "0             NaN              NaT 2022-04-14 21:20:16.480   \n",
       "1             NaN              NaT 2022-07-31 12:00:00.000   \n",
       "2             NaN              NaT 2022-06-24 19:03:12.280   \n",
       "3             NaN              NaT 2022-04-10 08:37:00.803   \n",
       "4             NaN              NaT 2022-07-31 12:00:00.000   \n",
       "\n",
       "                            BizDomainId BizRegisterDate BizExpireDate  \\\n",
       "0  314a88a8-6d18-4972-abf5-d701f54dee15      2022-01-12    2023-01-27   \n",
       "1  ca7dd0be-49a6-4b2e-ab21-3616d57e9571      2019-07-18    2022-09-26   \n",
       "2  729423ab-c61c-4b98-8b49-56ac0349e7c9      2020-08-10    2022-11-15   \n",
       "3  9963048e-7339-4014-8e82-6115c8e337f4      2021-09-24    2022-11-02   \n",
       "4  986cdeeb-a977-4ffa-ade8-05fc2f566d19      2021-10-16    2022-10-31   \n",
       "\n",
       "  BizAccessDate  BizBoughtUser  BizActive?  BizIsExpired?  \n",
       "0    2022-07-30            3.0         1.0              0  \n",
       "1    2022-07-31            3.0         1.0              0  \n",
       "2    2022-07-31            5.0         1.0              0  \n",
       "3    2022-07-31            4.0         1.0              0  \n",
       "4    2022-07-31            1.0         1.0              0  "
      ]
     },
     "execution_count": 21,
     "metadata": {},
     "output_type": "execute_result"
    }
   ],
   "source": [
    "path = r\"files_cleaned\" # use your path\n",
    "all_files = glob.glob(os.path.join(path , \"*.csv\"))\n",
    "\n",
    "li = []\n",
    "\n",
    "for filename in all_files:\n",
    "    df = pd.read_csv(filename, index_col=0, header=0)\n",
    "    li.append(df)\n",
    "\n",
    "df2 = pd.concat(li, axis=0, ignore_index=True)\n",
    "df2.loc[:, ['RegisterTimeDeal' , 'DealFinishTime','RegisterDateActivity','DoneDateActivity']] = df2.loc[:,['RegisterTimeDeal' , 'DealFinishTime','RegisterDateActivity','DoneDateActivity']].apply(pd.to_datetime)\n",
    "df2.head()"
   ]
  },
  {
   "cell_type": "markdown",
   "metadata": {},
   "source": [
    "# Function for calculating the metric of proportion of warning time to total deal time"
   ]
  },
  {
   "cell_type": "markdown",
   "metadata": {},
   "source": [
    "#### calculate the merge time"
   ]
  },
  {
   "cell_type": "code",
   "execution_count": 22,
   "metadata": {
    "ExecuteTime": {
     "end_time": "2022-09-16T06:29:00.646372Z",
     "start_time": "2022-09-16T06:29:00.633407Z"
    }
   },
   "outputs": [],
   "source": [
    "def merge_times(intervals):\n",
    "    intervals.sort(key = lambda x: x[0])\n",
    "    \n",
    "    res = [intervals[0]]\n",
    "    for idx in range(1,len(intervals)):\n",
    "        curr = intervals[idx]\n",
    "        prev = res[-1]\n",
    "        \n",
    "        # Check for overlap\n",
    "        if prev[1] < curr[0]: # No overlap\n",
    "            res.append(curr)\n",
    "        else:\n",
    "            # Overlap, update end time\n",
    "            prev[1] = max(prev[1], curr[1])\n",
    "        \n",
    "    return res"
   ]
  },
  {
   "cell_type": "markdown",
   "metadata": {},
   "source": [
    "#### calculate the merge ratio"
   ]
  },
  {
   "cell_type": "code",
   "execution_count": 23,
   "metadata": {
    "ExecuteTime": {
     "end_time": "2022-09-16T06:29:00.662331Z",
     "start_time": "2022-09-16T06:29:00.648367Z"
    }
   },
   "outputs": [],
   "source": [
    "def no_warning_ratio(start_time , end_time , intervals):\n",
    "    '''\n",
    "    input:\n",
    "    start_time = RegisterTime of a deal\n",
    "    end_time = DealFinishTime\n",
    "    intervals = related intervals for activities on a specific deal\n",
    "    \n",
    "    ----------------------\n",
    "    \n",
    "    output:\n",
    "    ID of the activity\n",
    "    ratio of (not showing warning signal)/(duration of the deal)\n",
    "    ** The closer the output is to 1, the better the BIZdomain is performing **\n",
    "    '''\n",
    "    end_time_int = pd.Timedelta(end_time-start_time).total_seconds()\n",
    "\n",
    "    if pd.isna(intervals.values[0][0]):\n",
    "        return [0,end_time_int]\n",
    "    elif end_time_int ==0 :\n",
    "        return [0,0]\n",
    "    else:\n",
    "        intervals = [list(y.total_seconds() for y in row) for _,row in (intervals - start_time).iterrows()]\n",
    "        merged = merge_times(intervals)\n",
    "        with_activity = sum([(x[1]-x[0]) for x in merged])\n",
    "        ratio = with_activity/end_time_int\n",
    "        return [ratio,end_time_int]"
   ]
  },
  {
   "cell_type": "markdown",
   "metadata": {},
   "source": [
    "#### Work as an input function for groupby"
   ]
  },
  {
   "cell_type": "code",
   "execution_count": 24,
   "metadata": {
    "ExecuteTime": {
     "end_time": "2022-09-16T06:29:00.677290Z",
     "start_time": "2022-09-16T06:29:00.666321Z"
    }
   },
   "outputs": [],
   "source": [
    "def metric_activation_function(df):\n",
    "    '''\n",
    "    input:\n",
    "    dataframe of the groupby function applied to DealIds\n",
    "    \n",
    "    ----------------------\n",
    "    \n",
    "    output:\n",
    "    - BizId\n",
    "    - DealId\n",
    "    - ratio fo no warning sign\n",
    "    '''\n",
    "    \n",
    "    BizId = df.loc[:,'BizDomainId'].values[0]\n",
    "    DealId = df.loc[: , 'DealId'].values[0]\n",
    "    start_time = df.loc[:,'RegisterTimeDeal'].values[0]\n",
    "    end_time = df.loc[:,'DealFinishTime'].values[0]\n",
    "    intervals = df.loc[:,['RegisterDateActivity' ,'DoneDateActivity']]\n",
    "    res = no_warning_ratio(start_time , end_time , intervals)\n",
    "    return {'BizDomainId':BizId , 'DealId':DealId ,'metric':res[0] , 'DealDuration':res[1]}"
   ]
  },
  {
   "cell_type": "code",
   "execution_count": 25,
   "metadata": {
    "ExecuteTime": {
     "end_time": "2022-09-16T06:42:36.795501Z",
     "start_time": "2022-09-16T06:29:00.678286Z"
    }
   },
   "outputs": [],
   "source": [
    "metric = df2.groupby('DealId').apply(metric_activation_function)\n",
    "metric = pd.DataFrame(metric.tolist())"
   ]
  },
  {
   "cell_type": "markdown",
   "metadata": {},
   "source": [
    "## Aggregating for BizId by the means of Calculating expectation (weighted average)"
   ]
  },
  {
   "cell_type": "code",
   "execution_count": 26,
   "metadata": {
    "ExecuteTime": {
     "end_time": "2022-09-16T06:42:36.811470Z",
     "start_time": "2022-09-16T06:42:36.797356Z"
    }
   },
   "outputs": [],
   "source": [
    "def AggreagtorBizId(df):\n",
    "    BizId=df.loc[:,'BizDomainId'].values[0]\n",
    "    if np.sum(df['DealDuration'])==0:\n",
    "        return {'BizDomainId':BizId , 'no_warning_sign':0}\n",
    "    else:\n",
    "        return {'BizDomainId': BizId , 'no_warning_sign':\n",
    "               np.sum(df['metric']*df['DealDuration'])/df['DealDuration'].sum()}"
   ]
  },
  {
   "cell_type": "code",
   "execution_count": 27,
   "metadata": {
    "ExecuteTime": {
     "end_time": "2022-09-16T06:42:37.786789Z",
     "start_time": "2022-09-16T06:42:36.813313Z"
    }
   },
   "outputs": [],
   "source": [
    "final_df = metric.groupby('BizDomainId').apply(AggreagtorBizId)\n",
    "final_df = pd.DataFrame(final_df.tolist())"
   ]
  },
  {
   "cell_type": "markdown",
   "metadata": {},
   "source": [
    "# Merging Expired or Not and Active or not with final df"
   ]
  },
  {
   "cell_type": "code",
   "execution_count": 28,
   "metadata": {
    "ExecuteTime": {
     "end_time": "2022-09-16T06:42:38.157719Z",
     "start_time": "2022-09-16T06:42:37.787708Z"
    }
   },
   "outputs": [
    {
     "data": {
      "text/html": [
       "<div>\n",
       "<style scoped>\n",
       "    .dataframe tbody tr th:only-of-type {\n",
       "        vertical-align: middle;\n",
       "    }\n",
       "\n",
       "    .dataframe tbody tr th {\n",
       "        vertical-align: top;\n",
       "    }\n",
       "\n",
       "    .dataframe thead th {\n",
       "        text-align: right;\n",
       "    }\n",
       "</style>\n",
       "<table border=\"1\" class=\"dataframe\">\n",
       "  <thead>\n",
       "    <tr style=\"text-align: right;\">\n",
       "      <th></th>\n",
       "      <th>BizDomainId</th>\n",
       "      <th>no_warning_sign</th>\n",
       "      <th>BizIsExpired?</th>\n",
       "      <th>BizActive?</th>\n",
       "    </tr>\n",
       "  </thead>\n",
       "  <tbody>\n",
       "    <tr>\n",
       "      <th>0</th>\n",
       "      <td>0006df37-709c-4121-be9e-5210adc6a044</td>\n",
       "      <td>0.0</td>\n",
       "      <td>1</td>\n",
       "      <td>0.0</td>\n",
       "    </tr>\n",
       "    <tr>\n",
       "      <th>1</th>\n",
       "      <td>0006df37-709c-4121-be9e-5210adc6a044</td>\n",
       "      <td>0.0</td>\n",
       "      <td>1</td>\n",
       "      <td>0.0</td>\n",
       "    </tr>\n",
       "    <tr>\n",
       "      <th>2</th>\n",
       "      <td>0006df37-709c-4121-be9e-5210adc6a044</td>\n",
       "      <td>0.0</td>\n",
       "      <td>1</td>\n",
       "      <td>0.0</td>\n",
       "    </tr>\n",
       "    <tr>\n",
       "      <th>3</th>\n",
       "      <td>0006df37-709c-4121-be9e-5210adc6a044</td>\n",
       "      <td>0.0</td>\n",
       "      <td>1</td>\n",
       "      <td>0.0</td>\n",
       "    </tr>\n",
       "    <tr>\n",
       "      <th>4</th>\n",
       "      <td>0006df37-709c-4121-be9e-5210adc6a044</td>\n",
       "      <td>0.0</td>\n",
       "      <td>1</td>\n",
       "      <td>0.0</td>\n",
       "    </tr>\n",
       "  </tbody>\n",
       "</table>\n",
       "</div>"
      ],
      "text/plain": [
       "                            BizDomainId  no_warning_sign  BizIsExpired?  \\\n",
       "0  0006df37-709c-4121-be9e-5210adc6a044              0.0              1   \n",
       "1  0006df37-709c-4121-be9e-5210adc6a044              0.0              1   \n",
       "2  0006df37-709c-4121-be9e-5210adc6a044              0.0              1   \n",
       "3  0006df37-709c-4121-be9e-5210adc6a044              0.0              1   \n",
       "4  0006df37-709c-4121-be9e-5210adc6a044              0.0              1   \n",
       "\n",
       "   BizActive?  \n",
       "0         0.0  \n",
       "1         0.0  \n",
       "2         0.0  \n",
       "3         0.0  \n",
       "4         0.0  "
      ]
     },
     "execution_count": 28,
     "metadata": {},
     "output_type": "execute_result"
    }
   ],
   "source": [
    "final_df = pd.merge(final_df , df2[['BizDomainId','BizIsExpired?','BizActive?']] , how='left')\n",
    "final_df.head()"
   ]
  },
  {
   "cell_type": "markdown",
   "metadata": {},
   "source": [
    "# Output"
   ]
  },
  {
   "cell_type": "code",
   "execution_count": 29,
   "metadata": {
    "ExecuteTime": {
     "end_time": "2022-09-16T06:42:38.464904Z",
     "start_time": "2022-09-16T06:42:38.160711Z"
    }
   },
   "outputs": [],
   "source": [
    "final_df = final_df.drop_duplicates()\n",
    "final_df.to_csv('df_train.csv')"
   ]
  }
 ],
 "metadata": {
  "kernelspec": {
   "display_name": "Python 3 (ipykernel)",
   "language": "python",
   "name": "python3"
  },
  "language_info": {
   "codemirror_mode": {
    "name": "ipython",
    "version": 3
   },
   "file_extension": ".py",
   "mimetype": "text/x-python",
   "name": "python",
   "nbconvert_exporter": "python",
   "pygments_lexer": "ipython3",
   "version": "3.8.5"
  },
  "notify_time": "5",
  "toc": {
   "base_numbering": 1,
   "nav_menu": {},
   "number_sections": false,
   "sideBar": true,
   "skip_h1_title": false,
   "title_cell": "Table of Contents",
   "title_sidebar": "Contents",
   "toc_cell": false,
   "toc_position": {},
   "toc_section_display": true,
   "toc_window_display": true
  },
  "varInspector": {
   "cols": {
    "lenName": 16,
    "lenType": 16,
    "lenVar": 40
   },
   "kernels_config": {
    "python": {
     "delete_cmd_postfix": "",
     "delete_cmd_prefix": "del ",
     "library": "var_list.py",
     "varRefreshCmd": "print(var_dic_list())"
    },
    "r": {
     "delete_cmd_postfix": ") ",
     "delete_cmd_prefix": "rm(",
     "library": "var_list.r",
     "varRefreshCmd": "cat(var_dic_list()) "
    }
   },
   "oldHeight": 374.844,
   "position": {
    "height": "40px",
    "left": "1010px",
    "right": "20px",
    "top": "120px",
    "width": "250px"
   },
   "types_to_exclude": [
    "module",
    "function",
    "builtin_function_or_method",
    "instance",
    "_Feature"
   ],
   "varInspector_section_display": "none",
   "window_display": false
  }
 },
 "nbformat": 4,
 "nbformat_minor": 4
}
