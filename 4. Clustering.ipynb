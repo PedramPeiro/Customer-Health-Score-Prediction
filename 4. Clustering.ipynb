{
 "cells": [
  {
   "cell_type": "markdown",
   "metadata": {},
   "source": [
    "# Importing Libs"
   ]
  },
  {
   "cell_type": "code",
   "execution_count": 1,
   "metadata": {
    "ExecuteTime": {
     "end_time": "2022-09-16T07:03:42.788680Z",
     "start_time": "2022-09-16T07:03:41.369436Z"
    }
   },
   "outputs": [],
   "source": [
    "import pandas as pd\n",
    "import numpy as np\n",
    "import glob\n",
    "import os\n",
    "import matplotlib.pyplot as plt\n",
    "import seaborn as sns\n",
    "pd.set_option('display.max_rows', None)\n",
    "import seaborn as sns\n",
    "import scipy.stats as stats\n",
    "import warnings\n",
    "warnings.filterwarnings('ignore')"
   ]
  },
  {
   "cell_type": "markdown",
   "metadata": {},
   "source": [
    "# Importing Dataset"
   ]
  },
  {
   "cell_type": "code",
   "execution_count": 2,
   "metadata": {
    "ExecuteTime": {
     "end_time": "2022-09-16T07:03:42.835558Z",
     "start_time": "2022-09-16T07:03:42.791634Z"
    }
   },
   "outputs": [
    {
     "data": {
      "text/html": [
       "<div>\n",
       "<style scoped>\n",
       "    .dataframe tbody tr th:only-of-type {\n",
       "        vertical-align: middle;\n",
       "    }\n",
       "\n",
       "    .dataframe tbody tr th {\n",
       "        vertical-align: top;\n",
       "    }\n",
       "\n",
       "    .dataframe thead th {\n",
       "        text-align: right;\n",
       "    }\n",
       "</style>\n",
       "<table border=\"1\" class=\"dataframe\">\n",
       "  <thead>\n",
       "    <tr style=\"text-align: right;\">\n",
       "      <th></th>\n",
       "      <th>no_warning_sign</th>\n",
       "      <th>BizActive?</th>\n",
       "      <th>AddedUsers/BoughtUser</th>\n",
       "      <th>ActiveUsers/AddedUsers</th>\n",
       "      <th>#Activities</th>\n",
       "      <th>ActivitiesWoutDeal/#Activities</th>\n",
       "      <th>AvgDelayTimeActivity</th>\n",
       "      <th>#Activities/#Deals</th>\n",
       "      <th>%NoAcquitance</th>\n",
       "      <th>TransformationSpeed</th>\n",
       "      <th>TransformationRate</th>\n",
       "      <th>%NoReasonFailure</th>\n",
       "      <th>#OngoingDeals/#Total(Correct)Deals</th>\n",
       "    </tr>\n",
       "  </thead>\n",
       "  <tbody>\n",
       "    <tr>\n",
       "      <th>0</th>\n",
       "      <td>0.000000</td>\n",
       "      <td>0</td>\n",
       "      <td>0.642724</td>\n",
       "      <td>0.181397</td>\n",
       "      <td>Low</td>\n",
       "      <td>0.866667</td>\n",
       "      <td>High</td>\n",
       "      <td>1.068966</td>\n",
       "      <td>0.310345</td>\n",
       "      <td>OK</td>\n",
       "      <td>OK</td>\n",
       "      <td>Perfect</td>\n",
       "      <td>0.500000</td>\n",
       "    </tr>\n",
       "    <tr>\n",
       "      <th>1</th>\n",
       "      <td>0.238875</td>\n",
       "      <td>1</td>\n",
       "      <td>0.398507</td>\n",
       "      <td>0.274307</td>\n",
       "      <td>High</td>\n",
       "      <td>0.662252</td>\n",
       "      <td>Medium</td>\n",
       "      <td>0.688889</td>\n",
       "      <td>0.917526</td>\n",
       "      <td>OK</td>\n",
       "      <td>OK</td>\n",
       "      <td>Bad</td>\n",
       "      <td>0.627451</td>\n",
       "    </tr>\n",
       "    <tr>\n",
       "      <th>2</th>\n",
       "      <td>0.822599</td>\n",
       "      <td>0</td>\n",
       "      <td>1.000000</td>\n",
       "      <td>0.949580</td>\n",
       "      <td>Low</td>\n",
       "      <td>0.000000</td>\n",
       "      <td>High</td>\n",
       "      <td>1.444444</td>\n",
       "      <td>0.000000</td>\n",
       "      <td>Bad</td>\n",
       "      <td>Good</td>\n",
       "      <td>Bad</td>\n",
       "      <td>0.846154</td>\n",
       "    </tr>\n",
       "    <tr>\n",
       "      <th>3</th>\n",
       "      <td>0.000000</td>\n",
       "      <td>0</td>\n",
       "      <td>1.000000</td>\n",
       "      <td>0.211382</td>\n",
       "      <td>Low</td>\n",
       "      <td>1.000000</td>\n",
       "      <td>Medium</td>\n",
       "      <td>0.000000</td>\n",
       "      <td>0.602430</td>\n",
       "      <td>NaN</td>\n",
       "      <td>NaN</td>\n",
       "      <td>NaN</td>\n",
       "      <td>0.506440</td>\n",
       "    </tr>\n",
       "    <tr>\n",
       "      <th>4</th>\n",
       "      <td>0.082940</td>\n",
       "      <td>1</td>\n",
       "      <td>1.000000</td>\n",
       "      <td>0.804726</td>\n",
       "      <td>VeryHigh</td>\n",
       "      <td>0.773725</td>\n",
       "      <td>Low</td>\n",
       "      <td>3.579350</td>\n",
       "      <td>0.182724</td>\n",
       "      <td>OK</td>\n",
       "      <td>Bad</td>\n",
       "      <td>Medium</td>\n",
       "      <td>0.013858</td>\n",
       "    </tr>\n",
       "  </tbody>\n",
       "</table>\n",
       "</div>"
      ],
      "text/plain": [
       "   no_warning_sign BizActive?  AddedUsers/BoughtUser  ActiveUsers/AddedUsers  \\\n",
       "0         0.000000          0               0.642724                0.181397   \n",
       "1         0.238875          1               0.398507                0.274307   \n",
       "2         0.822599          0               1.000000                0.949580   \n",
       "3         0.000000          0               1.000000                0.211382   \n",
       "4         0.082940          1               1.000000                0.804726   \n",
       "\n",
       "  #Activities  ActivitiesWoutDeal/#Activities AvgDelayTimeActivity  \\\n",
       "0         Low                        0.866667                 High   \n",
       "1        High                        0.662252               Medium   \n",
       "2         Low                        0.000000                 High   \n",
       "3         Low                        1.000000               Medium   \n",
       "4    VeryHigh                        0.773725                  Low   \n",
       "\n",
       "   #Activities/#Deals  %NoAcquitance TransformationSpeed TransformationRate  \\\n",
       "0            1.068966       0.310345                  OK                 OK   \n",
       "1            0.688889       0.917526                  OK                 OK   \n",
       "2            1.444444       0.000000                 Bad               Good   \n",
       "3            0.000000       0.602430                 NaN                NaN   \n",
       "4            3.579350       0.182724                  OK                Bad   \n",
       "\n",
       "  %NoReasonFailure  #OngoingDeals/#Total(Correct)Deals  \n",
       "0          Perfect                            0.500000  \n",
       "1              Bad                            0.627451  \n",
       "2              Bad                            0.846154  \n",
       "3              NaN                            0.506440  \n",
       "4           Medium                            0.013858  "
      ]
     },
     "execution_count": 2,
     "metadata": {},
     "output_type": "execute_result"
    }
   ],
   "source": [
    "df = pd.read_csv('final_train.csv').drop('Unnamed: 0',axis=1)\n",
    "\n",
    "mask = df['BizIsExpired?']=='0.0'\n",
    "df.loc[mask,'BizIsExpired?']=0\n",
    "df.loc[~mask,'BizIsExpired?']=1\n",
    "\n",
    "mask = df['BizActive?']=='1.0'\n",
    "df.loc[mask,'BizActive?']=1\n",
    "df.loc[~mask,'BizActive?']=0\n",
    "\n",
    "df['BizIsExpired?'] = df['BizIsExpired?'].astype('int64')\n",
    "df['BizActive?'] = df['BizActive?'].astype('int64')\n",
    "df['BizActive?'] = df['BizActive?'].astype('object')\n",
    "\n",
    "BizDomains = df['BizDomainId']\n",
    "del df['BizDomainId']\n",
    "del df['#Deals_file']\n",
    "\n",
    "X = df[[x for x in df.columns if x!='BizIsExpired?']]\n",
    "y = df['BizIsExpired?']\n",
    "\n",
    "X.head()"
   ]
  },
  {
   "cell_type": "markdown",
   "metadata": {},
   "source": [
    "### successful Customers"
   ]
  },
  {
   "cell_type": "code",
   "execution_count": 3,
   "metadata": {
    "ExecuteTime": {
     "end_time": "2022-09-16T07:03:42.850477Z",
     "start_time": "2022-09-16T07:03:42.839509Z"
    }
   },
   "outputs": [
    {
     "data": {
      "text/plain": [
       "0    a716842b-c48c-47b4-9ed3-f5444182961f\n",
       "1    821f17a4-c616-4bc4-8a2a-49552d5c4f06\n",
       "2    0241caa4-9b3f-4927-a29e-dfebf69c256b\n",
       "3    bcb4df7a-9a80-46d7-a2a0-f88cd804ea15\n",
       "4    f18e645a-a17d-4bf5-8bbf-6907079af25c\n",
       "Name: BizDomainId, dtype: object"
      ]
     },
     "execution_count": 3,
     "metadata": {},
     "output_type": "execute_result"
    }
   ],
   "source": [
    "successful  = pd.read_csv(r\"SuccesfulCustomers.csv\")\n",
    "successful = successful['BizDomainId'].str.lower()\n",
    "successful[:5]"
   ]
  },
  {
   "cell_type": "markdown",
   "metadata": {},
   "source": [
    "# Changing Categorical Data into Nominal"
   ]
  },
  {
   "cell_type": "code",
   "execution_count": 4,
   "metadata": {
    "ExecuteTime": {
     "end_time": "2022-09-16T07:03:42.896367Z",
     "start_time": "2022-09-16T07:03:42.856462Z"
    }
   },
   "outputs": [
    {
     "data": {
      "text/html": [
       "<div>\n",
       "<style scoped>\n",
       "    .dataframe tbody tr th:only-of-type {\n",
       "        vertical-align: middle;\n",
       "    }\n",
       "\n",
       "    .dataframe tbody tr th {\n",
       "        vertical-align: top;\n",
       "    }\n",
       "\n",
       "    .dataframe thead th {\n",
       "        text-align: right;\n",
       "    }\n",
       "</style>\n",
       "<table border=\"1\" class=\"dataframe\">\n",
       "  <thead>\n",
       "    <tr style=\"text-align: right;\">\n",
       "      <th></th>\n",
       "      <th>no_warning_sign</th>\n",
       "      <th>BizActive?</th>\n",
       "      <th>AddedUsers/BoughtUser</th>\n",
       "      <th>ActiveUsers/AddedUsers</th>\n",
       "      <th>#Activities</th>\n",
       "      <th>ActivitiesWoutDeal/#Activities</th>\n",
       "      <th>AvgDelayTimeActivity</th>\n",
       "      <th>#Activities/#Deals</th>\n",
       "      <th>%NoAcquitance</th>\n",
       "      <th>TransformationSpeed</th>\n",
       "      <th>TransformationRate</th>\n",
       "      <th>%NoReasonFailure</th>\n",
       "      <th>#OngoingDeals/#Total(Correct)Deals</th>\n",
       "    </tr>\n",
       "  </thead>\n",
       "  <tbody>\n",
       "    <tr>\n",
       "      <th>0</th>\n",
       "      <td>0.000000</td>\n",
       "      <td>0</td>\n",
       "      <td>0.642724</td>\n",
       "      <td>0.181397</td>\n",
       "      <td>1</td>\n",
       "      <td>0.866667</td>\n",
       "      <td>4</td>\n",
       "      <td>1.068966</td>\n",
       "      <td>0.310345</td>\n",
       "      <td>2</td>\n",
       "      <td>2</td>\n",
       "      <td>3</td>\n",
       "      <td>0.500000</td>\n",
       "    </tr>\n",
       "    <tr>\n",
       "      <th>1</th>\n",
       "      <td>0.238875</td>\n",
       "      <td>1</td>\n",
       "      <td>0.398507</td>\n",
       "      <td>0.274307</td>\n",
       "      <td>3</td>\n",
       "      <td>0.662252</td>\n",
       "      <td>3</td>\n",
       "      <td>0.688889</td>\n",
       "      <td>0.917526</td>\n",
       "      <td>2</td>\n",
       "      <td>2</td>\n",
       "      <td>1</td>\n",
       "      <td>0.627451</td>\n",
       "    </tr>\n",
       "    <tr>\n",
       "      <th>2</th>\n",
       "      <td>0.822599</td>\n",
       "      <td>0</td>\n",
       "      <td>1.000000</td>\n",
       "      <td>0.949580</td>\n",
       "      <td>1</td>\n",
       "      <td>0.000000</td>\n",
       "      <td>4</td>\n",
       "      <td>1.444444</td>\n",
       "      <td>0.000000</td>\n",
       "      <td>1</td>\n",
       "      <td>3</td>\n",
       "      <td>1</td>\n",
       "      <td>0.846154</td>\n",
       "    </tr>\n",
       "    <tr>\n",
       "      <th>3</th>\n",
       "      <td>0.000000</td>\n",
       "      <td>0</td>\n",
       "      <td>1.000000</td>\n",
       "      <td>0.211382</td>\n",
       "      <td>1</td>\n",
       "      <td>1.000000</td>\n",
       "      <td>3</td>\n",
       "      <td>0.000000</td>\n",
       "      <td>0.602430</td>\n",
       "      <td>2</td>\n",
       "      <td>2</td>\n",
       "      <td>2</td>\n",
       "      <td>0.506440</td>\n",
       "    </tr>\n",
       "    <tr>\n",
       "      <th>4</th>\n",
       "      <td>0.082940</td>\n",
       "      <td>1</td>\n",
       "      <td>1.000000</td>\n",
       "      <td>0.804726</td>\n",
       "      <td>4</td>\n",
       "      <td>0.773725</td>\n",
       "      <td>2</td>\n",
       "      <td>3.579350</td>\n",
       "      <td>0.182724</td>\n",
       "      <td>2</td>\n",
       "      <td>1</td>\n",
       "      <td>2</td>\n",
       "      <td>0.013858</td>\n",
       "    </tr>\n",
       "  </tbody>\n",
       "</table>\n",
       "</div>"
      ],
      "text/plain": [
       "   no_warning_sign BizActive?  AddedUsers/BoughtUser  ActiveUsers/AddedUsers  \\\n",
       "0         0.000000          0               0.642724                0.181397   \n",
       "1         0.238875          1               0.398507                0.274307   \n",
       "2         0.822599          0               1.000000                0.949580   \n",
       "3         0.000000          0               1.000000                0.211382   \n",
       "4         0.082940          1               1.000000                0.804726   \n",
       "\n",
       "  #Activities  ActivitiesWoutDeal/#Activities  AvgDelayTimeActivity  \\\n",
       "0           1                        0.866667                     4   \n",
       "1           3                        0.662252                     3   \n",
       "2           1                        0.000000                     4   \n",
       "3           1                        1.000000                     3   \n",
       "4           4                        0.773725                     2   \n",
       "\n",
       "   #Activities/#Deals  %NoAcquitance  TransformationSpeed  TransformationRate  \\\n",
       "0            1.068966       0.310345                    2                   2   \n",
       "1            0.688889       0.917526                    2                   2   \n",
       "2            1.444444       0.000000                    1                   3   \n",
       "3            0.000000       0.602430                    2                   2   \n",
       "4            3.579350       0.182724                    2                   1   \n",
       "\n",
       "   %NoReasonFailure  #OngoingDeals/#Total(Correct)Deals  \n",
       "0                 3                            0.500000  \n",
       "1                 1                            0.627451  \n",
       "2                 1                            0.846154  \n",
       "3                 2                            0.506440  \n",
       "4                 2                            0.013858  "
      ]
     },
     "execution_count": 4,
     "metadata": {},
     "output_type": "execute_result"
    }
   ],
   "source": [
    "X['#Activities'] = np.where(X['#Activities']=='Low' , 1 \n",
    "                            ,np.where(X['#Activities']=='VeryHigh' , 4\n",
    "                                      ,np.where(X['#Activities']=='High',3,\n",
    "                                                np.where(X['#Activities']=='Medium' , 2 ,X['#Activities'] ))) )\n",
    "X.loc[:,'AvgDelayTimeActivity'] = np.where(\n",
    "                            X.loc[:,'AvgDelayTimeActivity']=='Low' , 2,np.where(\n",
    "                            X.loc[:,'AvgDelayTimeActivity']=='Medium',3,np.where(\n",
    "                            X.loc[:,'AvgDelayTimeActivity']=='High',4,np.where(\n",
    "                            X.loc[:,'AvgDelayTimeActivity']=='VeryHigh',5,np.where(\n",
    "                            X.loc[:,'AvgDelayTimeActivity']=='Perfect',1,X.loc[:,'AvgDelayTimeActivity'])))))\n",
    "X['AvgDelayTimeActivity'] = X['AvgDelayTimeActivity'].fillna(3)\n",
    "\n",
    "X.loc[:,'TransformationRate'] = np.where(\n",
    "                            X.loc[:,'TransformationRate']=='Bad' , 1,np.where(\n",
    "                            X.loc[:,'TransformationRate']=='OK',2,np.where(\n",
    "                            X.loc[:,'TransformationRate']=='Good',3,X.loc[:,'TransformationRate'])))\n",
    "X['TransformationRate'] = X['TransformationRate'].fillna(2)\n",
    "\n",
    "X.loc[:,'TransformationSpeed'] = np.where(\n",
    "                            X.loc[:,'TransformationSpeed']=='Bad' , 1,np.where(\n",
    "                            X.loc[:,'TransformationSpeed']=='OK',2,np.where(\n",
    "                            X.loc[:,'TransformationSpeed']=='Good',3,X.loc[:,'TransformationSpeed'])))\n",
    "X['TransformationSpeed'] = X['TransformationSpeed'].fillna(2)\n",
    "\n",
    "X.loc[:,'%NoReasonFailure'] = np.where(\n",
    "                            X.loc[:,'%NoReasonFailure']=='Bad' , 1,np.where(\n",
    "                            X.loc[:,'%NoReasonFailure']=='Medium',2,np.where(\n",
    "                            X.loc[:,'%NoReasonFailure']=='Perfect',3,X.loc[:,'%NoReasonFailure'])))\n",
    "X['%NoReasonFailure'] = X['%NoReasonFailure'].fillna(2)\n",
    "\n",
    "X.head()"
   ]
  },
  {
   "cell_type": "code",
   "execution_count": 5,
   "metadata": {
    "ExecuteTime": {
     "end_time": "2022-09-16T07:03:42.911315Z",
     "start_time": "2022-09-16T07:03:42.898350Z"
    }
   },
   "outputs": [
    {
     "data": {
      "text/plain": [
       "(1900, 13)"
      ]
     },
     "execution_count": 5,
     "metadata": {},
     "output_type": "execute_result"
    }
   ],
   "source": [
    "X.shape"
   ]
  },
  {
   "cell_type": "code",
   "execution_count": 6,
   "metadata": {
    "ExecuteTime": {
     "end_time": "2022-09-16T07:03:42.927303Z",
     "start_time": "2022-09-16T07:03:42.913310Z"
    }
   },
   "outputs": [
    {
     "name": "stdout",
     "output_type": "stream",
     "text": [
      "number of expired: 295\n"
     ]
    }
   ],
   "source": [
    "print('number of expired:',sum(y))"
   ]
  },
  {
   "cell_type": "markdown",
   "metadata": {},
   "source": [
    "## forming good/bad split"
   ]
  },
  {
   "cell_type": "code",
   "execution_count": 7,
   "metadata": {
    "ExecuteTime": {
     "end_time": "2022-09-16T07:03:42.942265Z",
     "start_time": "2022-09-16T07:03:42.930265Z"
    }
   },
   "outputs": [],
   "source": [
    "X_test_good = BizDomains.isin(successful)\n",
    "\n",
    "X_test_bad = y==1"
   ]
  },
  {
   "cell_type": "markdown",
   "metadata": {},
   "source": [
    "# Clustering\n",
    "In this section 2 clustering methods were applied, and finally K-Medoids was selected"
   ]
  },
  {
   "cell_type": "markdown",
   "metadata": {},
   "source": [
    "## Kmeans"
   ]
  },
  {
   "cell_type": "code",
   "execution_count": 8,
   "metadata": {
    "ExecuteTime": {
     "end_time": "2022-09-16T07:03:43.853795Z",
     "start_time": "2022-09-16T07:03:42.946221Z"
    }
   },
   "outputs": [
    {
     "data": {
      "image/png": "[encoded data removed]",
      "text/plain": [
       "<Figure size 640x480 with 1 Axes>"
      ]
     },
     "metadata": {},
     "output_type": "display_data"
    }
   ],
   "source": [
    "from sklearn.cluster import KMeans\n",
    "lis = []\n",
    "for i in range(2,10):\n",
    "    km = KMeans(n_clusters=i)\n",
    "    km.fit(X)\n",
    "    J = np.abs(km.score(X))\n",
    "    lis.append(J)\n",
    "#     plt.plot( i ,np.abs(J) , label=i)\n",
    "\n",
    "\n",
    "plt.figure()\n",
    "plt.style.use('seaborn')\n",
    "plt.plot(np.arange(2,10) , lis , marker='o')\n",
    "for index in range(2,10):\n",
    "    plt.text(index, lis[index-2], int(lis[index-2]), size=10)\n",
    "plt.xlabel('Clusters')\n",
    "plt.ylabel('Cost')\n",
    "plt.tight_layout()\n",
    "# plt.savefig('cost Kmeans')\n",
    "plt.show()"
   ]
  },
  {
   "cell_type": "code",
   "execution_count": 9,
   "metadata": {
    "ExecuteTime": {
     "end_time": "2022-09-16T07:03:44.007384Z",
     "start_time": "2022-09-16T07:03:43.855791Z"
    }
   },
   "outputs": [
    {
     "name": "stdout",
     "output_type": "stream",
     "text": [
      "for clusters = 2\n",
      "{0: 1459, 1: 441}\n",
      "{0: 15, 1: 11}\n",
      "{0: 271, 1: 24}\n",
      "--------------\n",
      "\n",
      "for clusters = 3\n",
      "{0: 936, 1: 607, 2: 357}\n",
      "{0: 1, 1: 18, 2: 7}\n",
      "{0: 229, 1: 46, 2: 20}\n",
      "--------------\n",
      "\n",
      "for clusters = 4\n",
      "{0: 345, 1: 347, 2: 638, 3: 570}\n",
      "{0: 1, 1: 7, 3: 18}\n",
      "{0: 93, 1: 20, 2: 145, 3: 37}\n",
      "--------------\n",
      "\n",
      "for clusters = 5\n",
      "{0: 408, 1: 265, 2: 332, 3: 615, 4: 280}\n",
      "{0: 11, 1: 6, 4: 9}\n",
      "{0: 43, 1: 15, 2: 87, 3: 133, 4: 17}\n",
      "--------------\n",
      "\n"
     ]
    }
   ],
   "source": [
    "for i in range(2,6):\n",
    "    km = KMeans(n_clusters=i)\n",
    "    km.fit(X)\n",
    "    preds = km.predict(X)\n",
    "    \n",
    "    unique, counts = np.unique(preds, return_counts=True)\n",
    "    print(f'for clusters = {i}')\n",
    "    print(dict(zip(unique, counts)))\n",
    "\n",
    "    unique, counts = np.unique(preds[X_test_good], return_counts=True)\n",
    "    print(dict(zip(unique, counts)))\n",
    "\n",
    "\n",
    "    unique, counts = np.unique(preds[X_test_bad], return_counts=True)\n",
    "    print(dict(zip(unique, counts)))\n",
    "    print('--------------\\n')"
   ]
  },
  {
   "cell_type": "markdown",
   "metadata": {},
   "source": [
    "## KMedoids"
   ]
  },
  {
   "cell_type": "code",
   "execution_count": 10,
   "metadata": {
    "ExecuteTime": {
     "end_time": "2022-09-16T07:03:44.023341Z",
     "start_time": "2022-09-16T07:03:44.009379Z"
    }
   },
   "outputs": [],
   "source": [
    "# !pip install gower"
   ]
  },
  {
   "cell_type": "code",
   "execution_count": 11,
   "metadata": {
    "ExecuteTime": {
     "end_time": "2022-09-16T07:03:44.039299Z",
     "start_time": "2022-09-16T07:03:44.025336Z"
    }
   },
   "outputs": [],
   "source": [
    "X['BizActive?'] = X['BizActive?'].astype('int64')\n",
    "X['#Activities'] = X['#Activities'].astype('int64')\n",
    "# X.info()"
   ]
  },
  {
   "cell_type": "code",
   "execution_count": 12,
   "metadata": {
    "ExecuteTime": {
     "end_time": "2022-09-16T07:03:44.285646Z",
     "start_time": "2022-09-16T07:03:44.041295Z"
    }
   },
   "outputs": [],
   "source": [
    "import gower\n",
    "dist_matrix = gower.gower_matrix(X)"
   ]
  },
  {
   "cell_type": "code",
   "execution_count": 13,
   "metadata": {
    "ExecuteTime": {
     "end_time": "2022-09-16T07:03:44.300600Z",
     "start_time": "2022-09-16T07:03:44.288649Z"
    }
   },
   "outputs": [],
   "source": [
    "# !pip install scikit-learn-extra"
   ]
  },
  {
   "cell_type": "code",
   "execution_count": 14,
   "metadata": {
    "ExecuteTime": {
     "end_time": "2022-09-16T07:03:53.392299Z",
     "start_time": "2022-09-16T07:03:44.302596Z"
    }
   },
   "outputs": [
    {
     "name": "stdout",
     "output_type": "stream",
     "text": [
      "for clusters = 2\n",
      "{0: 1195, 1: 705}\n",
      "{0: 26}\n",
      "{0: 23, 1: 272}\n",
      "--------------\n",
      "\n",
      "for clusters = 3\n",
      "{0: 423, 1: 422, 2: 1055}\n",
      "{0: 1, 2: 25}\n",
      "{0: 23, 1: 246, 2: 26}\n",
      "--------------\n",
      "\n",
      "for clusters = 4\n",
      "{0: 463, 1: 392, 2: 661, 3: 384}\n",
      "{0: 18, 2: 7, 3: 1}\n",
      "{0: 13, 1: 237, 2: 22, 3: 23}\n",
      "--------------\n",
      "\n",
      "for clusters = 5\n",
      "{0: 274, 1: 248, 2: 627, 3: 389, 4: 362}\n",
      "{2: 10, 3: 1, 4: 15}\n",
      "{0: 104, 1: 162, 2: 5, 3: 21, 4: 3}\n",
      "--------------\n",
      "\n",
      "for clusters = 6\n",
      "{0: 181, 1: 223, 2: 529, 3: 329, 4: 376, 5: 262}\n",
      "{0: 3, 2: 5, 3: 1, 4: 17}\n",
      "{0: 1, 1: 160, 2: 4, 3: 20, 4: 2, 5: 108}\n",
      "--------------\n",
      "\n",
      "for clusters = 7\n",
      "{0: 238, 1: 219, 2: 419, 3: 317, 4: 297, 5: 237, 6: 173}\n",
      "{2: 7, 3: 1, 4: 15, 6: 3}\n",
      "{1: 160, 2: 3, 3: 20, 4: 3, 5: 108, 6: 1}\n",
      "--------------\n",
      "\n",
      "for clusters = 8\n",
      "{0: 185, 1: 211, 2: 363, 3: 239, 4: 298, 5: 228, 6: 167, 7: 209}\n",
      "{0: 1, 2: 6, 3: 1, 4: 15, 6: 3}\n",
      "{0: 3, 1: 158, 2: 5, 3: 20, 4: 3, 5: 105, 6: 1}\n",
      "--------------\n",
      "\n",
      "for clusters = 9\n",
      "{0: 286, 1: 210, 2: 200, 3: 223, 4: 256, 5: 203, 6: 165, 7: 197, 8: 160}\n",
      "{0: 4, 2: 4, 3: 1, 4: 15, 6: 1, 8: 1}\n",
      "{0: 4, 1: 159, 2: 13, 3: 20, 4: 4, 5: 91, 6: 1, 8: 3}\n",
      "--------------\n",
      "\n"
     ]
    }
   ],
   "source": [
    "from sklearn_extra.cluster import KMedoids\n",
    "\n",
    "cost=[]\n",
    "for i in range(2,10):\n",
    "    kmedoid = KMedoids(n_clusters=i, \n",
    "                               metric='precomputed',\n",
    "                               method='pam', init='build', \n",
    "                               max_iter=500, \n",
    "                               random_state=1).fit(dist_matrix)\n",
    "    lables = kmedoid.labels_\n",
    "    unique, counts = np.unique(np.array(lables), return_counts=True)\n",
    "    print(f'for clusters = {i}')\n",
    "    print(dict(zip(unique, counts)))\n",
    "\n",
    "    unique, counts = np.unique(lables[X_test_good], return_counts=True)\n",
    "    print(dict(zip(unique, counts)))\n",
    "\n",
    "\n",
    "    unique, counts = np.unique(lables[X_test_bad], return_counts=True)\n",
    "    print(dict(zip(unique, counts)))\n",
    "    print('--------------\\n')\n",
    "    cost.append(kmedoid.inertia_)"
   ]
  },
  {
   "cell_type": "code",
   "execution_count": 15,
   "metadata": {
    "ExecuteTime": {
     "end_time": "2022-09-16T07:03:53.407261Z",
     "start_time": "2022-09-16T07:03:53.394294Z"
    }
   },
   "outputs": [
    {
     "data": {
      "text/html": [
       "<div>\n",
       "<style scoped>\n",
       "    .dataframe tbody tr th:only-of-type {\n",
       "        vertical-align: middle;\n",
       "    }\n",
       "\n",
       "    .dataframe tbody tr th {\n",
       "        vertical-align: top;\n",
       "    }\n",
       "\n",
       "    .dataframe thead th {\n",
       "        text-align: right;\n",
       "    }\n",
       "</style>\n",
       "<table border=\"1\" class=\"dataframe\">\n",
       "  <thead>\n",
       "    <tr style=\"text-align: right;\">\n",
       "      <th></th>\n",
       "      <th>Cluster</th>\n",
       "      <th>Cost</th>\n",
       "    </tr>\n",
       "  </thead>\n",
       "  <tbody>\n",
       "    <tr>\n",
       "      <th>0</th>\n",
       "      <td>2</td>\n",
       "      <td>409.112122</td>\n",
       "    </tr>\n",
       "    <tr>\n",
       "      <th>1</th>\n",
       "      <td>3</td>\n",
       "      <td>368.956177</td>\n",
       "    </tr>\n",
       "    <tr>\n",
       "      <th>2</th>\n",
       "      <td>4</td>\n",
       "      <td>346.338745</td>\n",
       "    </tr>\n",
       "    <tr>\n",
       "      <th>3</th>\n",
       "      <td>5</td>\n",
       "      <td>327.728271</td>\n",
       "    </tr>\n",
       "    <tr>\n",
       "      <th>4</th>\n",
       "      <td>6</td>\n",
       "      <td>312.600739</td>\n",
       "    </tr>\n",
       "    <tr>\n",
       "      <th>5</th>\n",
       "      <td>7</td>\n",
       "      <td>301.921173</td>\n",
       "    </tr>\n",
       "    <tr>\n",
       "      <th>6</th>\n",
       "      <td>8</td>\n",
       "      <td>292.653778</td>\n",
       "    </tr>\n",
       "    <tr>\n",
       "      <th>7</th>\n",
       "      <td>9</td>\n",
       "      <td>284.294495</td>\n",
       "    </tr>\n",
       "  </tbody>\n",
       "</table>\n",
       "</div>"
      ],
      "text/plain": [
       "   Cluster        Cost\n",
       "0        2  409.112122\n",
       "1        3  368.956177\n",
       "2        4  346.338745\n",
       "3        5  327.728271\n",
       "4        6  312.600739\n",
       "5        7  301.921173\n",
       "6        8  292.653778\n",
       "7        9  284.294495"
      ]
     },
     "execution_count": 15,
     "metadata": {},
     "output_type": "execute_result"
    }
   ],
   "source": [
    "df_cost = pd.DataFrame({'Cluster':range(2, 10), 'Cost':cost})\n",
    "df_cost"
   ]
  },
  {
   "cell_type": "code",
   "execution_count": 16,
   "metadata": {
    "ExecuteTime": {
     "end_time": "2022-09-16T07:03:54.164263Z",
     "start_time": "2022-09-16T07:03:53.410251Z"
    }
   },
   "outputs": [
    {
     "data": {
      "image/png": "[encoded data removed]",
      "text/plain": [
       "<Figure size 800x480 with 1 Axes>"
      ]
     },
     "metadata": {
      "needs_background": "light"
     },
     "output_type": "display_data"
    },
    {
     "data": {
      "text/plain": [
       "<ggplot: (134682228249)>"
      ]
     },
     "execution_count": 16,
     "metadata": {},
     "output_type": "execute_result"
    }
   ],
   "source": [
    "from plotnine import *\n",
    "import plotnine\n",
    "plotnine.options.figure_size = (8, 4.8)\n",
    "(\n",
    "    ggplot(data = df_cost)+\n",
    "    geom_line(aes(x = 'Cluster',\n",
    "                  y = 'Cost'))+\n",
    "    geom_point(aes(x = 'Cluster',\n",
    "                   y = 'Cost'))+\n",
    "    geom_label(aes(x = 'Cluster',\n",
    "                   y = 'Cost',\n",
    "                   label = 'Cluster'),\n",
    "               size = 10,\n",
    "               nudge_y = 10) +\n",
    "    labs(title = 'Optimal number of cluster with Gower Method')+\n",
    "    xlab('Number of Clusters k')+\n",
    "    ylab('Cost')+\n",
    "    theme_minimal()\n",
    ")"
   ]
  },
  {
   "cell_type": "markdown",
   "metadata": {},
   "source": [
    "# Best Clustering Methods\n",
    "Labels are selected in a way that if a cluster is made up of more proportion of positive labels, then its members are positive, otherwise it is negative."
   ]
  },
  {
   "cell_type": "markdown",
   "metadata": {},
   "source": [
    "## KMedoids (k=2)"
   ]
  },
  {
   "cell_type": "code",
   "execution_count": 17,
   "metadata": {
    "ExecuteTime": {
     "end_time": "2022-09-16T07:03:54.796763Z",
     "start_time": "2022-09-16T07:03:54.166231Z"
    }
   },
   "outputs": [],
   "source": [
    "import gower\n",
    "dist_matrix = gower.gower_matrix(X)\n",
    "from sklearn_extra.cluster import KMedoids\n",
    "\n",
    "cluster = 2\n",
    "labels = KMedoids(n_clusters=cluster, \n",
    "                           metric='precomputed',\n",
    "                           method='pam', init='build', \n",
    "                           max_iter=500, \n",
    "                           random_state=1).fit_predict(dist_matrix)"
   ]
  },
  {
   "cell_type": "code",
   "execution_count": 18,
   "metadata": {
    "ExecuteTime": {
     "end_time": "2022-09-16T07:03:54.812503Z",
     "start_time": "2022-09-16T07:03:54.798554Z"
    }
   },
   "outputs": [],
   "source": [
    "df_decision_medoid = pd.DataFrame()\n",
    "df_decision_medoid['cluster'] = np.arange(cluster)\n",
    "value, counts = np.unique(labels[X_test_good], return_counts=True)\n",
    "dic = dict(zip(value , counts))\n",
    "counts=[dic[i] if (i in value) else 0 for i in range(cluster)]\n",
    "\n",
    "df_decision_medoid['pos']=counts\n",
    "value, counts = np.unique(labels[X_test_bad], return_counts=True)\n",
    "df_decision_medoid['neg']=counts\n",
    "df_decision_medoid['prop_pos'] = df_decision_medoid['pos']/df_decision_medoid['pos'].sum()\n",
    "df_decision_medoid['prop_neg'] = df_decision_medoid['neg']/df_decision_medoid['neg'].sum()"
   ]
  },
  {
   "cell_type": "code",
   "execution_count": 19,
   "metadata": {
    "ExecuteTime": {
     "end_time": "2022-09-16T07:03:54.827462Z",
     "start_time": "2022-09-16T07:03:54.815497Z"
    }
   },
   "outputs": [
    {
     "data": {
      "text/html": [
       "<div>\n",
       "<style scoped>\n",
       "    .dataframe tbody tr th:only-of-type {\n",
       "        vertical-align: middle;\n",
       "    }\n",
       "\n",
       "    .dataframe tbody tr th {\n",
       "        vertical-align: top;\n",
       "    }\n",
       "\n",
       "    .dataframe thead th {\n",
       "        text-align: right;\n",
       "    }\n",
       "</style>\n",
       "<table border=\"1\" class=\"dataframe\">\n",
       "  <thead>\n",
       "    <tr style=\"text-align: right;\">\n",
       "      <th></th>\n",
       "      <th>cluster</th>\n",
       "      <th>pos</th>\n",
       "      <th>neg</th>\n",
       "      <th>prop_pos</th>\n",
       "      <th>prop_neg</th>\n",
       "      <th>total</th>\n",
       "    </tr>\n",
       "  </thead>\n",
       "  <tbody>\n",
       "    <tr>\n",
       "      <th>0</th>\n",
       "      <td>0</td>\n",
       "      <td>26</td>\n",
       "      <td>23</td>\n",
       "      <td>1.0</td>\n",
       "      <td>0.077966</td>\n",
       "      <td>1195</td>\n",
       "    </tr>\n",
       "    <tr>\n",
       "      <th>1</th>\n",
       "      <td>1</td>\n",
       "      <td>0</td>\n",
       "      <td>272</td>\n",
       "      <td>0.0</td>\n",
       "      <td>0.922034</td>\n",
       "      <td>705</td>\n",
       "    </tr>\n",
       "  </tbody>\n",
       "</table>\n",
       "</div>"
      ],
      "text/plain": [
       "   cluster  pos  neg  prop_pos  prop_neg  total\n",
       "0        0   26   23       1.0  0.077966   1195\n",
       "1        1    0  272       0.0  0.922034    705"
      ]
     },
     "execution_count": 19,
     "metadata": {},
     "output_type": "execute_result"
    }
   ],
   "source": [
    "value, counts = np.unique(labels, return_counts=True)\n",
    "df_decision_medoid['total'] = counts\n",
    "df_decision_medoid"
   ]
  },
  {
   "cell_type": "code",
   "execution_count": 20,
   "metadata": {
    "ExecuteTime": {
     "end_time": "2022-09-16T07:03:54.843453Z",
     "start_time": "2022-09-16T07:03:54.829458Z"
    }
   },
   "outputs": [],
   "source": [
    "label_pos = df_decision_medoid.loc[df_decision_medoid['prop_pos']>df_decision_medoid['prop_neg'],\n",
    "                                 'cluster'].tolist()\n",
    "label_neg = df_decision_medoid.loc[df_decision_medoid['prop_pos']<df_decision_medoid['prop_neg'],\n",
    "                                 'cluster'].tolist()"
   ]
  },
  {
   "cell_type": "code",
   "execution_count": 21,
   "metadata": {
    "ExecuteTime": {
     "end_time": "2022-09-16T07:03:54.858381Z",
     "start_time": "2022-09-16T07:03:54.845415Z"
    }
   },
   "outputs": [],
   "source": [
    "X['BizIsExpired?'] = labels\n",
    "\n",
    "#positive labels equal to 0 and negative ones equal to 1\n",
    "X['BizIsExpired?'] = np.where(X['BizIsExpired?'].isin(label_pos) , 0 , 1)\n",
    "\n",
    "#default expires\n",
    "X.loc[df['BizIsExpired?'] ==1 , 'BizIsExpired?']=1"
   ]
  },
  {
   "cell_type": "code",
   "execution_count": 22,
   "metadata": {
    "ExecuteTime": {
     "end_time": "2022-09-16T07:03:54.889299Z",
     "start_time": "2022-09-16T07:03:54.860387Z"
    }
   },
   "outputs": [
    {
     "data": {
      "text/html": [
       "<div>\n",
       "<style scoped>\n",
       "    .dataframe tbody tr th:only-of-type {\n",
       "        vertical-align: middle;\n",
       "    }\n",
       "\n",
       "    .dataframe tbody tr th {\n",
       "        vertical-align: top;\n",
       "    }\n",
       "\n",
       "    .dataframe thead th {\n",
       "        text-align: right;\n",
       "    }\n",
       "</style>\n",
       "<table border=\"1\" class=\"dataframe\">\n",
       "  <thead>\n",
       "    <tr style=\"text-align: right;\">\n",
       "      <th></th>\n",
       "      <th>no_warning_sign</th>\n",
       "      <th>BizActive?</th>\n",
       "      <th>AddedUsers/BoughtUser</th>\n",
       "      <th>ActiveUsers/AddedUsers</th>\n",
       "      <th>#Activities</th>\n",
       "      <th>ActivitiesWoutDeal/#Activities</th>\n",
       "      <th>AvgDelayTimeActivity</th>\n",
       "      <th>#Activities/#Deals</th>\n",
       "      <th>%NoAcquitance</th>\n",
       "      <th>TransformationSpeed</th>\n",
       "      <th>TransformationRate</th>\n",
       "      <th>%NoReasonFailure</th>\n",
       "      <th>#OngoingDeals/#Total(Correct)Deals</th>\n",
       "      <th>BizIsExpired?</th>\n",
       "    </tr>\n",
       "  </thead>\n",
       "  <tbody>\n",
       "    <tr>\n",
       "      <th>0</th>\n",
       "      <td>0.000000</td>\n",
       "      <td>0</td>\n",
       "      <td>0.642724</td>\n",
       "      <td>0.181397</td>\n",
       "      <td>1</td>\n",
       "      <td>0.866667</td>\n",
       "      <td>4</td>\n",
       "      <td>1.068966</td>\n",
       "      <td>0.310345</td>\n",
       "      <td>2</td>\n",
       "      <td>2</td>\n",
       "      <td>3</td>\n",
       "      <td>0.500000</td>\n",
       "      <td>1</td>\n",
       "    </tr>\n",
       "    <tr>\n",
       "      <th>1</th>\n",
       "      <td>0.238875</td>\n",
       "      <td>1</td>\n",
       "      <td>0.398507</td>\n",
       "      <td>0.274307</td>\n",
       "      <td>3</td>\n",
       "      <td>0.662252</td>\n",
       "      <td>3</td>\n",
       "      <td>0.688889</td>\n",
       "      <td>0.917526</td>\n",
       "      <td>2</td>\n",
       "      <td>2</td>\n",
       "      <td>1</td>\n",
       "      <td>0.627451</td>\n",
       "      <td>0</td>\n",
       "    </tr>\n",
       "    <tr>\n",
       "      <th>2</th>\n",
       "      <td>0.822599</td>\n",
       "      <td>0</td>\n",
       "      <td>1.000000</td>\n",
       "      <td>0.949580</td>\n",
       "      <td>1</td>\n",
       "      <td>0.000000</td>\n",
       "      <td>4</td>\n",
       "      <td>1.444444</td>\n",
       "      <td>0.000000</td>\n",
       "      <td>1</td>\n",
       "      <td>3</td>\n",
       "      <td>1</td>\n",
       "      <td>0.846154</td>\n",
       "      <td>0</td>\n",
       "    </tr>\n",
       "    <tr>\n",
       "      <th>3</th>\n",
       "      <td>0.000000</td>\n",
       "      <td>0</td>\n",
       "      <td>1.000000</td>\n",
       "      <td>0.211382</td>\n",
       "      <td>1</td>\n",
       "      <td>1.000000</td>\n",
       "      <td>3</td>\n",
       "      <td>0.000000</td>\n",
       "      <td>0.602430</td>\n",
       "      <td>2</td>\n",
       "      <td>2</td>\n",
       "      <td>2</td>\n",
       "      <td>0.506440</td>\n",
       "      <td>1</td>\n",
       "    </tr>\n",
       "    <tr>\n",
       "      <th>4</th>\n",
       "      <td>0.082940</td>\n",
       "      <td>1</td>\n",
       "      <td>1.000000</td>\n",
       "      <td>0.804726</td>\n",
       "      <td>4</td>\n",
       "      <td>0.773725</td>\n",
       "      <td>2</td>\n",
       "      <td>3.579350</td>\n",
       "      <td>0.182724</td>\n",
       "      <td>2</td>\n",
       "      <td>1</td>\n",
       "      <td>2</td>\n",
       "      <td>0.013858</td>\n",
       "      <td>0</td>\n",
       "    </tr>\n",
       "  </tbody>\n",
       "</table>\n",
       "</div>"
      ],
      "text/plain": [
       "   no_warning_sign  BizActive?  AddedUsers/BoughtUser  ActiveUsers/AddedUsers  \\\n",
       "0         0.000000           0               0.642724                0.181397   \n",
       "1         0.238875           1               0.398507                0.274307   \n",
       "2         0.822599           0               1.000000                0.949580   \n",
       "3         0.000000           0               1.000000                0.211382   \n",
       "4         0.082940           1               1.000000                0.804726   \n",
       "\n",
       "   #Activities  ActivitiesWoutDeal/#Activities  AvgDelayTimeActivity  \\\n",
       "0            1                        0.866667                     4   \n",
       "1            3                        0.662252                     3   \n",
       "2            1                        0.000000                     4   \n",
       "3            1                        1.000000                     3   \n",
       "4            4                        0.773725                     2   \n",
       "\n",
       "   #Activities/#Deals  %NoAcquitance  TransformationSpeed  TransformationRate  \\\n",
       "0            1.068966       0.310345                    2                   2   \n",
       "1            0.688889       0.917526                    2                   2   \n",
       "2            1.444444       0.000000                    1                   3   \n",
       "3            0.000000       0.602430                    2                   2   \n",
       "4            3.579350       0.182724                    2                   1   \n",
       "\n",
       "   %NoReasonFailure  #OngoingDeals/#Total(Correct)Deals  BizIsExpired?  \n",
       "0                 3                            0.500000              1  \n",
       "1                 1                            0.627451              0  \n",
       "2                 1                            0.846154              0  \n",
       "3                 2                            0.506440              1  \n",
       "4                 2                            0.013858              0  "
      ]
     },
     "execution_count": 22,
     "metadata": {},
     "output_type": "execute_result"
    }
   ],
   "source": [
    "X.head()"
   ]
  },
  {
   "cell_type": "code",
   "execution_count": 23,
   "metadata": {
    "ExecuteTime": {
     "end_time": "2022-09-16T07:03:54.920216Z",
     "start_time": "2022-09-16T07:03:54.891305Z"
    }
   },
   "outputs": [],
   "source": [
    "X.to_csv('K-Medoids_k=2_Numerical.csv')"
   ]
  },
  {
   "cell_type": "markdown",
   "metadata": {},
   "source": [
    "## KMedoids (k=3)"
   ]
  },
  {
   "cell_type": "code",
   "execution_count": 24,
   "metadata": {
    "ExecuteTime": {
     "end_time": "2022-09-16T07:03:55.707348Z",
     "start_time": "2022-09-16T07:03:54.924205Z"
    }
   },
   "outputs": [],
   "source": [
    "import gower\n",
    "dist_matrix = gower.gower_matrix(X)\n",
    "from sklearn_extra.cluster import KMedoids\n",
    "\n",
    "cluster = 3\n",
    "labels = KMedoids(n_clusters=cluster, \n",
    "                           metric='precomputed',\n",
    "                           method='pam', init='build', \n",
    "                           max_iter=500, \n",
    "                           random_state=1).fit_predict(dist_matrix)"
   ]
  },
  {
   "cell_type": "code",
   "execution_count": 25,
   "metadata": {
    "ExecuteTime": {
     "end_time": "2022-09-16T07:03:55.723069Z",
     "start_time": "2022-09-16T07:03:55.709116Z"
    }
   },
   "outputs": [],
   "source": [
    "df_decision_medoid = pd.DataFrame()\n",
    "df_decision_medoid['cluster'] = np.arange(cluster)\n",
    "value, counts = np.unique(labels[X_test_good], return_counts=True)\n",
    "dic = dict(zip(value , counts))\n",
    "counts=[dic[i] if (i in value) else 0 for i in range(cluster)]\n",
    "\n",
    "df_decision_medoid['pos']=counts\n",
    "value, counts = np.unique(labels[X_test_bad], return_counts=True)\n",
    "df_decision_medoid['neg']=counts\n",
    "df_decision_medoid['prop_pos'] = df_decision_medoid['pos']/df_decision_medoid['pos'].sum()\n",
    "df_decision_medoid['prop_neg'] = df_decision_medoid['neg']/df_decision_medoid['neg'].sum()"
   ]
  },
  {
   "cell_type": "code",
   "execution_count": 26,
   "metadata": {
    "ExecuteTime": {
     "end_time": "2022-09-16T07:03:55.753986Z",
     "start_time": "2022-09-16T07:03:55.730077Z"
    }
   },
   "outputs": [
    {
     "data": {
      "text/html": [
       "<div>\n",
       "<style scoped>\n",
       "    .dataframe tbody tr th:only-of-type {\n",
       "        vertical-align: middle;\n",
       "    }\n",
       "\n",
       "    .dataframe tbody tr th {\n",
       "        vertical-align: top;\n",
       "    }\n",
       "\n",
       "    .dataframe thead th {\n",
       "        text-align: right;\n",
       "    }\n",
       "</style>\n",
       "<table border=\"1\" class=\"dataframe\">\n",
       "  <thead>\n",
       "    <tr style=\"text-align: right;\">\n",
       "      <th></th>\n",
       "      <th>cluster</th>\n",
       "      <th>pos</th>\n",
       "      <th>neg</th>\n",
       "      <th>prop_pos</th>\n",
       "      <th>prop_neg</th>\n",
       "      <th>total</th>\n",
       "    </tr>\n",
       "  </thead>\n",
       "  <tbody>\n",
       "    <tr>\n",
       "      <th>0</th>\n",
       "      <td>0</td>\n",
       "      <td>0</td>\n",
       "      <td>23</td>\n",
       "      <td>0.0</td>\n",
       "      <td>0.077966</td>\n",
       "      <td>332</td>\n",
       "    </tr>\n",
       "    <tr>\n",
       "      <th>1</th>\n",
       "      <td>1</td>\n",
       "      <td>0</td>\n",
       "      <td>261</td>\n",
       "      <td>0.0</td>\n",
       "      <td>0.884746</td>\n",
       "      <td>448</td>\n",
       "    </tr>\n",
       "    <tr>\n",
       "      <th>2</th>\n",
       "      <td>2</td>\n",
       "      <td>26</td>\n",
       "      <td>11</td>\n",
       "      <td>1.0</td>\n",
       "      <td>0.037288</td>\n",
       "      <td>1120</td>\n",
       "    </tr>\n",
       "  </tbody>\n",
       "</table>\n",
       "</div>"
      ],
      "text/plain": [
       "   cluster  pos  neg  prop_pos  prop_neg  total\n",
       "0        0    0   23       0.0  0.077966    332\n",
       "1        1    0  261       0.0  0.884746    448\n",
       "2        2   26   11       1.0  0.037288   1120"
      ]
     },
     "execution_count": 26,
     "metadata": {},
     "output_type": "execute_result"
    }
   ],
   "source": [
    "value, counts = np.unique(labels, return_counts=True)\n",
    "df_decision_medoid['total'] = counts\n",
    "df_decision_medoid"
   ]
  },
  {
   "cell_type": "code",
   "execution_count": 27,
   "metadata": {
    "ExecuteTime": {
     "end_time": "2022-09-16T07:03:55.769943Z",
     "start_time": "2022-09-16T07:03:55.755992Z"
    }
   },
   "outputs": [],
   "source": [
    "label_pos = df_decision_medoid.loc[df_decision_medoid['prop_pos']>df_decision_medoid['prop_neg'],\n",
    "                                 'cluster'].tolist()\n",
    "label_neg = df_decision_medoid.loc[df_decision_medoid['prop_pos']<df_decision_medoid['prop_neg'],\n",
    "                                 'cluster'].tolist()"
   ]
  },
  {
   "cell_type": "code",
   "execution_count": 28,
   "metadata": {
    "ExecuteTime": {
     "end_time": "2022-09-16T07:03:55.784938Z",
     "start_time": "2022-09-16T07:03:55.771944Z"
    }
   },
   "outputs": [],
   "source": [
    "X['BizIsExpired?'] = labels\n",
    "\n",
    "#positive labels equal to 0 and negative ones equal to 1\n",
    "X['BizIsExpired?'] = np.where(X['BizIsExpired?'].isin(label_pos) , 0 , 1)\n",
    "\n",
    "#default expires\n",
    "X.loc[df['BizIsExpired?'] ==1 , 'BizIsExpired?']=1"
   ]
  },
  {
   "cell_type": "code",
   "execution_count": 29,
   "metadata": {
    "ExecuteTime": {
     "end_time": "2022-09-16T07:03:55.815855Z",
     "start_time": "2022-09-16T07:03:55.786902Z"
    }
   },
   "outputs": [
    {
     "data": {
      "text/html": [
       "<div>\n",
       "<style scoped>\n",
       "    .dataframe tbody tr th:only-of-type {\n",
       "        vertical-align: middle;\n",
       "    }\n",
       "\n",
       "    .dataframe tbody tr th {\n",
       "        vertical-align: top;\n",
       "    }\n",
       "\n",
       "    .dataframe thead th {\n",
       "        text-align: right;\n",
       "    }\n",
       "</style>\n",
       "<table border=\"1\" class=\"dataframe\">\n",
       "  <thead>\n",
       "    <tr style=\"text-align: right;\">\n",
       "      <th></th>\n",
       "      <th>no_warning_sign</th>\n",
       "      <th>BizActive?</th>\n",
       "      <th>AddedUsers/BoughtUser</th>\n",
       "      <th>ActiveUsers/AddedUsers</th>\n",
       "      <th>#Activities</th>\n",
       "      <th>ActivitiesWoutDeal/#Activities</th>\n",
       "      <th>AvgDelayTimeActivity</th>\n",
       "      <th>#Activities/#Deals</th>\n",
       "      <th>%NoAcquitance</th>\n",
       "      <th>TransformationSpeed</th>\n",
       "      <th>TransformationRate</th>\n",
       "      <th>%NoReasonFailure</th>\n",
       "      <th>#OngoingDeals/#Total(Correct)Deals</th>\n",
       "      <th>BizIsExpired?</th>\n",
       "    </tr>\n",
       "  </thead>\n",
       "  <tbody>\n",
       "    <tr>\n",
       "      <th>0</th>\n",
       "      <td>0.000000</td>\n",
       "      <td>0</td>\n",
       "      <td>0.642724</td>\n",
       "      <td>0.181397</td>\n",
       "      <td>1</td>\n",
       "      <td>0.866667</td>\n",
       "      <td>4</td>\n",
       "      <td>1.068966</td>\n",
       "      <td>0.310345</td>\n",
       "      <td>2</td>\n",
       "      <td>2</td>\n",
       "      <td>3</td>\n",
       "      <td>0.500000</td>\n",
       "      <td>1</td>\n",
       "    </tr>\n",
       "    <tr>\n",
       "      <th>1</th>\n",
       "      <td>0.238875</td>\n",
       "      <td>1</td>\n",
       "      <td>0.398507</td>\n",
       "      <td>0.274307</td>\n",
       "      <td>3</td>\n",
       "      <td>0.662252</td>\n",
       "      <td>3</td>\n",
       "      <td>0.688889</td>\n",
       "      <td>0.917526</td>\n",
       "      <td>2</td>\n",
       "      <td>2</td>\n",
       "      <td>1</td>\n",
       "      <td>0.627451</td>\n",
       "      <td>0</td>\n",
       "    </tr>\n",
       "    <tr>\n",
       "      <th>2</th>\n",
       "      <td>0.822599</td>\n",
       "      <td>0</td>\n",
       "      <td>1.000000</td>\n",
       "      <td>0.949580</td>\n",
       "      <td>1</td>\n",
       "      <td>0.000000</td>\n",
       "      <td>4</td>\n",
       "      <td>1.444444</td>\n",
       "      <td>0.000000</td>\n",
       "      <td>1</td>\n",
       "      <td>3</td>\n",
       "      <td>1</td>\n",
       "      <td>0.846154</td>\n",
       "      <td>0</td>\n",
       "    </tr>\n",
       "    <tr>\n",
       "      <th>3</th>\n",
       "      <td>0.000000</td>\n",
       "      <td>0</td>\n",
       "      <td>1.000000</td>\n",
       "      <td>0.211382</td>\n",
       "      <td>1</td>\n",
       "      <td>1.000000</td>\n",
       "      <td>3</td>\n",
       "      <td>0.000000</td>\n",
       "      <td>0.602430</td>\n",
       "      <td>2</td>\n",
       "      <td>2</td>\n",
       "      <td>2</td>\n",
       "      <td>0.506440</td>\n",
       "      <td>1</td>\n",
       "    </tr>\n",
       "    <tr>\n",
       "      <th>4</th>\n",
       "      <td>0.082940</td>\n",
       "      <td>1</td>\n",
       "      <td>1.000000</td>\n",
       "      <td>0.804726</td>\n",
       "      <td>4</td>\n",
       "      <td>0.773725</td>\n",
       "      <td>2</td>\n",
       "      <td>3.579350</td>\n",
       "      <td>0.182724</td>\n",
       "      <td>2</td>\n",
       "      <td>1</td>\n",
       "      <td>2</td>\n",
       "      <td>0.013858</td>\n",
       "      <td>0</td>\n",
       "    </tr>\n",
       "  </tbody>\n",
       "</table>\n",
       "</div>"
      ],
      "text/plain": [
       "   no_warning_sign  BizActive?  AddedUsers/BoughtUser  ActiveUsers/AddedUsers  \\\n",
       "0         0.000000           0               0.642724                0.181397   \n",
       "1         0.238875           1               0.398507                0.274307   \n",
       "2         0.822599           0               1.000000                0.949580   \n",
       "3         0.000000           0               1.000000                0.211382   \n",
       "4         0.082940           1               1.000000                0.804726   \n",
       "\n",
       "   #Activities  ActivitiesWoutDeal/#Activities  AvgDelayTimeActivity  \\\n",
       "0            1                        0.866667                     4   \n",
       "1            3                        0.662252                     3   \n",
       "2            1                        0.000000                     4   \n",
       "3            1                        1.000000                     3   \n",
       "4            4                        0.773725                     2   \n",
       "\n",
       "   #Activities/#Deals  %NoAcquitance  TransformationSpeed  TransformationRate  \\\n",
       "0            1.068966       0.310345                    2                   2   \n",
       "1            0.688889       0.917526                    2                   2   \n",
       "2            1.444444       0.000000                    1                   3   \n",
       "3            0.000000       0.602430                    2                   2   \n",
       "4            3.579350       0.182724                    2                   1   \n",
       "\n",
       "   %NoReasonFailure  #OngoingDeals/#Total(Correct)Deals  BizIsExpired?  \n",
       "0                 3                            0.500000              1  \n",
       "1                 1                            0.627451              0  \n",
       "2                 1                            0.846154              0  \n",
       "3                 2                            0.506440              1  \n",
       "4                 2                            0.013858              0  "
      ]
     },
     "execution_count": 29,
     "metadata": {},
     "output_type": "execute_result"
    }
   ],
   "source": [
    "X.head()"
   ]
  },
  {
   "cell_type": "code",
   "execution_count": 30,
   "metadata": {
    "ExecuteTime": {
     "end_time": "2022-09-16T07:03:55.846920Z",
     "start_time": "2022-09-16T07:03:55.817823Z"
    }
   },
   "outputs": [],
   "source": [
    "X.to_csv('K-Medoids_k=3_Numerical.csv')"
   ]
  },
  {
   "cell_type": "markdown",
   "metadata": {},
   "source": [
    "## KMedoids (k=4)"
   ]
  },
  {
   "cell_type": "code",
   "execution_count": 31,
   "metadata": {
    "ExecuteTime": {
     "end_time": "2022-09-16T07:03:56.974934Z",
     "start_time": "2022-09-16T07:03:55.848733Z"
    }
   },
   "outputs": [],
   "source": [
    "import gower\n",
    "dist_matrix = gower.gower_matrix(X)\n",
    "from sklearn_extra.cluster import KMedoids\n",
    "\n",
    "cluster = 4\n",
    "labels = KMedoids(n_clusters=cluster, \n",
    "                           metric='precomputed',\n",
    "                           method='pam', init='build', \n",
    "                           max_iter=500, \n",
    "                           random_state=1).fit_predict(dist_matrix)"
   ]
  },
  {
   "cell_type": "code",
   "execution_count": 32,
   "metadata": {
    "ExecuteTime": {
     "end_time": "2022-09-16T07:03:56.990680Z",
     "start_time": "2022-09-16T07:03:56.977715Z"
    }
   },
   "outputs": [],
   "source": [
    "df_decision_medoid = pd.DataFrame()\n",
    "df_decision_medoid['cluster'] = np.arange(cluster)\n",
    "value, counts = np.unique(labels[X_test_good], return_counts=True)\n",
    "dic = dict(zip(value , counts))\n",
    "counts=[dic[i] if (i in value) else 0 for i in range(cluster)]\n",
    "\n",
    "df_decision_medoid['pos']=counts\n",
    "value, counts = np.unique(labels[X_test_bad], return_counts=True)\n",
    "df_decision_medoid['neg']=counts\n",
    "df_decision_medoid['prop_pos'] = df_decision_medoid['pos']/df_decision_medoid['pos'].sum()\n",
    "df_decision_medoid['prop_neg'] = df_decision_medoid['neg']/df_decision_medoid['neg'].sum()"
   ]
  },
  {
   "cell_type": "code",
   "execution_count": 33,
   "metadata": {
    "ExecuteTime": {
     "end_time": "2022-09-16T07:03:57.005641Z",
     "start_time": "2022-09-16T07:03:56.993682Z"
    }
   },
   "outputs": [
    {
     "data": {
      "text/html": [
       "<div>\n",
       "<style scoped>\n",
       "    .dataframe tbody tr th:only-of-type {\n",
       "        vertical-align: middle;\n",
       "    }\n",
       "\n",
       "    .dataframe tbody tr th {\n",
       "        vertical-align: top;\n",
       "    }\n",
       "\n",
       "    .dataframe thead th {\n",
       "        text-align: right;\n",
       "    }\n",
       "</style>\n",
       "<table border=\"1\" class=\"dataframe\">\n",
       "  <thead>\n",
       "    <tr style=\"text-align: right;\">\n",
       "      <th></th>\n",
       "      <th>cluster</th>\n",
       "      <th>pos</th>\n",
       "      <th>neg</th>\n",
       "      <th>prop_pos</th>\n",
       "      <th>prop_neg</th>\n",
       "      <th>total</th>\n",
       "    </tr>\n",
       "  </thead>\n",
       "  <tbody>\n",
       "    <tr>\n",
       "      <th>0</th>\n",
       "      <td>0</td>\n",
       "      <td>18</td>\n",
       "      <td>8</td>\n",
       "      <td>0.692308</td>\n",
       "      <td>0.027119</td>\n",
       "      <td>464</td>\n",
       "    </tr>\n",
       "    <tr>\n",
       "      <th>1</th>\n",
       "      <td>1</td>\n",
       "      <td>0</td>\n",
       "      <td>259</td>\n",
       "      <td>0.000000</td>\n",
       "      <td>0.877966</td>\n",
       "      <td>443</td>\n",
       "    </tr>\n",
       "    <tr>\n",
       "      <th>2</th>\n",
       "      <td>2</td>\n",
       "      <td>8</td>\n",
       "      <td>5</td>\n",
       "      <td>0.307692</td>\n",
       "      <td>0.016949</td>\n",
       "      <td>660</td>\n",
       "    </tr>\n",
       "    <tr>\n",
       "      <th>3</th>\n",
       "      <td>3</td>\n",
       "      <td>0</td>\n",
       "      <td>23</td>\n",
       "      <td>0.000000</td>\n",
       "      <td>0.077966</td>\n",
       "      <td>333</td>\n",
       "    </tr>\n",
       "  </tbody>\n",
       "</table>\n",
       "</div>"
      ],
      "text/plain": [
       "   cluster  pos  neg  prop_pos  prop_neg  total\n",
       "0        0   18    8  0.692308  0.027119    464\n",
       "1        1    0  259  0.000000  0.877966    443\n",
       "2        2    8    5  0.307692  0.016949    660\n",
       "3        3    0   23  0.000000  0.077966    333"
      ]
     },
     "execution_count": 33,
     "metadata": {},
     "output_type": "execute_result"
    }
   ],
   "source": [
    "value, counts = np.unique(labels, return_counts=True)\n",
    "df_decision_medoid['total'] = counts\n",
    "df_decision_medoid"
   ]
  },
  {
   "cell_type": "code",
   "execution_count": 34,
   "metadata": {
    "ExecuteTime": {
     "end_time": "2022-09-16T07:03:57.021599Z",
     "start_time": "2022-09-16T07:03:57.007636Z"
    }
   },
   "outputs": [],
   "source": [
    "label_pos = df_decision_medoid.loc[df_decision_medoid['prop_pos']>df_decision_medoid['prop_neg'],\n",
    "                                 'cluster'].tolist()\n",
    "label_neg = df_decision_medoid.loc[df_decision_medoid['prop_pos']<df_decision_medoid['prop_neg'],\n",
    "                                 'cluster'].tolist()"
   ]
  },
  {
   "cell_type": "code",
   "execution_count": 35,
   "metadata": {
    "ExecuteTime": {
     "end_time": "2022-09-16T07:03:57.037594Z",
     "start_time": "2022-09-16T07:03:57.024590Z"
    }
   },
   "outputs": [],
   "source": [
    "X['BizIsExpired?'] = labels\n",
    "\n",
    "#positive labels equal to 0 and negative ones equal to 1\n",
    "X['BizIsExpired?'] = np.where(X['BizIsExpired?'].isin(label_pos) , 0 , 1)\n",
    "\n",
    "#default expires\n",
    "X.loc[df['BizIsExpired?'] ==1 , 'BizIsExpired?']=1"
   ]
  },
  {
   "cell_type": "code",
   "execution_count": 36,
   "metadata": {
    "ExecuteTime": {
     "end_time": "2022-09-16T07:03:57.068652Z",
     "start_time": "2022-09-16T07:03:57.039550Z"
    }
   },
   "outputs": [
    {
     "data": {
      "text/html": [
       "<div>\n",
       "<style scoped>\n",
       "    .dataframe tbody tr th:only-of-type {\n",
       "        vertical-align: middle;\n",
       "    }\n",
       "\n",
       "    .dataframe tbody tr th {\n",
       "        vertical-align: top;\n",
       "    }\n",
       "\n",
       "    .dataframe thead th {\n",
       "        text-align: right;\n",
       "    }\n",
       "</style>\n",
       "<table border=\"1\" class=\"dataframe\">\n",
       "  <thead>\n",
       "    <tr style=\"text-align: right;\">\n",
       "      <th></th>\n",
       "      <th>no_warning_sign</th>\n",
       "      <th>BizActive?</th>\n",
       "      <th>AddedUsers/BoughtUser</th>\n",
       "      <th>ActiveUsers/AddedUsers</th>\n",
       "      <th>#Activities</th>\n",
       "      <th>ActivitiesWoutDeal/#Activities</th>\n",
       "      <th>AvgDelayTimeActivity</th>\n",
       "      <th>#Activities/#Deals</th>\n",
       "      <th>%NoAcquitance</th>\n",
       "      <th>TransformationSpeed</th>\n",
       "      <th>TransformationRate</th>\n",
       "      <th>%NoReasonFailure</th>\n",
       "      <th>#OngoingDeals/#Total(Correct)Deals</th>\n",
       "      <th>BizIsExpired?</th>\n",
       "    </tr>\n",
       "  </thead>\n",
       "  <tbody>\n",
       "    <tr>\n",
       "      <th>0</th>\n",
       "      <td>0.000000</td>\n",
       "      <td>0</td>\n",
       "      <td>0.642724</td>\n",
       "      <td>0.181397</td>\n",
       "      <td>1</td>\n",
       "      <td>0.866667</td>\n",
       "      <td>4</td>\n",
       "      <td>1.068966</td>\n",
       "      <td>0.310345</td>\n",
       "      <td>2</td>\n",
       "      <td>2</td>\n",
       "      <td>3</td>\n",
       "      <td>0.500000</td>\n",
       "      <td>1</td>\n",
       "    </tr>\n",
       "    <tr>\n",
       "      <th>1</th>\n",
       "      <td>0.238875</td>\n",
       "      <td>1</td>\n",
       "      <td>0.398507</td>\n",
       "      <td>0.274307</td>\n",
       "      <td>3</td>\n",
       "      <td>0.662252</td>\n",
       "      <td>3</td>\n",
       "      <td>0.688889</td>\n",
       "      <td>0.917526</td>\n",
       "      <td>2</td>\n",
       "      <td>2</td>\n",
       "      <td>1</td>\n",
       "      <td>0.627451</td>\n",
       "      <td>0</td>\n",
       "    </tr>\n",
       "    <tr>\n",
       "      <th>2</th>\n",
       "      <td>0.822599</td>\n",
       "      <td>0</td>\n",
       "      <td>1.000000</td>\n",
       "      <td>0.949580</td>\n",
       "      <td>1</td>\n",
       "      <td>0.000000</td>\n",
       "      <td>4</td>\n",
       "      <td>1.444444</td>\n",
       "      <td>0.000000</td>\n",
       "      <td>1</td>\n",
       "      <td>3</td>\n",
       "      <td>1</td>\n",
       "      <td>0.846154</td>\n",
       "      <td>0</td>\n",
       "    </tr>\n",
       "    <tr>\n",
       "      <th>3</th>\n",
       "      <td>0.000000</td>\n",
       "      <td>0</td>\n",
       "      <td>1.000000</td>\n",
       "      <td>0.211382</td>\n",
       "      <td>1</td>\n",
       "      <td>1.000000</td>\n",
       "      <td>3</td>\n",
       "      <td>0.000000</td>\n",
       "      <td>0.602430</td>\n",
       "      <td>2</td>\n",
       "      <td>2</td>\n",
       "      <td>2</td>\n",
       "      <td>0.506440</td>\n",
       "      <td>1</td>\n",
       "    </tr>\n",
       "    <tr>\n",
       "      <th>4</th>\n",
       "      <td>0.082940</td>\n",
       "      <td>1</td>\n",
       "      <td>1.000000</td>\n",
       "      <td>0.804726</td>\n",
       "      <td>4</td>\n",
       "      <td>0.773725</td>\n",
       "      <td>2</td>\n",
       "      <td>3.579350</td>\n",
       "      <td>0.182724</td>\n",
       "      <td>2</td>\n",
       "      <td>1</td>\n",
       "      <td>2</td>\n",
       "      <td>0.013858</td>\n",
       "      <td>0</td>\n",
       "    </tr>\n",
       "  </tbody>\n",
       "</table>\n",
       "</div>"
      ],
      "text/plain": [
       "   no_warning_sign  BizActive?  AddedUsers/BoughtUser  ActiveUsers/AddedUsers  \\\n",
       "0         0.000000           0               0.642724                0.181397   \n",
       "1         0.238875           1               0.398507                0.274307   \n",
       "2         0.822599           0               1.000000                0.949580   \n",
       "3         0.000000           0               1.000000                0.211382   \n",
       "4         0.082940           1               1.000000                0.804726   \n",
       "\n",
       "   #Activities  ActivitiesWoutDeal/#Activities  AvgDelayTimeActivity  \\\n",
       "0            1                        0.866667                     4   \n",
       "1            3                        0.662252                     3   \n",
       "2            1                        0.000000                     4   \n",
       "3            1                        1.000000                     3   \n",
       "4            4                        0.773725                     2   \n",
       "\n",
       "   #Activities/#Deals  %NoAcquitance  TransformationSpeed  TransformationRate  \\\n",
       "0            1.068966       0.310345                    2                   2   \n",
       "1            0.688889       0.917526                    2                   2   \n",
       "2            1.444444       0.000000                    1                   3   \n",
       "3            0.000000       0.602430                    2                   2   \n",
       "4            3.579350       0.182724                    2                   1   \n",
       "\n",
       "   %NoReasonFailure  #OngoingDeals/#Total(Correct)Deals  BizIsExpired?  \n",
       "0                 3                            0.500000              1  \n",
       "1                 1                            0.627451              0  \n",
       "2                 1                            0.846154              0  \n",
       "3                 2                            0.506440              1  \n",
       "4                 2                            0.013858              0  "
      ]
     },
     "execution_count": 36,
     "metadata": {},
     "output_type": "execute_result"
    }
   ],
   "source": [
    "X.head()"
   ]
  },
  {
   "cell_type": "code",
   "execution_count": 37,
   "metadata": {
    "ExecuteTime": {
     "end_time": "2022-09-16T07:03:57.099425Z",
     "start_time": "2022-09-16T07:03:57.071468Z"
    }
   },
   "outputs": [],
   "source": [
    "X.to_csv('K-Medoids_k=4_Numerical.csv')"
   ]
  },
  {
   "cell_type": "markdown",
   "metadata": {},
   "source": [
    "## KMedoids (k=5)"
   ]
  },
  {
   "cell_type": "code",
   "execution_count": 38,
   "metadata": {
    "ExecuteTime": {
     "end_time": "2022-09-16T07:03:58.366214Z",
     "start_time": "2022-09-16T07:03:57.101396Z"
    }
   },
   "outputs": [],
   "source": [
    "import gower\n",
    "dist_matrix = gower.gower_matrix(X)\n",
    "from sklearn_extra.cluster import KMedoids\n",
    "\n",
    "cluster = 5\n",
    "labels = KMedoids(n_clusters=cluster, \n",
    "                           metric='precomputed',\n",
    "                           method='pam', init='build', \n",
    "                           max_iter=500, \n",
    "                           random_state=1).fit_predict(dist_matrix)"
   ]
  },
  {
   "cell_type": "code",
   "execution_count": 39,
   "metadata": {
    "ExecuteTime": {
     "end_time": "2022-09-16T07:03:58.381963Z",
     "start_time": "2022-09-16T07:03:58.369006Z"
    }
   },
   "outputs": [
    {
     "data": {
      "text/html": [
       "<div>\n",
       "<style scoped>\n",
       "    .dataframe tbody tr th:only-of-type {\n",
       "        vertical-align: middle;\n",
       "    }\n",
       "\n",
       "    .dataframe tbody tr th {\n",
       "        vertical-align: top;\n",
       "    }\n",
       "\n",
       "    .dataframe thead th {\n",
       "        text-align: right;\n",
       "    }\n",
       "</style>\n",
       "<table border=\"1\" class=\"dataframe\">\n",
       "  <thead>\n",
       "    <tr style=\"text-align: right;\">\n",
       "      <th></th>\n",
       "      <th>cluster</th>\n",
       "      <th>pos</th>\n",
       "      <th>neg</th>\n",
       "      <th>prop_pos</th>\n",
       "      <th>prop_neg</th>\n",
       "      <th>total</th>\n",
       "    </tr>\n",
       "  </thead>\n",
       "  <tbody>\n",
       "    <tr>\n",
       "      <th>0</th>\n",
       "      <td>0</td>\n",
       "      <td>18</td>\n",
       "      <td>8</td>\n",
       "      <td>0.692308</td>\n",
       "      <td>0.027119</td>\n",
       "      <td>464</td>\n",
       "    </tr>\n",
       "    <tr>\n",
       "      <th>1</th>\n",
       "      <td>1</td>\n",
       "      <td>0</td>\n",
       "      <td>259</td>\n",
       "      <td>0.000000</td>\n",
       "      <td>0.877966</td>\n",
       "      <td>443</td>\n",
       "    </tr>\n",
       "    <tr>\n",
       "      <th>2</th>\n",
       "      <td>2</td>\n",
       "      <td>8</td>\n",
       "      <td>5</td>\n",
       "      <td>0.307692</td>\n",
       "      <td>0.016949</td>\n",
       "      <td>660</td>\n",
       "    </tr>\n",
       "    <tr>\n",
       "      <th>3</th>\n",
       "      <td>3</td>\n",
       "      <td>0</td>\n",
       "      <td>23</td>\n",
       "      <td>0.000000</td>\n",
       "      <td>0.077966</td>\n",
       "      <td>333</td>\n",
       "    </tr>\n",
       "  </tbody>\n",
       "</table>\n",
       "</div>"
      ],
      "text/plain": [
       "   cluster  pos  neg  prop_pos  prop_neg  total\n",
       "0        0   18    8  0.692308  0.027119    464\n",
       "1        1    0  259  0.000000  0.877966    443\n",
       "2        2    8    5  0.307692  0.016949    660\n",
       "3        3    0   23  0.000000  0.077966    333"
      ]
     },
     "execution_count": 39,
     "metadata": {},
     "output_type": "execute_result"
    }
   ],
   "source": [
    "df_decision_medoid"
   ]
  },
  {
   "cell_type": "code",
   "execution_count": 40,
   "metadata": {
    "ExecuteTime": {
     "end_time": "2022-09-16T07:03:58.396951Z",
     "start_time": "2022-09-16T07:03:58.384955Z"
    }
   },
   "outputs": [
    {
     "data": {
      "text/html": [
       "<div>\n",
       "<style scoped>\n",
       "    .dataframe tbody tr th:only-of-type {\n",
       "        vertical-align: middle;\n",
       "    }\n",
       "\n",
       "    .dataframe tbody tr th {\n",
       "        vertical-align: top;\n",
       "    }\n",
       "\n",
       "    .dataframe thead th {\n",
       "        text-align: right;\n",
       "    }\n",
       "</style>\n",
       "<table border=\"1\" class=\"dataframe\">\n",
       "  <thead>\n",
       "    <tr style=\"text-align: right;\">\n",
       "      <th></th>\n",
       "      <th>cluster</th>\n",
       "      <th>pos</th>\n",
       "      <th>neg</th>\n",
       "      <th>prop_pos</th>\n",
       "      <th>prop_neg</th>\n",
       "      <th>total</th>\n",
       "    </tr>\n",
       "  </thead>\n",
       "  <tbody>\n",
       "    <tr>\n",
       "      <th>0</th>\n",
       "      <td>0</td>\n",
       "      <td>18</td>\n",
       "      <td>8</td>\n",
       "      <td>0.692308</td>\n",
       "      <td>0.027119</td>\n",
       "      <td>464</td>\n",
       "    </tr>\n",
       "    <tr>\n",
       "      <th>1</th>\n",
       "      <td>1</td>\n",
       "      <td>0</td>\n",
       "      <td>259</td>\n",
       "      <td>0.000000</td>\n",
       "      <td>0.877966</td>\n",
       "      <td>443</td>\n",
       "    </tr>\n",
       "    <tr>\n",
       "      <th>2</th>\n",
       "      <td>2</td>\n",
       "      <td>8</td>\n",
       "      <td>5</td>\n",
       "      <td>0.307692</td>\n",
       "      <td>0.016949</td>\n",
       "      <td>660</td>\n",
       "    </tr>\n",
       "    <tr>\n",
       "      <th>3</th>\n",
       "      <td>3</td>\n",
       "      <td>0</td>\n",
       "      <td>23</td>\n",
       "      <td>0.000000</td>\n",
       "      <td>0.077966</td>\n",
       "      <td>333</td>\n",
       "    </tr>\n",
       "  </tbody>\n",
       "</table>\n",
       "</div>"
      ],
      "text/plain": [
       "   cluster  pos  neg  prop_pos  prop_neg  total\n",
       "0        0   18    8  0.692308  0.027119    464\n",
       "1        1    0  259  0.000000  0.877966    443\n",
       "2        2    8    5  0.307692  0.016949    660\n",
       "3        3    0   23  0.000000  0.077966    333"
      ]
     },
     "execution_count": 40,
     "metadata": {},
     "output_type": "execute_result"
    }
   ],
   "source": [
    "df_decision_medoid"
   ]
  },
  {
   "cell_type": "code",
   "execution_count": 41,
   "metadata": {
    "ExecuteTime": {
     "end_time": "2022-09-16T07:03:58.412879Z",
     "start_time": "2022-09-16T07:03:58.398917Z"
    }
   },
   "outputs": [],
   "source": [
    "df_decision_medoid = pd.DataFrame()\n",
    "df_decision_medoid['cluster'] = np.arange(cluster)\n",
    "value, counts = np.unique(labels[X_test_good], return_counts=True)\n",
    "dic = dict(zip(value , counts))\n",
    "counts=[dic[i] if (i in value) else 0 for i in range(cluster)]\n",
    "\n",
    "df_decision_medoid['pos']=counts\n",
    "value, counts = np.unique(labels[X_test_bad], return_counts=True)\n",
    "dic = dict(zip(value , counts))\n",
    "counts=[dic[i] if (i in value) else 0 for i in range(cluster)]\n",
    "df_decision_medoid['neg']=counts\n",
    "df_decision_medoid['prop_pos'] = df_decision_medoid['pos']/df_decision_medoid['pos'].sum()\n",
    "df_decision_medoid['prop_neg'] = df_decision_medoid['neg']/df_decision_medoid['neg'].sum()"
   ]
  },
  {
   "cell_type": "code",
   "execution_count": 42,
   "metadata": {
    "ExecuteTime": {
     "end_time": "2022-09-16T07:03:58.427839Z",
     "start_time": "2022-09-16T07:03:58.414874Z"
    }
   },
   "outputs": [
    {
     "data": {
      "text/html": [
       "<div>\n",
       "<style scoped>\n",
       "    .dataframe tbody tr th:only-of-type {\n",
       "        vertical-align: middle;\n",
       "    }\n",
       "\n",
       "    .dataframe tbody tr th {\n",
       "        vertical-align: top;\n",
       "    }\n",
       "\n",
       "    .dataframe thead th {\n",
       "        text-align: right;\n",
       "    }\n",
       "</style>\n",
       "<table border=\"1\" class=\"dataframe\">\n",
       "  <thead>\n",
       "    <tr style=\"text-align: right;\">\n",
       "      <th></th>\n",
       "      <th>cluster</th>\n",
       "      <th>pos</th>\n",
       "      <th>neg</th>\n",
       "      <th>prop_pos</th>\n",
       "      <th>prop_neg</th>\n",
       "      <th>total</th>\n",
       "    </tr>\n",
       "  </thead>\n",
       "  <tbody>\n",
       "    <tr>\n",
       "      <th>0</th>\n",
       "      <td>0</td>\n",
       "      <td>0</td>\n",
       "      <td>108</td>\n",
       "      <td>0.000000</td>\n",
       "      <td>0.366102</td>\n",
       "      <td>233</td>\n",
       "    </tr>\n",
       "    <tr>\n",
       "      <th>1</th>\n",
       "      <td>1</td>\n",
       "      <td>0</td>\n",
       "      <td>164</td>\n",
       "      <td>0.000000</td>\n",
       "      <td>0.555932</td>\n",
       "      <td>243</td>\n",
       "    </tr>\n",
       "    <tr>\n",
       "      <th>2</th>\n",
       "      <td>2</td>\n",
       "      <td>8</td>\n",
       "      <td>0</td>\n",
       "      <td>0.307692</td>\n",
       "      <td>0.000000</td>\n",
       "      <td>654</td>\n",
       "    </tr>\n",
       "    <tr>\n",
       "      <th>3</th>\n",
       "      <td>3</td>\n",
       "      <td>0</td>\n",
       "      <td>21</td>\n",
       "      <td>0.000000</td>\n",
       "      <td>0.071186</td>\n",
       "      <td>312</td>\n",
       "    </tr>\n",
       "    <tr>\n",
       "      <th>4</th>\n",
       "      <td>4</td>\n",
       "      <td>18</td>\n",
       "      <td>2</td>\n",
       "      <td>0.692308</td>\n",
       "      <td>0.006780</td>\n",
       "      <td>458</td>\n",
       "    </tr>\n",
       "  </tbody>\n",
       "</table>\n",
       "</div>"
      ],
      "text/plain": [
       "   cluster  pos  neg  prop_pos  prop_neg  total\n",
       "0        0    0  108  0.000000  0.366102    233\n",
       "1        1    0  164  0.000000  0.555932    243\n",
       "2        2    8    0  0.307692  0.000000    654\n",
       "3        3    0   21  0.000000  0.071186    312\n",
       "4        4   18    2  0.692308  0.006780    458"
      ]
     },
     "execution_count": 42,
     "metadata": {},
     "output_type": "execute_result"
    }
   ],
   "source": [
    "value, counts = np.unique(labels, return_counts=True)\n",
    "df_decision_medoid['total'] = counts\n",
    "df_decision_medoid"
   ]
  },
  {
   "cell_type": "code",
   "execution_count": 43,
   "metadata": {
    "ExecuteTime": {
     "end_time": "2022-09-16T07:03:58.443796Z",
     "start_time": "2022-09-16T07:03:58.429835Z"
    }
   },
   "outputs": [],
   "source": [
    "label_pos = df_decision_medoid.loc[df_decision_medoid['prop_pos']>df_decision_medoid['prop_neg'],\n",
    "                                 'cluster'].tolist()\n",
    "label_neg = df_decision_medoid.loc[df_decision_medoid['prop_pos']<df_decision_medoid['prop_neg'],\n",
    "                                 'cluster'].tolist()"
   ]
  },
  {
   "cell_type": "code",
   "execution_count": 44,
   "metadata": {
    "ExecuteTime": {
     "end_time": "2022-09-16T07:03:58.458758Z",
     "start_time": "2022-09-16T07:03:58.445797Z"
    }
   },
   "outputs": [],
   "source": [
    "X['BizIsExpired?'] = labels\n",
    "\n",
    "#positive labels equal to 0 and negative ones equal to 1\n",
    "X['BizIsExpired?'] = np.where(X['BizIsExpired?'].isin(label_pos) , 0 , 1)\n",
    "\n",
    "#default expires\n",
    "X.loc[df['BizIsExpired?'] ==1 , 'BizIsExpired?']=1"
   ]
  },
  {
   "cell_type": "code",
   "execution_count": 45,
   "metadata": {
    "ExecuteTime": {
     "end_time": "2022-09-16T07:03:58.489673Z",
     "start_time": "2022-09-16T07:03:58.460753Z"
    }
   },
   "outputs": [
    {
     "data": {
      "text/html": [
       "<div>\n",
       "<style scoped>\n",
       "    .dataframe tbody tr th:only-of-type {\n",
       "        vertical-align: middle;\n",
       "    }\n",
       "\n",
       "    .dataframe tbody tr th {\n",
       "        vertical-align: top;\n",
       "    }\n",
       "\n",
       "    .dataframe thead th {\n",
       "        text-align: right;\n",
       "    }\n",
       "</style>\n",
       "<table border=\"1\" class=\"dataframe\">\n",
       "  <thead>\n",
       "    <tr style=\"text-align: right;\">\n",
       "      <th></th>\n",
       "      <th>no_warning_sign</th>\n",
       "      <th>BizActive?</th>\n",
       "      <th>AddedUsers/BoughtUser</th>\n",
       "      <th>ActiveUsers/AddedUsers</th>\n",
       "      <th>#Activities</th>\n",
       "      <th>ActivitiesWoutDeal/#Activities</th>\n",
       "      <th>AvgDelayTimeActivity</th>\n",
       "      <th>#Activities/#Deals</th>\n",
       "      <th>%NoAcquitance</th>\n",
       "      <th>TransformationSpeed</th>\n",
       "      <th>TransformationRate</th>\n",
       "      <th>%NoReasonFailure</th>\n",
       "      <th>#OngoingDeals/#Total(Correct)Deals</th>\n",
       "      <th>BizIsExpired?</th>\n",
       "    </tr>\n",
       "  </thead>\n",
       "  <tbody>\n",
       "    <tr>\n",
       "      <th>0</th>\n",
       "      <td>0.000000</td>\n",
       "      <td>0</td>\n",
       "      <td>0.642724</td>\n",
       "      <td>0.181397</td>\n",
       "      <td>1</td>\n",
       "      <td>0.866667</td>\n",
       "      <td>4</td>\n",
       "      <td>1.068966</td>\n",
       "      <td>0.310345</td>\n",
       "      <td>2</td>\n",
       "      <td>2</td>\n",
       "      <td>3</td>\n",
       "      <td>0.500000</td>\n",
       "      <td>1</td>\n",
       "    </tr>\n",
       "    <tr>\n",
       "      <th>1</th>\n",
       "      <td>0.238875</td>\n",
       "      <td>1</td>\n",
       "      <td>0.398507</td>\n",
       "      <td>0.274307</td>\n",
       "      <td>3</td>\n",
       "      <td>0.662252</td>\n",
       "      <td>3</td>\n",
       "      <td>0.688889</td>\n",
       "      <td>0.917526</td>\n",
       "      <td>2</td>\n",
       "      <td>2</td>\n",
       "      <td>1</td>\n",
       "      <td>0.627451</td>\n",
       "      <td>0</td>\n",
       "    </tr>\n",
       "    <tr>\n",
       "      <th>2</th>\n",
       "      <td>0.822599</td>\n",
       "      <td>0</td>\n",
       "      <td>1.000000</td>\n",
       "      <td>0.949580</td>\n",
       "      <td>1</td>\n",
       "      <td>0.000000</td>\n",
       "      <td>4</td>\n",
       "      <td>1.444444</td>\n",
       "      <td>0.000000</td>\n",
       "      <td>1</td>\n",
       "      <td>3</td>\n",
       "      <td>1</td>\n",
       "      <td>0.846154</td>\n",
       "      <td>0</td>\n",
       "    </tr>\n",
       "    <tr>\n",
       "      <th>3</th>\n",
       "      <td>0.000000</td>\n",
       "      <td>0</td>\n",
       "      <td>1.000000</td>\n",
       "      <td>0.211382</td>\n",
       "      <td>1</td>\n",
       "      <td>1.000000</td>\n",
       "      <td>3</td>\n",
       "      <td>0.000000</td>\n",
       "      <td>0.602430</td>\n",
       "      <td>2</td>\n",
       "      <td>2</td>\n",
       "      <td>2</td>\n",
       "      <td>0.506440</td>\n",
       "      <td>1</td>\n",
       "    </tr>\n",
       "    <tr>\n",
       "      <th>4</th>\n",
       "      <td>0.082940</td>\n",
       "      <td>1</td>\n",
       "      <td>1.000000</td>\n",
       "      <td>0.804726</td>\n",
       "      <td>4</td>\n",
       "      <td>0.773725</td>\n",
       "      <td>2</td>\n",
       "      <td>3.579350</td>\n",
       "      <td>0.182724</td>\n",
       "      <td>2</td>\n",
       "      <td>1</td>\n",
       "      <td>2</td>\n",
       "      <td>0.013858</td>\n",
       "      <td>0</td>\n",
       "    </tr>\n",
       "  </tbody>\n",
       "</table>\n",
       "</div>"
      ],
      "text/plain": [
       "   no_warning_sign  BizActive?  AddedUsers/BoughtUser  ActiveUsers/AddedUsers  \\\n",
       "0         0.000000           0               0.642724                0.181397   \n",
       "1         0.238875           1               0.398507                0.274307   \n",
       "2         0.822599           0               1.000000                0.949580   \n",
       "3         0.000000           0               1.000000                0.211382   \n",
       "4         0.082940           1               1.000000                0.804726   \n",
       "\n",
       "   #Activities  ActivitiesWoutDeal/#Activities  AvgDelayTimeActivity  \\\n",
       "0            1                        0.866667                     4   \n",
       "1            3                        0.662252                     3   \n",
       "2            1                        0.000000                     4   \n",
       "3            1                        1.000000                     3   \n",
       "4            4                        0.773725                     2   \n",
       "\n",
       "   #Activities/#Deals  %NoAcquitance  TransformationSpeed  TransformationRate  \\\n",
       "0            1.068966       0.310345                    2                   2   \n",
       "1            0.688889       0.917526                    2                   2   \n",
       "2            1.444444       0.000000                    1                   3   \n",
       "3            0.000000       0.602430                    2                   2   \n",
       "4            3.579350       0.182724                    2                   1   \n",
       "\n",
       "   %NoReasonFailure  #OngoingDeals/#Total(Correct)Deals  BizIsExpired?  \n",
       "0                 3                            0.500000              1  \n",
       "1                 1                            0.627451              0  \n",
       "2                 1                            0.846154              0  \n",
       "3                 2                            0.506440              1  \n",
       "4                 2                            0.013858              0  "
      ]
     },
     "execution_count": 45,
     "metadata": {},
     "output_type": "execute_result"
    }
   ],
   "source": [
    "X.head()"
   ]
  },
  {
   "cell_type": "code",
   "execution_count": 46,
   "metadata": {
    "ExecuteTime": {
     "end_time": "2022-09-16T07:03:58.520594Z",
     "start_time": "2022-09-16T07:03:58.491670Z"
    }
   },
   "outputs": [],
   "source": [
    "X.to_csv('K-Medoids_k=5_Numerical.csv')"
   ]
  }
 ],
 "metadata": {
  "kernelspec": {
   "display_name": "Python 3 (ipykernel)",
   "language": "python",
   "name": "python3"
  },
  "language_info": {
   "codemirror_mode": {
    "name": "ipython",
    "version": 3
   },
   "file_extension": ".py",
   "mimetype": "text/x-python",
   "name": "python",
   "nbconvert_exporter": "python",
   "pygments_lexer": "ipython3",
   "version": "3.8.5"
  },
  "toc": {
   "base_numbering": 1,
   "nav_menu": {},
   "number_sections": false,
   "sideBar": true,
   "skip_h1_title": false,
   "title_cell": "Table of Contents",
   "title_sidebar": "Contents",
   "toc_cell": false,
   "toc_position": {
    "height": "calc(100% - 180px)",
    "left": "10px",
    "top": "150px",
    "width": "221px"
   },
   "toc_section_display": true,
   "toc_window_display": true
  },
  "varInspector": {
   "cols": {
    "lenName": 16,
    "lenType": 16,
    "lenVar": 40
   },
   "kernels_config": {
    "python": {
     "delete_cmd_postfix": "",
     "delete_cmd_prefix": "del ",
     "library": "var_list.py",
     "varRefreshCmd": "print(var_dic_list())"
    },
    "r": {
     "delete_cmd_postfix": ") ",
     "delete_cmd_prefix": "rm(",
     "library": "var_list.r",
     "varRefreshCmd": "cat(var_dic_list()) "
    }
   },
   "types_to_exclude": [
    "module",
    "function",
    "builtin_function_or_method",
    "instance",
    "_Feature"
   ],
   "window_display": false
  }
 },
 "nbformat": 4,
 "nbformat_minor": 4
}
