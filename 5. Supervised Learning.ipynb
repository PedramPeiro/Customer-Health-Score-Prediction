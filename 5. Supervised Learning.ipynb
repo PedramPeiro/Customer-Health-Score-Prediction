{
 "cells": [
  {
   "cell_type": "markdown",
   "metadata": {},
   "source": [
    "# Importing Libs"
   ]
  },
  {
   "cell_type": "code",
   "execution_count": 1,
   "metadata": {
    "ExecuteTime": {
     "end_time": "2022-09-14T09:42:18.037018Z",
     "start_time": "2022-09-14T09:42:01.674662Z"
    }
   },
   "outputs": [],
   "source": [
    "import pandas as pd\n",
    "import numpy as np\n",
    "import glob\n",
    "import os\n",
    "import matplotlib.pyplot as plt\n",
    "import seaborn as sns\n",
    "pd.set_option('display.max_rows', None)\n",
    "import seaborn as sns\n",
    "import scipy.stats as stats\n",
    "from sklearn.linear_model import LogisticRegression\n",
    "from sklearn.model_selection import train_test_split\n",
    "from sklearn.model_selection import GridSearchCV\n",
    "from sklearn.model_selection import RepeatedStratifiedKFold\n",
    "from sklearn.metrics import f1_score\n",
    "from sklearn.metrics import make_scorer\n",
    "from sklearn.metrics import roc_auc_score\n",
    "from sklearn.metrics import accuracy_score\n",
    "from sklearn.metrics import recall_score\n",
    "from sklearn.metrics import precision_score\n",
    "from sklearn.preprocessing import MinMaxScaler\n",
    "from sklearn.dummy import DummyClassifier\n",
    "from sklearn.neighbors import KNeighborsClassifier\n",
    "from sklearn.discriminant_analysis import LinearDiscriminantAnalysis\n",
    "from sklearn.naive_bayes import GaussianNB\n",
    "from sklearn.ensemble import RandomForestClassifier\n",
    "from sklearn.ensemble import AdaBoostClassifier\n",
    "from sklearn.svm import SVC\n",
    "from sklearn.svm import LinearSVC\n",
    "from sklearn.svm import NuSVC\n",
    "from sklearn.ensemble import GradientBoostingClassifier\n",
    "from sklearn.semi_supervised import SelfTrainingClassifier\n",
    "import warnings\n",
    "warnings.filterwarnings('ignore')"
   ]
  },
  {
   "cell_type": "markdown",
   "metadata": {},
   "source": [
    "# Importing BizDomains"
   ]
  },
  {
   "cell_type": "code",
   "execution_count": 2,
   "metadata": {
    "ExecuteTime": {
     "end_time": "2022-09-14T09:42:18.129811Z",
     "start_time": "2022-09-14T09:42:18.089875Z"
    }
   },
   "outputs": [],
   "source": [
    "BizDomains = pd.read_csv('BizDomainsId.csv').drop('Unnamed: 0',axis=1)"
   ]
  },
  {
   "cell_type": "markdown",
   "metadata": {},
   "source": [
    "# Importing KMedoids=2 Dataset"
   ]
  },
  {
   "cell_type": "code",
   "execution_count": 3,
   "metadata": {
    "ExecuteTime": {
     "end_time": "2022-09-14T09:42:18.377691Z",
     "start_time": "2022-09-14T09:42:18.288985Z"
    }
   },
   "outputs": [
    {
     "data": {
      "text/html": [
       "<div>\n",
       "<style scoped>\n",
       "    .dataframe tbody tr th:only-of-type {\n",
       "        vertical-align: middle;\n",
       "    }\n",
       "\n",
       "    .dataframe tbody tr th {\n",
       "        vertical-align: top;\n",
       "    }\n",
       "\n",
       "    .dataframe thead th {\n",
       "        text-align: right;\n",
       "    }\n",
       "</style>\n",
       "<table border=\"1\" class=\"dataframe\">\n",
       "  <thead>\n",
       "    <tr style=\"text-align: right;\">\n",
       "      <th></th>\n",
       "      <th>no_warning_sign</th>\n",
       "      <th>BizActive?</th>\n",
       "      <th>AddedUsers/BoughtUser</th>\n",
       "      <th>ActiveUsers/AddedUsers</th>\n",
       "      <th>#Activities</th>\n",
       "      <th>ActivitiesWoutDeal/#Activities</th>\n",
       "      <th>AvgDelayTimeActivity</th>\n",
       "      <th>#Activities/#Deals</th>\n",
       "      <th>%NoAcquitance</th>\n",
       "      <th>TransformationSpeed</th>\n",
       "      <th>TransformationRate</th>\n",
       "      <th>%NoReasonFailure</th>\n",
       "      <th>#OngoingDeals/#Total(Correct)Deals</th>\n",
       "      <th>BizIsExpired?</th>\n",
       "    </tr>\n",
       "  </thead>\n",
       "  <tbody>\n",
       "    <tr>\n",
       "      <th>0</th>\n",
       "      <td>0.000000</td>\n",
       "      <td>0</td>\n",
       "      <td>0.642724</td>\n",
       "      <td>0.181397</td>\n",
       "      <td>1</td>\n",
       "      <td>0.866667</td>\n",
       "      <td>4</td>\n",
       "      <td>1.068966</td>\n",
       "      <td>0.310345</td>\n",
       "      <td>2</td>\n",
       "      <td>2</td>\n",
       "      <td>3</td>\n",
       "      <td>0.500000</td>\n",
       "      <td>1</td>\n",
       "    </tr>\n",
       "    <tr>\n",
       "      <th>1</th>\n",
       "      <td>0.238875</td>\n",
       "      <td>1</td>\n",
       "      <td>0.398507</td>\n",
       "      <td>0.274307</td>\n",
       "      <td>3</td>\n",
       "      <td>0.662252</td>\n",
       "      <td>3</td>\n",
       "      <td>0.688889</td>\n",
       "      <td>0.917526</td>\n",
       "      <td>2</td>\n",
       "      <td>2</td>\n",
       "      <td>1</td>\n",
       "      <td>0.627451</td>\n",
       "      <td>0</td>\n",
       "    </tr>\n",
       "    <tr>\n",
       "      <th>2</th>\n",
       "      <td>0.822599</td>\n",
       "      <td>0</td>\n",
       "      <td>1.000000</td>\n",
       "      <td>0.949580</td>\n",
       "      <td>1</td>\n",
       "      <td>0.000000</td>\n",
       "      <td>4</td>\n",
       "      <td>1.444444</td>\n",
       "      <td>0.000000</td>\n",
       "      <td>1</td>\n",
       "      <td>3</td>\n",
       "      <td>1</td>\n",
       "      <td>0.846154</td>\n",
       "      <td>1</td>\n",
       "    </tr>\n",
       "    <tr>\n",
       "      <th>3</th>\n",
       "      <td>0.000000</td>\n",
       "      <td>0</td>\n",
       "      <td>1.000000</td>\n",
       "      <td>0.211382</td>\n",
       "      <td>1</td>\n",
       "      <td>1.000000</td>\n",
       "      <td>3</td>\n",
       "      <td>0.000000</td>\n",
       "      <td>0.602430</td>\n",
       "      <td>2</td>\n",
       "      <td>2</td>\n",
       "      <td>2</td>\n",
       "      <td>0.506440</td>\n",
       "      <td>1</td>\n",
       "    </tr>\n",
       "    <tr>\n",
       "      <th>4</th>\n",
       "      <td>0.082940</td>\n",
       "      <td>1</td>\n",
       "      <td>1.000000</td>\n",
       "      <td>0.804726</td>\n",
       "      <td>4</td>\n",
       "      <td>0.773725</td>\n",
       "      <td>2</td>\n",
       "      <td>3.579350</td>\n",
       "      <td>0.182724</td>\n",
       "      <td>2</td>\n",
       "      <td>1</td>\n",
       "      <td>2</td>\n",
       "      <td>0.013858</td>\n",
       "      <td>0</td>\n",
       "    </tr>\n",
       "  </tbody>\n",
       "</table>\n",
       "</div>"
      ],
      "text/plain": [
       "   no_warning_sign  BizActive?  AddedUsers/BoughtUser  ActiveUsers/AddedUsers  \\\n",
       "0         0.000000           0               0.642724                0.181397   \n",
       "1         0.238875           1               0.398507                0.274307   \n",
       "2         0.822599           0               1.000000                0.949580   \n",
       "3         0.000000           0               1.000000                0.211382   \n",
       "4         0.082940           1               1.000000                0.804726   \n",
       "\n",
       "   #Activities  ActivitiesWoutDeal/#Activities  AvgDelayTimeActivity  \\\n",
       "0            1                        0.866667                     4   \n",
       "1            3                        0.662252                     3   \n",
       "2            1                        0.000000                     4   \n",
       "3            1                        1.000000                     3   \n",
       "4            4                        0.773725                     2   \n",
       "\n",
       "   #Activities/#Deals  %NoAcquitance  TransformationSpeed  TransformationRate  \\\n",
       "0            1.068966       0.310345                    2                   2   \n",
       "1            0.688889       0.917526                    2                   2   \n",
       "2            1.444444       0.000000                    1                   3   \n",
       "3            0.000000       0.602430                    2                   2   \n",
       "4            3.579350       0.182724                    2                   1   \n",
       "\n",
       "   %NoReasonFailure  #OngoingDeals/#Total(Correct)Deals  BizIsExpired?  \n",
       "0                 3                            0.500000              1  \n",
       "1                 1                            0.627451              0  \n",
       "2                 1                            0.846154              1  \n",
       "3                 2                            0.506440              1  \n",
       "4                 2                            0.013858              0  "
      ]
     },
     "execution_count": 3,
     "metadata": {},
     "output_type": "execute_result"
    }
   ],
   "source": [
    "df_medoid = pd.read_csv(r\"K-Medoids_k=2_Numerical.csv\").drop('Unnamed: 0',axis=1)\n",
    "df_medoid.head()"
   ]
  },
  {
   "cell_type": "markdown",
   "metadata": {},
   "source": [
    "# Train/Test Split"
   ]
  },
  {
   "cell_type": "code",
   "execution_count": 4,
   "metadata": {
    "ExecuteTime": {
     "end_time": "2022-09-14T09:42:19.621701Z",
     "start_time": "2022-09-14T09:42:19.599460Z"
    }
   },
   "outputs": [],
   "source": [
    "from sklearn.model_selection import train_test_split\n",
    "X = df_medoid[[x for x in df_medoid.columns if x!='BizIsExpired?']]\n",
    "y = df_medoid['BizIsExpired?']\n",
    "\n",
    "X_train , X_test , y_train , y_test = train_test_split(X,y , test_size=0.3 , random_state=1)"
   ]
  },
  {
   "cell_type": "markdown",
   "metadata": {},
   "source": [
    "## Metric Calculator Function"
   ]
  },
  {
   "cell_type": "code",
   "execution_count": 5,
   "metadata": {
    "ExecuteTime": {
     "end_time": "2022-09-14T09:42:22.899010Z",
     "start_time": "2022-09-14T09:42:22.888040Z"
    }
   },
   "outputs": [],
   "source": [
    "def metric_calculator(y_test , y_test_pred):\n",
    "    f1_res = f1_score(y_test,y_test_pred)\n",
    "    accuracy_res = accuracy_score(y_test, y_test_pred)\n",
    "    roc_res = roc_auc_score(y_test, y_test_pred)\n",
    "    prec = precision_score(y_test , y_test_pred)\n",
    "    rec = recall_score(y_test , y_test_pred)\n",
    "    return [f1_res , accuracy_res , roc_res , prec , rec]"
   ]
  },
  {
   "cell_type": "markdown",
   "metadata": {},
   "source": [
    "## Dummy Classifiers"
   ]
  },
  {
   "cell_type": "markdown",
   "metadata": {},
   "source": [
    "### most_frequent"
   ]
  },
  {
   "cell_type": "code",
   "execution_count": 6,
   "metadata": {
    "ExecuteTime": {
     "end_time": "2022-09-14T09:42:26.595856Z",
     "start_time": "2022-09-14T09:42:26.552921Z"
    }
   },
   "outputs": [
    {
     "data": {
      "text/html": [
       "<div>\n",
       "<style scoped>\n",
       "    .dataframe tbody tr th:only-of-type {\n",
       "        vertical-align: middle;\n",
       "    }\n",
       "\n",
       "    .dataframe tbody tr th {\n",
       "        vertical-align: top;\n",
       "    }\n",
       "\n",
       "    .dataframe thead th {\n",
       "        text-align: right;\n",
       "    }\n",
       "</style>\n",
       "<table border=\"1\" class=\"dataframe\">\n",
       "  <thead>\n",
       "    <tr style=\"text-align: right;\">\n",
       "      <th></th>\n",
       "      <th>most_frequent</th>\n",
       "    </tr>\n",
       "  </thead>\n",
       "  <tbody>\n",
       "    <tr>\n",
       "      <th>F1 Score</th>\n",
       "      <td>0.609756</td>\n",
       "    </tr>\n",
       "    <tr>\n",
       "      <th>accuracy</th>\n",
       "      <td>0.438596</td>\n",
       "    </tr>\n",
       "    <tr>\n",
       "      <th>ROC AUC</th>\n",
       "      <td>0.500000</td>\n",
       "    </tr>\n",
       "    <tr>\n",
       "      <th>Precision</th>\n",
       "      <td>0.438596</td>\n",
       "    </tr>\n",
       "    <tr>\n",
       "      <th>Recall</th>\n",
       "      <td>1.000000</td>\n",
       "    </tr>\n",
       "  </tbody>\n",
       "</table>\n",
       "</div>"
      ],
      "text/plain": [
       "           most_frequent\n",
       "F1 Score        0.609756\n",
       "accuracy        0.438596\n",
       "ROC AUC         0.500000\n",
       "Precision       0.438596\n",
       "Recall          1.000000"
      ]
     },
     "execution_count": 6,
     "metadata": {},
     "output_type": "execute_result"
    }
   ],
   "source": [
    "dummy_clf = DummyClassifier(strategy = 'most_frequent' , random_state=1)\n",
    "dummy_clf.fit(X_train , y_train)\n",
    "df_metric = pd.DataFrame(index = ['F1 Score' , 'accuracy' , 'ROC AUC' , 'Precision','Recall'])\n",
    "df_metric['most_frequent'] = metric_calculator(y_test ,dummy_clf.predict(X_test) )\n",
    "df_metric"
   ]
  },
  {
   "cell_type": "markdown",
   "metadata": {},
   "source": [
    "### stratified"
   ]
  },
  {
   "cell_type": "code",
   "execution_count": 7,
   "metadata": {
    "ExecuteTime": {
     "end_time": "2022-09-14T09:42:29.623571Z",
     "start_time": "2022-09-14T09:42:29.598011Z"
    }
   },
   "outputs": [],
   "source": [
    "dummy_clf = DummyClassifier(strategy = 'stratified' , random_state=1 )\n",
    "dummy_clf.fit(X_train , y_train)\n",
    "\n",
    "df_metric['stratified'] = metric_calculator(y_test ,dummy_clf.predict(X_test) )"
   ]
  },
  {
   "cell_type": "markdown",
   "metadata": {},
   "source": [
    "### uniform"
   ]
  },
  {
   "cell_type": "code",
   "execution_count": 8,
   "metadata": {
    "ExecuteTime": {
     "end_time": "2022-09-14T09:42:32.352077Z",
     "start_time": "2022-09-14T09:42:32.324089Z"
    }
   },
   "outputs": [],
   "source": [
    "dummy_clf = DummyClassifier(strategy = 'uniform' , random_state=1 )\n",
    "dummy_clf.fit(X_train , y_train)\n",
    "\n",
    "df_metric['uniform'] = metric_calculator(y_test ,dummy_clf.predict(X_test) )"
   ]
  },
  {
   "cell_type": "code",
   "execution_count": 9,
   "metadata": {
    "ExecuteTime": {
     "end_time": "2022-09-14T09:42:35.129198Z",
     "start_time": "2022-09-14T09:42:35.102605Z"
    }
   },
   "outputs": [
    {
     "data": {
      "text/html": [
       "<div>\n",
       "<style scoped>\n",
       "    .dataframe tbody tr th:only-of-type {\n",
       "        vertical-align: middle;\n",
       "    }\n",
       "\n",
       "    .dataframe tbody tr th {\n",
       "        vertical-align: top;\n",
       "    }\n",
       "\n",
       "    .dataframe thead th {\n",
       "        text-align: right;\n",
       "    }\n",
       "</style>\n",
       "<table border=\"1\" class=\"dataframe\">\n",
       "  <thead>\n",
       "    <tr style=\"text-align: right;\">\n",
       "      <th></th>\n",
       "      <th>most_frequent</th>\n",
       "      <th>stratified</th>\n",
       "      <th>uniform</th>\n",
       "    </tr>\n",
       "  </thead>\n",
       "  <tbody>\n",
       "    <tr>\n",
       "      <th>F1 Score</th>\n",
       "      <td>0.609756</td>\n",
       "      <td>0.459770</td>\n",
       "      <td>0.478178</td>\n",
       "    </tr>\n",
       "    <tr>\n",
       "      <th>accuracy</th>\n",
       "      <td>0.438596</td>\n",
       "      <td>0.505263</td>\n",
       "      <td>0.517544</td>\n",
       "    </tr>\n",
       "    <tr>\n",
       "      <th>ROC AUC</th>\n",
       "      <td>0.500000</td>\n",
       "      <td>0.502500</td>\n",
       "      <td>0.516062</td>\n",
       "    </tr>\n",
       "    <tr>\n",
       "      <th>Precision</th>\n",
       "      <td>0.438596</td>\n",
       "      <td>0.441176</td>\n",
       "      <td>0.454874</td>\n",
       "    </tr>\n",
       "    <tr>\n",
       "      <th>Recall</th>\n",
       "      <td>1.000000</td>\n",
       "      <td>0.480000</td>\n",
       "      <td>0.504000</td>\n",
       "    </tr>\n",
       "  </tbody>\n",
       "</table>\n",
       "</div>"
      ],
      "text/plain": [
       "           most_frequent  stratified   uniform\n",
       "F1 Score        0.609756    0.459770  0.478178\n",
       "accuracy        0.438596    0.505263  0.517544\n",
       "ROC AUC         0.500000    0.502500  0.516062\n",
       "Precision       0.438596    0.441176  0.454874\n",
       "Recall          1.000000    0.480000  0.504000"
      ]
     },
     "execution_count": 9,
     "metadata": {},
     "output_type": "execute_result"
    }
   ],
   "source": [
    "df_metric"
   ]
  },
  {
   "cell_type": "markdown",
   "metadata": {},
   "source": [
    "## Logistic Regression (Good)"
   ]
  },
  {
   "cell_type": "markdown",
   "metadata": {},
   "source": [
    "### GridSearch"
   ]
  },
  {
   "cell_type": "code",
   "execution_count": 10,
   "metadata": {
    "ExecuteTime": {
     "end_time": "2022-09-12T05:17:00.990212Z",
     "start_time": "2022-09-12T05:16:58.403628Z"
    }
   },
   "outputs": [
    {
     "name": "stdout",
     "output_type": "stream",
     "text": [
      "Fitting 10 folds for each of 14 candidates, totalling 140 fits\n",
      "best paramters= {'C': 3}\n",
      "best score= 0.9523695068229024\n"
     ]
    }
   ],
   "source": [
    "logreg = LogisticRegression(penalty = 'l2',random_state=0)\n",
    "grid_C = {'C': [0.01, 0.1 , 0.5 , 1,3,5,6,7,8,9,10,20,30,50]}\n",
    "scorer = {\"AUC\": \"roc_auc\", \"F1\": make_scorer(f1_score) , \n",
    "          \"Accuracy\": 'accuracy'}\n",
    "grid_LogReg=GridSearchCV(logreg ,param_grid=grid_C, n_jobs=-1 , cv=10 , verbose = 5,\n",
    "                         scoring=scorer , refit='F1')\n",
    "grid_LogReg.fit(X_train , y_train )\n",
    "print('best paramters= {}\\nbest score= {}'.format(grid_LogReg.best_params_ , grid_LogReg.best_score_) )"
   ]
  },
  {
   "cell_type": "markdown",
   "metadata": {},
   "source": [
    "### Metrics"
   ]
  },
  {
   "cell_type": "code",
   "execution_count": 11,
   "metadata": {
    "ExecuteTime": {
     "end_time": "2022-09-12T05:17:01.005173Z",
     "start_time": "2022-09-12T05:17:00.991210Z"
    }
   },
   "outputs": [],
   "source": [
    "df_metric['Value_LogReg'] = metric_calculator(y_test ,grid_LogReg.predict(X_test) )"
   ]
  },
  {
   "cell_type": "code",
   "execution_count": 12,
   "metadata": {
    "ExecuteTime": {
     "end_time": "2022-09-12T05:17:01.021169Z",
     "start_time": "2022-09-12T05:17:01.007169Z"
    }
   },
   "outputs": [
    {
     "data": {
      "text/html": [
       "<div>\n",
       "<style scoped>\n",
       "    .dataframe tbody tr th:only-of-type {\n",
       "        vertical-align: middle;\n",
       "    }\n",
       "\n",
       "    .dataframe tbody tr th {\n",
       "        vertical-align: top;\n",
       "    }\n",
       "\n",
       "    .dataframe thead th {\n",
       "        text-align: right;\n",
       "    }\n",
       "</style>\n",
       "<table border=\"1\" class=\"dataframe\">\n",
       "  <thead>\n",
       "    <tr style=\"text-align: right;\">\n",
       "      <th></th>\n",
       "      <th>most_frequent</th>\n",
       "      <th>stratified</th>\n",
       "      <th>uniform</th>\n",
       "      <th>Value_LogReg</th>\n",
       "    </tr>\n",
       "  </thead>\n",
       "  <tbody>\n",
       "    <tr>\n",
       "      <th>F1 Score</th>\n",
       "      <td>0.609756</td>\n",
       "      <td>0.459770</td>\n",
       "      <td>0.478178</td>\n",
       "      <td>0.952569</td>\n",
       "    </tr>\n",
       "    <tr>\n",
       "      <th>accuracy</th>\n",
       "      <td>0.438596</td>\n",
       "      <td>0.505263</td>\n",
       "      <td>0.517544</td>\n",
       "      <td>0.957895</td>\n",
       "    </tr>\n",
       "    <tr>\n",
       "      <th>ROC AUC</th>\n",
       "      <td>0.500000</td>\n",
       "      <td>0.502500</td>\n",
       "      <td>0.516062</td>\n",
       "      <td>0.958562</td>\n",
       "    </tr>\n",
       "    <tr>\n",
       "      <th>Precision</th>\n",
       "      <td>0.438596</td>\n",
       "      <td>0.441176</td>\n",
       "      <td>0.454874</td>\n",
       "      <td>0.941406</td>\n",
       "    </tr>\n",
       "    <tr>\n",
       "      <th>Recall</th>\n",
       "      <td>1.000000</td>\n",
       "      <td>0.480000</td>\n",
       "      <td>0.504000</td>\n",
       "      <td>0.964000</td>\n",
       "    </tr>\n",
       "  </tbody>\n",
       "</table>\n",
       "</div>"
      ],
      "text/plain": [
       "           most_frequent  stratified   uniform  Value_LogReg\n",
       "F1 Score        0.609756    0.459770  0.478178      0.952569\n",
       "accuracy        0.438596    0.505263  0.517544      0.957895\n",
       "ROC AUC         0.500000    0.502500  0.516062      0.958562\n",
       "Precision       0.438596    0.441176  0.454874      0.941406\n",
       "Recall          1.000000    0.480000  0.504000      0.964000"
      ]
     },
     "execution_count": 12,
     "metadata": {},
     "output_type": "execute_result"
    }
   ],
   "source": [
    "df_metric"
   ]
  },
  {
   "cell_type": "markdown",
   "metadata": {},
   "source": [
    "### Health Score for All"
   ]
  },
  {
   "cell_type": "code",
   "execution_count": 14,
   "metadata": {
    "ExecuteTime": {
     "end_time": "2022-09-12T05:17:01.082966Z",
     "start_time": "2022-09-12T05:17:01.038100Z"
    }
   },
   "outputs": [
    {
     "data": {
      "text/html": [
       "<div>\n",
       "<style scoped>\n",
       "    .dataframe tbody tr th:only-of-type {\n",
       "        vertical-align: middle;\n",
       "    }\n",
       "\n",
       "    .dataframe tbody tr th {\n",
       "        vertical-align: top;\n",
       "    }\n",
       "\n",
       "    .dataframe thead th {\n",
       "        text-align: right;\n",
       "    }\n",
       "</style>\n",
       "<table border=\"1\" class=\"dataframe\">\n",
       "  <thead>\n",
       "    <tr style=\"text-align: right;\">\n",
       "      <th></th>\n",
       "      <th>no_warning_sign</th>\n",
       "      <th>BizActive?</th>\n",
       "      <th>AddedUsers/BoughtUser</th>\n",
       "      <th>ActiveUsers/AddedUsers</th>\n",
       "      <th>#Activities</th>\n",
       "      <th>ActivitiesWoutDeal/#Activities</th>\n",
       "      <th>AvgDelayTimeActivity</th>\n",
       "      <th>#Activities/#Deals</th>\n",
       "      <th>%NoAcquitance</th>\n",
       "      <th>TransformationSpeed</th>\n",
       "      <th>TransformationRate</th>\n",
       "      <th>%NoReasonFailure</th>\n",
       "      <th>#OngoingDeals/#Total(Correct)Deals</th>\n",
       "      <th>BizIsExpired?</th>\n",
       "      <th>Health_Score</th>\n",
       "      <th>BizDomainsId</th>\n",
       "    </tr>\n",
       "  </thead>\n",
       "  <tbody>\n",
       "    <tr>\n",
       "      <th>0</th>\n",
       "      <td>0.000000</td>\n",
       "      <td>0</td>\n",
       "      <td>0.642724</td>\n",
       "      <td>0.181397</td>\n",
       "      <td>1</td>\n",
       "      <td>0.866667</td>\n",
       "      <td>4</td>\n",
       "      <td>1.068966</td>\n",
       "      <td>0.310345</td>\n",
       "      <td>2</td>\n",
       "      <td>2</td>\n",
       "      <td>3</td>\n",
       "      <td>0.500000</td>\n",
       "      <td>1</td>\n",
       "      <td>1.269491</td>\n",
       "      <td>0006df37-709c-4121-be9e-5210adc6a044</td>\n",
       "    </tr>\n",
       "    <tr>\n",
       "      <th>1</th>\n",
       "      <td>0.238875</td>\n",
       "      <td>1</td>\n",
       "      <td>0.398507</td>\n",
       "      <td>0.274307</td>\n",
       "      <td>3</td>\n",
       "      <td>0.662252</td>\n",
       "      <td>3</td>\n",
       "      <td>0.688889</td>\n",
       "      <td>0.917526</td>\n",
       "      <td>2</td>\n",
       "      <td>2</td>\n",
       "      <td>1</td>\n",
       "      <td>0.627451</td>\n",
       "      <td>0</td>\n",
       "      <td>6.332840</td>\n",
       "      <td>002d52c3-6c10-41a5-a4b2-91422a1ab307</td>\n",
       "    </tr>\n",
       "    <tr>\n",
       "      <th>2</th>\n",
       "      <td>0.822599</td>\n",
       "      <td>0</td>\n",
       "      <td>1.000000</td>\n",
       "      <td>0.949580</td>\n",
       "      <td>1</td>\n",
       "      <td>0.000000</td>\n",
       "      <td>4</td>\n",
       "      <td>1.444444</td>\n",
       "      <td>0.000000</td>\n",
       "      <td>1</td>\n",
       "      <td>3</td>\n",
       "      <td>1</td>\n",
       "      <td>0.846154</td>\n",
       "      <td>1</td>\n",
       "      <td>5.291346</td>\n",
       "      <td>00428596-e168-49ce-8428-7949cd2215ea</td>\n",
       "    </tr>\n",
       "    <tr>\n",
       "      <th>3</th>\n",
       "      <td>0.000000</td>\n",
       "      <td>0</td>\n",
       "      <td>1.000000</td>\n",
       "      <td>0.211382</td>\n",
       "      <td>1</td>\n",
       "      <td>1.000000</td>\n",
       "      <td>3</td>\n",
       "      <td>0.000000</td>\n",
       "      <td>0.602430</td>\n",
       "      <td>2</td>\n",
       "      <td>2</td>\n",
       "      <td>2</td>\n",
       "      <td>0.506440</td>\n",
       "      <td>1</td>\n",
       "      <td>1.715828</td>\n",
       "      <td>0049986f-b17d-44ef-992f-88d478dd21b8</td>\n",
       "    </tr>\n",
       "    <tr>\n",
       "      <th>4</th>\n",
       "      <td>0.082940</td>\n",
       "      <td>1</td>\n",
       "      <td>1.000000</td>\n",
       "      <td>0.804726</td>\n",
       "      <td>4</td>\n",
       "      <td>0.773725</td>\n",
       "      <td>2</td>\n",
       "      <td>3.579350</td>\n",
       "      <td>0.182724</td>\n",
       "      <td>2</td>\n",
       "      <td>1</td>\n",
       "      <td>2</td>\n",
       "      <td>0.013858</td>\n",
       "      <td>0</td>\n",
       "      <td>5.956071</td>\n",
       "      <td>004c3ec1-da71-494d-9adb-8a4e660f9257</td>\n",
       "    </tr>\n",
       "  </tbody>\n",
       "</table>\n",
       "</div>"
      ],
      "text/plain": [
       "   no_warning_sign  BizActive?  AddedUsers/BoughtUser  ActiveUsers/AddedUsers  \\\n",
       "0         0.000000           0               0.642724                0.181397   \n",
       "1         0.238875           1               0.398507                0.274307   \n",
       "2         0.822599           0               1.000000                0.949580   \n",
       "3         0.000000           0               1.000000                0.211382   \n",
       "4         0.082940           1               1.000000                0.804726   \n",
       "\n",
       "   #Activities  ActivitiesWoutDeal/#Activities  AvgDelayTimeActivity  \\\n",
       "0            1                        0.866667                     4   \n",
       "1            3                        0.662252                     3   \n",
       "2            1                        0.000000                     4   \n",
       "3            1                        1.000000                     3   \n",
       "4            4                        0.773725                     2   \n",
       "\n",
       "   #Activities/#Deals  %NoAcquitance  TransformationSpeed  TransformationRate  \\\n",
       "0            1.068966       0.310345                    2                   2   \n",
       "1            0.688889       0.917526                    2                   2   \n",
       "2            1.444444       0.000000                    1                   3   \n",
       "3            0.000000       0.602430                    2                   2   \n",
       "4            3.579350       0.182724                    2                   1   \n",
       "\n",
       "   %NoReasonFailure  #OngoingDeals/#Total(Correct)Deals  BizIsExpired?  \\\n",
       "0                 3                            0.500000              1   \n",
       "1                 1                            0.627451              0   \n",
       "2                 1                            0.846154              1   \n",
       "3                 2                            0.506440              1   \n",
       "4                 2                            0.013858              0   \n",
       "\n",
       "   Health_Score                          BizDomainsId  \n",
       "0      1.269491  0006df37-709c-4121-be9e-5210adc6a044  \n",
       "1      6.332840  002d52c3-6c10-41a5-a4b2-91422a1ab307  \n",
       "2      5.291346  00428596-e168-49ce-8428-7949cd2215ea  \n",
       "3      1.715828  0049986f-b17d-44ef-992f-88d478dd21b8  \n",
       "4      5.956071  004c3ec1-da71-494d-9adb-8a4e660f9257  "
      ]
     },
     "execution_count": 14,
     "metadata": {},
     "output_type": "execute_result"
    }
   ],
   "source": [
    "logreg = LogisticRegression(penalty = 'l2',random_state=0 , C=3)\n",
    "y_dec_lr = (logreg.fit(X, y).decision_function(X)).reshape(-1,1)\n",
    "y_dec_lr = MinMaxScaler(feature_range=(0, 10)).fit_transform(y_dec_lr)\n",
    "df_medoid['Health_Score'] = 10 - y_dec_lr\n",
    "df_medoid['BizDomainsId'] = BizDomains['BizDomainId']\n",
    "df_medoid.head()"
   ]
  },
  {
   "cell_type": "markdown",
   "metadata": {},
   "source": [
    "### Successful Customers Checking"
   ]
  },
  {
   "cell_type": "code",
   "execution_count": 15,
   "metadata": {
    "ExecuteTime": {
     "end_time": "2022-09-12T05:17:01.422090Z",
     "start_time": "2022-09-12T05:17:01.085957Z"
    }
   },
   "outputs": [
    {
     "data": {
      "image/png": "[encoded data removed]",
      "text/plain": [
       "<Figure size 500x300 with 1 Axes>"
      ]
     },
     "metadata": {},
     "output_type": "display_data"
    }
   ],
   "source": [
    "successful  = pd.read_csv(r\"SuccesfulCustomers.csv\")\n",
    "successful = successful['BizDomainId'].str.lower()\n",
    "plt.figure(figsize=(5,3))\n",
    "plt.style.use('seaborn')\n",
    "sns.histplot(df_medoid.loc[df_medoid['BizDomainsId'].isin(successful),'Health_Score'])\n",
    "plt.title('Histogram of Successful BizDomains')\n",
    "plt.tight_layout()\n",
    "# plt.savefig('25. LogReg Successful Biz.jpg',dpi=200)\n",
    "plt.show()"
   ]
  },
  {
   "cell_type": "markdown",
   "metadata": {},
   "source": [
    "### Export"
   ]
  },
  {
   "cell_type": "code",
   "execution_count": 16,
   "metadata": {
    "ExecuteTime": {
     "end_time": "2022-09-12T05:17:01.438016Z",
     "start_time": "2022-09-12T05:17:01.425048Z"
    }
   },
   "outputs": [],
   "source": [
    "# df_medoid.to_csv('1. medoid k=2 LogReg Report.csv')"
   ]
  },
  {
   "cell_type": "markdown",
   "metadata": {},
   "source": [
    "## KNN"
   ]
  },
  {
   "cell_type": "markdown",
   "metadata": {},
   "source": [
    "### GridSearch"
   ]
  },
  {
   "cell_type": "code",
   "execution_count": 17,
   "metadata": {
    "ExecuteTime": {
     "end_time": "2022-09-12T05:17:01.872953Z",
     "start_time": "2022-09-12T05:17:01.441008Z"
    }
   },
   "outputs": [
    {
     "name": "stdout",
     "output_type": "stream",
     "text": [
      "Fitting 10 folds for each of 8 candidates, totalling 80 fits\n",
      "best paramters= {'n_neighbors': 7}\n",
      "best score= 0.9011498882797475\n"
     ]
    }
   ],
   "source": [
    "KNN = KNeighborsClassifier()\n",
    "n_neighbor = {'n_neighbors': np.arange(2,10)}\n",
    "scorer = {\"AUC\": \"roc_auc\", \"F1\": make_scorer(f1_score) , \n",
    "          \"Accuracy\": 'accuracy'}\n",
    "grid_KNN=GridSearchCV(KNN ,param_grid=n_neighbor, n_jobs=-1 , cv=10 , verbose = 5,\n",
    "                         scoring=scorer , refit='F1')\n",
    "grid_KNN.fit(X_train , y_train )\n",
    "print('best paramters= {}\\nbest score= {}'.format(grid_KNN.best_params_ , grid_KNN.best_score_) )"
   ]
  },
  {
   "cell_type": "markdown",
   "metadata": {},
   "source": [
    "### Metrics"
   ]
  },
  {
   "cell_type": "code",
   "execution_count": 18,
   "metadata": {
    "ExecuteTime": {
     "end_time": "2022-09-12T05:17:01.919829Z",
     "start_time": "2022-09-12T05:17:01.873951Z"
    }
   },
   "outputs": [
    {
     "name": "stderr",
     "output_type": "stream",
     "text": [
      "C:\\Users\\Mr. Pedram\\anaconda3\\lib\\site-packages\\sklearn\\neighbors\\_classification.py:237: FutureWarning: Unlike other reduction functions (e.g. `skew`, `kurtosis`), the default behavior of `mode` typically preserves the axis it acts along. In SciPy 1.11.0, this behavior will change: the default value of `keepdims` will become False, the `axis` over which the statistic is taken will be eliminated, and the value None will no longer be accepted. Set `keepdims` to True or False to avoid this warning.\n",
      "  mode, _ = stats.mode(_y[neigh_ind, k], axis=1)\n"
     ]
    },
    {
     "data": {
      "text/html": [
       "<div>\n",
       "<style scoped>\n",
       "    .dataframe tbody tr th:only-of-type {\n",
       "        vertical-align: middle;\n",
       "    }\n",
       "\n",
       "    .dataframe tbody tr th {\n",
       "        vertical-align: top;\n",
       "    }\n",
       "\n",
       "    .dataframe thead th {\n",
       "        text-align: right;\n",
       "    }\n",
       "</style>\n",
       "<table border=\"1\" class=\"dataframe\">\n",
       "  <thead>\n",
       "    <tr style=\"text-align: right;\">\n",
       "      <th></th>\n",
       "      <th>most_frequent</th>\n",
       "      <th>stratified</th>\n",
       "      <th>uniform</th>\n",
       "      <th>Value_LogReg</th>\n",
       "      <th>Value_KNN</th>\n",
       "    </tr>\n",
       "  </thead>\n",
       "  <tbody>\n",
       "    <tr>\n",
       "      <th>F1 Score</th>\n",
       "      <td>0.609756</td>\n",
       "      <td>0.459770</td>\n",
       "      <td>0.478178</td>\n",
       "      <td>0.952569</td>\n",
       "      <td>0.921529</td>\n",
       "    </tr>\n",
       "    <tr>\n",
       "      <th>accuracy</th>\n",
       "      <td>0.438596</td>\n",
       "      <td>0.505263</td>\n",
       "      <td>0.517544</td>\n",
       "      <td>0.957895</td>\n",
       "      <td>0.931579</td>\n",
       "    </tr>\n",
       "    <tr>\n",
       "      <th>ROC AUC</th>\n",
       "      <td>0.500000</td>\n",
       "      <td>0.502500</td>\n",
       "      <td>0.516062</td>\n",
       "      <td>0.958562</td>\n",
       "      <td>0.929875</td>\n",
       "    </tr>\n",
       "    <tr>\n",
       "      <th>Precision</th>\n",
       "      <td>0.438596</td>\n",
       "      <td>0.441176</td>\n",
       "      <td>0.454874</td>\n",
       "      <td>0.941406</td>\n",
       "      <td>0.927126</td>\n",
       "    </tr>\n",
       "    <tr>\n",
       "      <th>Recall</th>\n",
       "      <td>1.000000</td>\n",
       "      <td>0.480000</td>\n",
       "      <td>0.504000</td>\n",
       "      <td>0.964000</td>\n",
       "      <td>0.916000</td>\n",
       "    </tr>\n",
       "  </tbody>\n",
       "</table>\n",
       "</div>"
      ],
      "text/plain": [
       "           most_frequent  stratified   uniform  Value_LogReg  Value_KNN\n",
       "F1 Score        0.609756    0.459770  0.478178      0.952569   0.921529\n",
       "accuracy        0.438596    0.505263  0.517544      0.957895   0.931579\n",
       "ROC AUC         0.500000    0.502500  0.516062      0.958562   0.929875\n",
       "Precision       0.438596    0.441176  0.454874      0.941406   0.927126\n",
       "Recall          1.000000    0.480000  0.504000      0.964000   0.916000"
      ]
     },
     "execution_count": 18,
     "metadata": {},
     "output_type": "execute_result"
    }
   ],
   "source": [
    "df_metric['Value_KNN'] = metric_calculator(y_test , grid_KNN.predict(X_test))\n",
    "df_metric"
   ]
  },
  {
   "cell_type": "markdown",
   "metadata": {},
   "source": [
    "### Health Score for All"
   ]
  },
  {
   "cell_type": "code",
   "execution_count": 19,
   "metadata": {
    "ExecuteTime": {
     "end_time": "2022-09-12T05:17:01.997620Z",
     "start_time": "2022-09-12T05:17:01.921822Z"
    }
   },
   "outputs": [],
   "source": [
    "KNN = KNeighborsClassifier(n_neighbors=7)\n",
    "y_dec_lr = (KNN.fit(X, y).predict_proba(X)[: , 1]).reshape(-1,1)\n",
    "y_dec_lr = MinMaxScaler(feature_range=(0, 10)).fit_transform(y_dec_lr)\n",
    "df_medoid['Health_Score'] = 10 - y_dec_lr\n",
    "df_medoid['BizDomainsId'] = BizDomains['BizDomainId']\n",
    "# df_medoid.head()"
   ]
  },
  {
   "cell_type": "markdown",
   "metadata": {},
   "source": [
    "### Successful Customers Checking"
   ]
  },
  {
   "cell_type": "code",
   "execution_count": 20,
   "metadata": {
    "ExecuteTime": {
     "end_time": "2022-09-12T05:17:02.198084Z",
     "start_time": "2022-09-12T05:17:02.001611Z"
    }
   },
   "outputs": [
    {
     "data": {
      "image/png": "[encoded data removed]",
      "text/plain": [
       "<Figure size 500x300 with 1 Axes>"
      ]
     },
     "metadata": {},
     "output_type": "display_data"
    }
   ],
   "source": [
    "successful  = pd.read_csv(r\"D:\\uni\\ترم 6\\کارآموزی\\Data\\SuccesfulCustomers.csv\")\n",
    "successful = successful['BizDomainId'].str.lower()\n",
    "plt.figure(figsize=(5,3))\n",
    "plt.style.use('seaborn')\n",
    "sns.histplot(df_medoid.loc[df_medoid['BizDomainsId'].isin(successful),'Health_Score'])\n",
    "plt.title('Histogram of Successful BizDomains')\n",
    "plt.tight_layout()\n",
    "# plt.savefig('26. KNN Successful Biz.jpg',dpi=200)\n",
    "plt.show()"
   ]
  },
  {
   "cell_type": "code",
   "execution_count": 21,
   "metadata": {
    "ExecuteTime": {
     "end_time": "2022-09-12T05:17:02.273892Z",
     "start_time": "2022-09-12T05:17:02.201078Z"
    }
   },
   "outputs": [
    {
     "data": {
      "text/html": [
       "<div>\n",
       "<style scoped>\n",
       "    .dataframe tbody tr th:only-of-type {\n",
       "        vertical-align: middle;\n",
       "    }\n",
       "\n",
       "    .dataframe tbody tr th {\n",
       "        vertical-align: top;\n",
       "    }\n",
       "\n",
       "    .dataframe thead th {\n",
       "        text-align: right;\n",
       "    }\n",
       "</style>\n",
       "<table border=\"1\" class=\"dataframe\">\n",
       "  <thead>\n",
       "    <tr style=\"text-align: right;\">\n",
       "      <th></th>\n",
       "      <th>no_warning_sign</th>\n",
       "      <th>BizActive?</th>\n",
       "      <th>AddedUsers/BoughtUser</th>\n",
       "      <th>ActiveUsers/AddedUsers</th>\n",
       "      <th>#Activities</th>\n",
       "      <th>ActivitiesWoutDeal/#Activities</th>\n",
       "      <th>AvgDelayTimeActivity</th>\n",
       "      <th>#Activities/#Deals</th>\n",
       "      <th>%NoAcquitance</th>\n",
       "      <th>TransformationSpeed</th>\n",
       "      <th>TransformationRate</th>\n",
       "      <th>%NoReasonFailure</th>\n",
       "      <th>#OngoingDeals/#Total(Correct)Deals</th>\n",
       "      <th>BizIsExpired?</th>\n",
       "      <th>Health_Score</th>\n",
       "      <th>BizDomainsId</th>\n",
       "    </tr>\n",
       "  </thead>\n",
       "  <tbody>\n",
       "    <tr>\n",
       "      <th>0</th>\n",
       "      <td>0.000000</td>\n",
       "      <td>0</td>\n",
       "      <td>0.642724</td>\n",
       "      <td>0.181397</td>\n",
       "      <td>1</td>\n",
       "      <td>0.866667</td>\n",
       "      <td>4</td>\n",
       "      <td>1.068966</td>\n",
       "      <td>0.310345</td>\n",
       "      <td>2</td>\n",
       "      <td>2</td>\n",
       "      <td>3</td>\n",
       "      <td>0.500000</td>\n",
       "      <td>1</td>\n",
       "      <td>0.0</td>\n",
       "      <td>0006df37-709c-4121-be9e-5210adc6a044</td>\n",
       "    </tr>\n",
       "    <tr>\n",
       "      <th>1</th>\n",
       "      <td>0.238875</td>\n",
       "      <td>1</td>\n",
       "      <td>0.398507</td>\n",
       "      <td>0.274307</td>\n",
       "      <td>3</td>\n",
       "      <td>0.662252</td>\n",
       "      <td>3</td>\n",
       "      <td>0.688889</td>\n",
       "      <td>0.917526</td>\n",
       "      <td>2</td>\n",
       "      <td>2</td>\n",
       "      <td>1</td>\n",
       "      <td>0.627451</td>\n",
       "      <td>0</td>\n",
       "      <td>10.0</td>\n",
       "      <td>002d52c3-6c10-41a5-a4b2-91422a1ab307</td>\n",
       "    </tr>\n",
       "    <tr>\n",
       "      <th>2</th>\n",
       "      <td>0.822599</td>\n",
       "      <td>0</td>\n",
       "      <td>1.000000</td>\n",
       "      <td>0.949580</td>\n",
       "      <td>1</td>\n",
       "      <td>0.000000</td>\n",
       "      <td>4</td>\n",
       "      <td>1.444444</td>\n",
       "      <td>0.000000</td>\n",
       "      <td>1</td>\n",
       "      <td>3</td>\n",
       "      <td>1</td>\n",
       "      <td>0.846154</td>\n",
       "      <td>1</td>\n",
       "      <td>0.0</td>\n",
       "      <td>00428596-e168-49ce-8428-7949cd2215ea</td>\n",
       "    </tr>\n",
       "    <tr>\n",
       "      <th>3</th>\n",
       "      <td>0.000000</td>\n",
       "      <td>0</td>\n",
       "      <td>1.000000</td>\n",
       "      <td>0.211382</td>\n",
       "      <td>1</td>\n",
       "      <td>1.000000</td>\n",
       "      <td>3</td>\n",
       "      <td>0.000000</td>\n",
       "      <td>0.602430</td>\n",
       "      <td>2</td>\n",
       "      <td>2</td>\n",
       "      <td>2</td>\n",
       "      <td>0.506440</td>\n",
       "      <td>1</td>\n",
       "      <td>0.0</td>\n",
       "      <td>0049986f-b17d-44ef-992f-88d478dd21b8</td>\n",
       "    </tr>\n",
       "    <tr>\n",
       "      <th>4</th>\n",
       "      <td>0.082940</td>\n",
       "      <td>1</td>\n",
       "      <td>1.000000</td>\n",
       "      <td>0.804726</td>\n",
       "      <td>4</td>\n",
       "      <td>0.773725</td>\n",
       "      <td>2</td>\n",
       "      <td>3.579350</td>\n",
       "      <td>0.182724</td>\n",
       "      <td>2</td>\n",
       "      <td>1</td>\n",
       "      <td>2</td>\n",
       "      <td>0.013858</td>\n",
       "      <td>0</td>\n",
       "      <td>10.0</td>\n",
       "      <td>004c3ec1-da71-494d-9adb-8a4e660f9257</td>\n",
       "    </tr>\n",
       "  </tbody>\n",
       "</table>\n",
       "</div>"
      ],
      "text/plain": [
       "   no_warning_sign  BizActive?  AddedUsers/BoughtUser  ActiveUsers/AddedUsers  \\\n",
       "0         0.000000           0               0.642724                0.181397   \n",
       "1         0.238875           1               0.398507                0.274307   \n",
       "2         0.822599           0               1.000000                0.949580   \n",
       "3         0.000000           0               1.000000                0.211382   \n",
       "4         0.082940           1               1.000000                0.804726   \n",
       "\n",
       "   #Activities  ActivitiesWoutDeal/#Activities  AvgDelayTimeActivity  \\\n",
       "0            1                        0.866667                     4   \n",
       "1            3                        0.662252                     3   \n",
       "2            1                        0.000000                     4   \n",
       "3            1                        1.000000                     3   \n",
       "4            4                        0.773725                     2   \n",
       "\n",
       "   #Activities/#Deals  %NoAcquitance  TransformationSpeed  TransformationRate  \\\n",
       "0            1.068966       0.310345                    2                   2   \n",
       "1            0.688889       0.917526                    2                   2   \n",
       "2            1.444444       0.000000                    1                   3   \n",
       "3            0.000000       0.602430                    2                   2   \n",
       "4            3.579350       0.182724                    2                   1   \n",
       "\n",
       "   %NoReasonFailure  #OngoingDeals/#Total(Correct)Deals  BizIsExpired?  \\\n",
       "0                 3                            0.500000              1   \n",
       "1                 1                            0.627451              0   \n",
       "2                 1                            0.846154              1   \n",
       "3                 2                            0.506440              1   \n",
       "4                 2                            0.013858              0   \n",
       "\n",
       "   Health_Score                          BizDomainsId  \n",
       "0           0.0  0006df37-709c-4121-be9e-5210adc6a044  \n",
       "1          10.0  002d52c3-6c10-41a5-a4b2-91422a1ab307  \n",
       "2           0.0  00428596-e168-49ce-8428-7949cd2215ea  \n",
       "3           0.0  0049986f-b17d-44ef-992f-88d478dd21b8  \n",
       "4          10.0  004c3ec1-da71-494d-9adb-8a4e660f9257  "
      ]
     },
     "execution_count": 21,
     "metadata": {},
     "output_type": "execute_result"
    }
   ],
   "source": [
    "KNN = KNeighborsClassifier(n_neighbors = 3)\n",
    "y_dec_knn = (KNN.fit(X, y).predict_proba(X)[:,1]).reshape(-1,1)\n",
    "y_dec_knn = MinMaxScaler(feature_range=(0, 10)).fit_transform(y_dec_knn)\n",
    "df_medoid['Health_Score'] = 10 - y_dec_knn\n",
    "df_medoid.head()"
   ]
  },
  {
   "cell_type": "markdown",
   "metadata": {},
   "source": [
    "### Export"
   ]
  },
  {
   "cell_type": "code",
   "execution_count": 22,
   "metadata": {
    "ExecuteTime": {
     "end_time": "2022-09-12T05:17:02.305826Z",
     "start_time": "2022-09-12T05:17:02.275874Z"
    }
   },
   "outputs": [],
   "source": [
    "# df_medoid.to_csv('2. medoid k=2 KNN Report.csv')"
   ]
  },
  {
   "cell_type": "markdown",
   "metadata": {},
   "source": [
    "## LinearDiscriminantAnalysis (Good)"
   ]
  },
  {
   "cell_type": "markdown",
   "metadata": {},
   "source": [
    "### GridSearch"
   ]
  },
  {
   "cell_type": "code",
   "execution_count": 23,
   "metadata": {
    "ExecuteTime": {
     "end_time": "2022-09-12T05:34:19.456552Z",
     "start_time": "2022-09-12T05:34:17.120833Z"
    }
   },
   "outputs": [
    {
     "name": "stdout",
     "output_type": "stream",
     "text": [
      "Fitting 10 folds for each of 30 candidates, totalling 300 fits\n",
      "best paramters= {'shrinkage': 0.1, 'solver': 'lsqr'}\n",
      "best score= 0.9275194633705024\n"
     ]
    },
    {
     "name": "stderr",
     "output_type": "stream",
     "text": [
      "C:\\Users\\Mr. Pedram\\anaconda3\\lib\\site-packages\\sklearn\\model_selection\\_validation.py:378: FitFailedWarning: \n",
      "100 fits failed out of a total of 300.\n",
      "The score on these train-test partitions for these parameters will be set to nan.\n",
      "If these failures are not expected, you can try to debug them by setting error_score='raise'.\n",
      "\n",
      "Below are more details about the failures:\n",
      "--------------------------------------------------------------------------------\n",
      "100 fits failed with the following error:\n",
      "Traceback (most recent call last):\n",
      "  File \"C:\\Users\\Mr. Pedram\\anaconda3\\lib\\site-packages\\sklearn\\model_selection\\_validation.py\", line 686, in _fit_and_score\n",
      "    estimator.fit(X_train, y_train, **fit_params)\n",
      "  File \"C:\\Users\\Mr. Pedram\\anaconda3\\lib\\site-packages\\sklearn\\discriminant_analysis.py\", line 589, in fit\n",
      "    raise NotImplementedError(\"shrinkage not supported\")\n",
      "NotImplementedError: shrinkage not supported\n",
      "\n",
      "  warnings.warn(some_fits_failed_message, FitFailedWarning)\n",
      "C:\\Users\\Mr. Pedram\\anaconda3\\lib\\site-packages\\sklearn\\model_selection\\_search.py:953: UserWarning: One or more of the test scores are non-finite: [       nan 0.98378562 0.98378562        nan 0.97528268 0.97528268\n",
      "        nan 0.96632745 0.96632745        nan 0.95597015 0.95597015\n",
      "        nan 0.94595206 0.94595206        nan 0.9350294  0.9350294\n",
      "        nan 0.92256897 0.92256897        nan 0.90689733 0.90689733\n",
      "        nan 0.88862506 0.88862506        nan 0.86530981 0.86530981]\n",
      "  warnings.warn(\n",
      "C:\\Users\\Mr. Pedram\\anaconda3\\lib\\site-packages\\sklearn\\model_selection\\_search.py:953: UserWarning: One or more of the test scores are non-finite: [       nan 0.92751946 0.92751946        nan 0.9176651  0.9176651\n",
      "        nan 0.89499827 0.89499827        nan 0.88030551 0.88030551\n",
      "        nan 0.86007895 0.86007895        nan 0.84589615 0.84589615\n",
      "        nan 0.83220961 0.83220961        nan 0.81632804 0.81632804\n",
      "        nan 0.80276857 0.80276857        nan 0.77821435 0.77821435]\n",
      "  warnings.warn(\n",
      "C:\\Users\\Mr. Pedram\\anaconda3\\lib\\site-packages\\sklearn\\model_selection\\_search.py:953: UserWarning: One or more of the test scores are non-finite: [       nan 0.92857143 0.92857143        nan 0.91804511 0.91804511\n",
      "        nan 0.89473684 0.89473684        nan 0.87894737 0.87894737\n",
      "        nan 0.85714286 0.85714286        nan 0.84285714 0.84285714\n",
      "        nan 0.82781955 0.82781955        nan 0.80977444 0.80977444\n",
      "        nan 0.7924812  0.7924812         nan 0.76015038 0.76015038]\n",
      "  warnings.warn(\n"
     ]
    }
   ],
   "source": [
    "LDA = LinearDiscriminantAnalysis()\n",
    "grid_params = {'solver':['svd','lsqr','eigen'], 'shrinkage':np.arange(0.1,1.1,0.1)}\n",
    "scorer = {\"AUC\": \"roc_auc\", \"F1\": make_scorer(f1_score) , \n",
    "          \"Accuracy\": 'accuracy'}\n",
    "grid_LDA=GridSearchCV(LDA ,param_grid=grid_params, n_jobs=-1 , cv=10 , verbose = 5,\n",
    "                         scoring=scorer , refit='F1')\n",
    "grid_LDA.fit(X_train , y_train )\n",
    "print('best paramters= {}\\nbest score= {}'.format(grid_LDA.best_params_ , grid_LDA.best_score_) )"
   ]
  },
  {
   "cell_type": "markdown",
   "metadata": {},
   "source": [
    "### Metrics"
   ]
  },
  {
   "cell_type": "code",
   "execution_count": 26,
   "metadata": {
    "ExecuteTime": {
     "end_time": "2022-09-12T05:38:38.916441Z",
     "start_time": "2022-09-12T05:38:38.887505Z"
    }
   },
   "outputs": [
    {
     "data": {
      "text/html": [
       "<div>\n",
       "<style scoped>\n",
       "    .dataframe tbody tr th:only-of-type {\n",
       "        vertical-align: middle;\n",
       "    }\n",
       "\n",
       "    .dataframe tbody tr th {\n",
       "        vertical-align: top;\n",
       "    }\n",
       "\n",
       "    .dataframe thead th {\n",
       "        text-align: right;\n",
       "    }\n",
       "</style>\n",
       "<table border=\"1\" class=\"dataframe\">\n",
       "  <thead>\n",
       "    <tr style=\"text-align: right;\">\n",
       "      <th></th>\n",
       "      <th>most_frequent</th>\n",
       "      <th>stratified</th>\n",
       "      <th>uniform</th>\n",
       "      <th>Value_LogReg</th>\n",
       "      <th>Value_KNN</th>\n",
       "      <th>Value_LDA</th>\n",
       "    </tr>\n",
       "  </thead>\n",
       "  <tbody>\n",
       "    <tr>\n",
       "      <th>F1 Score</th>\n",
       "      <td>0.609756</td>\n",
       "      <td>0.459770</td>\n",
       "      <td>0.478178</td>\n",
       "      <td>0.952569</td>\n",
       "      <td>0.921529</td>\n",
       "      <td>0.942574</td>\n",
       "    </tr>\n",
       "    <tr>\n",
       "      <th>accuracy</th>\n",
       "      <td>0.438596</td>\n",
       "      <td>0.505263</td>\n",
       "      <td>0.517544</td>\n",
       "      <td>0.957895</td>\n",
       "      <td>0.931579</td>\n",
       "      <td>0.949123</td>\n",
       "    </tr>\n",
       "    <tr>\n",
       "      <th>ROC AUC</th>\n",
       "      <td>0.500000</td>\n",
       "      <td>0.502500</td>\n",
       "      <td>0.516062</td>\n",
       "      <td>0.958562</td>\n",
       "      <td>0.929875</td>\n",
       "      <td>0.949438</td>\n",
       "    </tr>\n",
       "    <tr>\n",
       "      <th>Precision</th>\n",
       "      <td>0.438596</td>\n",
       "      <td>0.441176</td>\n",
       "      <td>0.454874</td>\n",
       "      <td>0.941406</td>\n",
       "      <td>0.927126</td>\n",
       "      <td>0.933333</td>\n",
       "    </tr>\n",
       "    <tr>\n",
       "      <th>Recall</th>\n",
       "      <td>1.000000</td>\n",
       "      <td>0.480000</td>\n",
       "      <td>0.504000</td>\n",
       "      <td>0.964000</td>\n",
       "      <td>0.916000</td>\n",
       "      <td>0.952000</td>\n",
       "    </tr>\n",
       "  </tbody>\n",
       "</table>\n",
       "</div>"
      ],
      "text/plain": [
       "           most_frequent  stratified   uniform  Value_LogReg  Value_KNN  \\\n",
       "F1 Score        0.609756    0.459770  0.478178      0.952569   0.921529   \n",
       "accuracy        0.438596    0.505263  0.517544      0.957895   0.931579   \n",
       "ROC AUC         0.500000    0.502500  0.516062      0.958562   0.929875   \n",
       "Precision       0.438596    0.441176  0.454874      0.941406   0.927126   \n",
       "Recall          1.000000    0.480000  0.504000      0.964000   0.916000   \n",
       "\n",
       "           Value_LDA  \n",
       "F1 Score    0.942574  \n",
       "accuracy    0.949123  \n",
       "ROC AUC     0.949438  \n",
       "Precision   0.933333  \n",
       "Recall      0.952000  "
      ]
     },
     "execution_count": 26,
     "metadata": {},
     "output_type": "execute_result"
    }
   ],
   "source": [
    "df_metric['Value_LDA'] = metric_calculator(y_test , grid_LDA.predict(X_test))\n",
    "df_metric"
   ]
  },
  {
   "cell_type": "markdown",
   "metadata": {},
   "source": [
    "### Health Score for All"
   ]
  },
  {
   "cell_type": "code",
   "execution_count": 27,
   "metadata": {
    "ExecuteTime": {
     "end_time": "2022-09-12T05:38:54.221124Z",
     "start_time": "2022-09-12T05:38:54.190195Z"
    }
   },
   "outputs": [
    {
     "data": {
      "text/html": [
       "<div>\n",
       "<style scoped>\n",
       "    .dataframe tbody tr th:only-of-type {\n",
       "        vertical-align: middle;\n",
       "    }\n",
       "\n",
       "    .dataframe tbody tr th {\n",
       "        vertical-align: top;\n",
       "    }\n",
       "\n",
       "    .dataframe thead th {\n",
       "        text-align: right;\n",
       "    }\n",
       "</style>\n",
       "<table border=\"1\" class=\"dataframe\">\n",
       "  <thead>\n",
       "    <tr style=\"text-align: right;\">\n",
       "      <th></th>\n",
       "      <th>no_warning_sign</th>\n",
       "      <th>BizActive?</th>\n",
       "      <th>AddedUsers/BoughtUser</th>\n",
       "      <th>ActiveUsers/AddedUsers</th>\n",
       "      <th>#Activities</th>\n",
       "      <th>ActivitiesWoutDeal/#Activities</th>\n",
       "      <th>AvgDelayTimeActivity</th>\n",
       "      <th>#Activities/#Deals</th>\n",
       "      <th>%NoAcquitance</th>\n",
       "      <th>TransformationSpeed</th>\n",
       "      <th>TransformationRate</th>\n",
       "      <th>%NoReasonFailure</th>\n",
       "      <th>#OngoingDeals/#Total(Correct)Deals</th>\n",
       "      <th>BizIsExpired?</th>\n",
       "      <th>Health_Score</th>\n",
       "      <th>BizDomainsId</th>\n",
       "    </tr>\n",
       "  </thead>\n",
       "  <tbody>\n",
       "    <tr>\n",
       "      <th>0</th>\n",
       "      <td>0.000000</td>\n",
       "      <td>0</td>\n",
       "      <td>0.642724</td>\n",
       "      <td>0.181397</td>\n",
       "      <td>1</td>\n",
       "      <td>0.866667</td>\n",
       "      <td>4</td>\n",
       "      <td>1.068966</td>\n",
       "      <td>0.310345</td>\n",
       "      <td>2</td>\n",
       "      <td>2</td>\n",
       "      <td>3</td>\n",
       "      <td>0.500000</td>\n",
       "      <td>1</td>\n",
       "      <td>1.389014</td>\n",
       "      <td>0006df37-709c-4121-be9e-5210adc6a044</td>\n",
       "    </tr>\n",
       "    <tr>\n",
       "      <th>1</th>\n",
       "      <td>0.238875</td>\n",
       "      <td>1</td>\n",
       "      <td>0.398507</td>\n",
       "      <td>0.274307</td>\n",
       "      <td>3</td>\n",
       "      <td>0.662252</td>\n",
       "      <td>3</td>\n",
       "      <td>0.688889</td>\n",
       "      <td>0.917526</td>\n",
       "      <td>2</td>\n",
       "      <td>2</td>\n",
       "      <td>1</td>\n",
       "      <td>0.627451</td>\n",
       "      <td>0</td>\n",
       "      <td>6.295978</td>\n",
       "      <td>002d52c3-6c10-41a5-a4b2-91422a1ab307</td>\n",
       "    </tr>\n",
       "    <tr>\n",
       "      <th>2</th>\n",
       "      <td>0.822599</td>\n",
       "      <td>0</td>\n",
       "      <td>1.000000</td>\n",
       "      <td>0.949580</td>\n",
       "      <td>1</td>\n",
       "      <td>0.000000</td>\n",
       "      <td>4</td>\n",
       "      <td>1.444444</td>\n",
       "      <td>0.000000</td>\n",
       "      <td>1</td>\n",
       "      <td>3</td>\n",
       "      <td>1</td>\n",
       "      <td>0.846154</td>\n",
       "      <td>1</td>\n",
       "      <td>5.010477</td>\n",
       "      <td>00428596-e168-49ce-8428-7949cd2215ea</td>\n",
       "    </tr>\n",
       "    <tr>\n",
       "      <th>3</th>\n",
       "      <td>0.000000</td>\n",
       "      <td>0</td>\n",
       "      <td>1.000000</td>\n",
       "      <td>0.211382</td>\n",
       "      <td>1</td>\n",
       "      <td>1.000000</td>\n",
       "      <td>3</td>\n",
       "      <td>0.000000</td>\n",
       "      <td>0.602430</td>\n",
       "      <td>2</td>\n",
       "      <td>2</td>\n",
       "      <td>2</td>\n",
       "      <td>0.506440</td>\n",
       "      <td>1</td>\n",
       "      <td>1.930399</td>\n",
       "      <td>0049986f-b17d-44ef-992f-88d478dd21b8</td>\n",
       "    </tr>\n",
       "    <tr>\n",
       "      <th>4</th>\n",
       "      <td>0.082940</td>\n",
       "      <td>1</td>\n",
       "      <td>1.000000</td>\n",
       "      <td>0.804726</td>\n",
       "      <td>4</td>\n",
       "      <td>0.773725</td>\n",
       "      <td>2</td>\n",
       "      <td>3.579350</td>\n",
       "      <td>0.182724</td>\n",
       "      <td>2</td>\n",
       "      <td>1</td>\n",
       "      <td>2</td>\n",
       "      <td>0.013858</td>\n",
       "      <td>0</td>\n",
       "      <td>6.155412</td>\n",
       "      <td>004c3ec1-da71-494d-9adb-8a4e660f9257</td>\n",
       "    </tr>\n",
       "  </tbody>\n",
       "</table>\n",
       "</div>"
      ],
      "text/plain": [
       "   no_warning_sign  BizActive?  AddedUsers/BoughtUser  ActiveUsers/AddedUsers  \\\n",
       "0         0.000000           0               0.642724                0.181397   \n",
       "1         0.238875           1               0.398507                0.274307   \n",
       "2         0.822599           0               1.000000                0.949580   \n",
       "3         0.000000           0               1.000000                0.211382   \n",
       "4         0.082940           1               1.000000                0.804726   \n",
       "\n",
       "   #Activities  ActivitiesWoutDeal/#Activities  AvgDelayTimeActivity  \\\n",
       "0            1                        0.866667                     4   \n",
       "1            3                        0.662252                     3   \n",
       "2            1                        0.000000                     4   \n",
       "3            1                        1.000000                     3   \n",
       "4            4                        0.773725                     2   \n",
       "\n",
       "   #Activities/#Deals  %NoAcquitance  TransformationSpeed  TransformationRate  \\\n",
       "0            1.068966       0.310345                    2                   2   \n",
       "1            0.688889       0.917526                    2                   2   \n",
       "2            1.444444       0.000000                    1                   3   \n",
       "3            0.000000       0.602430                    2                   2   \n",
       "4            3.579350       0.182724                    2                   1   \n",
       "\n",
       "   %NoReasonFailure  #OngoingDeals/#Total(Correct)Deals  BizIsExpired?  \\\n",
       "0                 3                            0.500000              1   \n",
       "1                 1                            0.627451              0   \n",
       "2                 1                            0.846154              1   \n",
       "3                 2                            0.506440              1   \n",
       "4                 2                            0.013858              0   \n",
       "\n",
       "   Health_Score                          BizDomainsId  \n",
       "0      1.389014  0006df37-709c-4121-be9e-5210adc6a044  \n",
       "1      6.295978  002d52c3-6c10-41a5-a4b2-91422a1ab307  \n",
       "2      5.010477  00428596-e168-49ce-8428-7949cd2215ea  \n",
       "3      1.930399  0049986f-b17d-44ef-992f-88d478dd21b8  \n",
       "4      6.155412  004c3ec1-da71-494d-9adb-8a4e660f9257  "
      ]
     },
     "execution_count": 27,
     "metadata": {},
     "output_type": "execute_result"
    }
   ],
   "source": [
    "LDA = LinearDiscriminantAnalysis(shrinkage= 0.1, solver= 'lsqr')\n",
    "y_dec_LDA = (LDA.fit(X, y)).decision_function(X).reshape(-1,1)\n",
    "y_dec_LDA = MinMaxScaler(feature_range=(0, 10)).fit_transform(y_dec_LDA)\n",
    "df_medoid['Health_Score'] = 10 - y_dec_LDA\n",
    "df_medoid.head()"
   ]
  },
  {
   "cell_type": "markdown",
   "metadata": {},
   "source": [
    "### Successful Customers Checking"
   ]
  },
  {
   "cell_type": "code",
   "execution_count": 28,
   "metadata": {
    "ExecuteTime": {
     "end_time": "2022-09-12T05:38:58.033639Z",
     "start_time": "2022-09-12T05:38:57.838194Z"
    }
   },
   "outputs": [
    {
     "data": {
      "image/png": "[encoded data removed]",
      "text/plain": [
       "<Figure size 500x300 with 1 Axes>"
      ]
     },
     "metadata": {},
     "output_type": "display_data"
    }
   ],
   "source": [
    "successful  = pd.read_csv(r\"SuccesfulCustomers.csv\")\n",
    "successful = successful['BizDomainId'].str.lower()\n",
    "plt.figure(figsize=(5,3))\n",
    "plt.style.use('seaborn')\n",
    "sns.histplot(df_medoid.loc[df_medoid['BizDomainsId'].isin(successful),'Health_Score'])\n",
    "plt.title('Histogram of Successful BizDomains')\n",
    "plt.tight_layout()\n",
    "# plt.savefig('26. LDA Successful Biz.jpg',dpi=200)\n",
    "plt.show()"
   ]
  },
  {
   "cell_type": "markdown",
   "metadata": {},
   "source": [
    "### Export"
   ]
  },
  {
   "cell_type": "code",
   "execution_count": 29,
   "metadata": {
    "ExecuteTime": {
     "end_time": "2022-09-12T05:39:01.260839Z",
     "start_time": "2022-09-12T05:39:01.223938Z"
    }
   },
   "outputs": [],
   "source": [
    "# df_medoid.to_csv('3. medoid k=2 LDA Report.csv')"
   ]
  },
  {
   "cell_type": "markdown",
   "metadata": {},
   "source": [
    "## Gaussian Naive Bayes"
   ]
  },
  {
   "cell_type": "markdown",
   "metadata": {},
   "source": [
    "### GridSearch"
   ]
  },
  {
   "cell_type": "code",
   "execution_count": 30,
   "metadata": {
    "ExecuteTime": {
     "end_time": "2022-09-12T05:41:11.390187Z",
     "start_time": "2022-09-12T05:41:07.855731Z"
    }
   },
   "outputs": [
    {
     "name": "stdout",
     "output_type": "stream",
     "text": [
      "Fitting 10 folds for each of 100 candidates, totalling 1000 fits\n",
      "best paramters= {'var_smoothing': 0.01519911082952933}\n",
      "best score= 0.9164545395806339\n"
     ]
    }
   ],
   "source": [
    "GNB = GaussianNB()\n",
    "params_NB = {'var_smoothing': np.logspace(0,-9, num=100)}\n",
    "scorer = {\"AUC\": \"roc_auc\", \"F1\": make_scorer(f1_score) , \n",
    "          \"Accuracy\": 'accuracy'}\n",
    "grid_NB=GridSearchCV(GNB ,param_grid=params_NB, n_jobs=-1 , cv=10 , verbose = 5,\n",
    "                         scoring=scorer , refit='F1')\n",
    "grid_NB.fit(X_train , y_train )\n",
    "print('best paramters= {}\\nbest score= {}'.format(grid_NB.best_params_ , grid_NB.best_score_) )"
   ]
  },
  {
   "cell_type": "markdown",
   "metadata": {},
   "source": [
    "### Metrics"
   ]
  },
  {
   "cell_type": "code",
   "execution_count": 31,
   "metadata": {
    "ExecuteTime": {
     "end_time": "2022-09-12T05:41:25.840439Z",
     "start_time": "2022-09-12T05:41:25.821495Z"
    }
   },
   "outputs": [
    {
     "data": {
      "text/html": [
       "<div>\n",
       "<style scoped>\n",
       "    .dataframe tbody tr th:only-of-type {\n",
       "        vertical-align: middle;\n",
       "    }\n",
       "\n",
       "    .dataframe tbody tr th {\n",
       "        vertical-align: top;\n",
       "    }\n",
       "\n",
       "    .dataframe thead th {\n",
       "        text-align: right;\n",
       "    }\n",
       "</style>\n",
       "<table border=\"1\" class=\"dataframe\">\n",
       "  <thead>\n",
       "    <tr style=\"text-align: right;\">\n",
       "      <th></th>\n",
       "      <th>most_frequent</th>\n",
       "      <th>stratified</th>\n",
       "      <th>uniform</th>\n",
       "      <th>Value_LogReg</th>\n",
       "      <th>Value_KNN</th>\n",
       "      <th>Value_LDA</th>\n",
       "      <th>Value_GNB</th>\n",
       "    </tr>\n",
       "  </thead>\n",
       "  <tbody>\n",
       "    <tr>\n",
       "      <th>F1 Score</th>\n",
       "      <td>0.609756</td>\n",
       "      <td>0.459770</td>\n",
       "      <td>0.478178</td>\n",
       "      <td>0.952569</td>\n",
       "      <td>0.921529</td>\n",
       "      <td>0.942574</td>\n",
       "      <td>0.909091</td>\n",
       "    </tr>\n",
       "    <tr>\n",
       "      <th>accuracy</th>\n",
       "      <td>0.438596</td>\n",
       "      <td>0.505263</td>\n",
       "      <td>0.517544</td>\n",
       "      <td>0.957895</td>\n",
       "      <td>0.931579</td>\n",
       "      <td>0.949123</td>\n",
       "      <td>0.922807</td>\n",
       "    </tr>\n",
       "    <tr>\n",
       "      <th>ROC AUC</th>\n",
       "      <td>0.500000</td>\n",
       "      <td>0.502500</td>\n",
       "      <td>0.516062</td>\n",
       "      <td>0.958562</td>\n",
       "      <td>0.929875</td>\n",
       "      <td>0.949438</td>\n",
       "      <td>0.918125</td>\n",
       "    </tr>\n",
       "    <tr>\n",
       "      <th>Precision</th>\n",
       "      <td>0.438596</td>\n",
       "      <td>0.441176</td>\n",
       "      <td>0.454874</td>\n",
       "      <td>0.941406</td>\n",
       "      <td>0.927126</td>\n",
       "      <td>0.933333</td>\n",
       "      <td>0.940171</td>\n",
       "    </tr>\n",
       "    <tr>\n",
       "      <th>Recall</th>\n",
       "      <td>1.000000</td>\n",
       "      <td>0.480000</td>\n",
       "      <td>0.504000</td>\n",
       "      <td>0.964000</td>\n",
       "      <td>0.916000</td>\n",
       "      <td>0.952000</td>\n",
       "      <td>0.880000</td>\n",
       "    </tr>\n",
       "  </tbody>\n",
       "</table>\n",
       "</div>"
      ],
      "text/plain": [
       "           most_frequent  stratified   uniform  Value_LogReg  Value_KNN  \\\n",
       "F1 Score        0.609756    0.459770  0.478178      0.952569   0.921529   \n",
       "accuracy        0.438596    0.505263  0.517544      0.957895   0.931579   \n",
       "ROC AUC         0.500000    0.502500  0.516062      0.958562   0.929875   \n",
       "Precision       0.438596    0.441176  0.454874      0.941406   0.927126   \n",
       "Recall          1.000000    0.480000  0.504000      0.964000   0.916000   \n",
       "\n",
       "           Value_LDA  Value_GNB  \n",
       "F1 Score    0.942574   0.909091  \n",
       "accuracy    0.949123   0.922807  \n",
       "ROC AUC     0.949438   0.918125  \n",
       "Precision   0.933333   0.940171  \n",
       "Recall      0.952000   0.880000  "
      ]
     },
     "execution_count": 31,
     "metadata": {},
     "output_type": "execute_result"
    }
   ],
   "source": [
    "df_metric['Value_GNB'] = metric_calculator(y_test , grid_NB.predict(X_test))\n",
    "df_metric"
   ]
  },
  {
   "cell_type": "markdown",
   "metadata": {},
   "source": [
    "### Health Score for All"
   ]
  },
  {
   "cell_type": "code",
   "execution_count": 32,
   "metadata": {
    "ExecuteTime": {
     "end_time": "2022-09-12T05:41:29.301129Z",
     "start_time": "2022-09-12T05:41:29.281149Z"
    }
   },
   "outputs": [
    {
     "data": {
      "text/html": [
       "<div>\n",
       "<style scoped>\n",
       "    .dataframe tbody tr th:only-of-type {\n",
       "        vertical-align: middle;\n",
       "    }\n",
       "\n",
       "    .dataframe tbody tr th {\n",
       "        vertical-align: top;\n",
       "    }\n",
       "\n",
       "    .dataframe thead th {\n",
       "        text-align: right;\n",
       "    }\n",
       "</style>\n",
       "<table border=\"1\" class=\"dataframe\">\n",
       "  <thead>\n",
       "    <tr style=\"text-align: right;\">\n",
       "      <th></th>\n",
       "      <th>no_warning_sign</th>\n",
       "      <th>BizActive?</th>\n",
       "      <th>AddedUsers/BoughtUser</th>\n",
       "      <th>ActiveUsers/AddedUsers</th>\n",
       "      <th>#Activities</th>\n",
       "      <th>ActivitiesWoutDeal/#Activities</th>\n",
       "      <th>AvgDelayTimeActivity</th>\n",
       "      <th>#Activities/#Deals</th>\n",
       "      <th>%NoAcquitance</th>\n",
       "      <th>TransformationSpeed</th>\n",
       "      <th>TransformationRate</th>\n",
       "      <th>%NoReasonFailure</th>\n",
       "      <th>#OngoingDeals/#Total(Correct)Deals</th>\n",
       "      <th>BizIsExpired?</th>\n",
       "      <th>Health_Score</th>\n",
       "      <th>BizDomainsId</th>\n",
       "    </tr>\n",
       "  </thead>\n",
       "  <tbody>\n",
       "    <tr>\n",
       "      <th>0</th>\n",
       "      <td>0.000000</td>\n",
       "      <td>0</td>\n",
       "      <td>0.642724</td>\n",
       "      <td>0.181397</td>\n",
       "      <td>1</td>\n",
       "      <td>0.866667</td>\n",
       "      <td>4</td>\n",
       "      <td>1.068966</td>\n",
       "      <td>0.310345</td>\n",
       "      <td>2</td>\n",
       "      <td>2</td>\n",
       "      <td>3</td>\n",
       "      <td>0.500000</td>\n",
       "      <td>1</td>\n",
       "      <td>0.001406</td>\n",
       "      <td>0006df37-709c-4121-be9e-5210adc6a044</td>\n",
       "    </tr>\n",
       "    <tr>\n",
       "      <th>1</th>\n",
       "      <td>0.238875</td>\n",
       "      <td>1</td>\n",
       "      <td>0.398507</td>\n",
       "      <td>0.274307</td>\n",
       "      <td>3</td>\n",
       "      <td>0.662252</td>\n",
       "      <td>3</td>\n",
       "      <td>0.688889</td>\n",
       "      <td>0.917526</td>\n",
       "      <td>2</td>\n",
       "      <td>2</td>\n",
       "      <td>1</td>\n",
       "      <td>0.627451</td>\n",
       "      <td>0</td>\n",
       "      <td>8.872109</td>\n",
       "      <td>002d52c3-6c10-41a5-a4b2-91422a1ab307</td>\n",
       "    </tr>\n",
       "    <tr>\n",
       "      <th>2</th>\n",
       "      <td>0.822599</td>\n",
       "      <td>0</td>\n",
       "      <td>1.000000</td>\n",
       "      <td>0.949580</td>\n",
       "      <td>1</td>\n",
       "      <td>0.000000</td>\n",
       "      <td>4</td>\n",
       "      <td>1.444444</td>\n",
       "      <td>0.000000</td>\n",
       "      <td>1</td>\n",
       "      <td>3</td>\n",
       "      <td>1</td>\n",
       "      <td>0.846154</td>\n",
       "      <td>1</td>\n",
       "      <td>0.845992</td>\n",
       "      <td>00428596-e168-49ce-8428-7949cd2215ea</td>\n",
       "    </tr>\n",
       "    <tr>\n",
       "      <th>3</th>\n",
       "      <td>0.000000</td>\n",
       "      <td>0</td>\n",
       "      <td>1.000000</td>\n",
       "      <td>0.211382</td>\n",
       "      <td>1</td>\n",
       "      <td>1.000000</td>\n",
       "      <td>3</td>\n",
       "      <td>0.000000</td>\n",
       "      <td>0.602430</td>\n",
       "      <td>2</td>\n",
       "      <td>2</td>\n",
       "      <td>2</td>\n",
       "      <td>0.506440</td>\n",
       "      <td>1</td>\n",
       "      <td>0.004509</td>\n",
       "      <td>0049986f-b17d-44ef-992f-88d478dd21b8</td>\n",
       "    </tr>\n",
       "    <tr>\n",
       "      <th>4</th>\n",
       "      <td>0.082940</td>\n",
       "      <td>1</td>\n",
       "      <td>1.000000</td>\n",
       "      <td>0.804726</td>\n",
       "      <td>4</td>\n",
       "      <td>0.773725</td>\n",
       "      <td>2</td>\n",
       "      <td>3.579350</td>\n",
       "      <td>0.182724</td>\n",
       "      <td>2</td>\n",
       "      <td>1</td>\n",
       "      <td>2</td>\n",
       "      <td>0.013858</td>\n",
       "      <td>0</td>\n",
       "      <td>9.614149</td>\n",
       "      <td>004c3ec1-da71-494d-9adb-8a4e660f9257</td>\n",
       "    </tr>\n",
       "  </tbody>\n",
       "</table>\n",
       "</div>"
      ],
      "text/plain": [
       "   no_warning_sign  BizActive?  AddedUsers/BoughtUser  ActiveUsers/AddedUsers  \\\n",
       "0         0.000000           0               0.642724                0.181397   \n",
       "1         0.238875           1               0.398507                0.274307   \n",
       "2         0.822599           0               1.000000                0.949580   \n",
       "3         0.000000           0               1.000000                0.211382   \n",
       "4         0.082940           1               1.000000                0.804726   \n",
       "\n",
       "   #Activities  ActivitiesWoutDeal/#Activities  AvgDelayTimeActivity  \\\n",
       "0            1                        0.866667                     4   \n",
       "1            3                        0.662252                     3   \n",
       "2            1                        0.000000                     4   \n",
       "3            1                        1.000000                     3   \n",
       "4            4                        0.773725                     2   \n",
       "\n",
       "   #Activities/#Deals  %NoAcquitance  TransformationSpeed  TransformationRate  \\\n",
       "0            1.068966       0.310345                    2                   2   \n",
       "1            0.688889       0.917526                    2                   2   \n",
       "2            1.444444       0.000000                    1                   3   \n",
       "3            0.000000       0.602430                    2                   2   \n",
       "4            3.579350       0.182724                    2                   1   \n",
       "\n",
       "   %NoReasonFailure  #OngoingDeals/#Total(Correct)Deals  BizIsExpired?  \\\n",
       "0                 3                            0.500000              1   \n",
       "1                 1                            0.627451              0   \n",
       "2                 1                            0.846154              1   \n",
       "3                 2                            0.506440              1   \n",
       "4                 2                            0.013858              0   \n",
       "\n",
       "   Health_Score                          BizDomainsId  \n",
       "0      0.001406  0006df37-709c-4121-be9e-5210adc6a044  \n",
       "1      8.872109  002d52c3-6c10-41a5-a4b2-91422a1ab307  \n",
       "2      0.845992  00428596-e168-49ce-8428-7949cd2215ea  \n",
       "3      0.004509  0049986f-b17d-44ef-992f-88d478dd21b8  \n",
       "4      9.614149  004c3ec1-da71-494d-9adb-8a4e660f9257  "
      ]
     },
     "execution_count": 32,
     "metadata": {},
     "output_type": "execute_result"
    }
   ],
   "source": [
    "GNB = GaussianNB(var_smoothing = 0.01519911082952933)\n",
    "y_dec_GNB = ((GNB.fit(X, y)).predict_proba(X)[:,1]).reshape(-1,1)\n",
    "y_dec_GNB = MinMaxScaler(feature_range=(0, 10)).fit_transform(y_dec_GNB)\n",
    "df_medoid['Health_Score'] = 10 - y_dec_GNB\n",
    "df_medoid.head()"
   ]
  },
  {
   "cell_type": "markdown",
   "metadata": {},
   "source": [
    "### Successful Customers Checking"
   ]
  },
  {
   "cell_type": "code",
   "execution_count": 33,
   "metadata": {
    "ExecuteTime": {
     "end_time": "2022-09-12T05:41:31.576972Z",
     "start_time": "2022-09-12T05:41:31.263214Z"
    }
   },
   "outputs": [
    {
     "data": {
      "image/png": "[encoded data removed]",
      "text/plain": [
       "<Figure size 500x300 with 1 Axes>"
      ]
     },
     "metadata": {},
     "output_type": "display_data"
    }
   ],
   "source": [
    "successful  = pd.read_csv(r\"SuccesfulCustomers.csv\")\n",
    "successful = successful['BizDomainId'].str.lower()\n",
    "plt.figure(figsize=(5,3))\n",
    "plt.style.use('seaborn')\n",
    "sns.histplot(df_medoid.loc[df_medoid['BizDomainsId'].isin(successful),'Health_Score'])\n",
    "plt.title('Histogram of Successful BizDomains')\n",
    "plt.tight_layout()\n",
    "plt.savefig('27. GNaiveBayes Successful Biz.jpg',dpi=200)\n",
    "plt.show()"
   ]
  },
  {
   "cell_type": "markdown",
   "metadata": {},
   "source": [
    "### Export"
   ]
  },
  {
   "cell_type": "code",
   "execution_count": 34,
   "metadata": {
    "ExecuteTime": {
     "end_time": "2022-09-12T05:41:33.786035Z",
     "start_time": "2022-09-12T05:41:33.743185Z"
    }
   },
   "outputs": [],
   "source": [
    "# df_medoid.to_csv('4. medoid k=2 GNB Report.csv')"
   ]
  },
  {
   "cell_type": "markdown",
   "metadata": {},
   "source": [
    "## RandomForest"
   ]
  },
  {
   "cell_type": "markdown",
   "metadata": {},
   "source": [
    "### GridSearch"
   ]
  },
  {
   "cell_type": "code",
   "execution_count": 35,
   "metadata": {
    "ExecuteTime": {
     "end_time": "2022-09-12T05:43:24.009353Z",
     "start_time": "2022-09-12T05:42:03.149193Z"
    }
   },
   "outputs": [
    {
     "name": "stdout",
     "output_type": "stream",
     "text": [
      "Fitting 10 folds for each of 54 candidates, totalling 540 fits\n",
      "best paramters= {'criterion': 'log_loss', 'max_depth': 14, 'n_estimators': 200}\n",
      "best score= 0.9610462912898106\n"
     ]
    }
   ],
   "source": [
    "RFC = RandomForestClassifier(bootstrap=True , oob_score=True)\n",
    "params_RFC = {'n_estimators':[100,200,300],'criterion':['gini', 'entropy', 'log_loss'],\n",
    "             'max_depth':np.arange(10,16)}\n",
    "scorer = {\"AUC\": \"roc_auc\", \"F1\": make_scorer(f1_score) , \n",
    "          \"Accuracy\": 'accuracy'}\n",
    "grid_RFC=GridSearchCV(RFC ,param_grid=params_RFC, n_jobs=-1 , cv=10 , verbose = 10,\n",
    "                         scoring=scorer , refit='F1')\n",
    "grid_RFC.fit(X_train , y_train )\n",
    "print('best paramters= {}\\nbest score= {}'.format(grid_RFC.best_params_ , grid_RFC.best_score_) )"
   ]
  },
  {
   "cell_type": "markdown",
   "metadata": {},
   "source": [
    "### Metrics"
   ]
  },
  {
   "cell_type": "code",
   "execution_count": 36,
   "metadata": {
    "ExecuteTime": {
     "end_time": "2022-09-12T05:58:43.074448Z",
     "start_time": "2022-09-12T05:58:43.013622Z"
    }
   },
   "outputs": [
    {
     "data": {
      "text/html": [
       "<div>\n",
       "<style scoped>\n",
       "    .dataframe tbody tr th:only-of-type {\n",
       "        vertical-align: middle;\n",
       "    }\n",
       "\n",
       "    .dataframe tbody tr th {\n",
       "        vertical-align: top;\n",
       "    }\n",
       "\n",
       "    .dataframe thead th {\n",
       "        text-align: right;\n",
       "    }\n",
       "</style>\n",
       "<table border=\"1\" class=\"dataframe\">\n",
       "  <thead>\n",
       "    <tr style=\"text-align: right;\">\n",
       "      <th></th>\n",
       "      <th>most_frequent</th>\n",
       "      <th>stratified</th>\n",
       "      <th>uniform</th>\n",
       "      <th>Value_LogReg</th>\n",
       "      <th>Value_KNN</th>\n",
       "      <th>Value_LDA</th>\n",
       "      <th>Value_GNB</th>\n",
       "      <th>Value_RFC</th>\n",
       "    </tr>\n",
       "  </thead>\n",
       "  <tbody>\n",
       "    <tr>\n",
       "      <th>F1 Score</th>\n",
       "      <td>0.609756</td>\n",
       "      <td>0.459770</td>\n",
       "      <td>0.478178</td>\n",
       "      <td>0.952569</td>\n",
       "      <td>0.921529</td>\n",
       "      <td>0.942574</td>\n",
       "      <td>0.909091</td>\n",
       "      <td>0.937008</td>\n",
       "    </tr>\n",
       "    <tr>\n",
       "      <th>accuracy</th>\n",
       "      <td>0.438596</td>\n",
       "      <td>0.505263</td>\n",
       "      <td>0.517544</td>\n",
       "      <td>0.957895</td>\n",
       "      <td>0.931579</td>\n",
       "      <td>0.949123</td>\n",
       "      <td>0.922807</td>\n",
       "      <td>0.943860</td>\n",
       "    </tr>\n",
       "    <tr>\n",
       "      <th>ROC AUC</th>\n",
       "      <td>0.500000</td>\n",
       "      <td>0.502500</td>\n",
       "      <td>0.516062</td>\n",
       "      <td>0.958562</td>\n",
       "      <td>0.929875</td>\n",
       "      <td>0.949438</td>\n",
       "      <td>0.918125</td>\n",
       "      <td>0.944750</td>\n",
       "    </tr>\n",
       "    <tr>\n",
       "      <th>Precision</th>\n",
       "      <td>0.438596</td>\n",
       "      <td>0.441176</td>\n",
       "      <td>0.454874</td>\n",
       "      <td>0.941406</td>\n",
       "      <td>0.927126</td>\n",
       "      <td>0.933333</td>\n",
       "      <td>0.940171</td>\n",
       "      <td>0.922481</td>\n",
       "    </tr>\n",
       "    <tr>\n",
       "      <th>Recall</th>\n",
       "      <td>1.000000</td>\n",
       "      <td>0.480000</td>\n",
       "      <td>0.504000</td>\n",
       "      <td>0.964000</td>\n",
       "      <td>0.916000</td>\n",
       "      <td>0.952000</td>\n",
       "      <td>0.880000</td>\n",
       "      <td>0.952000</td>\n",
       "    </tr>\n",
       "  </tbody>\n",
       "</table>\n",
       "</div>"
      ],
      "text/plain": [
       "           most_frequent  stratified   uniform  Value_LogReg  Value_KNN  \\\n",
       "F1 Score        0.609756    0.459770  0.478178      0.952569   0.921529   \n",
       "accuracy        0.438596    0.505263  0.517544      0.957895   0.931579   \n",
       "ROC AUC         0.500000    0.502500  0.516062      0.958562   0.929875   \n",
       "Precision       0.438596    0.441176  0.454874      0.941406   0.927126   \n",
       "Recall          1.000000    0.480000  0.504000      0.964000   0.916000   \n",
       "\n",
       "           Value_LDA  Value_GNB  Value_RFC  \n",
       "F1 Score    0.942574   0.909091   0.937008  \n",
       "accuracy    0.949123   0.922807   0.943860  \n",
       "ROC AUC     0.949438   0.918125   0.944750  \n",
       "Precision   0.933333   0.940171   0.922481  \n",
       "Recall      0.952000   0.880000   0.952000  "
      ]
     },
     "execution_count": 36,
     "metadata": {},
     "output_type": "execute_result"
    }
   ],
   "source": [
    "df_metric['Value_RFC'] = metric_calculator(y_test , grid_RFC.predict(X_test))\n",
    "df_metric"
   ]
  },
  {
   "cell_type": "markdown",
   "metadata": {},
   "source": [
    "### Health Score for All"
   ]
  },
  {
   "cell_type": "code",
   "execution_count": 37,
   "metadata": {
    "ExecuteTime": {
     "end_time": "2022-09-12T05:59:06.036208Z",
     "start_time": "2022-09-12T05:59:05.174515Z"
    }
   },
   "outputs": [
    {
     "data": {
      "text/html": [
       "<div>\n",
       "<style scoped>\n",
       "    .dataframe tbody tr th:only-of-type {\n",
       "        vertical-align: middle;\n",
       "    }\n",
       "\n",
       "    .dataframe tbody tr th {\n",
       "        vertical-align: top;\n",
       "    }\n",
       "\n",
       "    .dataframe thead th {\n",
       "        text-align: right;\n",
       "    }\n",
       "</style>\n",
       "<table border=\"1\" class=\"dataframe\">\n",
       "  <thead>\n",
       "    <tr style=\"text-align: right;\">\n",
       "      <th></th>\n",
       "      <th>no_warning_sign</th>\n",
       "      <th>BizActive?</th>\n",
       "      <th>AddedUsers/BoughtUser</th>\n",
       "      <th>ActiveUsers/AddedUsers</th>\n",
       "      <th>#Activities</th>\n",
       "      <th>ActivitiesWoutDeal/#Activities</th>\n",
       "      <th>AvgDelayTimeActivity</th>\n",
       "      <th>#Activities/#Deals</th>\n",
       "      <th>%NoAcquitance</th>\n",
       "      <th>TransformationSpeed</th>\n",
       "      <th>TransformationRate</th>\n",
       "      <th>%NoReasonFailure</th>\n",
       "      <th>#OngoingDeals/#Total(Correct)Deals</th>\n",
       "      <th>BizIsExpired?</th>\n",
       "      <th>Health_Score</th>\n",
       "      <th>BizDomainsId</th>\n",
       "    </tr>\n",
       "  </thead>\n",
       "  <tbody>\n",
       "    <tr>\n",
       "      <th>0</th>\n",
       "      <td>0.000000</td>\n",
       "      <td>0</td>\n",
       "      <td>0.642724</td>\n",
       "      <td>0.181397</td>\n",
       "      <td>1</td>\n",
       "      <td>0.866667</td>\n",
       "      <td>4</td>\n",
       "      <td>1.068966</td>\n",
       "      <td>0.310345</td>\n",
       "      <td>2</td>\n",
       "      <td>2</td>\n",
       "      <td>3</td>\n",
       "      <td>0.500000</td>\n",
       "      <td>1</td>\n",
       "      <td>0.000000</td>\n",
       "      <td>0006df37-709c-4121-be9e-5210adc6a044</td>\n",
       "    </tr>\n",
       "    <tr>\n",
       "      <th>1</th>\n",
       "      <td>0.238875</td>\n",
       "      <td>1</td>\n",
       "      <td>0.398507</td>\n",
       "      <td>0.274307</td>\n",
       "      <td>3</td>\n",
       "      <td>0.662252</td>\n",
       "      <td>3</td>\n",
       "      <td>0.688889</td>\n",
       "      <td>0.917526</td>\n",
       "      <td>2</td>\n",
       "      <td>2</td>\n",
       "      <td>1</td>\n",
       "      <td>0.627451</td>\n",
       "      <td>0</td>\n",
       "      <td>9.598361</td>\n",
       "      <td>002d52c3-6c10-41a5-a4b2-91422a1ab307</td>\n",
       "    </tr>\n",
       "    <tr>\n",
       "      <th>2</th>\n",
       "      <td>0.822599</td>\n",
       "      <td>0</td>\n",
       "      <td>1.000000</td>\n",
       "      <td>0.949580</td>\n",
       "      <td>1</td>\n",
       "      <td>0.000000</td>\n",
       "      <td>4</td>\n",
       "      <td>1.444444</td>\n",
       "      <td>0.000000</td>\n",
       "      <td>1</td>\n",
       "      <td>3</td>\n",
       "      <td>1</td>\n",
       "      <td>0.846154</td>\n",
       "      <td>1</td>\n",
       "      <td>0.800000</td>\n",
       "      <td>00428596-e168-49ce-8428-7949cd2215ea</td>\n",
       "    </tr>\n",
       "    <tr>\n",
       "      <th>3</th>\n",
       "      <td>0.000000</td>\n",
       "      <td>0</td>\n",
       "      <td>1.000000</td>\n",
       "      <td>0.211382</td>\n",
       "      <td>1</td>\n",
       "      <td>1.000000</td>\n",
       "      <td>3</td>\n",
       "      <td>0.000000</td>\n",
       "      <td>0.602430</td>\n",
       "      <td>2</td>\n",
       "      <td>2</td>\n",
       "      <td>2</td>\n",
       "      <td>0.506440</td>\n",
       "      <td>1</td>\n",
       "      <td>0.000000</td>\n",
       "      <td>0049986f-b17d-44ef-992f-88d478dd21b8</td>\n",
       "    </tr>\n",
       "    <tr>\n",
       "      <th>4</th>\n",
       "      <td>0.082940</td>\n",
       "      <td>1</td>\n",
       "      <td>1.000000</td>\n",
       "      <td>0.804726</td>\n",
       "      <td>4</td>\n",
       "      <td>0.773725</td>\n",
       "      <td>2</td>\n",
       "      <td>3.579350</td>\n",
       "      <td>0.182724</td>\n",
       "      <td>2</td>\n",
       "      <td>1</td>\n",
       "      <td>2</td>\n",
       "      <td>0.013858</td>\n",
       "      <td>0</td>\n",
       "      <td>9.000000</td>\n",
       "      <td>004c3ec1-da71-494d-9adb-8a4e660f9257</td>\n",
       "    </tr>\n",
       "  </tbody>\n",
       "</table>\n",
       "</div>"
      ],
      "text/plain": [
       "   no_warning_sign  BizActive?  AddedUsers/BoughtUser  ActiveUsers/AddedUsers  \\\n",
       "0         0.000000           0               0.642724                0.181397   \n",
       "1         0.238875           1               0.398507                0.274307   \n",
       "2         0.822599           0               1.000000                0.949580   \n",
       "3         0.000000           0               1.000000                0.211382   \n",
       "4         0.082940           1               1.000000                0.804726   \n",
       "\n",
       "   #Activities  ActivitiesWoutDeal/#Activities  AvgDelayTimeActivity  \\\n",
       "0            1                        0.866667                     4   \n",
       "1            3                        0.662252                     3   \n",
       "2            1                        0.000000                     4   \n",
       "3            1                        1.000000                     3   \n",
       "4            4                        0.773725                     2   \n",
       "\n",
       "   #Activities/#Deals  %NoAcquitance  TransformationSpeed  TransformationRate  \\\n",
       "0            1.068966       0.310345                    2                   2   \n",
       "1            0.688889       0.917526                    2                   2   \n",
       "2            1.444444       0.000000                    1                   3   \n",
       "3            0.000000       0.602430                    2                   2   \n",
       "4            3.579350       0.182724                    2                   1   \n",
       "\n",
       "   %NoReasonFailure  #OngoingDeals/#Total(Correct)Deals  BizIsExpired?  \\\n",
       "0                 3                            0.500000              1   \n",
       "1                 1                            0.627451              0   \n",
       "2                 1                            0.846154              1   \n",
       "3                 2                            0.506440              1   \n",
       "4                 2                            0.013858              0   \n",
       "\n",
       "   Health_Score                          BizDomainsId  \n",
       "0      0.000000  0006df37-709c-4121-be9e-5210adc6a044  \n",
       "1      9.598361  002d52c3-6c10-41a5-a4b2-91422a1ab307  \n",
       "2      0.800000  00428596-e168-49ce-8428-7949cd2215ea  \n",
       "3      0.000000  0049986f-b17d-44ef-992f-88d478dd21b8  \n",
       "4      9.000000  004c3ec1-da71-494d-9adb-8a4e660f9257  "
      ]
     },
     "execution_count": 37,
     "metadata": {},
     "output_type": "execute_result"
    }
   ],
   "source": [
    "RFC = RandomForestClassifier(bootstrap=True , oob_score=True,\n",
    "                             criterion= 'log_loss', max_depth= 14, n_estimators= 200)\n",
    "y_dec_RFC = ((RFC.fit(X, y)).predict_proba(X)[:,1]).reshape(-1,1)\n",
    "y_dec_RFC = MinMaxScaler(feature_range=(0, 10)).fit_transform(y_dec_RFC)\n",
    "df_medoid['Health_Score'] = 10 - y_dec_RFC\n",
    "df_medoid.head()"
   ]
  },
  {
   "cell_type": "markdown",
   "metadata": {},
   "source": [
    "### Successful Customers Checking"
   ]
  },
  {
   "cell_type": "code",
   "execution_count": 38,
   "metadata": {
    "ExecuteTime": {
     "end_time": "2022-09-12T05:59:26.019824Z",
     "start_time": "2022-09-12T05:59:25.765506Z"
    }
   },
   "outputs": [
    {
     "data": {
      "image/png": "[encoded data removed]",
      "text/plain": [
       "<Figure size 500x300 with 1 Axes>"
      ]
     },
     "metadata": {},
     "output_type": "display_data"
    }
   ],
   "source": [
    "successful  = pd.read_csv(r\"SuccesfulCustomers.csv\")\n",
    "successful = successful['BizDomainId'].str.lower()\n",
    "plt.figure(figsize=(5,3))\n",
    "plt.style.use('seaborn')\n",
    "sns.histplot(df_medoid.loc[df_medoid['BizDomainsId'].isin(successful),'Health_Score'])\n",
    "plt.title('Histogram of Successful BizDomains')\n",
    "plt.tight_layout()\n",
    "# plt.savefig('28. LDA Successful Biz.jpg',dpi=200)\n",
    "plt.show()"
   ]
  },
  {
   "cell_type": "markdown",
   "metadata": {},
   "source": [
    "### Export"
   ]
  },
  {
   "cell_type": "code",
   "execution_count": 39,
   "metadata": {
    "ExecuteTime": {
     "end_time": "2022-09-12T05:59:48.570999Z",
     "start_time": "2022-09-12T05:59:48.531105Z"
    }
   },
   "outputs": [],
   "source": [
    "# df_medoid.to_csv('5. medoid k=2 LDA Report.csv')"
   ]
  },
  {
   "cell_type": "markdown",
   "metadata": {},
   "source": [
    "## AdaBoost (BEST)"
   ]
  },
  {
   "cell_type": "markdown",
   "metadata": {},
   "source": [
    "### GridSearch"
   ]
  },
  {
   "cell_type": "code",
   "execution_count": 40,
   "metadata": {
    "ExecuteTime": {
     "end_time": "2022-09-12T06:03:41.905343Z",
     "start_time": "2022-09-12T06:00:15.313529Z"
    }
   },
   "outputs": [
    {
     "name": "stdout",
     "output_type": "stream",
     "text": [
      "Fitting 30 folds for each of 100 candidates, totalling 3000 fits\n",
      "best paramters= {'algorithm': 'SAMME', 'learning_rate': 0.1, 'n_estimators': 90}\n",
      "best score= 0.9534011321572026\n"
     ]
    }
   ],
   "source": [
    "ABC = AdaBoostClassifier(base_estimator =LogisticRegression())\n",
    "params_ABC = {\n",
    "              'n_estimators':np.arange(10,110,10) , 'learning_rate':[0.0001, 0.001, 0.01, 0.1, 1.0],\n",
    "             'algorithm': ['SAMME', 'SAMME.R']},\n",
    "\n",
    "scorer = {\"AUC\": \"roc_auc\", \"F1\": make_scorer(f1_score) , \n",
    "          \"Accuracy\": 'accuracy'}\n",
    "cv = RepeatedStratifiedKFold(n_splits=10, n_repeats=3, random_state=1)\n",
    "grid_ABC=GridSearchCV(ABC ,param_grid=params_ABC, n_jobs=-1 , cv=cv , verbose = 5,\n",
    "                         scoring=scorer , refit='F1')\n",
    "grid_ABC.fit(X_train , y_train )\n",
    "print('best paramters= {}\\nbest score= {}'.format(grid_ABC.best_params_ , grid_ABC.best_score_) )"
   ]
  },
  {
   "cell_type": "markdown",
   "metadata": {},
   "source": [
    "### Metrics"
   ]
  },
  {
   "cell_type": "code",
   "execution_count": 41,
   "metadata": {
    "ExecuteTime": {
     "end_time": "2022-09-12T06:03:43.054555Z",
     "start_time": "2022-09-12T06:03:43.026631Z"
    }
   },
   "outputs": [
    {
     "data": {
      "text/html": [
       "<div>\n",
       "<style scoped>\n",
       "    .dataframe tbody tr th:only-of-type {\n",
       "        vertical-align: middle;\n",
       "    }\n",
       "\n",
       "    .dataframe tbody tr th {\n",
       "        vertical-align: top;\n",
       "    }\n",
       "\n",
       "    .dataframe thead th {\n",
       "        text-align: right;\n",
       "    }\n",
       "</style>\n",
       "<table border=\"1\" class=\"dataframe\">\n",
       "  <thead>\n",
       "    <tr style=\"text-align: right;\">\n",
       "      <th></th>\n",
       "      <th>most_frequent</th>\n",
       "      <th>stratified</th>\n",
       "      <th>uniform</th>\n",
       "      <th>Value_LogReg</th>\n",
       "      <th>Value_KNN</th>\n",
       "      <th>Value_LDA</th>\n",
       "      <th>Value_GNB</th>\n",
       "      <th>Value_RFC</th>\n",
       "    </tr>\n",
       "  </thead>\n",
       "  <tbody>\n",
       "    <tr>\n",
       "      <th>F1 Score</th>\n",
       "      <td>0.609756</td>\n",
       "      <td>0.459770</td>\n",
       "      <td>0.478178</td>\n",
       "      <td>0.952569</td>\n",
       "      <td>0.921529</td>\n",
       "      <td>0.942574</td>\n",
       "      <td>0.909091</td>\n",
       "      <td>0.950884</td>\n",
       "    </tr>\n",
       "    <tr>\n",
       "      <th>accuracy</th>\n",
       "      <td>0.438596</td>\n",
       "      <td>0.505263</td>\n",
       "      <td>0.517544</td>\n",
       "      <td>0.957895</td>\n",
       "      <td>0.931579</td>\n",
       "      <td>0.949123</td>\n",
       "      <td>0.922807</td>\n",
       "      <td>0.956140</td>\n",
       "    </tr>\n",
       "    <tr>\n",
       "      <th>ROC AUC</th>\n",
       "      <td>0.500000</td>\n",
       "      <td>0.502500</td>\n",
       "      <td>0.516062</td>\n",
       "      <td>0.958562</td>\n",
       "      <td>0.929875</td>\n",
       "      <td>0.949438</td>\n",
       "      <td>0.918125</td>\n",
       "      <td>0.957438</td>\n",
       "    </tr>\n",
       "    <tr>\n",
       "      <th>Precision</th>\n",
       "      <td>0.438596</td>\n",
       "      <td>0.441176</td>\n",
       "      <td>0.454874</td>\n",
       "      <td>0.941406</td>\n",
       "      <td>0.927126</td>\n",
       "      <td>0.933333</td>\n",
       "      <td>0.940171</td>\n",
       "      <td>0.934363</td>\n",
       "    </tr>\n",
       "    <tr>\n",
       "      <th>Recall</th>\n",
       "      <td>1.000000</td>\n",
       "      <td>0.480000</td>\n",
       "      <td>0.504000</td>\n",
       "      <td>0.964000</td>\n",
       "      <td>0.916000</td>\n",
       "      <td>0.952000</td>\n",
       "      <td>0.880000</td>\n",
       "      <td>0.968000</td>\n",
       "    </tr>\n",
       "  </tbody>\n",
       "</table>\n",
       "</div>"
      ],
      "text/plain": [
       "           most_frequent  stratified   uniform  Value_LogReg  Value_KNN  \\\n",
       "F1 Score        0.609756    0.459770  0.478178      0.952569   0.921529   \n",
       "accuracy        0.438596    0.505263  0.517544      0.957895   0.931579   \n",
       "ROC AUC         0.500000    0.502500  0.516062      0.958562   0.929875   \n",
       "Precision       0.438596    0.441176  0.454874      0.941406   0.927126   \n",
       "Recall          1.000000    0.480000  0.504000      0.964000   0.916000   \n",
       "\n",
       "           Value_LDA  Value_GNB  Value_RFC  \n",
       "F1 Score    0.942574   0.909091   0.950884  \n",
       "accuracy    0.949123   0.922807   0.956140  \n",
       "ROC AUC     0.949438   0.918125   0.957438  \n",
       "Precision   0.933333   0.940171   0.934363  \n",
       "Recall      0.952000   0.880000   0.968000  "
      ]
     },
     "execution_count": 41,
     "metadata": {},
     "output_type": "execute_result"
    }
   ],
   "source": [
    "df_metric['Value_RFC'] = metric_calculator(y_test , grid_ABC.predict(X_test))\n",
    "df_metric"
   ]
  },
  {
   "cell_type": "markdown",
   "metadata": {},
   "source": [
    "### Health Score for All"
   ]
  },
  {
   "cell_type": "code",
   "execution_count": 42,
   "metadata": {
    "ExecuteTime": {
     "end_time": "2022-09-12T06:31:38.783515Z",
     "start_time": "2022-09-12T06:31:38.184543Z"
    }
   },
   "outputs": [
    {
     "data": {
      "text/html": [
       "<div>\n",
       "<style scoped>\n",
       "    .dataframe tbody tr th:only-of-type {\n",
       "        vertical-align: middle;\n",
       "    }\n",
       "\n",
       "    .dataframe tbody tr th {\n",
       "        vertical-align: top;\n",
       "    }\n",
       "\n",
       "    .dataframe thead th {\n",
       "        text-align: right;\n",
       "    }\n",
       "</style>\n",
       "<table border=\"1\" class=\"dataframe\">\n",
       "  <thead>\n",
       "    <tr style=\"text-align: right;\">\n",
       "      <th></th>\n",
       "      <th>no_warning_sign</th>\n",
       "      <th>BizActive?</th>\n",
       "      <th>AddedUsers/BoughtUser</th>\n",
       "      <th>ActiveUsers/AddedUsers</th>\n",
       "      <th>#Activities</th>\n",
       "      <th>ActivitiesWoutDeal/#Activities</th>\n",
       "      <th>AvgDelayTimeActivity</th>\n",
       "      <th>#Activities/#Deals</th>\n",
       "      <th>%NoAcquitance</th>\n",
       "      <th>TransformationSpeed</th>\n",
       "      <th>TransformationRate</th>\n",
       "      <th>%NoReasonFailure</th>\n",
       "      <th>#OngoingDeals/#Total(Correct)Deals</th>\n",
       "      <th>BizIsExpired?</th>\n",
       "      <th>Health_Score</th>\n",
       "      <th>BizDomainsId</th>\n",
       "    </tr>\n",
       "  </thead>\n",
       "  <tbody>\n",
       "    <tr>\n",
       "      <th>0</th>\n",
       "      <td>0.000000</td>\n",
       "      <td>0</td>\n",
       "      <td>0.642724</td>\n",
       "      <td>0.181397</td>\n",
       "      <td>1</td>\n",
       "      <td>0.866667</td>\n",
       "      <td>4</td>\n",
       "      <td>1.068966</td>\n",
       "      <td>0.310345</td>\n",
       "      <td>2</td>\n",
       "      <td>2</td>\n",
       "      <td>3</td>\n",
       "      <td>0.500000</td>\n",
       "      <td>1</td>\n",
       "      <td>0.000000</td>\n",
       "      <td>0006df37-709c-4121-be9e-5210adc6a044</td>\n",
       "    </tr>\n",
       "    <tr>\n",
       "      <th>1</th>\n",
       "      <td>0.238875</td>\n",
       "      <td>1</td>\n",
       "      <td>0.398507</td>\n",
       "      <td>0.274307</td>\n",
       "      <td>3</td>\n",
       "      <td>0.662252</td>\n",
       "      <td>3</td>\n",
       "      <td>0.688889</td>\n",
       "      <td>0.917526</td>\n",
       "      <td>2</td>\n",
       "      <td>2</td>\n",
       "      <td>1</td>\n",
       "      <td>0.627451</td>\n",
       "      <td>0</td>\n",
       "      <td>8.523139</td>\n",
       "      <td>002d52c3-6c10-41a5-a4b2-91422a1ab307</td>\n",
       "    </tr>\n",
       "    <tr>\n",
       "      <th>2</th>\n",
       "      <td>0.822599</td>\n",
       "      <td>0</td>\n",
       "      <td>1.000000</td>\n",
       "      <td>0.949580</td>\n",
       "      <td>1</td>\n",
       "      <td>0.000000</td>\n",
       "      <td>4</td>\n",
       "      <td>1.444444</td>\n",
       "      <td>0.000000</td>\n",
       "      <td>1</td>\n",
       "      <td>3</td>\n",
       "      <td>1</td>\n",
       "      <td>0.846154</td>\n",
       "      <td>1</td>\n",
       "      <td>4.252191</td>\n",
       "      <td>00428596-e168-49ce-8428-7949cd2215ea</td>\n",
       "    </tr>\n",
       "    <tr>\n",
       "      <th>3</th>\n",
       "      <td>0.000000</td>\n",
       "      <td>0</td>\n",
       "      <td>1.000000</td>\n",
       "      <td>0.211382</td>\n",
       "      <td>1</td>\n",
       "      <td>1.000000</td>\n",
       "      <td>3</td>\n",
       "      <td>0.000000</td>\n",
       "      <td>0.602430</td>\n",
       "      <td>2</td>\n",
       "      <td>2</td>\n",
       "      <td>2</td>\n",
       "      <td>0.506440</td>\n",
       "      <td>1</td>\n",
       "      <td>0.000000</td>\n",
       "      <td>0049986f-b17d-44ef-992f-88d478dd21b8</td>\n",
       "    </tr>\n",
       "    <tr>\n",
       "      <th>4</th>\n",
       "      <td>0.082940</td>\n",
       "      <td>1</td>\n",
       "      <td>1.000000</td>\n",
       "      <td>0.804726</td>\n",
       "      <td>4</td>\n",
       "      <td>0.773725</td>\n",
       "      <td>2</td>\n",
       "      <td>3.579350</td>\n",
       "      <td>0.182724</td>\n",
       "      <td>2</td>\n",
       "      <td>1</td>\n",
       "      <td>2</td>\n",
       "      <td>0.013858</td>\n",
       "      <td>0</td>\n",
       "      <td>6.633432</td>\n",
       "      <td>004c3ec1-da71-494d-9adb-8a4e660f9257</td>\n",
       "    </tr>\n",
       "  </tbody>\n",
       "</table>\n",
       "</div>"
      ],
      "text/plain": [
       "   no_warning_sign  BizActive?  AddedUsers/BoughtUser  ActiveUsers/AddedUsers  \\\n",
       "0         0.000000           0               0.642724                0.181397   \n",
       "1         0.238875           1               0.398507                0.274307   \n",
       "2         0.822599           0               1.000000                0.949580   \n",
       "3         0.000000           0               1.000000                0.211382   \n",
       "4         0.082940           1               1.000000                0.804726   \n",
       "\n",
       "   #Activities  ActivitiesWoutDeal/#Activities  AvgDelayTimeActivity  \\\n",
       "0            1                        0.866667                     4   \n",
       "1            3                        0.662252                     3   \n",
       "2            1                        0.000000                     4   \n",
       "3            1                        1.000000                     3   \n",
       "4            4                        0.773725                     2   \n",
       "\n",
       "   #Activities/#Deals  %NoAcquitance  TransformationSpeed  TransformationRate  \\\n",
       "0            1.068966       0.310345                    2                   2   \n",
       "1            0.688889       0.917526                    2                   2   \n",
       "2            1.444444       0.000000                    1                   3   \n",
       "3            0.000000       0.602430                    2                   2   \n",
       "4            3.579350       0.182724                    2                   1   \n",
       "\n",
       "   %NoReasonFailure  #OngoingDeals/#Total(Correct)Deals  BizIsExpired?  \\\n",
       "0                 3                            0.500000              1   \n",
       "1                 1                            0.627451              0   \n",
       "2                 1                            0.846154              1   \n",
       "3                 2                            0.506440              1   \n",
       "4                 2                            0.013858              0   \n",
       "\n",
       "   Health_Score                          BizDomainsId  \n",
       "0      0.000000  0006df37-709c-4121-be9e-5210adc6a044  \n",
       "1      8.523139  002d52c3-6c10-41a5-a4b2-91422a1ab307  \n",
       "2      4.252191  00428596-e168-49ce-8428-7949cd2215ea  \n",
       "3      0.000000  0049986f-b17d-44ef-992f-88d478dd21b8  \n",
       "4      6.633432  004c3ec1-da71-494d-9adb-8a4e660f9257  "
      ]
     },
     "execution_count": 42,
     "metadata": {},
     "output_type": "execute_result"
    }
   ],
   "source": [
    "ABC = AdaBoostClassifier(base_estimator =LogisticRegression() , algorithm='SAMME',\n",
    "                        learning_rate=0.1 , n_estimators=90)\n",
    "y_dec_ABC = ((ABC.fit(X, y)).decision_function(X)).reshape(-1,1)\n",
    "y_dec_ABC = MinMaxScaler(feature_range=(0, 10)).fit_transform(y_dec_ABC)\n",
    "df_medoid['Health_Score'] = 10 - y_dec_ABC\n",
    "df_medoid.head()"
   ]
  },
  {
   "cell_type": "markdown",
   "metadata": {},
   "source": [
    "### Successful Customers Checking"
   ]
  },
  {
   "cell_type": "code",
   "execution_count": 43,
   "metadata": {
    "ExecuteTime": {
     "end_time": "2022-09-12T06:32:16.480472Z",
     "start_time": "2022-09-12T06:32:16.211166Z"
    }
   },
   "outputs": [
    {
     "data": {
      "image/png": "[encoded data removed]",
      "text/plain": [
       "<Figure size 500x300 with 1 Axes>"
      ]
     },
     "metadata": {},
     "output_type": "display_data"
    }
   ],
   "source": [
    "successful  = pd.read_csv(r\"SuccesfulCustomers.csv\")\n",
    "successful = successful['BizDomainId'].str.lower()\n",
    "plt.figure(figsize=(5,3))\n",
    "plt.style.use('seaborn')\n",
    "sns.histplot(df_medoid.loc[df_medoid['BizDomainsId'].isin(successful),'Health_Score'])\n",
    "plt.title('Histogram of Successful BizDomains')\n",
    "plt.tight_layout()\n",
    "# plt.savefig('29. Ada Successful Biz.jpg',dpi=200)\n",
    "plt.show()"
   ]
  },
  {
   "cell_type": "markdown",
   "metadata": {},
   "source": [
    "### Export"
   ]
  },
  {
   "cell_type": "code",
   "execution_count": 44,
   "metadata": {
    "ExecuteTime": {
     "end_time": "2022-09-12T06:32:44.353020Z",
     "start_time": "2022-09-12T06:32:44.312129Z"
    }
   },
   "outputs": [],
   "source": [
    "# df_medoid.to_csv('6. medoid k=2 ADA Report.csv')"
   ]
  },
  {
   "cell_type": "markdown",
   "metadata": {},
   "source": [
    "## SVC"
   ]
  },
  {
   "cell_type": "markdown",
   "metadata": {},
   "source": [
    "### GridSearch"
   ]
  },
  {
   "cell_type": "code",
   "execution_count": 45,
   "metadata": {
    "ExecuteTime": {
     "end_time": "2022-09-12T06:35:01.980580Z",
     "start_time": "2022-09-12T06:32:51.589970Z"
    }
   },
   "outputs": [
    {
     "name": "stdout",
     "output_type": "stream",
     "text": [
      "Fitting 30 folds for each of 80 candidates, totalling 2400 fits\n",
      "best paramters= {'C': 10, 'gamma': 'auto', 'kernel': 'rbf', 'shrinking': True}\n",
      "best score= 0.9539155374885117\n"
     ]
    }
   ],
   "source": [
    "svc = SVC()\n",
    "params_svc = {\n",
    "              'C':[0.1,1,10,100,250] , 'kernel':['linear', 'poly', 'rbf', 'sigmoid'],\n",
    "             'gamma': ['scale', 'auto'] , 'shrinking':[True , False]},\n",
    "\n",
    "scorer = {\"AUC\": \"roc_auc\", \"F1\": make_scorer(f1_score) , \n",
    "          \"Accuracy\": 'accuracy'}\n",
    "cv = RepeatedStratifiedKFold(n_splits=10, n_repeats=3, random_state=1)\n",
    "grid_svc=GridSearchCV(svc ,param_grid=params_svc, n_jobs=-1 , cv=cv , verbose = 5,\n",
    "                         scoring=scorer , refit='F1')\n",
    "grid_svc.fit(X_train , y_train )\n",
    "print('best paramters= {}\\nbest score= {}'.format(grid_svc.best_params_ , grid_svc.best_score_) )"
   ]
  },
  {
   "cell_type": "markdown",
   "metadata": {},
   "source": [
    "### Metrics"
   ]
  },
  {
   "cell_type": "code",
   "execution_count": 46,
   "metadata": {
    "ExecuteTime": {
     "end_time": "2022-09-12T06:35:03.281065Z",
     "start_time": "2022-09-12T06:35:03.238179Z"
    }
   },
   "outputs": [
    {
     "data": {
      "text/html": [
       "<div>\n",
       "<style scoped>\n",
       "    .dataframe tbody tr th:only-of-type {\n",
       "        vertical-align: middle;\n",
       "    }\n",
       "\n",
       "    .dataframe tbody tr th {\n",
       "        vertical-align: top;\n",
       "    }\n",
       "\n",
       "    .dataframe thead th {\n",
       "        text-align: right;\n",
       "    }\n",
       "</style>\n",
       "<table border=\"1\" class=\"dataframe\">\n",
       "  <thead>\n",
       "    <tr style=\"text-align: right;\">\n",
       "      <th></th>\n",
       "      <th>most_frequent</th>\n",
       "      <th>stratified</th>\n",
       "      <th>uniform</th>\n",
       "      <th>Value_LogReg</th>\n",
       "      <th>Value_KNN</th>\n",
       "      <th>Value_LDA</th>\n",
       "      <th>Value_GNB</th>\n",
       "      <th>Value_RFC</th>\n",
       "      <th>Value_SVC</th>\n",
       "    </tr>\n",
       "  </thead>\n",
       "  <tbody>\n",
       "    <tr>\n",
       "      <th>F1 Score</th>\n",
       "      <td>0.609756</td>\n",
       "      <td>0.459770</td>\n",
       "      <td>0.478178</td>\n",
       "      <td>0.952569</td>\n",
       "      <td>0.921529</td>\n",
       "      <td>0.942574</td>\n",
       "      <td>0.909091</td>\n",
       "      <td>0.950884</td>\n",
       "      <td>0.958084</td>\n",
       "    </tr>\n",
       "    <tr>\n",
       "      <th>accuracy</th>\n",
       "      <td>0.438596</td>\n",
       "      <td>0.505263</td>\n",
       "      <td>0.517544</td>\n",
       "      <td>0.957895</td>\n",
       "      <td>0.931579</td>\n",
       "      <td>0.949123</td>\n",
       "      <td>0.922807</td>\n",
       "      <td>0.956140</td>\n",
       "      <td>0.963158</td>\n",
       "    </tr>\n",
       "    <tr>\n",
       "      <th>ROC AUC</th>\n",
       "      <td>0.500000</td>\n",
       "      <td>0.502500</td>\n",
       "      <td>0.516062</td>\n",
       "      <td>0.958562</td>\n",
       "      <td>0.929875</td>\n",
       "      <td>0.949438</td>\n",
       "      <td>0.918125</td>\n",
       "      <td>0.957438</td>\n",
       "      <td>0.962812</td>\n",
       "    </tr>\n",
       "    <tr>\n",
       "      <th>Precision</th>\n",
       "      <td>0.438596</td>\n",
       "      <td>0.441176</td>\n",
       "      <td>0.454874</td>\n",
       "      <td>0.941406</td>\n",
       "      <td>0.927126</td>\n",
       "      <td>0.933333</td>\n",
       "      <td>0.940171</td>\n",
       "      <td>0.934363</td>\n",
       "      <td>0.956175</td>\n",
       "    </tr>\n",
       "    <tr>\n",
       "      <th>Recall</th>\n",
       "      <td>1.000000</td>\n",
       "      <td>0.480000</td>\n",
       "      <td>0.504000</td>\n",
       "      <td>0.964000</td>\n",
       "      <td>0.916000</td>\n",
       "      <td>0.952000</td>\n",
       "      <td>0.880000</td>\n",
       "      <td>0.968000</td>\n",
       "      <td>0.960000</td>\n",
       "    </tr>\n",
       "  </tbody>\n",
       "</table>\n",
       "</div>"
      ],
      "text/plain": [
       "           most_frequent  stratified   uniform  Value_LogReg  Value_KNN  \\\n",
       "F1 Score        0.609756    0.459770  0.478178      0.952569   0.921529   \n",
       "accuracy        0.438596    0.505263  0.517544      0.957895   0.931579   \n",
       "ROC AUC         0.500000    0.502500  0.516062      0.958562   0.929875   \n",
       "Precision       0.438596    0.441176  0.454874      0.941406   0.927126   \n",
       "Recall          1.000000    0.480000  0.504000      0.964000   0.916000   \n",
       "\n",
       "           Value_LDA  Value_GNB  Value_RFC  Value_SVC  \n",
       "F1 Score    0.942574   0.909091   0.950884   0.958084  \n",
       "accuracy    0.949123   0.922807   0.956140   0.963158  \n",
       "ROC AUC     0.949438   0.918125   0.957438   0.962812  \n",
       "Precision   0.933333   0.940171   0.934363   0.956175  \n",
       "Recall      0.952000   0.880000   0.968000   0.960000  "
      ]
     },
     "execution_count": 46,
     "metadata": {},
     "output_type": "execute_result"
    }
   ],
   "source": [
    "df_metric['Value_SVC'] = metric_calculator(y_test , grid_svc.predict(X_test))\n",
    "df_metric"
   ]
  },
  {
   "cell_type": "markdown",
   "metadata": {},
   "source": [
    "### Health Score for All"
   ]
  },
  {
   "cell_type": "code",
   "execution_count": 47,
   "metadata": {
    "ExecuteTime": {
     "end_time": "2022-09-12T06:49:13.564595Z",
     "start_time": "2022-09-12T06:49:13.447907Z"
    }
   },
   "outputs": [
    {
     "data": {
      "text/html": [
       "<div>\n",
       "<style scoped>\n",
       "    .dataframe tbody tr th:only-of-type {\n",
       "        vertical-align: middle;\n",
       "    }\n",
       "\n",
       "    .dataframe tbody tr th {\n",
       "        vertical-align: top;\n",
       "    }\n",
       "\n",
       "    .dataframe thead th {\n",
       "        text-align: right;\n",
       "    }\n",
       "</style>\n",
       "<table border=\"1\" class=\"dataframe\">\n",
       "  <thead>\n",
       "    <tr style=\"text-align: right;\">\n",
       "      <th></th>\n",
       "      <th>no_warning_sign</th>\n",
       "      <th>BizActive?</th>\n",
       "      <th>AddedUsers/BoughtUser</th>\n",
       "      <th>ActiveUsers/AddedUsers</th>\n",
       "      <th>#Activities</th>\n",
       "      <th>ActivitiesWoutDeal/#Activities</th>\n",
       "      <th>AvgDelayTimeActivity</th>\n",
       "      <th>#Activities/#Deals</th>\n",
       "      <th>%NoAcquitance</th>\n",
       "      <th>TransformationSpeed</th>\n",
       "      <th>TransformationRate</th>\n",
       "      <th>%NoReasonFailure</th>\n",
       "      <th>#OngoingDeals/#Total(Correct)Deals</th>\n",
       "      <th>BizIsExpired?</th>\n",
       "      <th>Health_Score</th>\n",
       "      <th>BizDomainsId</th>\n",
       "    </tr>\n",
       "  </thead>\n",
       "  <tbody>\n",
       "    <tr>\n",
       "      <th>0</th>\n",
       "      <td>0.000000</td>\n",
       "      <td>0</td>\n",
       "      <td>0.642724</td>\n",
       "      <td>0.181397</td>\n",
       "      <td>1</td>\n",
       "      <td>0.866667</td>\n",
       "      <td>4</td>\n",
       "      <td>1.068966</td>\n",
       "      <td>0.310345</td>\n",
       "      <td>2</td>\n",
       "      <td>2</td>\n",
       "      <td>3</td>\n",
       "      <td>0.500000</td>\n",
       "      <td>1</td>\n",
       "      <td>0.625071</td>\n",
       "      <td>0006df37-709c-4121-be9e-5210adc6a044</td>\n",
       "    </tr>\n",
       "    <tr>\n",
       "      <th>1</th>\n",
       "      <td>0.238875</td>\n",
       "      <td>1</td>\n",
       "      <td>0.398507</td>\n",
       "      <td>0.274307</td>\n",
       "      <td>3</td>\n",
       "      <td>0.662252</td>\n",
       "      <td>3</td>\n",
       "      <td>0.688889</td>\n",
       "      <td>0.917526</td>\n",
       "      <td>2</td>\n",
       "      <td>2</td>\n",
       "      <td>1</td>\n",
       "      <td>0.627451</td>\n",
       "      <td>0</td>\n",
       "      <td>6.920375</td>\n",
       "      <td>002d52c3-6c10-41a5-a4b2-91422a1ab307</td>\n",
       "    </tr>\n",
       "    <tr>\n",
       "      <th>2</th>\n",
       "      <td>0.822599</td>\n",
       "      <td>0</td>\n",
       "      <td>1.000000</td>\n",
       "      <td>0.949580</td>\n",
       "      <td>1</td>\n",
       "      <td>0.000000</td>\n",
       "      <td>4</td>\n",
       "      <td>1.444444</td>\n",
       "      <td>0.000000</td>\n",
       "      <td>1</td>\n",
       "      <td>3</td>\n",
       "      <td>1</td>\n",
       "      <td>0.846154</td>\n",
       "      <td>1</td>\n",
       "      <td>5.009982</td>\n",
       "      <td>00428596-e168-49ce-8428-7949cd2215ea</td>\n",
       "    </tr>\n",
       "    <tr>\n",
       "      <th>3</th>\n",
       "      <td>0.000000</td>\n",
       "      <td>0</td>\n",
       "      <td>1.000000</td>\n",
       "      <td>0.211382</td>\n",
       "      <td>1</td>\n",
       "      <td>1.000000</td>\n",
       "      <td>3</td>\n",
       "      <td>0.000000</td>\n",
       "      <td>0.602430</td>\n",
       "      <td>2</td>\n",
       "      <td>2</td>\n",
       "      <td>2</td>\n",
       "      <td>0.506440</td>\n",
       "      <td>1</td>\n",
       "      <td>0.793607</td>\n",
       "      <td>0049986f-b17d-44ef-992f-88d478dd21b8</td>\n",
       "    </tr>\n",
       "    <tr>\n",
       "      <th>4</th>\n",
       "      <td>0.082940</td>\n",
       "      <td>1</td>\n",
       "      <td>1.000000</td>\n",
       "      <td>0.804726</td>\n",
       "      <td>4</td>\n",
       "      <td>0.773725</td>\n",
       "      <td>2</td>\n",
       "      <td>3.579350</td>\n",
       "      <td>0.182724</td>\n",
       "      <td>2</td>\n",
       "      <td>1</td>\n",
       "      <td>2</td>\n",
       "      <td>0.013858</td>\n",
       "      <td>0</td>\n",
       "      <td>6.039592</td>\n",
       "      <td>004c3ec1-da71-494d-9adb-8a4e660f9257</td>\n",
       "    </tr>\n",
       "  </tbody>\n",
       "</table>\n",
       "</div>"
      ],
      "text/plain": [
       "   no_warning_sign  BizActive?  AddedUsers/BoughtUser  ActiveUsers/AddedUsers  \\\n",
       "0         0.000000           0               0.642724                0.181397   \n",
       "1         0.238875           1               0.398507                0.274307   \n",
       "2         0.822599           0               1.000000                0.949580   \n",
       "3         0.000000           0               1.000000                0.211382   \n",
       "4         0.082940           1               1.000000                0.804726   \n",
       "\n",
       "   #Activities  ActivitiesWoutDeal/#Activities  AvgDelayTimeActivity  \\\n",
       "0            1                        0.866667                     4   \n",
       "1            3                        0.662252                     3   \n",
       "2            1                        0.000000                     4   \n",
       "3            1                        1.000000                     3   \n",
       "4            4                        0.773725                     2   \n",
       "\n",
       "   #Activities/#Deals  %NoAcquitance  TransformationSpeed  TransformationRate  \\\n",
       "0            1.068966       0.310345                    2                   2   \n",
       "1            0.688889       0.917526                    2                   2   \n",
       "2            1.444444       0.000000                    1                   3   \n",
       "3            0.000000       0.602430                    2                   2   \n",
       "4            3.579350       0.182724                    2                   1   \n",
       "\n",
       "   %NoReasonFailure  #OngoingDeals/#Total(Correct)Deals  BizIsExpired?  \\\n",
       "0                 3                            0.500000              1   \n",
       "1                 1                            0.627451              0   \n",
       "2                 1                            0.846154              1   \n",
       "3                 2                            0.506440              1   \n",
       "4                 2                            0.013858              0   \n",
       "\n",
       "   Health_Score                          BizDomainsId  \n",
       "0      0.625071  0006df37-709c-4121-be9e-5210adc6a044  \n",
       "1      6.920375  002d52c3-6c10-41a5-a4b2-91422a1ab307  \n",
       "2      5.009982  00428596-e168-49ce-8428-7949cd2215ea  \n",
       "3      0.793607  0049986f-b17d-44ef-992f-88d478dd21b8  \n",
       "4      6.039592  004c3ec1-da71-494d-9adb-8a4e660f9257  "
      ]
     },
     "execution_count": 47,
     "metadata": {},
     "output_type": "execute_result"
    }
   ],
   "source": [
    "svc = SVC(C=10 , gamma='auto' , kernel='rbf' , shrinking=True)\n",
    "y_dec_SVC = ((svc.fit(X, y)).decision_function(X)).reshape(-1,1)\n",
    "y_dec_SVC = MinMaxScaler(feature_range=(0, 10)).fit_transform(y_dec_SVC)\n",
    "df_medoid['Health_Score'] = 10 - y_dec_SVC\n",
    "df_medoid.head()"
   ]
  },
  {
   "cell_type": "markdown",
   "metadata": {},
   "source": [
    "### Successful Customers Checking"
   ]
  },
  {
   "cell_type": "code",
   "execution_count": 48,
   "metadata": {
    "ExecuteTime": {
     "end_time": "2022-09-12T06:51:34.149654Z",
     "start_time": "2022-09-12T06:51:33.962955Z"
    }
   },
   "outputs": [
    {
     "data": {
      "image/png": "[encoded data removed]",
      "text/plain": [
       "<Figure size 500x300 with 1 Axes>"
      ]
     },
     "metadata": {},
     "output_type": "display_data"
    }
   ],
   "source": [
    "successful  = pd.read_csv(r\"SuccesfulCustomers.csv\")\n",
    "successful = successful['BizDomainId'].str.lower()\n",
    "plt.figure(figsize=(5,3))\n",
    "plt.style.use('seaborn')\n",
    "sns.histplot(df_medoid.loc[df_medoid['BizDomainsId'].isin(successful),'Health_Score'])\n",
    "plt.title('Histogram of Successful BizDomains')\n",
    "plt.tight_layout()\n",
    "# plt.savefig('27. SVC Successful Biz.jpg',dpi=200)\n",
    "plt.show()"
   ]
  },
  {
   "cell_type": "markdown",
   "metadata": {},
   "source": [
    "### Export"
   ]
  },
  {
   "cell_type": "code",
   "execution_count": 49,
   "metadata": {
    "ExecuteTime": {
     "end_time": "2022-09-12T06:51:58.236385Z",
     "start_time": "2022-09-12T06:51:58.196491Z"
    }
   },
   "outputs": [],
   "source": [
    "# df_medoid.to_csv('7.medoid k=2 SVC Report.csv')"
   ]
  },
  {
   "cell_type": "markdown",
   "metadata": {},
   "source": [
    "## NuSVC (Good)"
   ]
  },
  {
   "cell_type": "markdown",
   "metadata": {},
   "source": [
    "### GridSearch"
   ]
  },
  {
   "cell_type": "code",
   "execution_count": 50,
   "metadata": {
    "ExecuteTime": {
     "end_time": "2022-09-12T06:52:58.504642Z",
     "start_time": "2022-09-12T06:52:02.887040Z"
    }
   },
   "outputs": [
    {
     "name": "stdout",
     "output_type": "stream",
     "text": [
      "Fitting 30 folds for each of 160 candidates, totalling 4800 fits\n",
      "best paramters= {'gamma': 'scale', 'kernel': 'rbf', 'nu': 0.1, 'shrinking': True}\n",
      "best score= 0.9556556338744717\n"
     ]
    },
    {
     "name": "stderr",
     "output_type": "stream",
     "text": [
      "C:\\Users\\Mr. Pedram\\anaconda3\\lib\\site-packages\\sklearn\\model_selection\\_validation.py:378: FitFailedWarning: \n",
      "480 fits failed out of a total of 4800.\n",
      "The score on these train-test partitions for these parameters will be set to nan.\n",
      "If these failures are not expected, you can try to debug them by setting error_score='raise'.\n",
      "\n",
      "Below are more details about the failures:\n",
      "--------------------------------------------------------------------------------\n",
      "480 fits failed with the following error:\n",
      "Traceback (most recent call last):\n",
      "  File \"C:\\Users\\Mr. Pedram\\anaconda3\\lib\\site-packages\\sklearn\\model_selection\\_validation.py\", line 686, in _fit_and_score\n",
      "    estimator.fit(X_train, y_train, **fit_params)\n",
      "  File \"C:\\Users\\Mr. Pedram\\anaconda3\\lib\\site-packages\\sklearn\\svm\\_base.py\", line 251, in fit\n",
      "    fit(X, y, sample_weight, solver_type, kernel, random_seed=seed)\n",
      "  File \"C:\\Users\\Mr. Pedram\\anaconda3\\lib\\site-packages\\sklearn\\svm\\_base.py\", line 333, in _dense_fit\n",
      "    ) = libsvm.fit(\n",
      "  File \"sklearn\\svm\\_libsvm.pyx\", line 192, in sklearn.svm._libsvm.fit\n",
      "ValueError: specified nu is infeasible\n",
      "\n",
      "  warnings.warn(some_fits_failed_message, FitFailedWarning)\n",
      "C:\\Users\\Mr. Pedram\\anaconda3\\lib\\site-packages\\sklearn\\model_selection\\_search.py:953: UserWarning: One or more of the test scores are non-finite: [0.98904719 0.98916026 0.99003468 0.99003468 0.98805216 0.98805216\n",
      " 0.98192371 0.98192371 0.96658375 0.96658375 0.94628373 0.94628373\n",
      " 0.92492085 0.92492085 0.90465853 0.90465853 0.88044625 0.88044625\n",
      "        nan        nan 0.99036635 0.99036635 0.98797678 0.98797678\n",
      " 0.98549676 0.98549676 0.97997889 0.97997889 0.96902608 0.96902608\n",
      " 0.94317051 0.94317051 0.91908639 0.91908639 0.89519825 0.89519825\n",
      " 0.86688527 0.86688527        nan        nan 0.99341927 0.99342681\n",
      " 0.99236394 0.99236394 0.99029097 0.99029097 0.98415498 0.98415498\n",
      " 0.96879994 0.96879994 0.94459521 0.94459521 0.92540329 0.92540329\n",
      " 0.91206091 0.91206091 0.90176391 0.90176391        nan        nan\n",
      " 0.72618725 0.72618725 0.69748982 0.69748982 0.66906377 0.66906377\n",
      " 0.63241369 0.63241369 0.59714307 0.59714307 0.44268054 0.44268054\n",
      " 0.48738881 0.48738881 0.54789688 0.54789688 0.63175788 0.63175788\n",
      "        nan        nan 0.98904719 0.98916026 0.99003468 0.99003468\n",
      " 0.98805216 0.98805216 0.98192371 0.98192371 0.96658375 0.96658375\n",
      " 0.94628373 0.94628373 0.92492085 0.92492085 0.90465853 0.90465853\n",
      " 0.88044625 0.88044625        nan        nan 0.99035881 0.99035881\n",
      " 0.98797678 0.98797678 0.9855043  0.9855043  0.97997889 0.97997889\n",
      " 0.96902608 0.96902608 0.94317051 0.94317051 0.91908639 0.91908639\n",
      " 0.89519825 0.89519825 0.86688527 0.86688527        nan        nan\n",
      " 0.99281622 0.99281622 0.99181366 0.99181366 0.98935625 0.98935625\n",
      " 0.98438866 0.98438866 0.97072215 0.97072215 0.94742952 0.94742952\n",
      " 0.93012965 0.93012965 0.91821197 0.91821197 0.9105156  0.9105156\n",
      "        nan        nan 0.75426655 0.75426655 0.73319765 0.73319765\n",
      " 0.72104628 0.72104628 0.70903814 0.70903814 0.69348711 0.69348711\n",
      " 0.58528569 0.58528569 0.34260516 0.34260516 0.37108397 0.37108397\n",
      " 0.41679481 0.41679481        nan        nan]\n",
      "  warnings.warn(\n",
      "C:\\Users\\Mr. Pedram\\anaconda3\\lib\\site-packages\\sklearn\\model_selection\\_search.py:953: UserWarning: One or more of the test scores are non-finite: [0.94364478 0.94440788 0.95043353 0.95043353 0.94186837 0.94186837\n",
      " 0.92858304 0.92858304 0.89674941 0.89674941 0.86021022 0.86021022\n",
      " 0.83299245 0.83299245 0.80623907 0.80623907 0.76935012 0.76935012\n",
      "        nan        nan 0.95347909 0.95374138 0.95281408 0.95281408\n",
      " 0.93663998 0.93663998 0.91986333 0.91986333 0.88863719 0.88863719\n",
      " 0.84133065 0.84133065 0.81341637 0.81341637 0.78418521 0.78418521\n",
      " 0.72864508 0.72864508        nan        nan 0.95565563 0.95565563\n",
      " 0.95044376 0.95044376 0.94324988 0.94324988 0.92846026 0.92846026\n",
      " 0.89762605 0.89762605 0.85440018 0.85440018 0.82290355 0.82290355\n",
      " 0.81087485 0.81087485 0.80028523 0.80028523        nan        nan\n",
      " 0.71084365 0.71084365 0.67957714 0.67957714 0.64614092 0.64614092\n",
      " 0.61170732 0.61170732 0.56364375 0.56364375 0.49130427 0.49130427\n",
      " 0.53468394 0.53468394 0.57377133 0.57377133 0.61885803 0.61885803\n",
      "        nan        nan 0.94364478 0.94440788 0.95043353 0.95043353\n",
      " 0.94186837 0.94186837 0.92858304 0.92858304 0.89674941 0.89674941\n",
      " 0.86021022 0.86021022 0.83299245 0.83299245 0.80623907 0.80623907\n",
      " 0.76935012 0.76935012        nan        nan 0.95374138 0.95374138\n",
      " 0.95281408 0.95281408 0.93663998 0.93663998 0.91986333 0.91986333\n",
      " 0.88863719 0.88863719 0.84133065 0.84133065 0.81341637 0.81341637\n",
      " 0.78418521 0.78418521 0.72864508 0.72864508        nan        nan\n",
      " 0.95495171 0.95495171 0.95096659 0.95096659 0.94052842 0.94052842\n",
      " 0.93131337 0.93131337 0.90031796 0.90031796 0.8541493  0.8541493\n",
      " 0.82447044 0.82447044 0.81379431 0.81379431 0.80645239 0.80645239\n",
      "        nan        nan 0.6289635  0.6289635  0.62334335 0.62334335\n",
      " 0.62656258 0.62656258 0.63246776 0.63246776 0.61880317 0.61880317\n",
      " 0.5340655  0.5340655  0.41831897 0.41831897 0.47512939 0.47512939\n",
      " 0.54087654 0.54087654        nan        nan]\n",
      "  warnings.warn(\n",
      "C:\\Users\\Mr. Pedram\\anaconda3\\lib\\site-packages\\sklearn\\model_selection\\_search.py:953: UserWarning: One or more of the test scores are non-finite: [0.94360902 0.9443609  0.95087719 0.95087719 0.94185464 0.94185464\n",
      " 0.92807018 0.92807018 0.8952381  0.8952381  0.85764411 0.85764411\n",
      " 0.82807018 0.82807018 0.79498747 0.79498747 0.73634085 0.73634085\n",
      "        nan        nan 0.95338346 0.95363409 0.95288221 0.95288221\n",
      " 0.93609023 0.93609023 0.91654135 0.91654135 0.87994987 0.87994987\n",
      " 0.82280702 0.82280702 0.78746867 0.78746867 0.74636591 0.74636591\n",
      " 0.65338346 0.65338346        nan        nan 0.95588972 0.95588972\n",
      " 0.95087719 0.95087719 0.9433584  0.9433584  0.92882206 0.92882206\n",
      " 0.89724311 0.89724311 0.85513784 0.85513784 0.82431078 0.82431078\n",
      " 0.81152882 0.81152882 0.79649123 0.79649123        nan        nan\n",
      " 0.6887218  0.6887218  0.66015038 0.66015038 0.62982456 0.62982456\n",
      " 0.59924812 0.59924812 0.55814536 0.55814536 0.48295739 0.48295739\n",
      " 0.51378446 0.51378446 0.54536341 0.54536341 0.59022556 0.59022556\n",
      "        nan        nan 0.94360902 0.9443609  0.95087719 0.95087719\n",
      " 0.94185464 0.94185464 0.92807018 0.92807018 0.8952381  0.8952381\n",
      " 0.85764411 0.85764411 0.82807018 0.82807018 0.79498747 0.79498747\n",
      " 0.73634085 0.73634085        nan        nan 0.95363409 0.95363409\n",
      " 0.95288221 0.95288221 0.93609023 0.93609023 0.91654135 0.91654135\n",
      " 0.87994987 0.87994987 0.82280702 0.82280702 0.78746867 0.78746867\n",
      " 0.74636591 0.74636591 0.65338346 0.65338346        nan        nan\n",
      " 0.95513784 0.95513784 0.95137845 0.95137845 0.9406015  0.9406015\n",
      " 0.93157895 0.93157895 0.90050125 0.90050125 0.8556391  0.8556391\n",
      " 0.82807018 0.82807018 0.81704261 0.81704261 0.80651629 0.80651629\n",
      "        nan        nan 0.67017544 0.67017544 0.65388471 0.65388471\n",
      " 0.64110276 0.64110276 0.63759398 0.63759398 0.62305764 0.62305764\n",
      " 0.53734336 0.53734336 0.40676692 0.40676692 0.43934837 0.43934837\n",
      " 0.46666667 0.46666667        nan        nan]\n",
      "  warnings.warn(\n"
     ]
    }
   ],
   "source": [
    "nsvc = NuSVC()\n",
    "params_nsvc = {'nu':np.arange(0.1,1.1 , 0.1), 'kernel':['linear', 'poly', 'rbf', 'sigmoid'],\n",
    "             'gamma': ['scale', 'auto'] , 'shrinking':[True , False]},\n",
    "\n",
    "scorer = {\"AUC\": \"roc_auc\", \"F1\": make_scorer(f1_score) , \n",
    "          \"Accuracy\": 'accuracy'}\n",
    "cv = RepeatedStratifiedKFold(n_splits=10, n_repeats=3, random_state=1)\n",
    "grid_nsvc=GridSearchCV(nsvc ,param_grid=params_nsvc, n_jobs=-1 , cv=cv , verbose = 5,\n",
    "                         scoring=scorer , refit='F1')\n",
    "grid_nsvc.fit(X_train , y_train )\n",
    "print('best paramters= {}\\nbest score= {}'.format(grid_nsvc.best_params_ , grid_nsvc.best_score_) )"
   ]
  },
  {
   "cell_type": "markdown",
   "metadata": {},
   "source": [
    "### Metrics"
   ]
  },
  {
   "cell_type": "code",
   "execution_count": 51,
   "metadata": {
    "ExecuteTime": {
     "end_time": "2022-09-12T06:52:59.771049Z",
     "start_time": "2022-09-12T06:52:59.728128Z"
    }
   },
   "outputs": [
    {
     "data": {
      "text/html": [
       "<div>\n",
       "<style scoped>\n",
       "    .dataframe tbody tr th:only-of-type {\n",
       "        vertical-align: middle;\n",
       "    }\n",
       "\n",
       "    .dataframe tbody tr th {\n",
       "        vertical-align: top;\n",
       "    }\n",
       "\n",
       "    .dataframe thead th {\n",
       "        text-align: right;\n",
       "    }\n",
       "</style>\n",
       "<table border=\"1\" class=\"dataframe\">\n",
       "  <thead>\n",
       "    <tr style=\"text-align: right;\">\n",
       "      <th></th>\n",
       "      <th>most_frequent</th>\n",
       "      <th>stratified</th>\n",
       "      <th>uniform</th>\n",
       "      <th>Value_LogReg</th>\n",
       "      <th>Value_KNN</th>\n",
       "      <th>Value_LDA</th>\n",
       "      <th>Value_GNB</th>\n",
       "      <th>Value_RFC</th>\n",
       "      <th>Value_SVC</th>\n",
       "      <th>Value_NSVC</th>\n",
       "    </tr>\n",
       "  </thead>\n",
       "  <tbody>\n",
       "    <tr>\n",
       "      <th>F1 Score</th>\n",
       "      <td>0.609756</td>\n",
       "      <td>0.459770</td>\n",
       "      <td>0.478178</td>\n",
       "      <td>0.952569</td>\n",
       "      <td>0.921529</td>\n",
       "      <td>0.942574</td>\n",
       "      <td>0.909091</td>\n",
       "      <td>0.950884</td>\n",
       "      <td>0.958084</td>\n",
       "      <td>0.958416</td>\n",
       "    </tr>\n",
       "    <tr>\n",
       "      <th>accuracy</th>\n",
       "      <td>0.438596</td>\n",
       "      <td>0.505263</td>\n",
       "      <td>0.517544</td>\n",
       "      <td>0.957895</td>\n",
       "      <td>0.931579</td>\n",
       "      <td>0.949123</td>\n",
       "      <td>0.922807</td>\n",
       "      <td>0.956140</td>\n",
       "      <td>0.963158</td>\n",
       "      <td>0.963158</td>\n",
       "    </tr>\n",
       "    <tr>\n",
       "      <th>ROC AUC</th>\n",
       "      <td>0.500000</td>\n",
       "      <td>0.502500</td>\n",
       "      <td>0.516062</td>\n",
       "      <td>0.958562</td>\n",
       "      <td>0.929875</td>\n",
       "      <td>0.949438</td>\n",
       "      <td>0.918125</td>\n",
       "      <td>0.957438</td>\n",
       "      <td>0.962812</td>\n",
       "      <td>0.963688</td>\n",
       "    </tr>\n",
       "    <tr>\n",
       "      <th>Precision</th>\n",
       "      <td>0.438596</td>\n",
       "      <td>0.441176</td>\n",
       "      <td>0.454874</td>\n",
       "      <td>0.941406</td>\n",
       "      <td>0.927126</td>\n",
       "      <td>0.933333</td>\n",
       "      <td>0.940171</td>\n",
       "      <td>0.934363</td>\n",
       "      <td>0.956175</td>\n",
       "      <td>0.949020</td>\n",
       "    </tr>\n",
       "    <tr>\n",
       "      <th>Recall</th>\n",
       "      <td>1.000000</td>\n",
       "      <td>0.480000</td>\n",
       "      <td>0.504000</td>\n",
       "      <td>0.964000</td>\n",
       "      <td>0.916000</td>\n",
       "      <td>0.952000</td>\n",
       "      <td>0.880000</td>\n",
       "      <td>0.968000</td>\n",
       "      <td>0.960000</td>\n",
       "      <td>0.968000</td>\n",
       "    </tr>\n",
       "  </tbody>\n",
       "</table>\n",
       "</div>"
      ],
      "text/plain": [
       "           most_frequent  stratified   uniform  Value_LogReg  Value_KNN  \\\n",
       "F1 Score        0.609756    0.459770  0.478178      0.952569   0.921529   \n",
       "accuracy        0.438596    0.505263  0.517544      0.957895   0.931579   \n",
       "ROC AUC         0.500000    0.502500  0.516062      0.958562   0.929875   \n",
       "Precision       0.438596    0.441176  0.454874      0.941406   0.927126   \n",
       "Recall          1.000000    0.480000  0.504000      0.964000   0.916000   \n",
       "\n",
       "           Value_LDA  Value_GNB  Value_RFC  Value_SVC  Value_NSVC  \n",
       "F1 Score    0.942574   0.909091   0.950884   0.958084    0.958416  \n",
       "accuracy    0.949123   0.922807   0.956140   0.963158    0.963158  \n",
       "ROC AUC     0.949438   0.918125   0.957438   0.962812    0.963688  \n",
       "Precision   0.933333   0.940171   0.934363   0.956175    0.949020  \n",
       "Recall      0.952000   0.880000   0.968000   0.960000    0.968000  "
      ]
     },
     "execution_count": 51,
     "metadata": {},
     "output_type": "execute_result"
    }
   ],
   "source": [
    "df_metric['Value_NSVC'] = metric_calculator(y_test , grid_nsvc.predict(X_test))\n",
    "df_metric"
   ]
  },
  {
   "cell_type": "markdown",
   "metadata": {},
   "source": [
    "### Health Score for All"
   ]
  },
  {
   "cell_type": "code",
   "execution_count": 73,
   "metadata": {
    "ExecuteTime": {
     "end_time": "2022-09-12T12:01:46.852744Z",
     "start_time": "2022-09-12T12:01:46.693172Z"
    }
   },
   "outputs": [
    {
     "data": {
      "text/html": [
       "<div>\n",
       "<style scoped>\n",
       "    .dataframe tbody tr th:only-of-type {\n",
       "        vertical-align: middle;\n",
       "    }\n",
       "\n",
       "    .dataframe tbody tr th {\n",
       "        vertical-align: top;\n",
       "    }\n",
       "\n",
       "    .dataframe thead th {\n",
       "        text-align: right;\n",
       "    }\n",
       "</style>\n",
       "<table border=\"1\" class=\"dataframe\">\n",
       "  <thead>\n",
       "    <tr style=\"text-align: right;\">\n",
       "      <th></th>\n",
       "      <th>no_warning_sign</th>\n",
       "      <th>BizActive?</th>\n",
       "      <th>AddedUsers/BoughtUser</th>\n",
       "      <th>ActiveUsers/AddedUsers</th>\n",
       "      <th>#Activities</th>\n",
       "      <th>ActivitiesWoutDeal/#Activities</th>\n",
       "      <th>AvgDelayTimeActivity</th>\n",
       "      <th>#Activities/#Deals</th>\n",
       "      <th>%NoAcquitance</th>\n",
       "      <th>TransformationSpeed</th>\n",
       "      <th>TransformationRate</th>\n",
       "      <th>%NoReasonFailure</th>\n",
       "      <th>#OngoingDeals/#Total(Correct)Deals</th>\n",
       "      <th>BizIsExpired?</th>\n",
       "      <th>Health_Score</th>\n",
       "      <th>BizDomainsId</th>\n",
       "    </tr>\n",
       "  </thead>\n",
       "  <tbody>\n",
       "    <tr>\n",
       "      <th>0</th>\n",
       "      <td>0.000000</td>\n",
       "      <td>0</td>\n",
       "      <td>0.642724</td>\n",
       "      <td>0.181397</td>\n",
       "      <td>1</td>\n",
       "      <td>0.866667</td>\n",
       "      <td>4</td>\n",
       "      <td>1.068966</td>\n",
       "      <td>0.310345</td>\n",
       "      <td>2</td>\n",
       "      <td>2</td>\n",
       "      <td>3</td>\n",
       "      <td>0.500000</td>\n",
       "      <td>1</td>\n",
       "      <td>0.919000</td>\n",
       "      <td>0006df37-709c-4121-be9e-5210adc6a044</td>\n",
       "    </tr>\n",
       "    <tr>\n",
       "      <th>1</th>\n",
       "      <td>0.238875</td>\n",
       "      <td>1</td>\n",
       "      <td>0.398507</td>\n",
       "      <td>0.274307</td>\n",
       "      <td>3</td>\n",
       "      <td>0.662252</td>\n",
       "      <td>3</td>\n",
       "      <td>0.688889</td>\n",
       "      <td>0.917526</td>\n",
       "      <td>2</td>\n",
       "      <td>2</td>\n",
       "      <td>1</td>\n",
       "      <td>0.627451</td>\n",
       "      <td>0</td>\n",
       "      <td>7.456352</td>\n",
       "      <td>002d52c3-6c10-41a5-a4b2-91422a1ab307</td>\n",
       "    </tr>\n",
       "    <tr>\n",
       "      <th>2</th>\n",
       "      <td>0.822599</td>\n",
       "      <td>0</td>\n",
       "      <td>1.000000</td>\n",
       "      <td>0.949580</td>\n",
       "      <td>1</td>\n",
       "      <td>0.000000</td>\n",
       "      <td>4</td>\n",
       "      <td>1.444444</td>\n",
       "      <td>0.000000</td>\n",
       "      <td>1</td>\n",
       "      <td>3</td>\n",
       "      <td>1</td>\n",
       "      <td>0.846154</td>\n",
       "      <td>1</td>\n",
       "      <td>5.060724</td>\n",
       "      <td>00428596-e168-49ce-8428-7949cd2215ea</td>\n",
       "    </tr>\n",
       "    <tr>\n",
       "      <th>3</th>\n",
       "      <td>0.000000</td>\n",
       "      <td>0</td>\n",
       "      <td>1.000000</td>\n",
       "      <td>0.211382</td>\n",
       "      <td>1</td>\n",
       "      <td>1.000000</td>\n",
       "      <td>3</td>\n",
       "      <td>0.000000</td>\n",
       "      <td>0.602430</td>\n",
       "      <td>2</td>\n",
       "      <td>2</td>\n",
       "      <td>2</td>\n",
       "      <td>0.506440</td>\n",
       "      <td>1</td>\n",
       "      <td>1.102923</td>\n",
       "      <td>0049986f-b17d-44ef-992f-88d478dd21b8</td>\n",
       "    </tr>\n",
       "    <tr>\n",
       "      <th>4</th>\n",
       "      <td>0.082940</td>\n",
       "      <td>1</td>\n",
       "      <td>1.000000</td>\n",
       "      <td>0.804726</td>\n",
       "      <td>4</td>\n",
       "      <td>0.773725</td>\n",
       "      <td>2</td>\n",
       "      <td>3.579350</td>\n",
       "      <td>0.182724</td>\n",
       "      <td>2</td>\n",
       "      <td>1</td>\n",
       "      <td>2</td>\n",
       "      <td>0.013858</td>\n",
       "      <td>0</td>\n",
       "      <td>6.250619</td>\n",
       "      <td>004c3ec1-da71-494d-9adb-8a4e660f9257</td>\n",
       "    </tr>\n",
       "  </tbody>\n",
       "</table>\n",
       "</div>"
      ],
      "text/plain": [
       "   no_warning_sign  BizActive?  AddedUsers/BoughtUser  ActiveUsers/AddedUsers  \\\n",
       "0         0.000000           0               0.642724                0.181397   \n",
       "1         0.238875           1               0.398507                0.274307   \n",
       "2         0.822599           0               1.000000                0.949580   \n",
       "3         0.000000           0               1.000000                0.211382   \n",
       "4         0.082940           1               1.000000                0.804726   \n",
       "\n",
       "   #Activities  ActivitiesWoutDeal/#Activities  AvgDelayTimeActivity  \\\n",
       "0            1                        0.866667                     4   \n",
       "1            3                        0.662252                     3   \n",
       "2            1                        0.000000                     4   \n",
       "3            1                        1.000000                     3   \n",
       "4            4                        0.773725                     2   \n",
       "\n",
       "   #Activities/#Deals  %NoAcquitance  TransformationSpeed  TransformationRate  \\\n",
       "0            1.068966       0.310345                    2                   2   \n",
       "1            0.688889       0.917526                    2                   2   \n",
       "2            1.444444       0.000000                    1                   3   \n",
       "3            0.000000       0.602430                    2                   2   \n",
       "4            3.579350       0.182724                    2                   1   \n",
       "\n",
       "   %NoReasonFailure  #OngoingDeals/#Total(Correct)Deals  BizIsExpired?  \\\n",
       "0                 3                            0.500000              1   \n",
       "1                 1                            0.627451              0   \n",
       "2                 1                            0.846154              1   \n",
       "3                 2                            0.506440              1   \n",
       "4                 2                            0.013858              0   \n",
       "\n",
       "   Health_Score                          BizDomainsId  \n",
       "0      0.919000  0006df37-709c-4121-be9e-5210adc6a044  \n",
       "1      7.456352  002d52c3-6c10-41a5-a4b2-91422a1ab307  \n",
       "2      5.060724  00428596-e168-49ce-8428-7949cd2215ea  \n",
       "3      1.102923  0049986f-b17d-44ef-992f-88d478dd21b8  \n",
       "4      6.250619  004c3ec1-da71-494d-9adb-8a4e660f9257  "
      ]
     },
     "execution_count": 73,
     "metadata": {},
     "output_type": "execute_result"
    }
   ],
   "source": [
    "nsvc = NuSVC(gamma='auto' , kernel='rbf' , shrinking=True,nu=0.2)\n",
    "y_dec_NSVC = ((nsvc.fit(X, y)).decision_function(X)).reshape(-1,1)\n",
    "y_dec_NSVC = MinMaxScaler(feature_range=(0, 10)).fit_transform(y_dec_NSVC)\n",
    "df_medoid['Health_Score'] = 10 - y_dec_NSVC\n",
    "df_medoid.head()"
   ]
  },
  {
   "cell_type": "markdown",
   "metadata": {},
   "source": [
    "### Successful Customers Checking"
   ]
  },
  {
   "cell_type": "code",
   "execution_count": 74,
   "metadata": {
    "ExecuteTime": {
     "end_time": "2022-09-12T12:01:49.726574Z",
     "start_time": "2022-09-12T12:01:49.513146Z"
    }
   },
   "outputs": [
    {
     "data": {
      "image/png": "[encoded data removed]",
      "text/plain": [
       "<Figure size 500x300 with 1 Axes>"
      ]
     },
     "metadata": {},
     "output_type": "display_data"
    }
   ],
   "source": [
    "successful  = pd.read_csv(r\"SuccesfulCustomers.csv\")\n",
    "successful = successful['BizDomainId'].str.lower()\n",
    "plt.figure(figsize=(5,3))\n",
    "plt.style.use('seaborn')\n",
    "sns.histplot(df_medoid.loc[df_medoid['BizDomainsId'].isin(successful),'Health_Score'])\n",
    "plt.title('Histogram of Successful BizDomains')\n",
    "plt.tight_layout()\n",
    "# plt.savefig('28. NuSVC Successful Biz.jpg',dpi=200)\n",
    "plt.show()"
   ]
  },
  {
   "cell_type": "markdown",
   "metadata": {},
   "source": [
    "### Export"
   ]
  },
  {
   "cell_type": "code",
   "execution_count": 53,
   "metadata": {
    "ExecuteTime": {
     "end_time": "2022-09-12T06:53:17.325408Z",
     "start_time": "2022-09-12T06:53:17.286511Z"
    }
   },
   "outputs": [],
   "source": [
    "# df_medoid.to_csv('8. medoid k=2 NuSVC Report.csv')"
   ]
  },
  {
   "cell_type": "markdown",
   "metadata": {},
   "source": [
    "## LinearSVC"
   ]
  },
  {
   "cell_type": "markdown",
   "metadata": {},
   "source": [
    "### GridSearch"
   ]
  },
  {
   "cell_type": "code",
   "execution_count": 54,
   "metadata": {
    "ExecuteTime": {
     "end_time": "2022-09-12T06:53:40.196351Z",
     "start_time": "2022-09-12T06:53:37.084984Z"
    }
   },
   "outputs": [
    {
     "name": "stdout",
     "output_type": "stream",
     "text": [
      "Fitting 30 folds for each of 20 candidates, totalling 600 fits\n",
      "best paramters= {'C': 1, 'loss': 'squared_hinge', 'penalty': 'l1'}\n",
      "best score= 0.9522611745649384\n"
     ]
    },
    {
     "name": "stderr",
     "output_type": "stream",
     "text": [
      "C:\\Users\\Mr. Pedram\\anaconda3\\lib\\site-packages\\sklearn\\model_selection\\_validation.py:378: FitFailedWarning: \n",
      "300 fits failed out of a total of 600.\n",
      "The score on these train-test partitions for these parameters will be set to nan.\n",
      "If these failures are not expected, you can try to debug them by setting error_score='raise'.\n",
      "\n",
      "Below are more details about the failures:\n",
      "--------------------------------------------------------------------------------\n",
      "150 fits failed with the following error:\n",
      "Traceback (most recent call last):\n",
      "  File \"C:\\Users\\Mr. Pedram\\anaconda3\\lib\\site-packages\\sklearn\\model_selection\\_validation.py\", line 686, in _fit_and_score\n",
      "    estimator.fit(X_train, y_train, **fit_params)\n",
      "  File \"C:\\Users\\Mr. Pedram\\anaconda3\\lib\\site-packages\\sklearn\\svm\\_classes.py\", line 257, in fit\n",
      "    self.coef_, self.intercept_, n_iter_ = _fit_liblinear(\n",
      "  File \"C:\\Users\\Mr. Pedram\\anaconda3\\lib\\site-packages\\sklearn\\svm\\_base.py\", line 1204, in _fit_liblinear\n",
      "    solver_type = _get_liblinear_solver_type(multi_class, penalty, loss, dual)\n",
      "  File \"C:\\Users\\Mr. Pedram\\anaconda3\\lib\\site-packages\\sklearn\\svm\\_base.py\", line 1043, in _get_liblinear_solver_type\n",
      "    raise ValueError(\n",
      "ValueError: Unsupported set of arguments: The combination of penalty='l1' and loss='hinge' is not supported, Parameters: penalty='l1', loss='hinge', dual=False\n",
      "\n",
      "--------------------------------------------------------------------------------\n",
      "150 fits failed with the following error:\n",
      "Traceback (most recent call last):\n",
      "  File \"C:\\Users\\Mr. Pedram\\anaconda3\\lib\\site-packages\\sklearn\\model_selection\\_validation.py\", line 686, in _fit_and_score\n",
      "    estimator.fit(X_train, y_train, **fit_params)\n",
      "  File \"C:\\Users\\Mr. Pedram\\anaconda3\\lib\\site-packages\\sklearn\\svm\\_classes.py\", line 257, in fit\n",
      "    self.coef_, self.intercept_, n_iter_ = _fit_liblinear(\n",
      "  File \"C:\\Users\\Mr. Pedram\\anaconda3\\lib\\site-packages\\sklearn\\svm\\_base.py\", line 1204, in _fit_liblinear\n",
      "    solver_type = _get_liblinear_solver_type(multi_class, penalty, loss, dual)\n",
      "  File \"C:\\Users\\Mr. Pedram\\anaconda3\\lib\\site-packages\\sklearn\\svm\\_base.py\", line 1043, in _get_liblinear_solver_type\n",
      "    raise ValueError(\n",
      "ValueError: Unsupported set of arguments: The combination of penalty='l2' and loss='hinge' are not supported when dual=False, Parameters: penalty='l2', loss='hinge', dual=False\n",
      "\n",
      "  warnings.warn(some_fits_failed_message, FitFailedWarning)\n",
      "C:\\Users\\Mr. Pedram\\anaconda3\\lib\\site-packages\\sklearn\\model_selection\\_search.py:953: UserWarning: One or more of the test scores are non-finite: [       nan        nan 0.99035127 0.98842153        nan        nan\n",
      " 0.9903362  0.99018544        nan        nan 0.99019297 0.99016282\n",
      "        nan        nan 0.99017036 0.99016282        nan        nan\n",
      " 0.99017036 0.99016282]\n",
      "  warnings.warn(\n",
      "C:\\Users\\Mr. Pedram\\anaconda3\\lib\\site-packages\\sklearn\\model_selection\\_search.py:953: UserWarning: One or more of the test scores are non-finite: [       nan        nan 0.94816363 0.94532006        nan        nan\n",
      " 0.95226117 0.95113125        nan        nan 0.95203969 0.95201446\n",
      "        nan        nan 0.95203969 0.95203969        nan        nan\n",
      " 0.95203969 0.95181049]\n",
      "  warnings.warn(\n",
      "C:\\Users\\Mr. Pedram\\anaconda3\\lib\\site-packages\\sklearn\\model_selection\\_search.py:953: UserWarning: One or more of the test scores are non-finite: [       nan        nan 0.94862155 0.94586466        nan        nan\n",
      " 0.95238095 0.95137845        nan        nan 0.95213033 0.95213033\n",
      "        nan        nan 0.95213033 0.95213033        nan        nan\n",
      " 0.95213033 0.9518797 ]\n",
      "  warnings.warn(\n"
     ]
    }
   ],
   "source": [
    "lsvc = LinearSVC(dual=False)\n",
    "params_lsvc = {'penalty':['l1','l2'], 'loss':['hinge', 'squared_hinge'],\n",
    "             'C': [0.1,1,10,100,250] }\n",
    "\n",
    "scorer = {\"AUC\": \"roc_auc\", \"F1\": make_scorer(f1_score) , \n",
    "          \"Accuracy\": 'accuracy'}\n",
    "cv = RepeatedStratifiedKFold(n_splits=10, n_repeats=3, random_state=1)\n",
    "grid_lsvc=GridSearchCV(lsvc ,param_grid=params_lsvc, n_jobs=-1 , cv=cv , verbose = 5,\n",
    "                         scoring=scorer , refit='F1')\n",
    "grid_lsvc.fit(X_train , y_train )\n",
    "print('best paramters= {}\\nbest score= {}'.format(grid_lsvc.best_params_ , grid_lsvc.best_score_) )"
   ]
  },
  {
   "cell_type": "markdown",
   "metadata": {},
   "source": [
    "### Metrics"
   ]
  },
  {
   "cell_type": "code",
   "execution_count": 55,
   "metadata": {
    "ExecuteTime": {
     "end_time": "2022-09-12T06:54:06.072529Z",
     "start_time": "2022-09-12T06:54:06.053546Z"
    }
   },
   "outputs": [
    {
     "data": {
      "text/html": [
       "<div>\n",
       "<style scoped>\n",
       "    .dataframe tbody tr th:only-of-type {\n",
       "        vertical-align: middle;\n",
       "    }\n",
       "\n",
       "    .dataframe tbody tr th {\n",
       "        vertical-align: top;\n",
       "    }\n",
       "\n",
       "    .dataframe thead th {\n",
       "        text-align: right;\n",
       "    }\n",
       "</style>\n",
       "<table border=\"1\" class=\"dataframe\">\n",
       "  <thead>\n",
       "    <tr style=\"text-align: right;\">\n",
       "      <th></th>\n",
       "      <th>most_frequent</th>\n",
       "      <th>stratified</th>\n",
       "      <th>uniform</th>\n",
       "      <th>Value_LogReg</th>\n",
       "      <th>Value_KNN</th>\n",
       "      <th>Value_LDA</th>\n",
       "      <th>Value_GNB</th>\n",
       "      <th>Value_RFC</th>\n",
       "      <th>Value_SVC</th>\n",
       "      <th>Value_NSVC</th>\n",
       "      <th>Value_LSVC</th>\n",
       "    </tr>\n",
       "  </thead>\n",
       "  <tbody>\n",
       "    <tr>\n",
       "      <th>F1 Score</th>\n",
       "      <td>0.609756</td>\n",
       "      <td>0.459770</td>\n",
       "      <td>0.478178</td>\n",
       "      <td>0.952569</td>\n",
       "      <td>0.921529</td>\n",
       "      <td>0.942574</td>\n",
       "      <td>0.909091</td>\n",
       "      <td>0.950884</td>\n",
       "      <td>0.958084</td>\n",
       "      <td>0.958416</td>\n",
       "      <td>0.948617</td>\n",
       "    </tr>\n",
       "    <tr>\n",
       "      <th>accuracy</th>\n",
       "      <td>0.438596</td>\n",
       "      <td>0.505263</td>\n",
       "      <td>0.517544</td>\n",
       "      <td>0.957895</td>\n",
       "      <td>0.931579</td>\n",
       "      <td>0.949123</td>\n",
       "      <td>0.922807</td>\n",
       "      <td>0.956140</td>\n",
       "      <td>0.963158</td>\n",
       "      <td>0.963158</td>\n",
       "      <td>0.954386</td>\n",
       "    </tr>\n",
       "    <tr>\n",
       "      <th>ROC AUC</th>\n",
       "      <td>0.500000</td>\n",
       "      <td>0.502500</td>\n",
       "      <td>0.516062</td>\n",
       "      <td>0.958562</td>\n",
       "      <td>0.929875</td>\n",
       "      <td>0.949438</td>\n",
       "      <td>0.918125</td>\n",
       "      <td>0.957438</td>\n",
       "      <td>0.962812</td>\n",
       "      <td>0.963688</td>\n",
       "      <td>0.955000</td>\n",
       "    </tr>\n",
       "    <tr>\n",
       "      <th>Precision</th>\n",
       "      <td>0.438596</td>\n",
       "      <td>0.441176</td>\n",
       "      <td>0.454874</td>\n",
       "      <td>0.941406</td>\n",
       "      <td>0.927126</td>\n",
       "      <td>0.933333</td>\n",
       "      <td>0.940171</td>\n",
       "      <td>0.934363</td>\n",
       "      <td>0.956175</td>\n",
       "      <td>0.949020</td>\n",
       "      <td>0.937500</td>\n",
       "    </tr>\n",
       "    <tr>\n",
       "      <th>Recall</th>\n",
       "      <td>1.000000</td>\n",
       "      <td>0.480000</td>\n",
       "      <td>0.504000</td>\n",
       "      <td>0.964000</td>\n",
       "      <td>0.916000</td>\n",
       "      <td>0.952000</td>\n",
       "      <td>0.880000</td>\n",
       "      <td>0.968000</td>\n",
       "      <td>0.960000</td>\n",
       "      <td>0.968000</td>\n",
       "      <td>0.960000</td>\n",
       "    </tr>\n",
       "  </tbody>\n",
       "</table>\n",
       "</div>"
      ],
      "text/plain": [
       "           most_frequent  stratified   uniform  Value_LogReg  Value_KNN  \\\n",
       "F1 Score        0.609756    0.459770  0.478178      0.952569   0.921529   \n",
       "accuracy        0.438596    0.505263  0.517544      0.957895   0.931579   \n",
       "ROC AUC         0.500000    0.502500  0.516062      0.958562   0.929875   \n",
       "Precision       0.438596    0.441176  0.454874      0.941406   0.927126   \n",
       "Recall          1.000000    0.480000  0.504000      0.964000   0.916000   \n",
       "\n",
       "           Value_LDA  Value_GNB  Value_RFC  Value_SVC  Value_NSVC  Value_LSVC  \n",
       "F1 Score    0.942574   0.909091   0.950884   0.958084    0.958416    0.948617  \n",
       "accuracy    0.949123   0.922807   0.956140   0.963158    0.963158    0.954386  \n",
       "ROC AUC     0.949438   0.918125   0.957438   0.962812    0.963688    0.955000  \n",
       "Precision   0.933333   0.940171   0.934363   0.956175    0.949020    0.937500  \n",
       "Recall      0.952000   0.880000   0.968000   0.960000    0.968000    0.960000  "
      ]
     },
     "execution_count": 55,
     "metadata": {},
     "output_type": "execute_result"
    }
   ],
   "source": [
    "df_metric['Value_LSVC'] = metric_calculator(y_test , grid_lsvc.predict(X_test))\n",
    "df_metric"
   ]
  },
  {
   "cell_type": "markdown",
   "metadata": {},
   "source": [
    "### Health Score for All"
   ]
  },
  {
   "cell_type": "code",
   "execution_count": 63,
   "metadata": {
    "ExecuteTime": {
     "end_time": "2022-09-12T06:58:38.313976Z",
     "start_time": "2022-09-12T06:58:38.168834Z"
    }
   },
   "outputs": [
    {
     "data": {
      "text/html": [
       "<div>\n",
       "<style scoped>\n",
       "    .dataframe tbody tr th:only-of-type {\n",
       "        vertical-align: middle;\n",
       "    }\n",
       "\n",
       "    .dataframe tbody tr th {\n",
       "        vertical-align: top;\n",
       "    }\n",
       "\n",
       "    .dataframe thead th {\n",
       "        text-align: right;\n",
       "    }\n",
       "</style>\n",
       "<table border=\"1\" class=\"dataframe\">\n",
       "  <thead>\n",
       "    <tr style=\"text-align: right;\">\n",
       "      <th></th>\n",
       "      <th>no_warning_sign</th>\n",
       "      <th>BizActive?</th>\n",
       "      <th>AddedUsers/BoughtUser</th>\n",
       "      <th>ActiveUsers/AddedUsers</th>\n",
       "      <th>#Activities</th>\n",
       "      <th>ActivitiesWoutDeal/#Activities</th>\n",
       "      <th>AvgDelayTimeActivity</th>\n",
       "      <th>#Activities/#Deals</th>\n",
       "      <th>%NoAcquitance</th>\n",
       "      <th>TransformationSpeed</th>\n",
       "      <th>TransformationRate</th>\n",
       "      <th>%NoReasonFailure</th>\n",
       "      <th>#OngoingDeals/#Total(Correct)Deals</th>\n",
       "      <th>BizIsExpired?</th>\n",
       "      <th>Health_Score</th>\n",
       "      <th>BizDomainsId</th>\n",
       "    </tr>\n",
       "  </thead>\n",
       "  <tbody>\n",
       "    <tr>\n",
       "      <th>0</th>\n",
       "      <td>0.000000</td>\n",
       "      <td>0</td>\n",
       "      <td>0.642724</td>\n",
       "      <td>0.181397</td>\n",
       "      <td>1</td>\n",
       "      <td>0.866667</td>\n",
       "      <td>4</td>\n",
       "      <td>1.068966</td>\n",
       "      <td>0.310345</td>\n",
       "      <td>2</td>\n",
       "      <td>2</td>\n",
       "      <td>3</td>\n",
       "      <td>0.500000</td>\n",
       "      <td>1</td>\n",
       "      <td>1.253411</td>\n",
       "      <td>0006df37-709c-4121-be9e-5210adc6a044</td>\n",
       "    </tr>\n",
       "    <tr>\n",
       "      <th>1</th>\n",
       "      <td>0.238875</td>\n",
       "      <td>1</td>\n",
       "      <td>0.398507</td>\n",
       "      <td>0.274307</td>\n",
       "      <td>3</td>\n",
       "      <td>0.662252</td>\n",
       "      <td>3</td>\n",
       "      <td>0.688889</td>\n",
       "      <td>0.917526</td>\n",
       "      <td>2</td>\n",
       "      <td>2</td>\n",
       "      <td>1</td>\n",
       "      <td>0.627451</td>\n",
       "      <td>0</td>\n",
       "      <td>6.311035</td>\n",
       "      <td>002d52c3-6c10-41a5-a4b2-91422a1ab307</td>\n",
       "    </tr>\n",
       "    <tr>\n",
       "      <th>2</th>\n",
       "      <td>0.822599</td>\n",
       "      <td>0</td>\n",
       "      <td>1.000000</td>\n",
       "      <td>0.949580</td>\n",
       "      <td>1</td>\n",
       "      <td>0.000000</td>\n",
       "      <td>4</td>\n",
       "      <td>1.444444</td>\n",
       "      <td>0.000000</td>\n",
       "      <td>1</td>\n",
       "      <td>3</td>\n",
       "      <td>1</td>\n",
       "      <td>0.846154</td>\n",
       "      <td>1</td>\n",
       "      <td>5.345606</td>\n",
       "      <td>00428596-e168-49ce-8428-7949cd2215ea</td>\n",
       "    </tr>\n",
       "    <tr>\n",
       "      <th>3</th>\n",
       "      <td>0.000000</td>\n",
       "      <td>0</td>\n",
       "      <td>1.000000</td>\n",
       "      <td>0.211382</td>\n",
       "      <td>1</td>\n",
       "      <td>1.000000</td>\n",
       "      <td>3</td>\n",
       "      <td>0.000000</td>\n",
       "      <td>0.602430</td>\n",
       "      <td>2</td>\n",
       "      <td>2</td>\n",
       "      <td>2</td>\n",
       "      <td>0.506440</td>\n",
       "      <td>1</td>\n",
       "      <td>1.713298</td>\n",
       "      <td>0049986f-b17d-44ef-992f-88d478dd21b8</td>\n",
       "    </tr>\n",
       "    <tr>\n",
       "      <th>4</th>\n",
       "      <td>0.082940</td>\n",
       "      <td>1</td>\n",
       "      <td>1.000000</td>\n",
       "      <td>0.804726</td>\n",
       "      <td>4</td>\n",
       "      <td>0.773725</td>\n",
       "      <td>2</td>\n",
       "      <td>3.579350</td>\n",
       "      <td>0.182724</td>\n",
       "      <td>2</td>\n",
       "      <td>1</td>\n",
       "      <td>2</td>\n",
       "      <td>0.013858</td>\n",
       "      <td>0</td>\n",
       "      <td>5.953019</td>\n",
       "      <td>004c3ec1-da71-494d-9adb-8a4e660f9257</td>\n",
       "    </tr>\n",
       "  </tbody>\n",
       "</table>\n",
       "</div>"
      ],
      "text/plain": [
       "   no_warning_sign  BizActive?  AddedUsers/BoughtUser  ActiveUsers/AddedUsers  \\\n",
       "0         0.000000           0               0.642724                0.181397   \n",
       "1         0.238875           1               0.398507                0.274307   \n",
       "2         0.822599           0               1.000000                0.949580   \n",
       "3         0.000000           0               1.000000                0.211382   \n",
       "4         0.082940           1               1.000000                0.804726   \n",
       "\n",
       "   #Activities  ActivitiesWoutDeal/#Activities  AvgDelayTimeActivity  \\\n",
       "0            1                        0.866667                     4   \n",
       "1            3                        0.662252                     3   \n",
       "2            1                        0.000000                     4   \n",
       "3            1                        1.000000                     3   \n",
       "4            4                        0.773725                     2   \n",
       "\n",
       "   #Activities/#Deals  %NoAcquitance  TransformationSpeed  TransformationRate  \\\n",
       "0            1.068966       0.310345                    2                   2   \n",
       "1            0.688889       0.917526                    2                   2   \n",
       "2            1.444444       0.000000                    1                   3   \n",
       "3            0.000000       0.602430                    2                   2   \n",
       "4            3.579350       0.182724                    2                   1   \n",
       "\n",
       "   %NoReasonFailure  #OngoingDeals/#Total(Correct)Deals  BizIsExpired?  \\\n",
       "0                 3                            0.500000              1   \n",
       "1                 1                            0.627451              0   \n",
       "2                 1                            0.846154              1   \n",
       "3                 2                            0.506440              1   \n",
       "4                 2                            0.013858              0   \n",
       "\n",
       "   Health_Score                          BizDomainsId  \n",
       "0      1.253411  0006df37-709c-4121-be9e-5210adc6a044  \n",
       "1      6.311035  002d52c3-6c10-41a5-a4b2-91422a1ab307  \n",
       "2      5.345606  00428596-e168-49ce-8428-7949cd2215ea  \n",
       "3      1.713298  0049986f-b17d-44ef-992f-88d478dd21b8  \n",
       "4      5.953019  004c3ec1-da71-494d-9adb-8a4e660f9257  "
      ]
     },
     "execution_count": 63,
     "metadata": {},
     "output_type": "execute_result"
    }
   ],
   "source": [
    "lsvc = LinearSVC(dual=False ,C= 1, loss= 'squared_hinge', penalty= 'l1')\n",
    "y_dec_LSVC = ((lsvc.fit(X, y)).decision_function(X)).reshape(-1,1)\n",
    "y_dec_LSVC = MinMaxScaler(feature_range=(0, 10)).fit_transform(y_dec_LSVC)\n",
    "df_medoid['Health_Score'] = 10 - y_dec_LSVC\n",
    "df_medoid.head()"
   ]
  },
  {
   "cell_type": "markdown",
   "metadata": {},
   "source": [
    "### Successful Customers Checking"
   ]
  },
  {
   "cell_type": "code",
   "execution_count": 64,
   "metadata": {
    "ExecuteTime": {
     "end_time": "2022-09-12T06:58:41.885560Z",
     "start_time": "2022-09-12T06:58:41.708511Z"
    }
   },
   "outputs": [
    {
     "data": {
      "image/png": "[encoded data removed]",
      "text/plain": [
       "<Figure size 500x300 with 1 Axes>"
      ]
     },
     "metadata": {},
     "output_type": "display_data"
    }
   ],
   "source": [
    "successful  = pd.read_csv(r\"SuccesfulCustomers.csv\")\n",
    "successful = successful['BizDomainId'].str.lower()\n",
    "plt.figure(figsize=(5,3))\n",
    "plt.style.use('seaborn')\n",
    "sns.histplot(df_medoid.loc[df_medoid['BizDomainsId'].isin(successful),'Health_Score'])\n",
    "plt.title('Histogram of Successful BizDomains')\n",
    "plt.tight_layout()\n",
    "# plt.savefig('29. LinearSVC Successful Biz.jpg',dpi=200)\n",
    "plt.show()"
   ]
  },
  {
   "cell_type": "markdown",
   "metadata": {},
   "source": [
    "### Export"
   ]
  },
  {
   "cell_type": "code",
   "execution_count": 65,
   "metadata": {
    "ExecuteTime": {
     "end_time": "2022-09-12T06:58:44.543383Z",
     "start_time": "2022-09-12T06:58:44.505090Z"
    }
   },
   "outputs": [],
   "source": [
    "# df_medoid.to_csv('9. medoid k=2 LinearSVC Report.csv')"
   ]
  },
  {
   "cell_type": "markdown",
   "metadata": {},
   "source": [
    "## GradientBoostingClassifier (Good)"
   ]
  },
  {
   "cell_type": "markdown",
   "metadata": {},
   "source": [
    "### GridSearch"
   ]
  },
  {
   "cell_type": "code",
   "execution_count": 66,
   "metadata": {
    "ExecuteTime": {
     "end_time": "2022-09-12T07:40:59.098485Z",
     "start_time": "2022-09-12T06:58:46.587645Z"
    }
   },
   "outputs": [
    {
     "name": "stdout",
     "output_type": "stream",
     "text": [
      "Fitting 30 folds for each of 300 candidates, totalling 9000 fits\n",
      "best paramters= {'learning_rate': 0.2, 'loss': 'exponential', 'max_features': 'log2', 'n_estimators': 400, 'subsample': 0.8}\n",
      "best score= 0.9660298891722701\n"
     ]
    }
   ],
   "source": [
    "gbc = GradientBoostingClassifier()\n",
    "params_gbc = {'loss':['log_loss', 'exponential'], 'learning_rate':[0.01,0.05,0.1,0.15,0.2],\n",
    "             'n_estimators':[300,400],'subsample': [0.8,0.85,0.9,0.95,1],\n",
    "               'max_features':['auto', 'sqrt', 'log2']}\n",
    "\n",
    "scorer = {\"AUC\": \"roc_auc\", \"F1\": make_scorer(f1_score) , \n",
    "          \"Accuracy\": 'accuracy'}\n",
    "cv = RepeatedStratifiedKFold(n_splits=10, n_repeats=3, random_state=1)\n",
    "grid_gbc=GridSearchCV(gbc ,param_grid=params_gbc, n_jobs=-1 , cv=cv , verbose = 5,\n",
    "                         scoring=scorer , refit='F1')\n",
    "grid_gbc.fit(X_train , y_train )\n",
    "print('best paramters= {}\\nbest score= {}'.format(grid_gbc.best_params_ , grid_gbc.best_score_) )"
   ]
  },
  {
   "cell_type": "markdown",
   "metadata": {},
   "source": [
    "### Metrics"
   ]
  },
  {
   "cell_type": "code",
   "execution_count": 67,
   "metadata": {
    "ExecuteTime": {
     "end_time": "2022-09-12T11:33:25.494183Z",
     "start_time": "2022-09-12T11:33:25.456252Z"
    }
   },
   "outputs": [
    {
     "data": {
      "text/html": [
       "<div>\n",
       "<style scoped>\n",
       "    .dataframe tbody tr th:only-of-type {\n",
       "        vertical-align: middle;\n",
       "    }\n",
       "\n",
       "    .dataframe tbody tr th {\n",
       "        vertical-align: top;\n",
       "    }\n",
       "\n",
       "    .dataframe thead th {\n",
       "        text-align: right;\n",
       "    }\n",
       "</style>\n",
       "<table border=\"1\" class=\"dataframe\">\n",
       "  <thead>\n",
       "    <tr style=\"text-align: right;\">\n",
       "      <th></th>\n",
       "      <th>most_frequent</th>\n",
       "      <th>stratified</th>\n",
       "      <th>uniform</th>\n",
       "      <th>Value_LogReg</th>\n",
       "      <th>Value_KNN</th>\n",
       "      <th>Value_LDA</th>\n",
       "      <th>Value_GNB</th>\n",
       "      <th>Value_RFC</th>\n",
       "      <th>Value_SVC</th>\n",
       "      <th>Value_NSVC</th>\n",
       "      <th>Value_LSVC</th>\n",
       "      <th>Value_GBR</th>\n",
       "    </tr>\n",
       "  </thead>\n",
       "  <tbody>\n",
       "    <tr>\n",
       "      <th>F1 Score</th>\n",
       "      <td>0.609756</td>\n",
       "      <td>0.459770</td>\n",
       "      <td>0.478178</td>\n",
       "      <td>0.952569</td>\n",
       "      <td>0.921529</td>\n",
       "      <td>0.942574</td>\n",
       "      <td>0.909091</td>\n",
       "      <td>0.950884</td>\n",
       "      <td>0.958084</td>\n",
       "      <td>0.958416</td>\n",
       "      <td>0.948617</td>\n",
       "      <td>0.945312</td>\n",
       "    </tr>\n",
       "    <tr>\n",
       "      <th>accuracy</th>\n",
       "      <td>0.438596</td>\n",
       "      <td>0.505263</td>\n",
       "      <td>0.517544</td>\n",
       "      <td>0.957895</td>\n",
       "      <td>0.931579</td>\n",
       "      <td>0.949123</td>\n",
       "      <td>0.922807</td>\n",
       "      <td>0.956140</td>\n",
       "      <td>0.963158</td>\n",
       "      <td>0.963158</td>\n",
       "      <td>0.954386</td>\n",
       "      <td>0.950877</td>\n",
       "    </tr>\n",
       "    <tr>\n",
       "      <th>ROC AUC</th>\n",
       "      <td>0.500000</td>\n",
       "      <td>0.502500</td>\n",
       "      <td>0.516062</td>\n",
       "      <td>0.958562</td>\n",
       "      <td>0.929875</td>\n",
       "      <td>0.949438</td>\n",
       "      <td>0.918125</td>\n",
       "      <td>0.957438</td>\n",
       "      <td>0.962812</td>\n",
       "      <td>0.963688</td>\n",
       "      <td>0.955000</td>\n",
       "      <td>0.952750</td>\n",
       "    </tr>\n",
       "    <tr>\n",
       "      <th>Precision</th>\n",
       "      <td>0.438596</td>\n",
       "      <td>0.441176</td>\n",
       "      <td>0.454874</td>\n",
       "      <td>0.941406</td>\n",
       "      <td>0.927126</td>\n",
       "      <td>0.933333</td>\n",
       "      <td>0.940171</td>\n",
       "      <td>0.934363</td>\n",
       "      <td>0.956175</td>\n",
       "      <td>0.949020</td>\n",
       "      <td>0.937500</td>\n",
       "      <td>0.923664</td>\n",
       "    </tr>\n",
       "    <tr>\n",
       "      <th>Recall</th>\n",
       "      <td>1.000000</td>\n",
       "      <td>0.480000</td>\n",
       "      <td>0.504000</td>\n",
       "      <td>0.964000</td>\n",
       "      <td>0.916000</td>\n",
       "      <td>0.952000</td>\n",
       "      <td>0.880000</td>\n",
       "      <td>0.968000</td>\n",
       "      <td>0.960000</td>\n",
       "      <td>0.968000</td>\n",
       "      <td>0.960000</td>\n",
       "      <td>0.968000</td>\n",
       "    </tr>\n",
       "  </tbody>\n",
       "</table>\n",
       "</div>"
      ],
      "text/plain": [
       "           most_frequent  stratified   uniform  Value_LogReg  Value_KNN  \\\n",
       "F1 Score        0.609756    0.459770  0.478178      0.952569   0.921529   \n",
       "accuracy        0.438596    0.505263  0.517544      0.957895   0.931579   \n",
       "ROC AUC         0.500000    0.502500  0.516062      0.958562   0.929875   \n",
       "Precision       0.438596    0.441176  0.454874      0.941406   0.927126   \n",
       "Recall          1.000000    0.480000  0.504000      0.964000   0.916000   \n",
       "\n",
       "           Value_LDA  Value_GNB  Value_RFC  Value_SVC  Value_NSVC  Value_LSVC  \\\n",
       "F1 Score    0.942574   0.909091   0.950884   0.958084    0.958416    0.948617   \n",
       "accuracy    0.949123   0.922807   0.956140   0.963158    0.963158    0.954386   \n",
       "ROC AUC     0.949438   0.918125   0.957438   0.962812    0.963688    0.955000   \n",
       "Precision   0.933333   0.940171   0.934363   0.956175    0.949020    0.937500   \n",
       "Recall      0.952000   0.880000   0.968000   0.960000    0.968000    0.960000   \n",
       "\n",
       "           Value_GBR  \n",
       "F1 Score    0.945312  \n",
       "accuracy    0.950877  \n",
       "ROC AUC     0.952750  \n",
       "Precision   0.923664  \n",
       "Recall      0.968000  "
      ]
     },
     "execution_count": 67,
     "metadata": {},
     "output_type": "execute_result"
    }
   ],
   "source": [
    "df_metric['Value_GBR'] = metric_calculator(y_test , grid_gbc.predict(X_test))\n",
    "df_metric"
   ]
  },
  {
   "cell_type": "markdown",
   "metadata": {},
   "source": [
    "### Health Score for All"
   ]
  },
  {
   "cell_type": "code",
   "execution_count": 10,
   "metadata": {
    "ExecuteTime": {
     "end_time": "2022-09-14T09:42:40.385403Z",
     "start_time": "2022-09-14T09:42:37.712859Z"
    }
   },
   "outputs": [
    {
     "data": {
      "text/html": [
       "<div>\n",
       "<style scoped>\n",
       "    .dataframe tbody tr th:only-of-type {\n",
       "        vertical-align: middle;\n",
       "    }\n",
       "\n",
       "    .dataframe tbody tr th {\n",
       "        vertical-align: top;\n",
       "    }\n",
       "\n",
       "    .dataframe thead th {\n",
       "        text-align: right;\n",
       "    }\n",
       "</style>\n",
       "<table border=\"1\" class=\"dataframe\">\n",
       "  <thead>\n",
       "    <tr style=\"text-align: right;\">\n",
       "      <th></th>\n",
       "      <th>no_warning_sign</th>\n",
       "      <th>BizActive?</th>\n",
       "      <th>AddedUsers/BoughtUser</th>\n",
       "      <th>ActiveUsers/AddedUsers</th>\n",
       "      <th>#Activities</th>\n",
       "      <th>ActivitiesWoutDeal/#Activities</th>\n",
       "      <th>AvgDelayTimeActivity</th>\n",
       "      <th>#Activities/#Deals</th>\n",
       "      <th>%NoAcquitance</th>\n",
       "      <th>TransformationSpeed</th>\n",
       "      <th>TransformationRate</th>\n",
       "      <th>%NoReasonFailure</th>\n",
       "      <th>#OngoingDeals/#Total(Correct)Deals</th>\n",
       "      <th>BizIsExpired?</th>\n",
       "      <th>Health_Score</th>\n",
       "    </tr>\n",
       "  </thead>\n",
       "  <tbody>\n",
       "    <tr>\n",
       "      <th>0</th>\n",
       "      <td>0.000000</td>\n",
       "      <td>0</td>\n",
       "      <td>0.642724</td>\n",
       "      <td>0.181397</td>\n",
       "      <td>1</td>\n",
       "      <td>0.866667</td>\n",
       "      <td>4</td>\n",
       "      <td>1.068966</td>\n",
       "      <td>0.310345</td>\n",
       "      <td>2</td>\n",
       "      <td>2</td>\n",
       "      <td>3</td>\n",
       "      <td>0.500000</td>\n",
       "      <td>1</td>\n",
       "      <td>1.950368</td>\n",
       "    </tr>\n",
       "    <tr>\n",
       "      <th>1</th>\n",
       "      <td>0.238875</td>\n",
       "      <td>1</td>\n",
       "      <td>0.398507</td>\n",
       "      <td>0.274307</td>\n",
       "      <td>3</td>\n",
       "      <td>0.662252</td>\n",
       "      <td>3</td>\n",
       "      <td>0.688889</td>\n",
       "      <td>0.917526</td>\n",
       "      <td>2</td>\n",
       "      <td>2</td>\n",
       "      <td>1</td>\n",
       "      <td>0.627451</td>\n",
       "      <td>0</td>\n",
       "      <td>7.272478</td>\n",
       "    </tr>\n",
       "    <tr>\n",
       "      <th>2</th>\n",
       "      <td>0.822599</td>\n",
       "      <td>0</td>\n",
       "      <td>1.000000</td>\n",
       "      <td>0.949580</td>\n",
       "      <td>1</td>\n",
       "      <td>0.000000</td>\n",
       "      <td>4</td>\n",
       "      <td>1.444444</td>\n",
       "      <td>0.000000</td>\n",
       "      <td>1</td>\n",
       "      <td>3</td>\n",
       "      <td>1</td>\n",
       "      <td>0.846154</td>\n",
       "      <td>1</td>\n",
       "      <td>4.445471</td>\n",
       "    </tr>\n",
       "    <tr>\n",
       "      <th>3</th>\n",
       "      <td>0.000000</td>\n",
       "      <td>0</td>\n",
       "      <td>1.000000</td>\n",
       "      <td>0.211382</td>\n",
       "      <td>1</td>\n",
       "      <td>1.000000</td>\n",
       "      <td>3</td>\n",
       "      <td>0.000000</td>\n",
       "      <td>0.602430</td>\n",
       "      <td>2</td>\n",
       "      <td>2</td>\n",
       "      <td>2</td>\n",
       "      <td>0.506440</td>\n",
       "      <td>1</td>\n",
       "      <td>1.534495</td>\n",
       "    </tr>\n",
       "    <tr>\n",
       "      <th>4</th>\n",
       "      <td>0.082940</td>\n",
       "      <td>1</td>\n",
       "      <td>1.000000</td>\n",
       "      <td>0.804726</td>\n",
       "      <td>4</td>\n",
       "      <td>0.773725</td>\n",
       "      <td>2</td>\n",
       "      <td>3.579350</td>\n",
       "      <td>0.182724</td>\n",
       "      <td>2</td>\n",
       "      <td>1</td>\n",
       "      <td>2</td>\n",
       "      <td>0.013858</td>\n",
       "      <td>0</td>\n",
       "      <td>6.435030</td>\n",
       "    </tr>\n",
       "  </tbody>\n",
       "</table>\n",
       "</div>"
      ],
      "text/plain": [
       "   no_warning_sign  BizActive?  AddedUsers/BoughtUser  ActiveUsers/AddedUsers  \\\n",
       "0         0.000000           0               0.642724                0.181397   \n",
       "1         0.238875           1               0.398507                0.274307   \n",
       "2         0.822599           0               1.000000                0.949580   \n",
       "3         0.000000           0               1.000000                0.211382   \n",
       "4         0.082940           1               1.000000                0.804726   \n",
       "\n",
       "   #Activities  ActivitiesWoutDeal/#Activities  AvgDelayTimeActivity  \\\n",
       "0            1                        0.866667                     4   \n",
       "1            3                        0.662252                     3   \n",
       "2            1                        0.000000                     4   \n",
       "3            1                        1.000000                     3   \n",
       "4            4                        0.773725                     2   \n",
       "\n",
       "   #Activities/#Deals  %NoAcquitance  TransformationSpeed  TransformationRate  \\\n",
       "0            1.068966       0.310345                    2                   2   \n",
       "1            0.688889       0.917526                    2                   2   \n",
       "2            1.444444       0.000000                    1                   3   \n",
       "3            0.000000       0.602430                    2                   2   \n",
       "4            3.579350       0.182724                    2                   1   \n",
       "\n",
       "   %NoReasonFailure  #OngoingDeals/#Total(Correct)Deals  BizIsExpired?  \\\n",
       "0                 3                            0.500000              1   \n",
       "1                 1                            0.627451              0   \n",
       "2                 1                            0.846154              1   \n",
       "3                 2                            0.506440              1   \n",
       "4                 2                            0.013858              0   \n",
       "\n",
       "   Health_Score  \n",
       "0      1.950368  \n",
       "1      7.272478  \n",
       "2      4.445471  \n",
       "3      1.534495  \n",
       "4      6.435030  "
      ]
     },
     "execution_count": 10,
     "metadata": {},
     "output_type": "execute_result"
    }
   ],
   "source": [
    "gbr = GradientBoostingClassifier(learning_rate= 0.2, loss= 'exponential',\n",
    "                                 max_features='log2', n_estimators= 400, subsample= 0.8)\n",
    "y_dec_gbr = ((gbr.fit(X, y)).decision_function(X)).reshape(-1,1)\n",
    "y_dec_gbr = MinMaxScaler(feature_range=(0, 10)).fit_transform(y_dec_gbr)\n",
    "df_medoid['Health_Score'] = 10 - y_dec_gbr\n",
    "df_medoid.head()"
   ]
  },
  {
   "cell_type": "code",
   "execution_count": 15,
   "metadata": {
    "ExecuteTime": {
     "end_time": "2022-09-14T09:45:56.660247Z",
     "start_time": "2022-09-14T09:45:56.623309Z"
    }
   },
   "outputs": [
    {
     "data": {
      "text/html": [
       "<div>\n",
       "<style scoped>\n",
       "    .dataframe tbody tr th:only-of-type {\n",
       "        vertical-align: middle;\n",
       "    }\n",
       "\n",
       "    .dataframe tbody tr th {\n",
       "        vertical-align: top;\n",
       "    }\n",
       "\n",
       "    .dataframe thead th {\n",
       "        text-align: right;\n",
       "    }\n",
       "</style>\n",
       "<table border=\"1\" class=\"dataframe\">\n",
       "  <thead>\n",
       "    <tr style=\"text-align: right;\">\n",
       "      <th></th>\n",
       "      <th>Column Name</th>\n",
       "      <th>Importance</th>\n",
       "    </tr>\n",
       "  </thead>\n",
       "  <tbody>\n",
       "    <tr>\n",
       "      <th>0</th>\n",
       "      <td>no_warning_sign</td>\n",
       "      <td>0.161540</td>\n",
       "    </tr>\n",
       "    <tr>\n",
       "      <th>1</th>\n",
       "      <td>BizActive?</td>\n",
       "      <td>0.268843</td>\n",
       "    </tr>\n",
       "    <tr>\n",
       "      <th>2</th>\n",
       "      <td>AddedUsers/BoughtUser</td>\n",
       "      <td>0.005968</td>\n",
       "    </tr>\n",
       "    <tr>\n",
       "      <th>3</th>\n",
       "      <td>ActiveUsers/AddedUsers</td>\n",
       "      <td>0.060467</td>\n",
       "    </tr>\n",
       "    <tr>\n",
       "      <th>4</th>\n",
       "      <td>#Activities</td>\n",
       "      <td>0.140056</td>\n",
       "    </tr>\n",
       "    <tr>\n",
       "      <th>5</th>\n",
       "      <td>ActivitiesWoutDeal/#Activities</td>\n",
       "      <td>0.027250</td>\n",
       "    </tr>\n",
       "    <tr>\n",
       "      <th>6</th>\n",
       "      <td>AvgDelayTimeActivity</td>\n",
       "      <td>0.020039</td>\n",
       "    </tr>\n",
       "    <tr>\n",
       "      <th>7</th>\n",
       "      <td>#Activities/#Deals</td>\n",
       "      <td>0.088323</td>\n",
       "    </tr>\n",
       "    <tr>\n",
       "      <th>8</th>\n",
       "      <td>%NoAcquitance</td>\n",
       "      <td>0.006363</td>\n",
       "    </tr>\n",
       "    <tr>\n",
       "      <th>9</th>\n",
       "      <td>TransformationSpeed</td>\n",
       "      <td>0.005433</td>\n",
       "    </tr>\n",
       "    <tr>\n",
       "      <th>10</th>\n",
       "      <td>TransformationRate</td>\n",
       "      <td>0.053345</td>\n",
       "    </tr>\n",
       "    <tr>\n",
       "      <th>11</th>\n",
       "      <td>%NoReasonFailure</td>\n",
       "      <td>0.061953</td>\n",
       "    </tr>\n",
       "    <tr>\n",
       "      <th>12</th>\n",
       "      <td>#OngoingDeals/#Total(Correct)Deals</td>\n",
       "      <td>0.100421</td>\n",
       "    </tr>\n",
       "  </tbody>\n",
       "</table>\n",
       "</div>"
      ],
      "text/plain": [
       "                           Column Name  Importance\n",
       "0                      no_warning_sign    0.161540\n",
       "1                           BizActive?    0.268843\n",
       "2                AddedUsers/BoughtUser    0.005968\n",
       "3               ActiveUsers/AddedUsers    0.060467\n",
       "4                          #Activities    0.140056\n",
       "5       ActivitiesWoutDeal/#Activities    0.027250\n",
       "6                 AvgDelayTimeActivity    0.020039\n",
       "7                   #Activities/#Deals    0.088323\n",
       "8                        %NoAcquitance    0.006363\n",
       "9                  TransformationSpeed    0.005433\n",
       "10                  TransformationRate    0.053345\n",
       "11                    %NoReasonFailure    0.061953\n",
       "12  #OngoingDeals/#Total(Correct)Deals    0.100421"
      ]
     },
     "execution_count": 15,
     "metadata": {},
     "output_type": "execute_result"
    }
   ],
   "source": [
    "imp = gbr.feature_importances_\n",
    "pd.DataFrame({'Column Name':df_medoid.columns[:len(imp)] , 'Importance':imp})"
   ]
  },
  {
   "cell_type": "markdown",
   "metadata": {},
   "source": [
    "### Successful Customers Checking"
   ]
  },
  {
   "cell_type": "code",
   "execution_count": 69,
   "metadata": {
    "ExecuteTime": {
     "end_time": "2022-09-12T11:34:33.999299Z",
     "start_time": "2022-09-12T11:34:33.819781Z"
    },
    "scrolled": false
   },
   "outputs": [
    {
     "data": {
      "image/png": "[encoded data removed]",
      "text/plain": [
       "<Figure size 500x300 with 1 Axes>"
      ]
     },
     "metadata": {},
     "output_type": "display_data"
    }
   ],
   "source": [
    "successful = successful['BizDomainId'].str.lower()\n",
    "plt.figure(figsize=(5,3))\n",
    "plt.style.use('seaborn')\n",
    "sns.histplot(df_medoid.loc[df_medoid['BizDomainsId'].isin(successful),'Health_Score'])\n",
    "plt.title('Histogram of Successful BizDomains')\n",
    "plt.tight_layout()\n",
    "# plt.savefig('30. GBC Successful Biz.jpg',dpi=200)\n",
    "plt.show()"
   ]
  },
  {
   "cell_type": "markdown",
   "metadata": {},
   "source": [
    "### Export"
   ]
  },
  {
   "cell_type": "code",
   "execution_count": 70,
   "metadata": {
    "ExecuteTime": {
     "end_time": "2022-09-12T11:34:38.780355Z",
     "start_time": "2022-09-12T11:34:38.741458Z"
    }
   },
   "outputs": [],
   "source": [
    "df_medoid.to_csv('10. medoid k=2 GBC Report.csv')"
   ]
  }
 ],
 "metadata": {
  "kernelspec": {
   "display_name": "Python 3 (ipykernel)",
   "language": "python",
   "name": "python3"
  },
  "language_info": {
   "codemirror_mode": {
    "name": "ipython",
    "version": 3
   },
   "file_extension": ".py",
   "mimetype": "text/x-python",
   "name": "python",
   "nbconvert_exporter": "python",
   "pygments_lexer": "ipython3",
   "version": "3.8.5"
  },
  "notify_time": "5",
  "toc": {
   "base_numbering": 1,
   "nav_menu": {},
   "number_sections": false,
   "sideBar": true,
   "skip_h1_title": false,
   "title_cell": "Table of Contents",
   "title_sidebar": "Contents",
   "toc_cell": false,
   "toc_position": {
    "height": "calc(100% - 180px)",
    "left": "10px",
    "top": "150px",
    "width": "256px"
   },
   "toc_section_display": true,
   "toc_window_display": true
  },
  "varInspector": {
   "cols": {
    "lenName": 16,
    "lenType": 16,
    "lenVar": 40
   },
   "kernels_config": {
    "python": {
     "delete_cmd_postfix": "",
     "delete_cmd_prefix": "del ",
     "library": "var_list.py",
     "varRefreshCmd": "print(var_dic_list())"
    },
    "r": {
     "delete_cmd_postfix": ") ",
     "delete_cmd_prefix": "rm(",
     "library": "var_list.r",
     "varRefreshCmd": "cat(var_dic_list()) "
    }
   },
   "types_to_exclude": [
    "module",
    "function",
    "builtin_function_or_method",
    "instance",
    "_Feature"
   ],
   "window_display": false
  }
 },
 "nbformat": 4,
 "nbformat_minor": 4
}
