{
 "cells": [
  {
   "cell_type": "markdown",
   "metadata": {},
   "source": [
    "# Importing Libs"
   ]
  },
  {
   "cell_type": "code",
   "execution_count": 1,
   "metadata": {
    "ExecuteTime": {
     "end_time": "2022-09-17T14:10:18.698969Z",
     "start_time": "2022-09-17T14:10:17.198777Z"
    }
   },
   "outputs": [],
   "source": [
    "import pandas as pd\n",
    "import numpy as np\n",
    "import glob\n",
    "import os\n",
    "import matplotlib.pyplot as plt\n",
    "import seaborn as sns\n",
    "pd.set_option('display.max_rows', None)\n",
    "import seaborn as sns\n",
    "import scipy.stats as stats\n",
    "from sklearn.linear_model import LogisticRegression\n",
    "from sklearn.model_selection import train_test_split\n",
    "from sklearn.model_selection import GridSearchCV\n",
    "from sklearn.model_selection import RepeatedStratifiedKFold\n",
    "from sklearn.metrics import f1_score\n",
    "from sklearn.metrics import make_scorer\n",
    "from sklearn.metrics import roc_auc_score\n",
    "from sklearn.metrics import accuracy_score\n",
    "from sklearn.metrics import recall_score\n",
    "from sklearn.metrics import precision_score\n",
    "from sklearn.preprocessing import MinMaxScaler\n",
    "from sklearn.dummy import DummyClassifier\n",
    "from sklearn.neighbors import KNeighborsClassifier\n",
    "from sklearn.discriminant_analysis import LinearDiscriminantAnalysis\n",
    "from sklearn.naive_bayes import GaussianNB\n",
    "from sklearn.ensemble import RandomForestClassifier\n",
    "from sklearn.ensemble import AdaBoostClassifier\n",
    "from sklearn.svm import SVC\n",
    "from sklearn.svm import LinearSVC\n",
    "from sklearn.svm import NuSVC\n",
    "from sklearn.ensemble import GradientBoostingClassifier\n",
    "from sklearn.semi_supervised import SelfTrainingClassifier\n",
    "import warnings\n",
    "warnings.filterwarnings('ignore')"
   ]
  },
  {
   "cell_type": "markdown",
   "metadata": {},
   "source": [
    "# Importing BizDomains"
   ]
  },
  {
   "cell_type": "code",
   "execution_count": 2,
   "metadata": {
    "ExecuteTime": {
     "end_time": "2022-09-17T14:10:18.714736Z",
     "start_time": "2022-09-17T14:10:18.701769Z"
    }
   },
   "outputs": [],
   "source": [
    "BizDomains = pd.read_csv('BizDomainsId.csv').drop('Unnamed: 0',axis=1)"
   ]
  },
  {
   "cell_type": "markdown",
   "metadata": {},
   "source": [
    "# Importing KMedoids=2 Dataset"
   ]
  },
  {
   "cell_type": "code",
   "execution_count": 3,
   "metadata": {
    "ExecuteTime": {
     "end_time": "2022-09-17T14:10:18.760602Z",
     "start_time": "2022-09-17T14:10:18.717718Z"
    }
   },
   "outputs": [
    {
     "data": {
      "text/html": [
       "<div>\n",
       "<style scoped>\n",
       "    .dataframe tbody tr th:only-of-type {\n",
       "        vertical-align: middle;\n",
       "    }\n",
       "\n",
       "    .dataframe tbody tr th {\n",
       "        vertical-align: top;\n",
       "    }\n",
       "\n",
       "    .dataframe thead th {\n",
       "        text-align: right;\n",
       "    }\n",
       "</style>\n",
       "<table border=\"1\" class=\"dataframe\">\n",
       "  <thead>\n",
       "    <tr style=\"text-align: right;\">\n",
       "      <th></th>\n",
       "      <th>no_warning_sign</th>\n",
       "      <th>BizActive?</th>\n",
       "      <th>AddedUsers/BoughtUser</th>\n",
       "      <th>ActiveUsers/AddedUsers</th>\n",
       "      <th>#Activities</th>\n",
       "      <th>ActivitiesWoutDeal/#Activities</th>\n",
       "      <th>AvgDelayTimeActivity</th>\n",
       "      <th>#Activities/#Deals</th>\n",
       "      <th>%NoAcquitance</th>\n",
       "      <th>TransformationSpeed</th>\n",
       "      <th>TransformationRate</th>\n",
       "      <th>%NoReasonFailure</th>\n",
       "      <th>#OngoingDeals/#Total(Correct)Deals</th>\n",
       "      <th>BizIsExpired?</th>\n",
       "    </tr>\n",
       "  </thead>\n",
       "  <tbody>\n",
       "    <tr>\n",
       "      <th>0</th>\n",
       "      <td>0.000000</td>\n",
       "      <td>0</td>\n",
       "      <td>0.642724</td>\n",
       "      <td>0.181397</td>\n",
       "      <td>1</td>\n",
       "      <td>0.866667</td>\n",
       "      <td>4</td>\n",
       "      <td>1.068966</td>\n",
       "      <td>0.310345</td>\n",
       "      <td>2</td>\n",
       "      <td>2</td>\n",
       "      <td>3</td>\n",
       "      <td>0.500000</td>\n",
       "      <td>1</td>\n",
       "    </tr>\n",
       "    <tr>\n",
       "      <th>1</th>\n",
       "      <td>0.238875</td>\n",
       "      <td>1</td>\n",
       "      <td>0.398507</td>\n",
       "      <td>0.274307</td>\n",
       "      <td>3</td>\n",
       "      <td>0.662252</td>\n",
       "      <td>3</td>\n",
       "      <td>0.688889</td>\n",
       "      <td>0.917526</td>\n",
       "      <td>2</td>\n",
       "      <td>2</td>\n",
       "      <td>1</td>\n",
       "      <td>0.627451</td>\n",
       "      <td>0</td>\n",
       "    </tr>\n",
       "    <tr>\n",
       "      <th>2</th>\n",
       "      <td>0.822599</td>\n",
       "      <td>0</td>\n",
       "      <td>1.000000</td>\n",
       "      <td>0.949580</td>\n",
       "      <td>1</td>\n",
       "      <td>0.000000</td>\n",
       "      <td>4</td>\n",
       "      <td>1.444444</td>\n",
       "      <td>0.000000</td>\n",
       "      <td>1</td>\n",
       "      <td>3</td>\n",
       "      <td>1</td>\n",
       "      <td>0.846154</td>\n",
       "      <td>0</td>\n",
       "    </tr>\n",
       "    <tr>\n",
       "      <th>3</th>\n",
       "      <td>0.000000</td>\n",
       "      <td>0</td>\n",
       "      <td>1.000000</td>\n",
       "      <td>0.211382</td>\n",
       "      <td>1</td>\n",
       "      <td>1.000000</td>\n",
       "      <td>3</td>\n",
       "      <td>0.000000</td>\n",
       "      <td>0.602430</td>\n",
       "      <td>2</td>\n",
       "      <td>2</td>\n",
       "      <td>2</td>\n",
       "      <td>0.506440</td>\n",
       "      <td>1</td>\n",
       "    </tr>\n",
       "    <tr>\n",
       "      <th>4</th>\n",
       "      <td>0.082940</td>\n",
       "      <td>1</td>\n",
       "      <td>1.000000</td>\n",
       "      <td>0.804726</td>\n",
       "      <td>4</td>\n",
       "      <td>0.773725</td>\n",
       "      <td>2</td>\n",
       "      <td>3.579350</td>\n",
       "      <td>0.182724</td>\n",
       "      <td>2</td>\n",
       "      <td>1</td>\n",
       "      <td>2</td>\n",
       "      <td>0.013858</td>\n",
       "      <td>0</td>\n",
       "    </tr>\n",
       "  </tbody>\n",
       "</table>\n",
       "</div>"
      ],
      "text/plain": [
       "   no_warning_sign  BizActive?  AddedUsers/BoughtUser  ActiveUsers/AddedUsers  \\\n",
       "0         0.000000           0               0.642724                0.181397   \n",
       "1         0.238875           1               0.398507                0.274307   \n",
       "2         0.822599           0               1.000000                0.949580   \n",
       "3         0.000000           0               1.000000                0.211382   \n",
       "4         0.082940           1               1.000000                0.804726   \n",
       "\n",
       "   #Activities  ActivitiesWoutDeal/#Activities  AvgDelayTimeActivity  \\\n",
       "0            1                        0.866667                     4   \n",
       "1            3                        0.662252                     3   \n",
       "2            1                        0.000000                     4   \n",
       "3            1                        1.000000                     3   \n",
       "4            4                        0.773725                     2   \n",
       "\n",
       "   #Activities/#Deals  %NoAcquitance  TransformationSpeed  TransformationRate  \\\n",
       "0            1.068966       0.310345                    2                   2   \n",
       "1            0.688889       0.917526                    2                   2   \n",
       "2            1.444444       0.000000                    1                   3   \n",
       "3            0.000000       0.602430                    2                   2   \n",
       "4            3.579350       0.182724                    2                   1   \n",
       "\n",
       "   %NoReasonFailure  #OngoingDeals/#Total(Correct)Deals  BizIsExpired?  \n",
       "0                 3                            0.500000              1  \n",
       "1                 1                            0.627451              0  \n",
       "2                 1                            0.846154              0  \n",
       "3                 2                            0.506440              1  \n",
       "4                 2                            0.013858              0  "
      ]
     },
     "execution_count": 3,
     "metadata": {},
     "output_type": "execute_result"
    }
   ],
   "source": [
    "df_medoid = pd.read_csv(r\"K-Medoids_k=2_Numerical.csv\").drop('Unnamed: 0',axis=1)\n",
    "df_medoid.head()"
   ]
  },
  {
   "cell_type": "markdown",
   "metadata": {},
   "source": [
    "# Train/Test Split"
   ]
  },
  {
   "cell_type": "code",
   "execution_count": 4,
   "metadata": {
    "ExecuteTime": {
     "end_time": "2022-09-17T14:10:18.776560Z",
     "start_time": "2022-09-17T14:10:18.765589Z"
    }
   },
   "outputs": [],
   "source": [
    "from sklearn.model_selection import train_test_split\n",
    "X = df_medoid[[x for x in df_medoid.columns if x!='BizIsExpired?']]\n",
    "y = df_medoid['BizIsExpired?']\n",
    "\n",
    "X_train , X_test , y_train , y_test = train_test_split(X,y , test_size=0.3 , random_state=1)"
   ]
  },
  {
   "cell_type": "markdown",
   "metadata": {},
   "source": [
    "## Metric Calculator Function"
   ]
  },
  {
   "cell_type": "code",
   "execution_count": 5,
   "metadata": {
    "ExecuteTime": {
     "end_time": "2022-09-17T14:10:18.791519Z",
     "start_time": "2022-09-17T14:10:18.778555Z"
    }
   },
   "outputs": [],
   "source": [
    "def metric_calculator(y_test , y_test_pred):\n",
    "    f1_res = f1_score(y_test,y_test_pred)\n",
    "    accuracy_res = accuracy_score(y_test, y_test_pred)\n",
    "    roc_res = roc_auc_score(y_test, y_test_pred)\n",
    "    prec = precision_score(y_test , y_test_pred)\n",
    "    rec = recall_score(y_test , y_test_pred)\n",
    "    return [f1_res , accuracy_res , roc_res , prec , rec]"
   ]
  },
  {
   "cell_type": "markdown",
   "metadata": {},
   "source": [
    "## Dummy Classifiers"
   ]
  },
  {
   "cell_type": "markdown",
   "metadata": {},
   "source": [
    "### most_frequent"
   ]
  },
  {
   "cell_type": "code",
   "execution_count": 6,
   "metadata": {
    "ExecuteTime": {
     "end_time": "2022-09-17T14:10:18.822436Z",
     "start_time": "2022-09-17T14:10:18.793513Z"
    }
   },
   "outputs": [
    {
     "data": {
      "text/html": [
       "<div>\n",
       "<style scoped>\n",
       "    .dataframe tbody tr th:only-of-type {\n",
       "        vertical-align: middle;\n",
       "    }\n",
       "\n",
       "    .dataframe tbody tr th {\n",
       "        vertical-align: top;\n",
       "    }\n",
       "\n",
       "    .dataframe thead th {\n",
       "        text-align: right;\n",
       "    }\n",
       "</style>\n",
       "<table border=\"1\" class=\"dataframe\">\n",
       "  <thead>\n",
       "    <tr style=\"text-align: right;\">\n",
       "      <th></th>\n",
       "      <th>most_frequent</th>\n",
       "    </tr>\n",
       "  </thead>\n",
       "  <tbody>\n",
       "    <tr>\n",
       "      <th>F1 Score</th>\n",
       "      <td>0.000000</td>\n",
       "    </tr>\n",
       "    <tr>\n",
       "      <th>accuracy</th>\n",
       "      <td>0.650877</td>\n",
       "    </tr>\n",
       "    <tr>\n",
       "      <th>ROC AUC</th>\n",
       "      <td>0.500000</td>\n",
       "    </tr>\n",
       "    <tr>\n",
       "      <th>Precision</th>\n",
       "      <td>0.000000</td>\n",
       "    </tr>\n",
       "    <tr>\n",
       "      <th>Recall</th>\n",
       "      <td>0.000000</td>\n",
       "    </tr>\n",
       "  </tbody>\n",
       "</table>\n",
       "</div>"
      ],
      "text/plain": [
       "           most_frequent\n",
       "F1 Score        0.000000\n",
       "accuracy        0.650877\n",
       "ROC AUC         0.500000\n",
       "Precision       0.000000\n",
       "Recall          0.000000"
      ]
     },
     "execution_count": 6,
     "metadata": {},
     "output_type": "execute_result"
    }
   ],
   "source": [
    "dummy_clf = DummyClassifier(strategy = 'most_frequent' , random_state=1)\n",
    "dummy_clf.fit(X_train , y_train)\n",
    "df_metric = pd.DataFrame(index = ['F1 Score' , 'accuracy' , 'ROC AUC' , 'Precision','Recall'])\n",
    "df_metric['most_frequent'] = metric_calculator(y_test ,dummy_clf.predict(X_test) )\n",
    "df_metric"
   ]
  },
  {
   "cell_type": "markdown",
   "metadata": {},
   "source": [
    "### stratified"
   ]
  },
  {
   "cell_type": "code",
   "execution_count": 7,
   "metadata": {
    "ExecuteTime": {
     "end_time": "2022-09-17T14:10:18.853353Z",
     "start_time": "2022-09-17T14:10:18.825430Z"
    }
   },
   "outputs": [],
   "source": [
    "dummy_clf = DummyClassifier(strategy = 'stratified' , random_state=1 )\n",
    "dummy_clf.fit(X_train , y_train)\n",
    "\n",
    "df_metric['stratified'] = metric_calculator(y_test ,dummy_clf.predict(X_test) )"
   ]
  },
  {
   "cell_type": "markdown",
   "metadata": {},
   "source": [
    "### uniform"
   ]
  },
  {
   "cell_type": "code",
   "execution_count": 8,
   "metadata": {
    "ExecuteTime": {
     "end_time": "2022-09-17T14:10:18.884271Z",
     "start_time": "2022-09-17T14:10:18.859338Z"
    }
   },
   "outputs": [],
   "source": [
    "dummy_clf = DummyClassifier(strategy = 'uniform' , random_state=1 )\n",
    "dummy_clf.fit(X_train , y_train)\n",
    "\n",
    "df_metric['uniform'] = metric_calculator(y_test ,dummy_clf.predict(X_test) )"
   ]
  },
  {
   "cell_type": "code",
   "execution_count": 9,
   "metadata": {
    "ExecuteTime": {
     "end_time": "2022-09-17T14:10:18.900229Z",
     "start_time": "2022-09-17T14:10:18.886267Z"
    }
   },
   "outputs": [
    {
     "data": {
      "text/html": [
       "<div>\n",
       "<style scoped>\n",
       "    .dataframe tbody tr th:only-of-type {\n",
       "        vertical-align: middle;\n",
       "    }\n",
       "\n",
       "    .dataframe tbody tr th {\n",
       "        vertical-align: top;\n",
       "    }\n",
       "\n",
       "    .dataframe thead th {\n",
       "        text-align: right;\n",
       "    }\n",
       "</style>\n",
       "<table border=\"1\" class=\"dataframe\">\n",
       "  <thead>\n",
       "    <tr style=\"text-align: right;\">\n",
       "      <th></th>\n",
       "      <th>most_frequent</th>\n",
       "      <th>stratified</th>\n",
       "      <th>uniform</th>\n",
       "    </tr>\n",
       "  </thead>\n",
       "  <tbody>\n",
       "    <tr>\n",
       "      <th>F1 Score</th>\n",
       "      <td>0.000000</td>\n",
       "      <td>0.361949</td>\n",
       "      <td>0.403361</td>\n",
       "    </tr>\n",
       "    <tr>\n",
       "      <th>accuracy</th>\n",
       "      <td>0.650877</td>\n",
       "      <td>0.517544</td>\n",
       "      <td>0.501754</td>\n",
       "    </tr>\n",
       "    <tr>\n",
       "      <th>ROC AUC</th>\n",
       "      <td>0.500000</td>\n",
       "      <td>0.488433</td>\n",
       "      <td>0.497271</td>\n",
       "    </tr>\n",
       "    <tr>\n",
       "      <th>Precision</th>\n",
       "      <td>0.000000</td>\n",
       "      <td>0.336207</td>\n",
       "      <td>0.346570</td>\n",
       "    </tr>\n",
       "    <tr>\n",
       "      <th>Recall</th>\n",
       "      <td>0.000000</td>\n",
       "      <td>0.391960</td>\n",
       "      <td>0.482412</td>\n",
       "    </tr>\n",
       "  </tbody>\n",
       "</table>\n",
       "</div>"
      ],
      "text/plain": [
       "           most_frequent  stratified   uniform\n",
       "F1 Score        0.000000    0.361949  0.403361\n",
       "accuracy        0.650877    0.517544  0.501754\n",
       "ROC AUC         0.500000    0.488433  0.497271\n",
       "Precision       0.000000    0.336207  0.346570\n",
       "Recall          0.000000    0.391960  0.482412"
      ]
     },
     "execution_count": 9,
     "metadata": {},
     "output_type": "execute_result"
    }
   ],
   "source": [
    "df_metric"
   ]
  },
  {
   "cell_type": "markdown",
   "metadata": {},
   "source": [
    "## Logistic Regression (Good)"
   ]
  },
  {
   "cell_type": "markdown",
   "metadata": {},
   "source": [
    "### GridSearch"
   ]
  },
  {
   "cell_type": "code",
   "execution_count": 10,
   "metadata": {
    "ExecuteTime": {
     "end_time": "2022-09-17T14:10:21.539174Z",
     "start_time": "2022-09-17T14:10:18.902224Z"
    }
   },
   "outputs": [
    {
     "name": "stdout",
     "output_type": "stream",
     "text": [
      "Fitting 10 folds for each of 14 candidates, totalling 140 fits\n",
      "best paramters= {'C': 0.5}\n",
      "best score= 0.9425309208117515\n"
     ]
    }
   ],
   "source": [
    "logreg = LogisticRegression(penalty = 'l2',random_state=0)\n",
    "grid_C = {'C': [0.01, 0.1 , 0.5 , 1,3,5,6,7,8,9,10,20,30,50]}\n",
    "scorer = {\"AUC\": \"roc_auc\", \"F1\": make_scorer(f1_score) , \n",
    "          \"Accuracy\": 'accuracy'}\n",
    "grid_LogReg=GridSearchCV(logreg ,param_grid=grid_C, n_jobs=-1 , cv=10 , verbose = 5,\n",
    "                         scoring=scorer , refit='F1')\n",
    "grid_LogReg.fit(X_train , y_train )\n",
    "print('best paramters= {}\\nbest score= {}'.format(grid_LogReg.best_params_ , grid_LogReg.best_score_) )"
   ]
  },
  {
   "cell_type": "markdown",
   "metadata": {},
   "source": [
    "### Metrics"
   ]
  },
  {
   "cell_type": "code",
   "execution_count": 11,
   "metadata": {
    "ExecuteTime": {
     "end_time": "2022-09-17T14:10:21.555132Z",
     "start_time": "2022-09-17T14:10:21.541170Z"
    }
   },
   "outputs": [],
   "source": [
    "df_metric['Value_LogReg'] = metric_calculator(y_test ,grid_LogReg.predict(X_test) )"
   ]
  },
  {
   "cell_type": "code",
   "execution_count": 12,
   "metadata": {
    "ExecuteTime": {
     "end_time": "2022-09-17T14:10:21.570092Z",
     "start_time": "2022-09-17T14:10:21.557129Z"
    }
   },
   "outputs": [
    {
     "data": {
      "text/html": [
       "<div>\n",
       "<style scoped>\n",
       "    .dataframe tbody tr th:only-of-type {\n",
       "        vertical-align: middle;\n",
       "    }\n",
       "\n",
       "    .dataframe tbody tr th {\n",
       "        vertical-align: top;\n",
       "    }\n",
       "\n",
       "    .dataframe thead th {\n",
       "        text-align: right;\n",
       "    }\n",
       "</style>\n",
       "<table border=\"1\" class=\"dataframe\">\n",
       "  <thead>\n",
       "    <tr style=\"text-align: right;\">\n",
       "      <th></th>\n",
       "      <th>most_frequent</th>\n",
       "      <th>stratified</th>\n",
       "      <th>uniform</th>\n",
       "      <th>Value_LogReg</th>\n",
       "    </tr>\n",
       "  </thead>\n",
       "  <tbody>\n",
       "    <tr>\n",
       "      <th>F1 Score</th>\n",
       "      <td>0.000000</td>\n",
       "      <td>0.361949</td>\n",
       "      <td>0.403361</td>\n",
       "      <td>0.934010</td>\n",
       "    </tr>\n",
       "    <tr>\n",
       "      <th>accuracy</th>\n",
       "      <td>0.650877</td>\n",
       "      <td>0.517544</td>\n",
       "      <td>0.501754</td>\n",
       "      <td>0.954386</td>\n",
       "    </tr>\n",
       "    <tr>\n",
       "      <th>ROC AUC</th>\n",
       "      <td>0.500000</td>\n",
       "      <td>0.488433</td>\n",
       "      <td>0.497271</td>\n",
       "      <td>0.947487</td>\n",
       "    </tr>\n",
       "    <tr>\n",
       "      <th>Precision</th>\n",
       "      <td>0.000000</td>\n",
       "      <td>0.336207</td>\n",
       "      <td>0.346570</td>\n",
       "      <td>0.943590</td>\n",
       "    </tr>\n",
       "    <tr>\n",
       "      <th>Recall</th>\n",
       "      <td>0.000000</td>\n",
       "      <td>0.391960</td>\n",
       "      <td>0.482412</td>\n",
       "      <td>0.924623</td>\n",
       "    </tr>\n",
       "  </tbody>\n",
       "</table>\n",
       "</div>"
      ],
      "text/plain": [
       "           most_frequent  stratified   uniform  Value_LogReg\n",
       "F1 Score        0.000000    0.361949  0.403361      0.934010\n",
       "accuracy        0.650877    0.517544  0.501754      0.954386\n",
       "ROC AUC         0.500000    0.488433  0.497271      0.947487\n",
       "Precision       0.000000    0.336207  0.346570      0.943590\n",
       "Recall          0.000000    0.391960  0.482412      0.924623"
      ]
     },
     "execution_count": 12,
     "metadata": {},
     "output_type": "execute_result"
    }
   ],
   "source": [
    "df_metric"
   ]
  },
  {
   "cell_type": "markdown",
   "metadata": {},
   "source": [
    "### Health Score for All"
   ]
  },
  {
   "cell_type": "code",
   "execution_count": 13,
   "metadata": {
    "ExecuteTime": {
     "end_time": "2022-09-17T14:10:21.646888Z",
     "start_time": "2022-09-17T14:10:21.573085Z"
    }
   },
   "outputs": [
    {
     "data": {
      "text/html": [
       "<div>\n",
       "<style scoped>\n",
       "    .dataframe tbody tr th:only-of-type {\n",
       "        vertical-align: middle;\n",
       "    }\n",
       "\n",
       "    .dataframe tbody tr th {\n",
       "        vertical-align: top;\n",
       "    }\n",
       "\n",
       "    .dataframe thead th {\n",
       "        text-align: right;\n",
       "    }\n",
       "</style>\n",
       "<table border=\"1\" class=\"dataframe\">\n",
       "  <thead>\n",
       "    <tr style=\"text-align: right;\">\n",
       "      <th></th>\n",
       "      <th>no_warning_sign</th>\n",
       "      <th>BizActive?</th>\n",
       "      <th>AddedUsers/BoughtUser</th>\n",
       "      <th>ActiveUsers/AddedUsers</th>\n",
       "      <th>#Activities</th>\n",
       "      <th>ActivitiesWoutDeal/#Activities</th>\n",
       "      <th>AvgDelayTimeActivity</th>\n",
       "      <th>#Activities/#Deals</th>\n",
       "      <th>%NoAcquitance</th>\n",
       "      <th>TransformationSpeed</th>\n",
       "      <th>TransformationRate</th>\n",
       "      <th>%NoReasonFailure</th>\n",
       "      <th>#OngoingDeals/#Total(Correct)Deals</th>\n",
       "      <th>BizIsExpired?</th>\n",
       "      <th>Health_Score</th>\n",
       "      <th>BizDomainsId</th>\n",
       "    </tr>\n",
       "  </thead>\n",
       "  <tbody>\n",
       "    <tr>\n",
       "      <th>0</th>\n",
       "      <td>0.000000</td>\n",
       "      <td>0</td>\n",
       "      <td>0.642724</td>\n",
       "      <td>0.181397</td>\n",
       "      <td>1</td>\n",
       "      <td>0.866667</td>\n",
       "      <td>4</td>\n",
       "      <td>1.068966</td>\n",
       "      <td>0.310345</td>\n",
       "      <td>2</td>\n",
       "      <td>2</td>\n",
       "      <td>3</td>\n",
       "      <td>0.500000</td>\n",
       "      <td>1</td>\n",
       "      <td>1.096923</td>\n",
       "      <td>0006df37-709c-4121-be9e-5210adc6a044</td>\n",
       "    </tr>\n",
       "    <tr>\n",
       "      <th>1</th>\n",
       "      <td>0.238875</td>\n",
       "      <td>1</td>\n",
       "      <td>0.398507</td>\n",
       "      <td>0.274307</td>\n",
       "      <td>3</td>\n",
       "      <td>0.662252</td>\n",
       "      <td>3</td>\n",
       "      <td>0.688889</td>\n",
       "      <td>0.917526</td>\n",
       "      <td>2</td>\n",
       "      <td>2</td>\n",
       "      <td>1</td>\n",
       "      <td>0.627451</td>\n",
       "      <td>0</td>\n",
       "      <td>6.431584</td>\n",
       "      <td>002d52c3-6c10-41a5-a4b2-91422a1ab307</td>\n",
       "    </tr>\n",
       "    <tr>\n",
       "      <th>2</th>\n",
       "      <td>0.822599</td>\n",
       "      <td>0</td>\n",
       "      <td>1.000000</td>\n",
       "      <td>0.949580</td>\n",
       "      <td>1</td>\n",
       "      <td>0.000000</td>\n",
       "      <td>4</td>\n",
       "      <td>1.444444</td>\n",
       "      <td>0.000000</td>\n",
       "      <td>1</td>\n",
       "      <td>3</td>\n",
       "      <td>1</td>\n",
       "      <td>0.846154</td>\n",
       "      <td>0</td>\n",
       "      <td>5.089191</td>\n",
       "      <td>00428596-e168-49ce-8428-7949cd2215ea</td>\n",
       "    </tr>\n",
       "    <tr>\n",
       "      <th>3</th>\n",
       "      <td>0.000000</td>\n",
       "      <td>0</td>\n",
       "      <td>1.000000</td>\n",
       "      <td>0.211382</td>\n",
       "      <td>1</td>\n",
       "      <td>1.000000</td>\n",
       "      <td>3</td>\n",
       "      <td>0.000000</td>\n",
       "      <td>0.602430</td>\n",
       "      <td>2</td>\n",
       "      <td>2</td>\n",
       "      <td>2</td>\n",
       "      <td>0.506440</td>\n",
       "      <td>1</td>\n",
       "      <td>1.375327</td>\n",
       "      <td>0049986f-b17d-44ef-992f-88d478dd21b8</td>\n",
       "    </tr>\n",
       "    <tr>\n",
       "      <th>4</th>\n",
       "      <td>0.082940</td>\n",
       "      <td>1</td>\n",
       "      <td>1.000000</td>\n",
       "      <td>0.804726</td>\n",
       "      <td>4</td>\n",
       "      <td>0.773725</td>\n",
       "      <td>2</td>\n",
       "      <td>3.579350</td>\n",
       "      <td>0.182724</td>\n",
       "      <td>2</td>\n",
       "      <td>1</td>\n",
       "      <td>2</td>\n",
       "      <td>0.013858</td>\n",
       "      <td>0</td>\n",
       "      <td>6.213732</td>\n",
       "      <td>004c3ec1-da71-494d-9adb-8a4e660f9257</td>\n",
       "    </tr>\n",
       "  </tbody>\n",
       "</table>\n",
       "</div>"
      ],
      "text/plain": [
       "   no_warning_sign  BizActive?  AddedUsers/BoughtUser  ActiveUsers/AddedUsers  \\\n",
       "0         0.000000           0               0.642724                0.181397   \n",
       "1         0.238875           1               0.398507                0.274307   \n",
       "2         0.822599           0               1.000000                0.949580   \n",
       "3         0.000000           0               1.000000                0.211382   \n",
       "4         0.082940           1               1.000000                0.804726   \n",
       "\n",
       "   #Activities  ActivitiesWoutDeal/#Activities  AvgDelayTimeActivity  \\\n",
       "0            1                        0.866667                     4   \n",
       "1            3                        0.662252                     3   \n",
       "2            1                        0.000000                     4   \n",
       "3            1                        1.000000                     3   \n",
       "4            4                        0.773725                     2   \n",
       "\n",
       "   #Activities/#Deals  %NoAcquitance  TransformationSpeed  TransformationRate  \\\n",
       "0            1.068966       0.310345                    2                   2   \n",
       "1            0.688889       0.917526                    2                   2   \n",
       "2            1.444444       0.000000                    1                   3   \n",
       "3            0.000000       0.602430                    2                   2   \n",
       "4            3.579350       0.182724                    2                   1   \n",
       "\n",
       "   %NoReasonFailure  #OngoingDeals/#Total(Correct)Deals  BizIsExpired?  \\\n",
       "0                 3                            0.500000              1   \n",
       "1                 1                            0.627451              0   \n",
       "2                 1                            0.846154              0   \n",
       "3                 2                            0.506440              1   \n",
       "4                 2                            0.013858              0   \n",
       "\n",
       "   Health_Score                          BizDomainsId  \n",
       "0      1.096923  0006df37-709c-4121-be9e-5210adc6a044  \n",
       "1      6.431584  002d52c3-6c10-41a5-a4b2-91422a1ab307  \n",
       "2      5.089191  00428596-e168-49ce-8428-7949cd2215ea  \n",
       "3      1.375327  0049986f-b17d-44ef-992f-88d478dd21b8  \n",
       "4      6.213732  004c3ec1-da71-494d-9adb-8a4e660f9257  "
      ]
     },
     "execution_count": 13,
     "metadata": {},
     "output_type": "execute_result"
    }
   ],
   "source": [
    "logreg = LogisticRegression(penalty = 'l2',random_state=0 , C=0.5)\n",
    "y_dec_lr = (logreg.fit(X, y).decision_function(X)).reshape(-1,1)\n",
    "y_dec_lr = MinMaxScaler(feature_range=(0, 10)).fit_transform(y_dec_lr)\n",
    "df_medoid['Health_Score'] = 10 - y_dec_lr\n",
    "df_medoid['BizDomainsId'] = BizDomains['BizDomainId']\n",
    "df_medoid.head()"
   ]
  },
  {
   "cell_type": "markdown",
   "metadata": {},
   "source": [
    "### Successful Customers Checking"
   ]
  },
  {
   "cell_type": "code",
   "execution_count": 14,
   "metadata": {
    "ExecuteTime": {
     "end_time": "2022-09-17T14:10:22.000940Z",
     "start_time": "2022-09-17T14:10:21.648882Z"
    }
   },
   "outputs": [
    {
     "data": {
      "image/png": "[encoded data removed]",
      "text/plain": [
       "<Figure size 500x300 with 1 Axes>"
      ]
     },
     "metadata": {},
     "output_type": "display_data"
    }
   ],
   "source": [
    "successful  = pd.read_csv(r\"SuccesfulCustomers.csv\")\n",
    "successful = successful['BizDomainId'].str.lower()\n",
    "plt.figure(figsize=(5,3))\n",
    "plt.style.use('seaborn')\n",
    "sns.histplot(df_medoid.loc[df_medoid['BizDomainsId'].isin(successful),'Health_Score'])\n",
    "plt.title('Histogram of Successful BizDomains')\n",
    "plt.tight_layout()\n",
    "# plt.savefig('25. LogReg Successful Biz.jpg',dpi=200)\n",
    "plt.show()"
   ]
  },
  {
   "cell_type": "markdown",
   "metadata": {},
   "source": [
    "### Export"
   ]
  },
  {
   "cell_type": "code",
   "execution_count": 15,
   "metadata": {
    "ExecuteTime": {
     "end_time": "2022-09-17T14:10:22.015901Z",
     "start_time": "2022-09-17T14:10:22.002936Z"
    }
   },
   "outputs": [],
   "source": [
    "# df_medoid.to_csv('1. medoid k=2 LogReg Report.csv')"
   ]
  },
  {
   "cell_type": "markdown",
   "metadata": {},
   "source": [
    "## KNN"
   ]
  },
  {
   "cell_type": "markdown",
   "metadata": {},
   "source": [
    "### GridSearch"
   ]
  },
  {
   "cell_type": "code",
   "execution_count": 16,
   "metadata": {
    "ExecuteTime": {
     "end_time": "2022-09-17T14:10:22.531524Z",
     "start_time": "2022-09-17T14:10:22.017896Z"
    }
   },
   "outputs": [
    {
     "name": "stdout",
     "output_type": "stream",
     "text": [
      "Fitting 10 folds for each of 8 candidates, totalling 80 fits\n",
      "best paramters= {'n_neighbors': 7}\n",
      "best score= 0.8878904447736848\n"
     ]
    }
   ],
   "source": [
    "KNN = KNeighborsClassifier()\n",
    "n_neighbor = {'n_neighbors': np.arange(2,10)}\n",
    "scorer = {\"AUC\": \"roc_auc\", \"F1\": make_scorer(f1_score) , \n",
    "          \"Accuracy\": 'accuracy'}\n",
    "grid_KNN=GridSearchCV(KNN ,param_grid=n_neighbor, n_jobs=-1 , cv=10 , verbose = 5,\n",
    "                         scoring=scorer , refit='F1')\n",
    "grid_KNN.fit(X_train , y_train )\n",
    "print('best paramters= {}\\nbest score= {}'.format(grid_KNN.best_params_ , grid_KNN.best_score_) )"
   ]
  },
  {
   "cell_type": "markdown",
   "metadata": {},
   "source": [
    "### Metrics"
   ]
  },
  {
   "cell_type": "code",
   "execution_count": 17,
   "metadata": {
    "ExecuteTime": {
     "end_time": "2022-09-17T14:10:22.577400Z",
     "start_time": "2022-09-17T14:10:22.532521Z"
    }
   },
   "outputs": [
    {
     "data": {
      "text/html": [
       "<div>\n",
       "<style scoped>\n",
       "    .dataframe tbody tr th:only-of-type {\n",
       "        vertical-align: middle;\n",
       "    }\n",
       "\n",
       "    .dataframe tbody tr th {\n",
       "        vertical-align: top;\n",
       "    }\n",
       "\n",
       "    .dataframe thead th {\n",
       "        text-align: right;\n",
       "    }\n",
       "</style>\n",
       "<table border=\"1\" class=\"dataframe\">\n",
       "  <thead>\n",
       "    <tr style=\"text-align: right;\">\n",
       "      <th></th>\n",
       "      <th>most_frequent</th>\n",
       "      <th>stratified</th>\n",
       "      <th>uniform</th>\n",
       "      <th>Value_LogReg</th>\n",
       "      <th>Value_KNN</th>\n",
       "    </tr>\n",
       "  </thead>\n",
       "  <tbody>\n",
       "    <tr>\n",
       "      <th>F1 Score</th>\n",
       "      <td>0.000000</td>\n",
       "      <td>0.361949</td>\n",
       "      <td>0.403361</td>\n",
       "      <td>0.934010</td>\n",
       "      <td>0.888889</td>\n",
       "    </tr>\n",
       "    <tr>\n",
       "      <th>accuracy</th>\n",
       "      <td>0.650877</td>\n",
       "      <td>0.517544</td>\n",
       "      <td>0.501754</td>\n",
       "      <td>0.954386</td>\n",
       "      <td>0.924561</td>\n",
       "    </tr>\n",
       "    <tr>\n",
       "      <th>ROC AUC</th>\n",
       "      <td>0.500000</td>\n",
       "      <td>0.488433</td>\n",
       "      <td>0.497271</td>\n",
       "      <td>0.947487</td>\n",
       "      <td>0.910597</td>\n",
       "    </tr>\n",
       "    <tr>\n",
       "      <th>Precision</th>\n",
       "      <td>0.000000</td>\n",
       "      <td>0.336207</td>\n",
       "      <td>0.346570</td>\n",
       "      <td>0.943590</td>\n",
       "      <td>0.914894</td>\n",
       "    </tr>\n",
       "    <tr>\n",
       "      <th>Recall</th>\n",
       "      <td>0.000000</td>\n",
       "      <td>0.391960</td>\n",
       "      <td>0.482412</td>\n",
       "      <td>0.924623</td>\n",
       "      <td>0.864322</td>\n",
       "    </tr>\n",
       "  </tbody>\n",
       "</table>\n",
       "</div>"
      ],
      "text/plain": [
       "           most_frequent  stratified   uniform  Value_LogReg  Value_KNN\n",
       "F1 Score        0.000000    0.361949  0.403361      0.934010   0.888889\n",
       "accuracy        0.650877    0.517544  0.501754      0.954386   0.924561\n",
       "ROC AUC         0.500000    0.488433  0.497271      0.947487   0.910597\n",
       "Precision       0.000000    0.336207  0.346570      0.943590   0.914894\n",
       "Recall          0.000000    0.391960  0.482412      0.924623   0.864322"
      ]
     },
     "execution_count": 17,
     "metadata": {},
     "output_type": "execute_result"
    }
   ],
   "source": [
    "df_metric['Value_KNN'] = metric_calculator(y_test , grid_KNN.predict(X_test))\n",
    "df_metric"
   ]
  },
  {
   "cell_type": "markdown",
   "metadata": {},
   "source": [
    "### Health Score for All"
   ]
  },
  {
   "cell_type": "code",
   "execution_count": 18,
   "metadata": {
    "ExecuteTime": {
     "end_time": "2022-09-17T14:10:22.639240Z",
     "start_time": "2022-09-17T14:10:22.579394Z"
    }
   },
   "outputs": [],
   "source": [
    "KNN = KNeighborsClassifier(n_neighbors=7)\n",
    "y_dec_lr = (KNN.fit(X, y).predict_proba(X)[: , 1]).reshape(-1,1)\n",
    "y_dec_lr = MinMaxScaler(feature_range=(0, 10)).fit_transform(y_dec_lr)\n",
    "df_medoid['Health_Score'] = 10 - y_dec_lr\n",
    "df_medoid['BizDomainsId'] = BizDomains['BizDomainId']\n",
    "# df_medoid.head()"
   ]
  },
  {
   "cell_type": "markdown",
   "metadata": {},
   "source": [
    "### Successful Customers Checking"
   ]
  },
  {
   "cell_type": "code",
   "execution_count": 19,
   "metadata": {
    "ExecuteTime": {
     "end_time": "2022-09-17T14:10:22.762905Z",
     "start_time": "2022-09-17T14:10:22.641235Z"
    }
   },
   "outputs": [
    {
     "data": {
      "image/png": "[encoded data removed]",
      "text/plain": [
       "<Figure size 500x300 with 1 Axes>"
      ]
     },
     "metadata": {},
     "output_type": "display_data"
    }
   ],
   "source": [
    "successful  = pd.read_csv(r\"D:\\uni\\ترم 6\\کارآموزی\\Data\\SuccesfulCustomers.csv\")\n",
    "successful = successful['BizDomainId'].str.lower()\n",
    "plt.figure(figsize=(5,3))\n",
    "plt.style.use('seaborn')\n",
    "sns.histplot(df_medoid.loc[df_medoid['BizDomainsId'].isin(successful),'Health_Score'])\n",
    "plt.title('Histogram of Successful BizDomains')\n",
    "plt.tight_layout()\n",
    "# plt.savefig('26. KNN Successful Biz.jpg',dpi=200)\n",
    "plt.show()"
   ]
  },
  {
   "cell_type": "code",
   "execution_count": 20,
   "metadata": {
    "ExecuteTime": {
     "end_time": "2022-09-17T14:10:22.855656Z",
     "start_time": "2022-09-17T14:10:22.764899Z"
    }
   },
   "outputs": [
    {
     "data": {
      "text/html": [
       "<div>\n",
       "<style scoped>\n",
       "    .dataframe tbody tr th:only-of-type {\n",
       "        vertical-align: middle;\n",
       "    }\n",
       "\n",
       "    .dataframe tbody tr th {\n",
       "        vertical-align: top;\n",
       "    }\n",
       "\n",
       "    .dataframe thead th {\n",
       "        text-align: right;\n",
       "    }\n",
       "</style>\n",
       "<table border=\"1\" class=\"dataframe\">\n",
       "  <thead>\n",
       "    <tr style=\"text-align: right;\">\n",
       "      <th></th>\n",
       "      <th>no_warning_sign</th>\n",
       "      <th>BizActive?</th>\n",
       "      <th>AddedUsers/BoughtUser</th>\n",
       "      <th>ActiveUsers/AddedUsers</th>\n",
       "      <th>#Activities</th>\n",
       "      <th>ActivitiesWoutDeal/#Activities</th>\n",
       "      <th>AvgDelayTimeActivity</th>\n",
       "      <th>#Activities/#Deals</th>\n",
       "      <th>%NoAcquitance</th>\n",
       "      <th>TransformationSpeed</th>\n",
       "      <th>TransformationRate</th>\n",
       "      <th>%NoReasonFailure</th>\n",
       "      <th>#OngoingDeals/#Total(Correct)Deals</th>\n",
       "      <th>BizIsExpired?</th>\n",
       "      <th>Health_Score</th>\n",
       "      <th>BizDomainsId</th>\n",
       "    </tr>\n",
       "  </thead>\n",
       "  <tbody>\n",
       "    <tr>\n",
       "      <th>0</th>\n",
       "      <td>0.000000</td>\n",
       "      <td>0</td>\n",
       "      <td>0.642724</td>\n",
       "      <td>0.181397</td>\n",
       "      <td>1</td>\n",
       "      <td>0.866667</td>\n",
       "      <td>4</td>\n",
       "      <td>1.068966</td>\n",
       "      <td>0.310345</td>\n",
       "      <td>2</td>\n",
       "      <td>2</td>\n",
       "      <td>3</td>\n",
       "      <td>0.500000</td>\n",
       "      <td>1</td>\n",
       "      <td>0.000000</td>\n",
       "      <td>0006df37-709c-4121-be9e-5210adc6a044</td>\n",
       "    </tr>\n",
       "    <tr>\n",
       "      <th>1</th>\n",
       "      <td>0.238875</td>\n",
       "      <td>1</td>\n",
       "      <td>0.398507</td>\n",
       "      <td>0.274307</td>\n",
       "      <td>3</td>\n",
       "      <td>0.662252</td>\n",
       "      <td>3</td>\n",
       "      <td>0.688889</td>\n",
       "      <td>0.917526</td>\n",
       "      <td>2</td>\n",
       "      <td>2</td>\n",
       "      <td>1</td>\n",
       "      <td>0.627451</td>\n",
       "      <td>0</td>\n",
       "      <td>10.000000</td>\n",
       "      <td>002d52c3-6c10-41a5-a4b2-91422a1ab307</td>\n",
       "    </tr>\n",
       "    <tr>\n",
       "      <th>2</th>\n",
       "      <td>0.822599</td>\n",
       "      <td>0</td>\n",
       "      <td>1.000000</td>\n",
       "      <td>0.949580</td>\n",
       "      <td>1</td>\n",
       "      <td>0.000000</td>\n",
       "      <td>4</td>\n",
       "      <td>1.444444</td>\n",
       "      <td>0.000000</td>\n",
       "      <td>1</td>\n",
       "      <td>3</td>\n",
       "      <td>1</td>\n",
       "      <td>0.846154</td>\n",
       "      <td>0</td>\n",
       "      <td>3.333333</td>\n",
       "      <td>00428596-e168-49ce-8428-7949cd2215ea</td>\n",
       "    </tr>\n",
       "    <tr>\n",
       "      <th>3</th>\n",
       "      <td>0.000000</td>\n",
       "      <td>0</td>\n",
       "      <td>1.000000</td>\n",
       "      <td>0.211382</td>\n",
       "      <td>1</td>\n",
       "      <td>1.000000</td>\n",
       "      <td>3</td>\n",
       "      <td>0.000000</td>\n",
       "      <td>0.602430</td>\n",
       "      <td>2</td>\n",
       "      <td>2</td>\n",
       "      <td>2</td>\n",
       "      <td>0.506440</td>\n",
       "      <td>1</td>\n",
       "      <td>0.000000</td>\n",
       "      <td>0049986f-b17d-44ef-992f-88d478dd21b8</td>\n",
       "    </tr>\n",
       "    <tr>\n",
       "      <th>4</th>\n",
       "      <td>0.082940</td>\n",
       "      <td>1</td>\n",
       "      <td>1.000000</td>\n",
       "      <td>0.804726</td>\n",
       "      <td>4</td>\n",
       "      <td>0.773725</td>\n",
       "      <td>2</td>\n",
       "      <td>3.579350</td>\n",
       "      <td>0.182724</td>\n",
       "      <td>2</td>\n",
       "      <td>1</td>\n",
       "      <td>2</td>\n",
       "      <td>0.013858</td>\n",
       "      <td>0</td>\n",
       "      <td>10.000000</td>\n",
       "      <td>004c3ec1-da71-494d-9adb-8a4e660f9257</td>\n",
       "    </tr>\n",
       "  </tbody>\n",
       "</table>\n",
       "</div>"
      ],
      "text/plain": [
       "   no_warning_sign  BizActive?  AddedUsers/BoughtUser  ActiveUsers/AddedUsers  \\\n",
       "0         0.000000           0               0.642724                0.181397   \n",
       "1         0.238875           1               0.398507                0.274307   \n",
       "2         0.822599           0               1.000000                0.949580   \n",
       "3         0.000000           0               1.000000                0.211382   \n",
       "4         0.082940           1               1.000000                0.804726   \n",
       "\n",
       "   #Activities  ActivitiesWoutDeal/#Activities  AvgDelayTimeActivity  \\\n",
       "0            1                        0.866667                     4   \n",
       "1            3                        0.662252                     3   \n",
       "2            1                        0.000000                     4   \n",
       "3            1                        1.000000                     3   \n",
       "4            4                        0.773725                     2   \n",
       "\n",
       "   #Activities/#Deals  %NoAcquitance  TransformationSpeed  TransformationRate  \\\n",
       "0            1.068966       0.310345                    2                   2   \n",
       "1            0.688889       0.917526                    2                   2   \n",
       "2            1.444444       0.000000                    1                   3   \n",
       "3            0.000000       0.602430                    2                   2   \n",
       "4            3.579350       0.182724                    2                   1   \n",
       "\n",
       "   %NoReasonFailure  #OngoingDeals/#Total(Correct)Deals  BizIsExpired?  \\\n",
       "0                 3                            0.500000              1   \n",
       "1                 1                            0.627451              0   \n",
       "2                 1                            0.846154              0   \n",
       "3                 2                            0.506440              1   \n",
       "4                 2                            0.013858              0   \n",
       "\n",
       "   Health_Score                          BizDomainsId  \n",
       "0      0.000000  0006df37-709c-4121-be9e-5210adc6a044  \n",
       "1     10.000000  002d52c3-6c10-41a5-a4b2-91422a1ab307  \n",
       "2      3.333333  00428596-e168-49ce-8428-7949cd2215ea  \n",
       "3      0.000000  0049986f-b17d-44ef-992f-88d478dd21b8  \n",
       "4     10.000000  004c3ec1-da71-494d-9adb-8a4e660f9257  "
      ]
     },
     "execution_count": 20,
     "metadata": {},
     "output_type": "execute_result"
    }
   ],
   "source": [
    "KNN = KNeighborsClassifier(n_neighbors = 7)\n",
    "y_dec_knn = (KNN.fit(X, y).predict_proba(X)[:,1]).reshape(-1,1)\n",
    "y_dec_knn = MinMaxScaler(feature_range=(0, 10)).fit_transform(y_dec_knn)\n",
    "df_medoid['Health_Score'] = 10 - y_dec_knn\n",
    "df_medoid.head()"
   ]
  },
  {
   "cell_type": "markdown",
   "metadata": {},
   "source": [
    "### Export"
   ]
  },
  {
   "cell_type": "code",
   "execution_count": 21,
   "metadata": {
    "ExecuteTime": {
     "end_time": "2022-09-17T14:10:22.870616Z",
     "start_time": "2022-09-17T14:10:22.857651Z"
    }
   },
   "outputs": [],
   "source": [
    "# df_medoid.to_csv('2. medoid k=2 KNN Report.csv')"
   ]
  },
  {
   "cell_type": "markdown",
   "metadata": {},
   "source": [
    "## LinearDiscriminantAnalysis (Good)"
   ]
  },
  {
   "cell_type": "markdown",
   "metadata": {},
   "source": [
    "### GridSearch"
   ]
  },
  {
   "cell_type": "code",
   "execution_count": 22,
   "metadata": {
    "ExecuteTime": {
     "end_time": "2022-09-17T14:10:23.557779Z",
     "start_time": "2022-09-17T14:10:22.872610Z"
    }
   },
   "outputs": [
    {
     "name": "stdout",
     "output_type": "stream",
     "text": [
      "Fitting 10 folds for each of 30 candidates, totalling 300 fits\n",
      "best paramters= {'shrinkage': 0.1, 'solver': 'lsqr'}\n",
      "best score= 0.9278373377908016\n"
     ]
    }
   ],
   "source": [
    "LDA = LinearDiscriminantAnalysis()\n",
    "grid_params = {'solver':['svd','lsqr','eigen'], 'shrinkage':np.arange(0.1,1.1,0.1)}\n",
    "scorer = {\"AUC\": \"roc_auc\", \"F1\": make_scorer(f1_score) , \n",
    "          \"Accuracy\": 'accuracy'}\n",
    "grid_LDA=GridSearchCV(LDA ,param_grid=grid_params, n_jobs=-1 , cv=10 , verbose = 5,\n",
    "                         scoring=scorer , refit='F1')\n",
    "grid_LDA.fit(X_train , y_train )\n",
    "print('best paramters= {}\\nbest score= {}'.format(grid_LDA.best_params_ , grid_LDA.best_score_) )"
   ]
  },
  {
   "cell_type": "markdown",
   "metadata": {},
   "source": [
    "### Metrics"
   ]
  },
  {
   "cell_type": "code",
   "execution_count": 23,
   "metadata": {
    "ExecuteTime": {
     "end_time": "2022-09-17T14:10:23.573736Z",
     "start_time": "2022-09-17T14:10:23.558776Z"
    }
   },
   "outputs": [
    {
     "data": {
      "text/html": [
       "<div>\n",
       "<style scoped>\n",
       "    .dataframe tbody tr th:only-of-type {\n",
       "        vertical-align: middle;\n",
       "    }\n",
       "\n",
       "    .dataframe tbody tr th {\n",
       "        vertical-align: top;\n",
       "    }\n",
       "\n",
       "    .dataframe thead th {\n",
       "        text-align: right;\n",
       "    }\n",
       "</style>\n",
       "<table border=\"1\" class=\"dataframe\">\n",
       "  <thead>\n",
       "    <tr style=\"text-align: right;\">\n",
       "      <th></th>\n",
       "      <th>most_frequent</th>\n",
       "      <th>stratified</th>\n",
       "      <th>uniform</th>\n",
       "      <th>Value_LogReg</th>\n",
       "      <th>Value_KNN</th>\n",
       "      <th>Value_LDA</th>\n",
       "    </tr>\n",
       "  </thead>\n",
       "  <tbody>\n",
       "    <tr>\n",
       "      <th>F1 Score</th>\n",
       "      <td>0.000000</td>\n",
       "      <td>0.361949</td>\n",
       "      <td>0.403361</td>\n",
       "      <td>0.934010</td>\n",
       "      <td>0.888889</td>\n",
       "      <td>0.906250</td>\n",
       "    </tr>\n",
       "    <tr>\n",
       "      <th>accuracy</th>\n",
       "      <td>0.650877</td>\n",
       "      <td>0.517544</td>\n",
       "      <td>0.501754</td>\n",
       "      <td>0.954386</td>\n",
       "      <td>0.924561</td>\n",
       "      <td>0.936842</td>\n",
       "    </tr>\n",
       "    <tr>\n",
       "      <th>ROC AUC</th>\n",
       "      <td>0.500000</td>\n",
       "      <td>0.488433</td>\n",
       "      <td>0.497271</td>\n",
       "      <td>0.947487</td>\n",
       "      <td>0.910597</td>\n",
       "      <td>0.922361</td>\n",
       "    </tr>\n",
       "    <tr>\n",
       "      <th>Precision</th>\n",
       "      <td>0.000000</td>\n",
       "      <td>0.336207</td>\n",
       "      <td>0.346570</td>\n",
       "      <td>0.943590</td>\n",
       "      <td>0.914894</td>\n",
       "      <td>0.940541</td>\n",
       "    </tr>\n",
       "    <tr>\n",
       "      <th>Recall</th>\n",
       "      <td>0.000000</td>\n",
       "      <td>0.391960</td>\n",
       "      <td>0.482412</td>\n",
       "      <td>0.924623</td>\n",
       "      <td>0.864322</td>\n",
       "      <td>0.874372</td>\n",
       "    </tr>\n",
       "  </tbody>\n",
       "</table>\n",
       "</div>"
      ],
      "text/plain": [
       "           most_frequent  stratified   uniform  Value_LogReg  Value_KNN  \\\n",
       "F1 Score        0.000000    0.361949  0.403361      0.934010   0.888889   \n",
       "accuracy        0.650877    0.517544  0.501754      0.954386   0.924561   \n",
       "ROC AUC         0.500000    0.488433  0.497271      0.947487   0.910597   \n",
       "Precision       0.000000    0.336207  0.346570      0.943590   0.914894   \n",
       "Recall          0.000000    0.391960  0.482412      0.924623   0.864322   \n",
       "\n",
       "           Value_LDA  \n",
       "F1 Score    0.906250  \n",
       "accuracy    0.936842  \n",
       "ROC AUC     0.922361  \n",
       "Precision   0.940541  \n",
       "Recall      0.874372  "
      ]
     },
     "execution_count": 23,
     "metadata": {},
     "output_type": "execute_result"
    }
   ],
   "source": [
    "df_metric['Value_LDA'] = metric_calculator(y_test , grid_LDA.predict(X_test))\n",
    "df_metric"
   ]
  },
  {
   "cell_type": "markdown",
   "metadata": {},
   "source": [
    "### Health Score for All"
   ]
  },
  {
   "cell_type": "code",
   "execution_count": 24,
   "metadata": {
    "ExecuteTime": {
     "end_time": "2022-09-17T14:10:23.604653Z",
     "start_time": "2022-09-17T14:10:23.574733Z"
    }
   },
   "outputs": [
    {
     "data": {
      "text/html": [
       "<div>\n",
       "<style scoped>\n",
       "    .dataframe tbody tr th:only-of-type {\n",
       "        vertical-align: middle;\n",
       "    }\n",
       "\n",
       "    .dataframe tbody tr th {\n",
       "        vertical-align: top;\n",
       "    }\n",
       "\n",
       "    .dataframe thead th {\n",
       "        text-align: right;\n",
       "    }\n",
       "</style>\n",
       "<table border=\"1\" class=\"dataframe\">\n",
       "  <thead>\n",
       "    <tr style=\"text-align: right;\">\n",
       "      <th></th>\n",
       "      <th>no_warning_sign</th>\n",
       "      <th>BizActive?</th>\n",
       "      <th>AddedUsers/BoughtUser</th>\n",
       "      <th>ActiveUsers/AddedUsers</th>\n",
       "      <th>#Activities</th>\n",
       "      <th>ActivitiesWoutDeal/#Activities</th>\n",
       "      <th>AvgDelayTimeActivity</th>\n",
       "      <th>#Activities/#Deals</th>\n",
       "      <th>%NoAcquitance</th>\n",
       "      <th>TransformationSpeed</th>\n",
       "      <th>TransformationRate</th>\n",
       "      <th>%NoReasonFailure</th>\n",
       "      <th>#OngoingDeals/#Total(Correct)Deals</th>\n",
       "      <th>BizIsExpired?</th>\n",
       "      <th>Health_Score</th>\n",
       "      <th>BizDomainsId</th>\n",
       "    </tr>\n",
       "  </thead>\n",
       "  <tbody>\n",
       "    <tr>\n",
       "      <th>0</th>\n",
       "      <td>0.000000</td>\n",
       "      <td>0</td>\n",
       "      <td>0.642724</td>\n",
       "      <td>0.181397</td>\n",
       "      <td>1</td>\n",
       "      <td>0.866667</td>\n",
       "      <td>4</td>\n",
       "      <td>1.068966</td>\n",
       "      <td>0.310345</td>\n",
       "      <td>2</td>\n",
       "      <td>2</td>\n",
       "      <td>3</td>\n",
       "      <td>0.500000</td>\n",
       "      <td>1</td>\n",
       "      <td>1.064494</td>\n",
       "      <td>0006df37-709c-4121-be9e-5210adc6a044</td>\n",
       "    </tr>\n",
       "    <tr>\n",
       "      <th>1</th>\n",
       "      <td>0.238875</td>\n",
       "      <td>1</td>\n",
       "      <td>0.398507</td>\n",
       "      <td>0.274307</td>\n",
       "      <td>3</td>\n",
       "      <td>0.662252</td>\n",
       "      <td>3</td>\n",
       "      <td>0.688889</td>\n",
       "      <td>0.917526</td>\n",
       "      <td>2</td>\n",
       "      <td>2</td>\n",
       "      <td>1</td>\n",
       "      <td>0.627451</td>\n",
       "      <td>0</td>\n",
       "      <td>6.543313</td>\n",
       "      <td>002d52c3-6c10-41a5-a4b2-91422a1ab307</td>\n",
       "    </tr>\n",
       "    <tr>\n",
       "      <th>2</th>\n",
       "      <td>0.822599</td>\n",
       "      <td>0</td>\n",
       "      <td>1.000000</td>\n",
       "      <td>0.949580</td>\n",
       "      <td>1</td>\n",
       "      <td>0.000000</td>\n",
       "      <td>4</td>\n",
       "      <td>1.444444</td>\n",
       "      <td>0.000000</td>\n",
       "      <td>1</td>\n",
       "      <td>3</td>\n",
       "      <td>1</td>\n",
       "      <td>0.846154</td>\n",
       "      <td>0</td>\n",
       "      <td>4.418699</td>\n",
       "      <td>00428596-e168-49ce-8428-7949cd2215ea</td>\n",
       "    </tr>\n",
       "    <tr>\n",
       "      <th>3</th>\n",
       "      <td>0.000000</td>\n",
       "      <td>0</td>\n",
       "      <td>1.000000</td>\n",
       "      <td>0.211382</td>\n",
       "      <td>1</td>\n",
       "      <td>1.000000</td>\n",
       "      <td>3</td>\n",
       "      <td>0.000000</td>\n",
       "      <td>0.602430</td>\n",
       "      <td>2</td>\n",
       "      <td>2</td>\n",
       "      <td>2</td>\n",
       "      <td>0.506440</td>\n",
       "      <td>1</td>\n",
       "      <td>1.399790</td>\n",
       "      <td>0049986f-b17d-44ef-992f-88d478dd21b8</td>\n",
       "    </tr>\n",
       "    <tr>\n",
       "      <th>4</th>\n",
       "      <td>0.082940</td>\n",
       "      <td>1</td>\n",
       "      <td>1.000000</td>\n",
       "      <td>0.804726</td>\n",
       "      <td>4</td>\n",
       "      <td>0.773725</td>\n",
       "      <td>2</td>\n",
       "      <td>3.579350</td>\n",
       "      <td>0.182724</td>\n",
       "      <td>2</td>\n",
       "      <td>1</td>\n",
       "      <td>2</td>\n",
       "      <td>0.013858</td>\n",
       "      <td>0</td>\n",
       "      <td>6.560042</td>\n",
       "      <td>004c3ec1-da71-494d-9adb-8a4e660f9257</td>\n",
       "    </tr>\n",
       "  </tbody>\n",
       "</table>\n",
       "</div>"
      ],
      "text/plain": [
       "   no_warning_sign  BizActive?  AddedUsers/BoughtUser  ActiveUsers/AddedUsers  \\\n",
       "0         0.000000           0               0.642724                0.181397   \n",
       "1         0.238875           1               0.398507                0.274307   \n",
       "2         0.822599           0               1.000000                0.949580   \n",
       "3         0.000000           0               1.000000                0.211382   \n",
       "4         0.082940           1               1.000000                0.804726   \n",
       "\n",
       "   #Activities  ActivitiesWoutDeal/#Activities  AvgDelayTimeActivity  \\\n",
       "0            1                        0.866667                     4   \n",
       "1            3                        0.662252                     3   \n",
       "2            1                        0.000000                     4   \n",
       "3            1                        1.000000                     3   \n",
       "4            4                        0.773725                     2   \n",
       "\n",
       "   #Activities/#Deals  %NoAcquitance  TransformationSpeed  TransformationRate  \\\n",
       "0            1.068966       0.310345                    2                   2   \n",
       "1            0.688889       0.917526                    2                   2   \n",
       "2            1.444444       0.000000                    1                   3   \n",
       "3            0.000000       0.602430                    2                   2   \n",
       "4            3.579350       0.182724                    2                   1   \n",
       "\n",
       "   %NoReasonFailure  #OngoingDeals/#Total(Correct)Deals  BizIsExpired?  \\\n",
       "0                 3                            0.500000              1   \n",
       "1                 1                            0.627451              0   \n",
       "2                 1                            0.846154              0   \n",
       "3                 2                            0.506440              1   \n",
       "4                 2                            0.013858              0   \n",
       "\n",
       "   Health_Score                          BizDomainsId  \n",
       "0      1.064494  0006df37-709c-4121-be9e-5210adc6a044  \n",
       "1      6.543313  002d52c3-6c10-41a5-a4b2-91422a1ab307  \n",
       "2      4.418699  00428596-e168-49ce-8428-7949cd2215ea  \n",
       "3      1.399790  0049986f-b17d-44ef-992f-88d478dd21b8  \n",
       "4      6.560042  004c3ec1-da71-494d-9adb-8a4e660f9257  "
      ]
     },
     "execution_count": 24,
     "metadata": {},
     "output_type": "execute_result"
    }
   ],
   "source": [
    "LDA = LinearDiscriminantAnalysis(shrinkage= 0.1, solver= 'lsqr')\n",
    "y_dec_LDA = (LDA.fit(X, y)).decision_function(X).reshape(-1,1)\n",
    "y_dec_LDA = MinMaxScaler(feature_range=(0, 10)).fit_transform(y_dec_LDA)\n",
    "df_medoid['Health_Score'] = 10 - y_dec_LDA\n",
    "df_medoid.head()"
   ]
  },
  {
   "cell_type": "markdown",
   "metadata": {},
   "source": [
    "### Successful Customers Checking"
   ]
  },
  {
   "cell_type": "code",
   "execution_count": 25,
   "metadata": {
    "ExecuteTime": {
     "end_time": "2022-09-17T14:10:23.743463Z",
     "start_time": "2022-09-17T14:10:23.606648Z"
    }
   },
   "outputs": [
    {
     "data": {
      "image/png": "[encoded data removed]",
      "text/plain": [
       "<Figure size 500x300 with 1 Axes>"
      ]
     },
     "metadata": {},
     "output_type": "display_data"
    }
   ],
   "source": [
    "successful  = pd.read_csv(r\"SuccesfulCustomers.csv\")\n",
    "successful = successful['BizDomainId'].str.lower()\n",
    "plt.figure(figsize=(5,3))\n",
    "plt.style.use('seaborn')\n",
    "sns.histplot(df_medoid.loc[df_medoid['BizDomainsId'].isin(successful),'Health_Score'])\n",
    "plt.title('Histogram of Successful BizDomains')\n",
    "plt.tight_layout()\n",
    "# plt.savefig('26. LDA Successful Biz.jpg',dpi=200)\n",
    "plt.show()"
   ]
  },
  {
   "cell_type": "markdown",
   "metadata": {},
   "source": [
    "### Export"
   ]
  },
  {
   "cell_type": "code",
   "execution_count": 26,
   "metadata": {
    "ExecuteTime": {
     "end_time": "2022-09-17T14:10:23.758244Z",
     "start_time": "2022-09-17T14:10:23.751261Z"
    }
   },
   "outputs": [],
   "source": [
    "# df_medoid.to_csv('3. medoid k=2 LDA Report.csv')"
   ]
  },
  {
   "cell_type": "markdown",
   "metadata": {},
   "source": [
    "## Gaussian Naive Bayes"
   ]
  },
  {
   "cell_type": "markdown",
   "metadata": {},
   "source": [
    "### GridSearch"
   ]
  },
  {
   "cell_type": "code",
   "execution_count": 27,
   "metadata": {
    "ExecuteTime": {
     "end_time": "2022-09-17T14:10:25.713021Z",
     "start_time": "2022-09-17T14:10:23.760238Z"
    }
   },
   "outputs": [
    {
     "name": "stdout",
     "output_type": "stream",
     "text": [
      "Fitting 10 folds for each of 100 candidates, totalling 1000 fits\n",
      "best paramters= {'var_smoothing': 0.002848035868435802}\n",
      "best score= 0.9199002738066134\n"
     ]
    }
   ],
   "source": [
    "GNB = GaussianNB()\n",
    "params_NB = {'var_smoothing': np.logspace(0,-9, num=100)}\n",
    "scorer = {\"AUC\": \"roc_auc\", \"F1\": make_scorer(f1_score) , \n",
    "          \"Accuracy\": 'accuracy'}\n",
    "grid_NB=GridSearchCV(GNB ,param_grid=params_NB, n_jobs=-1 , cv=10 , verbose = 5,\n",
    "                         scoring=scorer , refit='F1')\n",
    "grid_NB.fit(X_train , y_train )\n",
    "print('best paramters= {}\\nbest score= {}'.format(grid_NB.best_params_ , grid_NB.best_score_) )"
   ]
  },
  {
   "cell_type": "markdown",
   "metadata": {},
   "source": [
    "### Metrics"
   ]
  },
  {
   "cell_type": "code",
   "execution_count": 28,
   "metadata": {
    "ExecuteTime": {
     "end_time": "2022-09-17T14:10:25.743936Z",
     "start_time": "2022-09-17T14:10:25.716010Z"
    }
   },
   "outputs": [
    {
     "data": {
      "text/html": [
       "<div>\n",
       "<style scoped>\n",
       "    .dataframe tbody tr th:only-of-type {\n",
       "        vertical-align: middle;\n",
       "    }\n",
       "\n",
       "    .dataframe tbody tr th {\n",
       "        vertical-align: top;\n",
       "    }\n",
       "\n",
       "    .dataframe thead th {\n",
       "        text-align: right;\n",
       "    }\n",
       "</style>\n",
       "<table border=\"1\" class=\"dataframe\">\n",
       "  <thead>\n",
       "    <tr style=\"text-align: right;\">\n",
       "      <th></th>\n",
       "      <th>most_frequent</th>\n",
       "      <th>stratified</th>\n",
       "      <th>uniform</th>\n",
       "      <th>Value_LogReg</th>\n",
       "      <th>Value_KNN</th>\n",
       "      <th>Value_LDA</th>\n",
       "      <th>Value_GNB</th>\n",
       "    </tr>\n",
       "  </thead>\n",
       "  <tbody>\n",
       "    <tr>\n",
       "      <th>F1 Score</th>\n",
       "      <td>0.000000</td>\n",
       "      <td>0.361949</td>\n",
       "      <td>0.403361</td>\n",
       "      <td>0.934010</td>\n",
       "      <td>0.888889</td>\n",
       "      <td>0.906250</td>\n",
       "      <td>0.903704</td>\n",
       "    </tr>\n",
       "    <tr>\n",
       "      <th>accuracy</th>\n",
       "      <td>0.650877</td>\n",
       "      <td>0.517544</td>\n",
       "      <td>0.501754</td>\n",
       "      <td>0.954386</td>\n",
       "      <td>0.924561</td>\n",
       "      <td>0.936842</td>\n",
       "      <td>0.931579</td>\n",
       "    </tr>\n",
       "    <tr>\n",
       "      <th>ROC AUC</th>\n",
       "      <td>0.500000</td>\n",
       "      <td>0.488433</td>\n",
       "      <td>0.497271</td>\n",
       "      <td>0.947487</td>\n",
       "      <td>0.910597</td>\n",
       "      <td>0.922361</td>\n",
       "      <td>0.928802</td>\n",
       "    </tr>\n",
       "    <tr>\n",
       "      <th>Precision</th>\n",
       "      <td>0.000000</td>\n",
       "      <td>0.336207</td>\n",
       "      <td>0.346570</td>\n",
       "      <td>0.943590</td>\n",
       "      <td>0.914894</td>\n",
       "      <td>0.940541</td>\n",
       "      <td>0.888350</td>\n",
       "    </tr>\n",
       "    <tr>\n",
       "      <th>Recall</th>\n",
       "      <td>0.000000</td>\n",
       "      <td>0.391960</td>\n",
       "      <td>0.482412</td>\n",
       "      <td>0.924623</td>\n",
       "      <td>0.864322</td>\n",
       "      <td>0.874372</td>\n",
       "      <td>0.919598</td>\n",
       "    </tr>\n",
       "  </tbody>\n",
       "</table>\n",
       "</div>"
      ],
      "text/plain": [
       "           most_frequent  stratified   uniform  Value_LogReg  Value_KNN  \\\n",
       "F1 Score        0.000000    0.361949  0.403361      0.934010   0.888889   \n",
       "accuracy        0.650877    0.517544  0.501754      0.954386   0.924561   \n",
       "ROC AUC         0.500000    0.488433  0.497271      0.947487   0.910597   \n",
       "Precision       0.000000    0.336207  0.346570      0.943590   0.914894   \n",
       "Recall          0.000000    0.391960  0.482412      0.924623   0.864322   \n",
       "\n",
       "           Value_LDA  Value_GNB  \n",
       "F1 Score    0.906250   0.903704  \n",
       "accuracy    0.936842   0.931579  \n",
       "ROC AUC     0.922361   0.928802  \n",
       "Precision   0.940541   0.888350  \n",
       "Recall      0.874372   0.919598  "
      ]
     },
     "execution_count": 28,
     "metadata": {},
     "output_type": "execute_result"
    }
   ],
   "source": [
    "df_metric['Value_GNB'] = metric_calculator(y_test , grid_NB.predict(X_test))\n",
    "df_metric"
   ]
  },
  {
   "cell_type": "markdown",
   "metadata": {},
   "source": [
    "### Health Score for All"
   ]
  },
  {
   "cell_type": "code",
   "execution_count": 29,
   "metadata": {
    "ExecuteTime": {
     "end_time": "2022-09-17T14:10:25.774853Z",
     "start_time": "2022-09-17T14:10:25.745934Z"
    }
   },
   "outputs": [
    {
     "data": {
      "text/html": [
       "<div>\n",
       "<style scoped>\n",
       "    .dataframe tbody tr th:only-of-type {\n",
       "        vertical-align: middle;\n",
       "    }\n",
       "\n",
       "    .dataframe tbody tr th {\n",
       "        vertical-align: top;\n",
       "    }\n",
       "\n",
       "    .dataframe thead th {\n",
       "        text-align: right;\n",
       "    }\n",
       "</style>\n",
       "<table border=\"1\" class=\"dataframe\">\n",
       "  <thead>\n",
       "    <tr style=\"text-align: right;\">\n",
       "      <th></th>\n",
       "      <th>no_warning_sign</th>\n",
       "      <th>BizActive?</th>\n",
       "      <th>AddedUsers/BoughtUser</th>\n",
       "      <th>ActiveUsers/AddedUsers</th>\n",
       "      <th>#Activities</th>\n",
       "      <th>ActivitiesWoutDeal/#Activities</th>\n",
       "      <th>AvgDelayTimeActivity</th>\n",
       "      <th>#Activities/#Deals</th>\n",
       "      <th>%NoAcquitance</th>\n",
       "      <th>TransformationSpeed</th>\n",
       "      <th>TransformationRate</th>\n",
       "      <th>%NoReasonFailure</th>\n",
       "      <th>#OngoingDeals/#Total(Correct)Deals</th>\n",
       "      <th>BizIsExpired?</th>\n",
       "      <th>Health_Score</th>\n",
       "      <th>BizDomainsId</th>\n",
       "    </tr>\n",
       "  </thead>\n",
       "  <tbody>\n",
       "    <tr>\n",
       "      <th>0</th>\n",
       "      <td>0.000000</td>\n",
       "      <td>0</td>\n",
       "      <td>0.642724</td>\n",
       "      <td>0.181397</td>\n",
       "      <td>1</td>\n",
       "      <td>0.866667</td>\n",
       "      <td>4</td>\n",
       "      <td>1.068966</td>\n",
       "      <td>0.310345</td>\n",
       "      <td>2</td>\n",
       "      <td>2</td>\n",
       "      <td>3</td>\n",
       "      <td>0.500000</td>\n",
       "      <td>1</td>\n",
       "      <td>0.001777</td>\n",
       "      <td>0006df37-709c-4121-be9e-5210adc6a044</td>\n",
       "    </tr>\n",
       "    <tr>\n",
       "      <th>1</th>\n",
       "      <td>0.238875</td>\n",
       "      <td>1</td>\n",
       "      <td>0.398507</td>\n",
       "      <td>0.274307</td>\n",
       "      <td>3</td>\n",
       "      <td>0.662252</td>\n",
       "      <td>3</td>\n",
       "      <td>0.688889</td>\n",
       "      <td>0.917526</td>\n",
       "      <td>2</td>\n",
       "      <td>2</td>\n",
       "      <td>1</td>\n",
       "      <td>0.627451</td>\n",
       "      <td>0</td>\n",
       "      <td>8.793081</td>\n",
       "      <td>002d52c3-6c10-41a5-a4b2-91422a1ab307</td>\n",
       "    </tr>\n",
       "    <tr>\n",
       "      <th>2</th>\n",
       "      <td>0.822599</td>\n",
       "      <td>0</td>\n",
       "      <td>1.000000</td>\n",
       "      <td>0.949580</td>\n",
       "      <td>1</td>\n",
       "      <td>0.000000</td>\n",
       "      <td>4</td>\n",
       "      <td>1.444444</td>\n",
       "      <td>0.000000</td>\n",
       "      <td>1</td>\n",
       "      <td>3</td>\n",
       "      <td>1</td>\n",
       "      <td>0.846154</td>\n",
       "      <td>0</td>\n",
       "      <td>1.609074</td>\n",
       "      <td>00428596-e168-49ce-8428-7949cd2215ea</td>\n",
       "    </tr>\n",
       "    <tr>\n",
       "      <th>3</th>\n",
       "      <td>0.000000</td>\n",
       "      <td>0</td>\n",
       "      <td>1.000000</td>\n",
       "      <td>0.211382</td>\n",
       "      <td>1</td>\n",
       "      <td>1.000000</td>\n",
       "      <td>3</td>\n",
       "      <td>0.000000</td>\n",
       "      <td>0.602430</td>\n",
       "      <td>2</td>\n",
       "      <td>2</td>\n",
       "      <td>2</td>\n",
       "      <td>0.506440</td>\n",
       "      <td>1</td>\n",
       "      <td>0.003231</td>\n",
       "      <td>0049986f-b17d-44ef-992f-88d478dd21b8</td>\n",
       "    </tr>\n",
       "    <tr>\n",
       "      <th>4</th>\n",
       "      <td>0.082940</td>\n",
       "      <td>1</td>\n",
       "      <td>1.000000</td>\n",
       "      <td>0.804726</td>\n",
       "      <td>4</td>\n",
       "      <td>0.773725</td>\n",
       "      <td>2</td>\n",
       "      <td>3.579350</td>\n",
       "      <td>0.182724</td>\n",
       "      <td>2</td>\n",
       "      <td>1</td>\n",
       "      <td>2</td>\n",
       "      <td>0.013858</td>\n",
       "      <td>0</td>\n",
       "      <td>9.858846</td>\n",
       "      <td>004c3ec1-da71-494d-9adb-8a4e660f9257</td>\n",
       "    </tr>\n",
       "  </tbody>\n",
       "</table>\n",
       "</div>"
      ],
      "text/plain": [
       "   no_warning_sign  BizActive?  AddedUsers/BoughtUser  ActiveUsers/AddedUsers  \\\n",
       "0         0.000000           0               0.642724                0.181397   \n",
       "1         0.238875           1               0.398507                0.274307   \n",
       "2         0.822599           0               1.000000                0.949580   \n",
       "3         0.000000           0               1.000000                0.211382   \n",
       "4         0.082940           1               1.000000                0.804726   \n",
       "\n",
       "   #Activities  ActivitiesWoutDeal/#Activities  AvgDelayTimeActivity  \\\n",
       "0            1                        0.866667                     4   \n",
       "1            3                        0.662252                     3   \n",
       "2            1                        0.000000                     4   \n",
       "3            1                        1.000000                     3   \n",
       "4            4                        0.773725                     2   \n",
       "\n",
       "   #Activities/#Deals  %NoAcquitance  TransformationSpeed  TransformationRate  \\\n",
       "0            1.068966       0.310345                    2                   2   \n",
       "1            0.688889       0.917526                    2                   2   \n",
       "2            1.444444       0.000000                    1                   3   \n",
       "3            0.000000       0.602430                    2                   2   \n",
       "4            3.579350       0.182724                    2                   1   \n",
       "\n",
       "   %NoReasonFailure  #OngoingDeals/#Total(Correct)Deals  BizIsExpired?  \\\n",
       "0                 3                            0.500000              1   \n",
       "1                 1                            0.627451              0   \n",
       "2                 1                            0.846154              0   \n",
       "3                 2                            0.506440              1   \n",
       "4                 2                            0.013858              0   \n",
       "\n",
       "   Health_Score                          BizDomainsId  \n",
       "0      0.001777  0006df37-709c-4121-be9e-5210adc6a044  \n",
       "1      8.793081  002d52c3-6c10-41a5-a4b2-91422a1ab307  \n",
       "2      1.609074  00428596-e168-49ce-8428-7949cd2215ea  \n",
       "3      0.003231  0049986f-b17d-44ef-992f-88d478dd21b8  \n",
       "4      9.858846  004c3ec1-da71-494d-9adb-8a4e660f9257  "
      ]
     },
     "execution_count": 29,
     "metadata": {},
     "output_type": "execute_result"
    }
   ],
   "source": [
    "GNB = GaussianNB(var_smoothing = 0.002848035868435802)\n",
    "y_dec_GNB = ((GNB.fit(X, y)).predict_proba(X)[:,1]).reshape(-1,1)\n",
    "y_dec_GNB = MinMaxScaler(feature_range=(0, 10)).fit_transform(y_dec_GNB)\n",
    "df_medoid['Health_Score'] = 10 - y_dec_GNB\n",
    "df_medoid.head()"
   ]
  },
  {
   "cell_type": "markdown",
   "metadata": {},
   "source": [
    "### Successful Customers Checking"
   ]
  },
  {
   "cell_type": "code",
   "execution_count": 30,
   "metadata": {
    "ExecuteTime": {
     "end_time": "2022-09-17T14:10:26.037186Z",
     "start_time": "2022-09-17T14:10:25.776848Z"
    }
   },
   "outputs": [
    {
     "data": {
      "image/png": "[encoded data removed]",
      "text/plain": [
       "<Figure size 500x300 with 1 Axes>"
      ]
     },
     "metadata": {},
     "output_type": "display_data"
    }
   ],
   "source": [
    "successful  = pd.read_csv(r\"SuccesfulCustomers.csv\")\n",
    "successful = successful['BizDomainId'].str.lower()\n",
    "plt.figure(figsize=(5,3))\n",
    "plt.style.use('seaborn')\n",
    "sns.histplot(df_medoid.loc[df_medoid['BizDomainsId'].isin(successful),'Health_Score'])\n",
    "plt.title('Histogram of Successful BizDomains')\n",
    "plt.tight_layout()\n",
    "plt.savefig('27. GNaiveBayes Successful Biz.jpg',dpi=200)\n",
    "plt.show()"
   ]
  },
  {
   "cell_type": "markdown",
   "metadata": {},
   "source": [
    "### Export"
   ]
  },
  {
   "cell_type": "code",
   "execution_count": 31,
   "metadata": {
    "ExecuteTime": {
     "end_time": "2022-09-17T14:10:26.052112Z",
     "start_time": "2022-09-17T14:10:26.039147Z"
    }
   },
   "outputs": [],
   "source": [
    "# df_medoid.to_csv('4. medoid k=2 GNB Report.csv')"
   ]
  },
  {
   "cell_type": "markdown",
   "metadata": {},
   "source": [
    "## RandomForest"
   ]
  },
  {
   "cell_type": "markdown",
   "metadata": {},
   "source": [
    "### GridSearch"
   ]
  },
  {
   "cell_type": "code",
   "execution_count": 32,
   "metadata": {
    "ExecuteTime": {
     "end_time": "2022-09-17T14:11:45.701213Z",
     "start_time": "2022-09-17T14:10:26.054107Z"
    }
   },
   "outputs": [
    {
     "name": "stdout",
     "output_type": "stream",
     "text": [
      "Fitting 10 folds for each of 54 candidates, totalling 540 fits\n",
      "best paramters= {'criterion': 'gini', 'max_depth': 13, 'n_estimators': 100}\n",
      "best score= 0.9475637308892597\n"
     ]
    }
   ],
   "source": [
    "RFC = RandomForestClassifier(bootstrap=True , oob_score=True)\n",
    "params_RFC = {'n_estimators':[100,200,300],'criterion':['gini', 'entropy', 'log_loss'],\n",
    "             'max_depth':np.arange(10,16)}\n",
    "scorer = {\"AUC\": \"roc_auc\", \"F1\": make_scorer(f1_score) , \n",
    "          \"Accuracy\": 'accuracy'}\n",
    "grid_RFC=GridSearchCV(RFC ,param_grid=params_RFC, n_jobs=-1 , cv=10 , verbose = 10,\n",
    "                         scoring=scorer , refit='F1')\n",
    "grid_RFC.fit(X_train , y_train )\n",
    "print('best paramters= {}\\nbest score= {}'.format(grid_RFC.best_params_ , grid_RFC.best_score_) )"
   ]
  },
  {
   "cell_type": "markdown",
   "metadata": {},
   "source": [
    "### Metrics"
   ]
  },
  {
   "cell_type": "code",
   "execution_count": 33,
   "metadata": {
    "ExecuteTime": {
     "end_time": "2022-09-17T14:11:45.763048Z",
     "start_time": "2022-09-17T14:11:45.703208Z"
    }
   },
   "outputs": [
    {
     "data": {
      "text/html": [
       "<div>\n",
       "<style scoped>\n",
       "    .dataframe tbody tr th:only-of-type {\n",
       "        vertical-align: middle;\n",
       "    }\n",
       "\n",
       "    .dataframe tbody tr th {\n",
       "        vertical-align: top;\n",
       "    }\n",
       "\n",
       "    .dataframe thead th {\n",
       "        text-align: right;\n",
       "    }\n",
       "</style>\n",
       "<table border=\"1\" class=\"dataframe\">\n",
       "  <thead>\n",
       "    <tr style=\"text-align: right;\">\n",
       "      <th></th>\n",
       "      <th>most_frequent</th>\n",
       "      <th>stratified</th>\n",
       "      <th>uniform</th>\n",
       "      <th>Value_LogReg</th>\n",
       "      <th>Value_KNN</th>\n",
       "      <th>Value_LDA</th>\n",
       "      <th>Value_GNB</th>\n",
       "      <th>Value_RFC</th>\n",
       "    </tr>\n",
       "  </thead>\n",
       "  <tbody>\n",
       "    <tr>\n",
       "      <th>F1 Score</th>\n",
       "      <td>0.000000</td>\n",
       "      <td>0.361949</td>\n",
       "      <td>0.403361</td>\n",
       "      <td>0.934010</td>\n",
       "      <td>0.888889</td>\n",
       "      <td>0.906250</td>\n",
       "      <td>0.903704</td>\n",
       "      <td>0.957179</td>\n",
       "    </tr>\n",
       "    <tr>\n",
       "      <th>accuracy</th>\n",
       "      <td>0.650877</td>\n",
       "      <td>0.517544</td>\n",
       "      <td>0.501754</td>\n",
       "      <td>0.954386</td>\n",
       "      <td>0.924561</td>\n",
       "      <td>0.936842</td>\n",
       "      <td>0.931579</td>\n",
       "      <td>0.970175</td>\n",
       "    </tr>\n",
       "    <tr>\n",
       "      <th>ROC AUC</th>\n",
       "      <td>0.500000</td>\n",
       "      <td>0.488433</td>\n",
       "      <td>0.497271</td>\n",
       "      <td>0.947487</td>\n",
       "      <td>0.910597</td>\n",
       "      <td>0.922361</td>\n",
       "      <td>0.928802</td>\n",
       "      <td>0.966605</td>\n",
       "    </tr>\n",
       "    <tr>\n",
       "      <th>Precision</th>\n",
       "      <td>0.000000</td>\n",
       "      <td>0.336207</td>\n",
       "      <td>0.346570</td>\n",
       "      <td>0.943590</td>\n",
       "      <td>0.914894</td>\n",
       "      <td>0.940541</td>\n",
       "      <td>0.888350</td>\n",
       "      <td>0.959596</td>\n",
       "    </tr>\n",
       "    <tr>\n",
       "      <th>Recall</th>\n",
       "      <td>0.000000</td>\n",
       "      <td>0.391960</td>\n",
       "      <td>0.482412</td>\n",
       "      <td>0.924623</td>\n",
       "      <td>0.864322</td>\n",
       "      <td>0.874372</td>\n",
       "      <td>0.919598</td>\n",
       "      <td>0.954774</td>\n",
       "    </tr>\n",
       "  </tbody>\n",
       "</table>\n",
       "</div>"
      ],
      "text/plain": [
       "           most_frequent  stratified   uniform  Value_LogReg  Value_KNN  \\\n",
       "F1 Score        0.000000    0.361949  0.403361      0.934010   0.888889   \n",
       "accuracy        0.650877    0.517544  0.501754      0.954386   0.924561   \n",
       "ROC AUC         0.500000    0.488433  0.497271      0.947487   0.910597   \n",
       "Precision       0.000000    0.336207  0.346570      0.943590   0.914894   \n",
       "Recall          0.000000    0.391960  0.482412      0.924623   0.864322   \n",
       "\n",
       "           Value_LDA  Value_GNB  Value_RFC  \n",
       "F1 Score    0.906250   0.903704   0.957179  \n",
       "accuracy    0.936842   0.931579   0.970175  \n",
       "ROC AUC     0.922361   0.928802   0.966605  \n",
       "Precision   0.940541   0.888350   0.959596  \n",
       "Recall      0.874372   0.919598   0.954774  "
      ]
     },
     "execution_count": 33,
     "metadata": {},
     "output_type": "execute_result"
    }
   ],
   "source": [
    "df_metric['Value_RFC'] = metric_calculator(y_test , grid_RFC.predict(X_test))\n",
    "df_metric"
   ]
  },
  {
   "cell_type": "markdown",
   "metadata": {},
   "source": [
    "### Health Score for All"
   ]
  },
  {
   "cell_type": "code",
   "execution_count": 34,
   "metadata": {
    "ExecuteTime": {
     "end_time": "2022-09-17T14:11:46.687610Z",
     "start_time": "2022-09-17T14:11:45.766040Z"
    }
   },
   "outputs": [
    {
     "data": {
      "text/html": [
       "<div>\n",
       "<style scoped>\n",
       "    .dataframe tbody tr th:only-of-type {\n",
       "        vertical-align: middle;\n",
       "    }\n",
       "\n",
       "    .dataframe tbody tr th {\n",
       "        vertical-align: top;\n",
       "    }\n",
       "\n",
       "    .dataframe thead th {\n",
       "        text-align: right;\n",
       "    }\n",
       "</style>\n",
       "<table border=\"1\" class=\"dataframe\">\n",
       "  <thead>\n",
       "    <tr style=\"text-align: right;\">\n",
       "      <th></th>\n",
       "      <th>no_warning_sign</th>\n",
       "      <th>BizActive?</th>\n",
       "      <th>AddedUsers/BoughtUser</th>\n",
       "      <th>ActiveUsers/AddedUsers</th>\n",
       "      <th>#Activities</th>\n",
       "      <th>ActivitiesWoutDeal/#Activities</th>\n",
       "      <th>AvgDelayTimeActivity</th>\n",
       "      <th>#Activities/#Deals</th>\n",
       "      <th>%NoAcquitance</th>\n",
       "      <th>TransformationSpeed</th>\n",
       "      <th>TransformationRate</th>\n",
       "      <th>%NoReasonFailure</th>\n",
       "      <th>#OngoingDeals/#Total(Correct)Deals</th>\n",
       "      <th>BizIsExpired?</th>\n",
       "      <th>Health_Score</th>\n",
       "      <th>BizDomainsId</th>\n",
       "    </tr>\n",
       "  </thead>\n",
       "  <tbody>\n",
       "    <tr>\n",
       "      <th>0</th>\n",
       "      <td>0.000000</td>\n",
       "      <td>0</td>\n",
       "      <td>0.642724</td>\n",
       "      <td>0.181397</td>\n",
       "      <td>1</td>\n",
       "      <td>0.866667</td>\n",
       "      <td>4</td>\n",
       "      <td>1.068966</td>\n",
       "      <td>0.310345</td>\n",
       "      <td>2</td>\n",
       "      <td>2</td>\n",
       "      <td>3</td>\n",
       "      <td>0.500000</td>\n",
       "      <td>1</td>\n",
       "      <td>0.000000</td>\n",
       "      <td>0006df37-709c-4121-be9e-5210adc6a044</td>\n",
       "    </tr>\n",
       "    <tr>\n",
       "      <th>1</th>\n",
       "      <td>0.238875</td>\n",
       "      <td>1</td>\n",
       "      <td>0.398507</td>\n",
       "      <td>0.274307</td>\n",
       "      <td>3</td>\n",
       "      <td>0.662252</td>\n",
       "      <td>3</td>\n",
       "      <td>0.688889</td>\n",
       "      <td>0.917526</td>\n",
       "      <td>2</td>\n",
       "      <td>2</td>\n",
       "      <td>1</td>\n",
       "      <td>0.627451</td>\n",
       "      <td>0</td>\n",
       "      <td>9.949057</td>\n",
       "      <td>002d52c3-6c10-41a5-a4b2-91422a1ab307</td>\n",
       "    </tr>\n",
       "    <tr>\n",
       "      <th>2</th>\n",
       "      <td>0.822599</td>\n",
       "      <td>0</td>\n",
       "      <td>1.000000</td>\n",
       "      <td>0.949580</td>\n",
       "      <td>1</td>\n",
       "      <td>0.000000</td>\n",
       "      <td>4</td>\n",
       "      <td>1.444444</td>\n",
       "      <td>0.000000</td>\n",
       "      <td>1</td>\n",
       "      <td>3</td>\n",
       "      <td>1</td>\n",
       "      <td>0.846154</td>\n",
       "      <td>0</td>\n",
       "      <td>7.650000</td>\n",
       "      <td>00428596-e168-49ce-8428-7949cd2215ea</td>\n",
       "    </tr>\n",
       "    <tr>\n",
       "      <th>3</th>\n",
       "      <td>0.000000</td>\n",
       "      <td>0</td>\n",
       "      <td>1.000000</td>\n",
       "      <td>0.211382</td>\n",
       "      <td>1</td>\n",
       "      <td>1.000000</td>\n",
       "      <td>3</td>\n",
       "      <td>0.000000</td>\n",
       "      <td>0.602430</td>\n",
       "      <td>2</td>\n",
       "      <td>2</td>\n",
       "      <td>2</td>\n",
       "      <td>0.506440</td>\n",
       "      <td>1</td>\n",
       "      <td>0.000000</td>\n",
       "      <td>0049986f-b17d-44ef-992f-88d478dd21b8</td>\n",
       "    </tr>\n",
       "    <tr>\n",
       "      <th>4</th>\n",
       "      <td>0.082940</td>\n",
       "      <td>1</td>\n",
       "      <td>1.000000</td>\n",
       "      <td>0.804726</td>\n",
       "      <td>4</td>\n",
       "      <td>0.773725</td>\n",
       "      <td>2</td>\n",
       "      <td>3.579350</td>\n",
       "      <td>0.182724</td>\n",
       "      <td>2</td>\n",
       "      <td>1</td>\n",
       "      <td>2</td>\n",
       "      <td>0.013858</td>\n",
       "      <td>0</td>\n",
       "      <td>10.000000</td>\n",
       "      <td>004c3ec1-da71-494d-9adb-8a4e660f9257</td>\n",
       "    </tr>\n",
       "  </tbody>\n",
       "</table>\n",
       "</div>"
      ],
      "text/plain": [
       "   no_warning_sign  BizActive?  AddedUsers/BoughtUser  ActiveUsers/AddedUsers  \\\n",
       "0         0.000000           0               0.642724                0.181397   \n",
       "1         0.238875           1               0.398507                0.274307   \n",
       "2         0.822599           0               1.000000                0.949580   \n",
       "3         0.000000           0               1.000000                0.211382   \n",
       "4         0.082940           1               1.000000                0.804726   \n",
       "\n",
       "   #Activities  ActivitiesWoutDeal/#Activities  AvgDelayTimeActivity  \\\n",
       "0            1                        0.866667                     4   \n",
       "1            3                        0.662252                     3   \n",
       "2            1                        0.000000                     4   \n",
       "3            1                        1.000000                     3   \n",
       "4            4                        0.773725                     2   \n",
       "\n",
       "   #Activities/#Deals  %NoAcquitance  TransformationSpeed  TransformationRate  \\\n",
       "0            1.068966       0.310345                    2                   2   \n",
       "1            0.688889       0.917526                    2                   2   \n",
       "2            1.444444       0.000000                    1                   3   \n",
       "3            0.000000       0.602430                    2                   2   \n",
       "4            3.579350       0.182724                    2                   1   \n",
       "\n",
       "   %NoReasonFailure  #OngoingDeals/#Total(Correct)Deals  BizIsExpired?  \\\n",
       "0                 3                            0.500000              1   \n",
       "1                 1                            0.627451              0   \n",
       "2                 1                            0.846154              0   \n",
       "3                 2                            0.506440              1   \n",
       "4                 2                            0.013858              0   \n",
       "\n",
       "   Health_Score                          BizDomainsId  \n",
       "0      0.000000  0006df37-709c-4121-be9e-5210adc6a044  \n",
       "1      9.949057  002d52c3-6c10-41a5-a4b2-91422a1ab307  \n",
       "2      7.650000  00428596-e168-49ce-8428-7949cd2215ea  \n",
       "3      0.000000  0049986f-b17d-44ef-992f-88d478dd21b8  \n",
       "4     10.000000  004c3ec1-da71-494d-9adb-8a4e660f9257  "
      ]
     },
     "execution_count": 34,
     "metadata": {},
     "output_type": "execute_result"
    }
   ],
   "source": [
    "RFC = RandomForestClassifier(bootstrap=True , oob_score=True,\n",
    "                             criterion= 'gini', max_depth= 13, n_estimators= 100)\n",
    "y_dec_RFC = ((RFC.fit(X, y)).predict_proba(X)[:,1]).reshape(-1,1)\n",
    "y_dec_RFC = MinMaxScaler(feature_range=(0, 10)).fit_transform(y_dec_RFC)\n",
    "df_medoid['Health_Score'] = 10 - y_dec_RFC\n",
    "df_medoid.head()"
   ]
  },
  {
   "cell_type": "markdown",
   "metadata": {},
   "source": [
    "### Successful Customers Checking"
   ]
  },
  {
   "cell_type": "code",
   "execution_count": 35,
   "metadata": {
    "ExecuteTime": {
     "end_time": "2022-09-17T14:11:46.826206Z",
     "start_time": "2022-09-17T14:11:46.689574Z"
    }
   },
   "outputs": [
    {
     "data": {
      "image/png": "[encoded data removed]",
      "text/plain": [
       "<Figure size 500x300 with 1 Axes>"
      ]
     },
     "metadata": {},
     "output_type": "display_data"
    }
   ],
   "source": [
    "successful  = pd.read_csv(r\"SuccesfulCustomers.csv\")\n",
    "successful = successful['BizDomainId'].str.lower()\n",
    "plt.figure(figsize=(5,3))\n",
    "plt.style.use('seaborn')\n",
    "sns.histplot(df_medoid.loc[df_medoid['BizDomainsId'].isin(successful),'Health_Score'])\n",
    "plt.title('Histogram of Successful BizDomains')\n",
    "plt.tight_layout()\n",
    "# plt.savefig('28. LDA Successful Biz.jpg',dpi=200)\n",
    "plt.show()"
   ]
  },
  {
   "cell_type": "markdown",
   "metadata": {},
   "source": [
    "### Export"
   ]
  },
  {
   "cell_type": "code",
   "execution_count": 36,
   "metadata": {
    "ExecuteTime": {
     "end_time": "2022-09-17T14:11:46.842162Z",
     "start_time": "2022-09-17T14:11:46.828200Z"
    }
   },
   "outputs": [],
   "source": [
    "# df_medoid.to_csv('5. medoid k=2 LDA Report.csv')"
   ]
  },
  {
   "cell_type": "markdown",
   "metadata": {},
   "source": [
    "## AdaBoost (Good)"
   ]
  },
  {
   "cell_type": "markdown",
   "metadata": {},
   "source": [
    "### GridSearch"
   ]
  },
  {
   "cell_type": "code",
   "execution_count": 37,
   "metadata": {
    "ExecuteTime": {
     "end_time": "2022-09-17T14:15:01.846923Z",
     "start_time": "2022-09-17T14:11:46.844157Z"
    }
   },
   "outputs": [
    {
     "name": "stdout",
     "output_type": "stream",
     "text": [
      "Fitting 30 folds for each of 100 candidates, totalling 3000 fits\n",
      "best paramters= {'algorithm': 'SAMME.R', 'learning_rate': 1.0, 'n_estimators': 70}\n",
      "best score= 0.944273181526124\n"
     ]
    }
   ],
   "source": [
    "ABC = AdaBoostClassifier(base_estimator =LogisticRegression())\n",
    "params_ABC = {\n",
    "              'n_estimators':np.arange(10,110,10) , 'learning_rate':[0.0001, 0.001, 0.01, 0.1, 1.0],\n",
    "             'algorithm': ['SAMME', 'SAMME.R']},\n",
    "\n",
    "scorer = {\"AUC\": \"roc_auc\", \"F1\": make_scorer(f1_score) , \n",
    "          \"Accuracy\": 'accuracy'}\n",
    "cv = RepeatedStratifiedKFold(n_splits=10, n_repeats=3, random_state=1)\n",
    "grid_ABC=GridSearchCV(ABC ,param_grid=params_ABC, n_jobs=-1 , cv=cv , verbose = 5,\n",
    "                         scoring=scorer , refit='F1')\n",
    "grid_ABC.fit(X_train , y_train )\n",
    "print('best paramters= {}\\nbest score= {}'.format(grid_ABC.best_params_ , grid_ABC.best_score_) )"
   ]
  },
  {
   "cell_type": "markdown",
   "metadata": {},
   "source": [
    "### Metrics"
   ]
  },
  {
   "cell_type": "code",
   "execution_count": 38,
   "metadata": {
    "ExecuteTime": {
     "end_time": "2022-09-17T14:15:01.892801Z",
     "start_time": "2022-09-17T14:15:01.849915Z"
    }
   },
   "outputs": [
    {
     "data": {
      "text/html": [
       "<div>\n",
       "<style scoped>\n",
       "    .dataframe tbody tr th:only-of-type {\n",
       "        vertical-align: middle;\n",
       "    }\n",
       "\n",
       "    .dataframe tbody tr th {\n",
       "        vertical-align: top;\n",
       "    }\n",
       "\n",
       "    .dataframe thead th {\n",
       "        text-align: right;\n",
       "    }\n",
       "</style>\n",
       "<table border=\"1\" class=\"dataframe\">\n",
       "  <thead>\n",
       "    <tr style=\"text-align: right;\">\n",
       "      <th></th>\n",
       "      <th>most_frequent</th>\n",
       "      <th>stratified</th>\n",
       "      <th>uniform</th>\n",
       "      <th>Value_LogReg</th>\n",
       "      <th>Value_KNN</th>\n",
       "      <th>Value_LDA</th>\n",
       "      <th>Value_GNB</th>\n",
       "      <th>Value_RFC</th>\n",
       "    </tr>\n",
       "  </thead>\n",
       "  <tbody>\n",
       "    <tr>\n",
       "      <th>F1 Score</th>\n",
       "      <td>0.000000</td>\n",
       "      <td>0.361949</td>\n",
       "      <td>0.403361</td>\n",
       "      <td>0.934010</td>\n",
       "      <td>0.888889</td>\n",
       "      <td>0.906250</td>\n",
       "      <td>0.903704</td>\n",
       "      <td>0.934010</td>\n",
       "    </tr>\n",
       "    <tr>\n",
       "      <th>accuracy</th>\n",
       "      <td>0.650877</td>\n",
       "      <td>0.517544</td>\n",
       "      <td>0.501754</td>\n",
       "      <td>0.954386</td>\n",
       "      <td>0.924561</td>\n",
       "      <td>0.936842</td>\n",
       "      <td>0.931579</td>\n",
       "      <td>0.954386</td>\n",
       "    </tr>\n",
       "    <tr>\n",
       "      <th>ROC AUC</th>\n",
       "      <td>0.500000</td>\n",
       "      <td>0.488433</td>\n",
       "      <td>0.497271</td>\n",
       "      <td>0.947487</td>\n",
       "      <td>0.910597</td>\n",
       "      <td>0.922361</td>\n",
       "      <td>0.928802</td>\n",
       "      <td>0.947487</td>\n",
       "    </tr>\n",
       "    <tr>\n",
       "      <th>Precision</th>\n",
       "      <td>0.000000</td>\n",
       "      <td>0.336207</td>\n",
       "      <td>0.346570</td>\n",
       "      <td>0.943590</td>\n",
       "      <td>0.914894</td>\n",
       "      <td>0.940541</td>\n",
       "      <td>0.888350</td>\n",
       "      <td>0.943590</td>\n",
       "    </tr>\n",
       "    <tr>\n",
       "      <th>Recall</th>\n",
       "      <td>0.000000</td>\n",
       "      <td>0.391960</td>\n",
       "      <td>0.482412</td>\n",
       "      <td>0.924623</td>\n",
       "      <td>0.864322</td>\n",
       "      <td>0.874372</td>\n",
       "      <td>0.919598</td>\n",
       "      <td>0.924623</td>\n",
       "    </tr>\n",
       "  </tbody>\n",
       "</table>\n",
       "</div>"
      ],
      "text/plain": [
       "           most_frequent  stratified   uniform  Value_LogReg  Value_KNN  \\\n",
       "F1 Score        0.000000    0.361949  0.403361      0.934010   0.888889   \n",
       "accuracy        0.650877    0.517544  0.501754      0.954386   0.924561   \n",
       "ROC AUC         0.500000    0.488433  0.497271      0.947487   0.910597   \n",
       "Precision       0.000000    0.336207  0.346570      0.943590   0.914894   \n",
       "Recall          0.000000    0.391960  0.482412      0.924623   0.864322   \n",
       "\n",
       "           Value_LDA  Value_GNB  Value_RFC  \n",
       "F1 Score    0.906250   0.903704   0.934010  \n",
       "accuracy    0.936842   0.931579   0.954386  \n",
       "ROC AUC     0.922361   0.928802   0.947487  \n",
       "Precision   0.940541   0.888350   0.943590  \n",
       "Recall      0.874372   0.919598   0.924623  "
      ]
     },
     "execution_count": 38,
     "metadata": {},
     "output_type": "execute_result"
    }
   ],
   "source": [
    "df_metric['Value_RFC'] = metric_calculator(y_test , grid_ABC.predict(X_test))\n",
    "df_metric"
   ]
  },
  {
   "cell_type": "markdown",
   "metadata": {},
   "source": [
    "### Health Score for All"
   ]
  },
  {
   "cell_type": "code",
   "execution_count": 39,
   "metadata": {
    "ExecuteTime": {
     "end_time": "2022-09-17T14:15:02.647783Z",
     "start_time": "2022-09-17T14:15:01.896790Z"
    }
   },
   "outputs": [
    {
     "data": {
      "text/html": [
       "<div>\n",
       "<style scoped>\n",
       "    .dataframe tbody tr th:only-of-type {\n",
       "        vertical-align: middle;\n",
       "    }\n",
       "\n",
       "    .dataframe tbody tr th {\n",
       "        vertical-align: top;\n",
       "    }\n",
       "\n",
       "    .dataframe thead th {\n",
       "        text-align: right;\n",
       "    }\n",
       "</style>\n",
       "<table border=\"1\" class=\"dataframe\">\n",
       "  <thead>\n",
       "    <tr style=\"text-align: right;\">\n",
       "      <th></th>\n",
       "      <th>no_warning_sign</th>\n",
       "      <th>BizActive?</th>\n",
       "      <th>AddedUsers/BoughtUser</th>\n",
       "      <th>ActiveUsers/AddedUsers</th>\n",
       "      <th>#Activities</th>\n",
       "      <th>ActivitiesWoutDeal/#Activities</th>\n",
       "      <th>AvgDelayTimeActivity</th>\n",
       "      <th>#Activities/#Deals</th>\n",
       "      <th>%NoAcquitance</th>\n",
       "      <th>TransformationSpeed</th>\n",
       "      <th>TransformationRate</th>\n",
       "      <th>%NoReasonFailure</th>\n",
       "      <th>#OngoingDeals/#Total(Correct)Deals</th>\n",
       "      <th>BizIsExpired?</th>\n",
       "      <th>Health_Score</th>\n",
       "      <th>BizDomainsId</th>\n",
       "    </tr>\n",
       "  </thead>\n",
       "  <tbody>\n",
       "    <tr>\n",
       "      <th>0</th>\n",
       "      <td>0.000000</td>\n",
       "      <td>0</td>\n",
       "      <td>0.642724</td>\n",
       "      <td>0.181397</td>\n",
       "      <td>1</td>\n",
       "      <td>0.866667</td>\n",
       "      <td>4</td>\n",
       "      <td>1.068966</td>\n",
       "      <td>0.310345</td>\n",
       "      <td>2</td>\n",
       "      <td>2</td>\n",
       "      <td>3</td>\n",
       "      <td>0.500000</td>\n",
       "      <td>1</td>\n",
       "      <td>0.000000</td>\n",
       "      <td>0006df37-709c-4121-be9e-5210adc6a044</td>\n",
       "    </tr>\n",
       "    <tr>\n",
       "      <th>1</th>\n",
       "      <td>0.238875</td>\n",
       "      <td>1</td>\n",
       "      <td>0.398507</td>\n",
       "      <td>0.274307</td>\n",
       "      <td>3</td>\n",
       "      <td>0.662252</td>\n",
       "      <td>3</td>\n",
       "      <td>0.688889</td>\n",
       "      <td>0.917526</td>\n",
       "      <td>2</td>\n",
       "      <td>2</td>\n",
       "      <td>1</td>\n",
       "      <td>0.627451</td>\n",
       "      <td>0</td>\n",
       "      <td>9.838496</td>\n",
       "      <td>002d52c3-6c10-41a5-a4b2-91422a1ab307</td>\n",
       "    </tr>\n",
       "    <tr>\n",
       "      <th>2</th>\n",
       "      <td>0.822599</td>\n",
       "      <td>0</td>\n",
       "      <td>1.000000</td>\n",
       "      <td>0.949580</td>\n",
       "      <td>1</td>\n",
       "      <td>0.000000</td>\n",
       "      <td>4</td>\n",
       "      <td>1.444444</td>\n",
       "      <td>0.000000</td>\n",
       "      <td>1</td>\n",
       "      <td>3</td>\n",
       "      <td>1</td>\n",
       "      <td>0.846154</td>\n",
       "      <td>0</td>\n",
       "      <td>3.837836</td>\n",
       "      <td>00428596-e168-49ce-8428-7949cd2215ea</td>\n",
       "    </tr>\n",
       "    <tr>\n",
       "      <th>3</th>\n",
       "      <td>0.000000</td>\n",
       "      <td>0</td>\n",
       "      <td>1.000000</td>\n",
       "      <td>0.211382</td>\n",
       "      <td>1</td>\n",
       "      <td>1.000000</td>\n",
       "      <td>3</td>\n",
       "      <td>0.000000</td>\n",
       "      <td>0.602430</td>\n",
       "      <td>2</td>\n",
       "      <td>2</td>\n",
       "      <td>2</td>\n",
       "      <td>0.506440</td>\n",
       "      <td>1</td>\n",
       "      <td>0.000000</td>\n",
       "      <td>0049986f-b17d-44ef-992f-88d478dd21b8</td>\n",
       "    </tr>\n",
       "    <tr>\n",
       "      <th>4</th>\n",
       "      <td>0.082940</td>\n",
       "      <td>1</td>\n",
       "      <td>1.000000</td>\n",
       "      <td>0.804726</td>\n",
       "      <td>4</td>\n",
       "      <td>0.773725</td>\n",
       "      <td>2</td>\n",
       "      <td>3.579350</td>\n",
       "      <td>0.182724</td>\n",
       "      <td>2</td>\n",
       "      <td>1</td>\n",
       "      <td>2</td>\n",
       "      <td>0.013858</td>\n",
       "      <td>0</td>\n",
       "      <td>7.748246</td>\n",
       "      <td>004c3ec1-da71-494d-9adb-8a4e660f9257</td>\n",
       "    </tr>\n",
       "  </tbody>\n",
       "</table>\n",
       "</div>"
      ],
      "text/plain": [
       "   no_warning_sign  BizActive?  AddedUsers/BoughtUser  ActiveUsers/AddedUsers  \\\n",
       "0         0.000000           0               0.642724                0.181397   \n",
       "1         0.238875           1               0.398507                0.274307   \n",
       "2         0.822599           0               1.000000                0.949580   \n",
       "3         0.000000           0               1.000000                0.211382   \n",
       "4         0.082940           1               1.000000                0.804726   \n",
       "\n",
       "   #Activities  ActivitiesWoutDeal/#Activities  AvgDelayTimeActivity  \\\n",
       "0            1                        0.866667                     4   \n",
       "1            3                        0.662252                     3   \n",
       "2            1                        0.000000                     4   \n",
       "3            1                        1.000000                     3   \n",
       "4            4                        0.773725                     2   \n",
       "\n",
       "   #Activities/#Deals  %NoAcquitance  TransformationSpeed  TransformationRate  \\\n",
       "0            1.068966       0.310345                    2                   2   \n",
       "1            0.688889       0.917526                    2                   2   \n",
       "2            1.444444       0.000000                    1                   3   \n",
       "3            0.000000       0.602430                    2                   2   \n",
       "4            3.579350       0.182724                    2                   1   \n",
       "\n",
       "   %NoReasonFailure  #OngoingDeals/#Total(Correct)Deals  BizIsExpired?  \\\n",
       "0                 3                            0.500000              1   \n",
       "1                 1                            0.627451              0   \n",
       "2                 1                            0.846154              0   \n",
       "3                 2                            0.506440              1   \n",
       "4                 2                            0.013858              0   \n",
       "\n",
       "   Health_Score                          BizDomainsId  \n",
       "0      0.000000  0006df37-709c-4121-be9e-5210adc6a044  \n",
       "1      9.838496  002d52c3-6c10-41a5-a4b2-91422a1ab307  \n",
       "2      3.837836  00428596-e168-49ce-8428-7949cd2215ea  \n",
       "3      0.000000  0049986f-b17d-44ef-992f-88d478dd21b8  \n",
       "4      7.748246  004c3ec1-da71-494d-9adb-8a4e660f9257  "
      ]
     },
     "execution_count": 39,
     "metadata": {},
     "output_type": "execute_result"
    }
   ],
   "source": [
    "ABC = AdaBoostClassifier(base_estimator =LogisticRegression() , algorithm='SAMME.R',\n",
    "                        learning_rate=1 , n_estimators=70)\n",
    "y_dec_ABC = ((ABC.fit(X, y)).decision_function(X)).reshape(-1,1)\n",
    "y_dec_ABC = MinMaxScaler(feature_range=(0, 10)).fit_transform(y_dec_ABC)\n",
    "df_medoid['Health_Score'] = 10 - y_dec_ABC\n",
    "df_medoid.head()"
   ]
  },
  {
   "cell_type": "markdown",
   "metadata": {},
   "source": [
    "### Successful Customers Checking"
   ]
  },
  {
   "cell_type": "code",
   "execution_count": 40,
   "metadata": {
    "ExecuteTime": {
     "end_time": "2022-09-17T14:15:02.878165Z",
     "start_time": "2022-09-17T14:15:02.649776Z"
    }
   },
   "outputs": [
    {
     "data": {
      "image/png": "[encoded data removed]",
      "text/plain": [
       "<Figure size 500x300 with 1 Axes>"
      ]
     },
     "metadata": {},
     "output_type": "display_data"
    }
   ],
   "source": [
    "successful  = pd.read_csv(r\"SuccesfulCustomers.csv\")\n",
    "successful = successful['BizDomainId'].str.lower()\n",
    "plt.figure(figsize=(5,3))\n",
    "plt.style.use('seaborn')\n",
    "sns.histplot(df_medoid.loc[df_medoid['BizDomainsId'].isin(successful),'Health_Score'])\n",
    "plt.title('Histogram of Successful BizDomains')\n",
    "plt.tight_layout()\n",
    "# plt.savefig('29. Ada Successful Biz.jpg',dpi=200)\n",
    "plt.show()"
   ]
  },
  {
   "cell_type": "markdown",
   "metadata": {},
   "source": [
    "### Export"
   ]
  },
  {
   "cell_type": "code",
   "execution_count": 41,
   "metadata": {
    "ExecuteTime": {
     "end_time": "2022-09-17T14:15:02.893125Z",
     "start_time": "2022-09-17T14:15:02.880160Z"
    }
   },
   "outputs": [],
   "source": [
    "# df_medoid.to_csv('6. medoid k=2 ADA Report.csv')"
   ]
  },
  {
   "cell_type": "markdown",
   "metadata": {},
   "source": [
    "## SVC"
   ]
  },
  {
   "cell_type": "markdown",
   "metadata": {},
   "source": [
    "### GridSearch"
   ]
  },
  {
   "cell_type": "code",
   "execution_count": 42,
   "metadata": {
    "ExecuteTime": {
     "end_time": "2022-09-17T14:17:31.789569Z",
     "start_time": "2022-09-17T14:15:02.895120Z"
    }
   },
   "outputs": [
    {
     "name": "stdout",
     "output_type": "stream",
     "text": [
      "Fitting 30 folds for each of 80 candidates, totalling 2400 fits\n",
      "best paramters= {'C': 100, 'gamma': 'scale', 'kernel': 'rbf', 'shrinking': True}\n",
      "best score= 0.948603566044419\n"
     ]
    }
   ],
   "source": [
    "svc = SVC()\n",
    "params_svc = {\n",
    "              'C':[0.1,1,10,100,250] , 'kernel':['linear', 'poly', 'rbf', 'sigmoid'],\n",
    "             'gamma': ['scale', 'auto'] , 'shrinking':[True , False]},\n",
    "\n",
    "scorer = {\"AUC\": \"roc_auc\", \"F1\": make_scorer(f1_score) , \n",
    "          \"Accuracy\": 'accuracy'}\n",
    "cv = RepeatedStratifiedKFold(n_splits=10, n_repeats=3, random_state=1)\n",
    "grid_svc=GridSearchCV(svc ,param_grid=params_svc, n_jobs=-1 , cv=cv , verbose = 5,\n",
    "                         scoring=scorer , refit='F1')\n",
    "grid_svc.fit(X_train , y_train )\n",
    "print('best paramters= {}\\nbest score= {}'.format(grid_svc.best_params_ , grid_svc.best_score_) )"
   ]
  },
  {
   "cell_type": "markdown",
   "metadata": {},
   "source": [
    "### Metrics"
   ]
  },
  {
   "cell_type": "code",
   "execution_count": 43,
   "metadata": {
    "ExecuteTime": {
     "end_time": "2022-09-17T14:17:31.820303Z",
     "start_time": "2022-09-17T14:17:31.791381Z"
    }
   },
   "outputs": [
    {
     "data": {
      "text/html": [
       "<div>\n",
       "<style scoped>\n",
       "    .dataframe tbody tr th:only-of-type {\n",
       "        vertical-align: middle;\n",
       "    }\n",
       "\n",
       "    .dataframe tbody tr th {\n",
       "        vertical-align: top;\n",
       "    }\n",
       "\n",
       "    .dataframe thead th {\n",
       "        text-align: right;\n",
       "    }\n",
       "</style>\n",
       "<table border=\"1\" class=\"dataframe\">\n",
       "  <thead>\n",
       "    <tr style=\"text-align: right;\">\n",
       "      <th></th>\n",
       "      <th>most_frequent</th>\n",
       "      <th>stratified</th>\n",
       "      <th>uniform</th>\n",
       "      <th>Value_LogReg</th>\n",
       "      <th>Value_KNN</th>\n",
       "      <th>Value_LDA</th>\n",
       "      <th>Value_GNB</th>\n",
       "      <th>Value_RFC</th>\n",
       "      <th>Value_SVC</th>\n",
       "    </tr>\n",
       "  </thead>\n",
       "  <tbody>\n",
       "    <tr>\n",
       "      <th>F1 Score</th>\n",
       "      <td>0.000000</td>\n",
       "      <td>0.361949</td>\n",
       "      <td>0.403361</td>\n",
       "      <td>0.934010</td>\n",
       "      <td>0.888889</td>\n",
       "      <td>0.906250</td>\n",
       "      <td>0.903704</td>\n",
       "      <td>0.934010</td>\n",
       "      <td>0.965174</td>\n",
       "    </tr>\n",
       "    <tr>\n",
       "      <th>accuracy</th>\n",
       "      <td>0.650877</td>\n",
       "      <td>0.517544</td>\n",
       "      <td>0.501754</td>\n",
       "      <td>0.954386</td>\n",
       "      <td>0.924561</td>\n",
       "      <td>0.936842</td>\n",
       "      <td>0.931579</td>\n",
       "      <td>0.954386</td>\n",
       "      <td>0.975439</td>\n",
       "    </tr>\n",
       "    <tr>\n",
       "      <th>ROC AUC</th>\n",
       "      <td>0.500000</td>\n",
       "      <td>0.488433</td>\n",
       "      <td>0.497271</td>\n",
       "      <td>0.947487</td>\n",
       "      <td>0.910597</td>\n",
       "      <td>0.922361</td>\n",
       "      <td>0.928802</td>\n",
       "      <td>0.947487</td>\n",
       "      <td>0.975308</td>\n",
       "    </tr>\n",
       "    <tr>\n",
       "      <th>Precision</th>\n",
       "      <td>0.000000</td>\n",
       "      <td>0.336207</td>\n",
       "      <td>0.346570</td>\n",
       "      <td>0.943590</td>\n",
       "      <td>0.914894</td>\n",
       "      <td>0.940541</td>\n",
       "      <td>0.888350</td>\n",
       "      <td>0.943590</td>\n",
       "      <td>0.955665</td>\n",
       "    </tr>\n",
       "    <tr>\n",
       "      <th>Recall</th>\n",
       "      <td>0.000000</td>\n",
       "      <td>0.391960</td>\n",
       "      <td>0.482412</td>\n",
       "      <td>0.924623</td>\n",
       "      <td>0.864322</td>\n",
       "      <td>0.874372</td>\n",
       "      <td>0.919598</td>\n",
       "      <td>0.924623</td>\n",
       "      <td>0.974874</td>\n",
       "    </tr>\n",
       "  </tbody>\n",
       "</table>\n",
       "</div>"
      ],
      "text/plain": [
       "           most_frequent  stratified   uniform  Value_LogReg  Value_KNN  \\\n",
       "F1 Score        0.000000    0.361949  0.403361      0.934010   0.888889   \n",
       "accuracy        0.650877    0.517544  0.501754      0.954386   0.924561   \n",
       "ROC AUC         0.500000    0.488433  0.497271      0.947487   0.910597   \n",
       "Precision       0.000000    0.336207  0.346570      0.943590   0.914894   \n",
       "Recall          0.000000    0.391960  0.482412      0.924623   0.864322   \n",
       "\n",
       "           Value_LDA  Value_GNB  Value_RFC  Value_SVC  \n",
       "F1 Score    0.906250   0.903704   0.934010   0.965174  \n",
       "accuracy    0.936842   0.931579   0.954386   0.975439  \n",
       "ROC AUC     0.922361   0.928802   0.947487   0.975308  \n",
       "Precision   0.940541   0.888350   0.943590   0.955665  \n",
       "Recall      0.874372   0.919598   0.924623   0.974874  "
      ]
     },
     "execution_count": 43,
     "metadata": {},
     "output_type": "execute_result"
    }
   ],
   "source": [
    "df_metric['Value_SVC'] = metric_calculator(y_test , grid_svc.predict(X_test))\n",
    "df_metric"
   ]
  },
  {
   "cell_type": "markdown",
   "metadata": {},
   "source": [
    "### Health Score for All"
   ]
  },
  {
   "cell_type": "code",
   "execution_count": 44,
   "metadata": {
    "ExecuteTime": {
     "end_time": "2022-09-17T14:17:31.913055Z",
     "start_time": "2022-09-17T14:17:31.822297Z"
    }
   },
   "outputs": [
    {
     "data": {
      "text/html": [
       "<div>\n",
       "<style scoped>\n",
       "    .dataframe tbody tr th:only-of-type {\n",
       "        vertical-align: middle;\n",
       "    }\n",
       "\n",
       "    .dataframe tbody tr th {\n",
       "        vertical-align: top;\n",
       "    }\n",
       "\n",
       "    .dataframe thead th {\n",
       "        text-align: right;\n",
       "    }\n",
       "</style>\n",
       "<table border=\"1\" class=\"dataframe\">\n",
       "  <thead>\n",
       "    <tr style=\"text-align: right;\">\n",
       "      <th></th>\n",
       "      <th>no_warning_sign</th>\n",
       "      <th>BizActive?</th>\n",
       "      <th>AddedUsers/BoughtUser</th>\n",
       "      <th>ActiveUsers/AddedUsers</th>\n",
       "      <th>#Activities</th>\n",
       "      <th>ActivitiesWoutDeal/#Activities</th>\n",
       "      <th>AvgDelayTimeActivity</th>\n",
       "      <th>#Activities/#Deals</th>\n",
       "      <th>%NoAcquitance</th>\n",
       "      <th>TransformationSpeed</th>\n",
       "      <th>TransformationRate</th>\n",
       "      <th>%NoReasonFailure</th>\n",
       "      <th>#OngoingDeals/#Total(Correct)Deals</th>\n",
       "      <th>BizIsExpired?</th>\n",
       "      <th>Health_Score</th>\n",
       "      <th>BizDomainsId</th>\n",
       "    </tr>\n",
       "  </thead>\n",
       "  <tbody>\n",
       "    <tr>\n",
       "      <th>0</th>\n",
       "      <td>0.000000</td>\n",
       "      <td>0</td>\n",
       "      <td>0.642724</td>\n",
       "      <td>0.181397</td>\n",
       "      <td>1</td>\n",
       "      <td>0.866667</td>\n",
       "      <td>4</td>\n",
       "      <td>1.068966</td>\n",
       "      <td>0.310345</td>\n",
       "      <td>2</td>\n",
       "      <td>2</td>\n",
       "      <td>3</td>\n",
       "      <td>0.500000</td>\n",
       "      <td>1</td>\n",
       "      <td>1.341359</td>\n",
       "      <td>0006df37-709c-4121-be9e-5210adc6a044</td>\n",
       "    </tr>\n",
       "    <tr>\n",
       "      <th>1</th>\n",
       "      <td>0.238875</td>\n",
       "      <td>1</td>\n",
       "      <td>0.398507</td>\n",
       "      <td>0.274307</td>\n",
       "      <td>3</td>\n",
       "      <td>0.662252</td>\n",
       "      <td>3</td>\n",
       "      <td>0.688889</td>\n",
       "      <td>0.917526</td>\n",
       "      <td>2</td>\n",
       "      <td>2</td>\n",
       "      <td>1</td>\n",
       "      <td>0.627451</td>\n",
       "      <td>0</td>\n",
       "      <td>7.326827</td>\n",
       "      <td>002d52c3-6c10-41a5-a4b2-91422a1ab307</td>\n",
       "    </tr>\n",
       "    <tr>\n",
       "      <th>2</th>\n",
       "      <td>0.822599</td>\n",
       "      <td>0</td>\n",
       "      <td>1.000000</td>\n",
       "      <td>0.949580</td>\n",
       "      <td>1</td>\n",
       "      <td>0.000000</td>\n",
       "      <td>4</td>\n",
       "      <td>1.444444</td>\n",
       "      <td>0.000000</td>\n",
       "      <td>1</td>\n",
       "      <td>3</td>\n",
       "      <td>1</td>\n",
       "      <td>0.846154</td>\n",
       "      <td>0</td>\n",
       "      <td>6.392812</td>\n",
       "      <td>00428596-e168-49ce-8428-7949cd2215ea</td>\n",
       "    </tr>\n",
       "    <tr>\n",
       "      <th>3</th>\n",
       "      <td>0.000000</td>\n",
       "      <td>0</td>\n",
       "      <td>1.000000</td>\n",
       "      <td>0.211382</td>\n",
       "      <td>1</td>\n",
       "      <td>1.000000</td>\n",
       "      <td>3</td>\n",
       "      <td>0.000000</td>\n",
       "      <td>0.602430</td>\n",
       "      <td>2</td>\n",
       "      <td>2</td>\n",
       "      <td>2</td>\n",
       "      <td>0.506440</td>\n",
       "      <td>1</td>\n",
       "      <td>0.838609</td>\n",
       "      <td>0049986f-b17d-44ef-992f-88d478dd21b8</td>\n",
       "    </tr>\n",
       "    <tr>\n",
       "      <th>4</th>\n",
       "      <td>0.082940</td>\n",
       "      <td>1</td>\n",
       "      <td>1.000000</td>\n",
       "      <td>0.804726</td>\n",
       "      <td>4</td>\n",
       "      <td>0.773725</td>\n",
       "      <td>2</td>\n",
       "      <td>3.579350</td>\n",
       "      <td>0.182724</td>\n",
       "      <td>2</td>\n",
       "      <td>1</td>\n",
       "      <td>2</td>\n",
       "      <td>0.013858</td>\n",
       "      <td>0</td>\n",
       "      <td>6.702066</td>\n",
       "      <td>004c3ec1-da71-494d-9adb-8a4e660f9257</td>\n",
       "    </tr>\n",
       "  </tbody>\n",
       "</table>\n",
       "</div>"
      ],
      "text/plain": [
       "   no_warning_sign  BizActive?  AddedUsers/BoughtUser  ActiveUsers/AddedUsers  \\\n",
       "0         0.000000           0               0.642724                0.181397   \n",
       "1         0.238875           1               0.398507                0.274307   \n",
       "2         0.822599           0               1.000000                0.949580   \n",
       "3         0.000000           0               1.000000                0.211382   \n",
       "4         0.082940           1               1.000000                0.804726   \n",
       "\n",
       "   #Activities  ActivitiesWoutDeal/#Activities  AvgDelayTimeActivity  \\\n",
       "0            1                        0.866667                     4   \n",
       "1            3                        0.662252                     3   \n",
       "2            1                        0.000000                     4   \n",
       "3            1                        1.000000                     3   \n",
       "4            4                        0.773725                     2   \n",
       "\n",
       "   #Activities/#Deals  %NoAcquitance  TransformationSpeed  TransformationRate  \\\n",
       "0            1.068966       0.310345                    2                   2   \n",
       "1            0.688889       0.917526                    2                   2   \n",
       "2            1.444444       0.000000                    1                   3   \n",
       "3            0.000000       0.602430                    2                   2   \n",
       "4            3.579350       0.182724                    2                   1   \n",
       "\n",
       "   %NoReasonFailure  #OngoingDeals/#Total(Correct)Deals  BizIsExpired?  \\\n",
       "0                 3                            0.500000              1   \n",
       "1                 1                            0.627451              0   \n",
       "2                 1                            0.846154              0   \n",
       "3                 2                            0.506440              1   \n",
       "4                 2                            0.013858              0   \n",
       "\n",
       "   Health_Score                          BizDomainsId  \n",
       "0      1.341359  0006df37-709c-4121-be9e-5210adc6a044  \n",
       "1      7.326827  002d52c3-6c10-41a5-a4b2-91422a1ab307  \n",
       "2      6.392812  00428596-e168-49ce-8428-7949cd2215ea  \n",
       "3      0.838609  0049986f-b17d-44ef-992f-88d478dd21b8  \n",
       "4      6.702066  004c3ec1-da71-494d-9adb-8a4e660f9257  "
      ]
     },
     "execution_count": 44,
     "metadata": {},
     "output_type": "execute_result"
    }
   ],
   "source": [
    "svc = SVC(C=100 , gamma='scale' , kernel='rbf' , shrinking=True)\n",
    "y_dec_SVC = ((svc.fit(X, y)).decision_function(X)).reshape(-1,1)\n",
    "y_dec_SVC = MinMaxScaler(feature_range=(0, 10)).fit_transform(y_dec_SVC)\n",
    "df_medoid['Health_Score'] = 10 - y_dec_SVC\n",
    "df_medoid.head()"
   ]
  },
  {
   "cell_type": "markdown",
   "metadata": {},
   "source": [
    "### Successful Customers Checking"
   ]
  },
  {
   "cell_type": "code",
   "execution_count": 45,
   "metadata": {
    "ExecuteTime": {
     "end_time": "2022-09-17T14:17:32.067641Z",
     "start_time": "2022-09-17T14:17:31.916048Z"
    }
   },
   "outputs": [
    {
     "data": {
      "image/png": "[encoded data removed]",
      "text/plain": [
       "<Figure size 500x300 with 1 Axes>"
      ]
     },
     "metadata": {},
     "output_type": "display_data"
    }
   ],
   "source": [
    "successful  = pd.read_csv(r\"SuccesfulCustomers.csv\")\n",
    "successful = successful['BizDomainId'].str.lower()\n",
    "plt.figure(figsize=(5,3))\n",
    "plt.style.use('seaborn')\n",
    "sns.histplot(df_medoid.loc[df_medoid['BizDomainsId'].isin(successful),'Health_Score'])\n",
    "plt.title('Histogram of Successful BizDomains')\n",
    "plt.tight_layout()\n",
    "# plt.savefig('27. SVC Successful Biz.jpg',dpi=200)\n",
    "plt.show()"
   ]
  },
  {
   "cell_type": "markdown",
   "metadata": {},
   "source": [
    "### Export"
   ]
  },
  {
   "cell_type": "code",
   "execution_count": 46,
   "metadata": {
    "ExecuteTime": {
     "end_time": "2022-09-17T14:17:32.082679Z",
     "start_time": "2022-09-17T14:17:32.068638Z"
    }
   },
   "outputs": [],
   "source": [
    "# df_medoid.to_csv('7.medoid k=2 SVC Report.csv')"
   ]
  },
  {
   "cell_type": "markdown",
   "metadata": {},
   "source": [
    "## NuSVC (Good)"
   ]
  },
  {
   "cell_type": "markdown",
   "metadata": {},
   "source": [
    "### GridSearch"
   ]
  },
  {
   "cell_type": "code",
   "execution_count": 47,
   "metadata": {
    "ExecuteTime": {
     "end_time": "2022-09-17T14:18:17.553187Z",
     "start_time": "2022-09-17T14:17:32.084596Z"
    }
   },
   "outputs": [
    {
     "name": "stdout",
     "output_type": "stream",
     "text": [
      "Fitting 30 folds for each of 160 candidates, totalling 4800 fits\n",
      "best paramters= {'gamma': 'scale', 'kernel': 'rbf', 'nu': 0.1, 'shrinking': True}\n",
      "best score= 0.9451369774022467\n"
     ]
    }
   ],
   "source": [
    "nsvc = NuSVC()\n",
    "params_nsvc = {'nu':np.arange(0.1,1.1 , 0.1), 'kernel':['linear', 'poly', 'rbf', 'sigmoid'],\n",
    "             'gamma': ['scale', 'auto'] , 'shrinking':[True , False]},\n",
    "\n",
    "scorer = {\"AUC\": \"roc_auc\", \"F1\": make_scorer(f1_score) , \n",
    "          \"Accuracy\": 'accuracy'}\n",
    "cv = RepeatedStratifiedKFold(n_splits=10, n_repeats=3, random_state=1)\n",
    "grid_nsvc=GridSearchCV(nsvc ,param_grid=params_nsvc, n_jobs=-1 , cv=cv , verbose = 5,\n",
    "                         scoring=scorer , refit='F1')\n",
    "grid_nsvc.fit(X_train , y_train )\n",
    "print('best paramters= {}\\nbest score= {}'.format(grid_nsvc.best_params_ , grid_nsvc.best_score_) )"
   ]
  },
  {
   "cell_type": "markdown",
   "metadata": {},
   "source": [
    "### Metrics"
   ]
  },
  {
   "cell_type": "code",
   "execution_count": 48,
   "metadata": {
    "ExecuteTime": {
     "end_time": "2022-09-17T14:18:17.584017Z",
     "start_time": "2022-09-17T14:18:17.556093Z"
    }
   },
   "outputs": [
    {
     "data": {
      "text/html": [
       "<div>\n",
       "<style scoped>\n",
       "    .dataframe tbody tr th:only-of-type {\n",
       "        vertical-align: middle;\n",
       "    }\n",
       "\n",
       "    .dataframe tbody tr th {\n",
       "        vertical-align: top;\n",
       "    }\n",
       "\n",
       "    .dataframe thead th {\n",
       "        text-align: right;\n",
       "    }\n",
       "</style>\n",
       "<table border=\"1\" class=\"dataframe\">\n",
       "  <thead>\n",
       "    <tr style=\"text-align: right;\">\n",
       "      <th></th>\n",
       "      <th>most_frequent</th>\n",
       "      <th>stratified</th>\n",
       "      <th>uniform</th>\n",
       "      <th>Value_LogReg</th>\n",
       "      <th>Value_KNN</th>\n",
       "      <th>Value_LDA</th>\n",
       "      <th>Value_GNB</th>\n",
       "      <th>Value_RFC</th>\n",
       "      <th>Value_SVC</th>\n",
       "      <th>Value_NSVC</th>\n",
       "    </tr>\n",
       "  </thead>\n",
       "  <tbody>\n",
       "    <tr>\n",
       "      <th>F1 Score</th>\n",
       "      <td>0.000000</td>\n",
       "      <td>0.361949</td>\n",
       "      <td>0.403361</td>\n",
       "      <td>0.934010</td>\n",
       "      <td>0.888889</td>\n",
       "      <td>0.906250</td>\n",
       "      <td>0.903704</td>\n",
       "      <td>0.934010</td>\n",
       "      <td>0.965174</td>\n",
       "      <td>0.959799</td>\n",
       "    </tr>\n",
       "    <tr>\n",
       "      <th>accuracy</th>\n",
       "      <td>0.650877</td>\n",
       "      <td>0.517544</td>\n",
       "      <td>0.501754</td>\n",
       "      <td>0.954386</td>\n",
       "      <td>0.924561</td>\n",
       "      <td>0.936842</td>\n",
       "      <td>0.931579</td>\n",
       "      <td>0.954386</td>\n",
       "      <td>0.975439</td>\n",
       "      <td>0.971930</td>\n",
       "    </tr>\n",
       "    <tr>\n",
       "      <th>ROC AUC</th>\n",
       "      <td>0.500000</td>\n",
       "      <td>0.488433</td>\n",
       "      <td>0.497271</td>\n",
       "      <td>0.947487</td>\n",
       "      <td>0.910597</td>\n",
       "      <td>0.922361</td>\n",
       "      <td>0.928802</td>\n",
       "      <td>0.947487</td>\n",
       "      <td>0.975308</td>\n",
       "      <td>0.969118</td>\n",
       "    </tr>\n",
       "    <tr>\n",
       "      <th>Precision</th>\n",
       "      <td>0.000000</td>\n",
       "      <td>0.336207</td>\n",
       "      <td>0.346570</td>\n",
       "      <td>0.943590</td>\n",
       "      <td>0.914894</td>\n",
       "      <td>0.940541</td>\n",
       "      <td>0.888350</td>\n",
       "      <td>0.943590</td>\n",
       "      <td>0.955665</td>\n",
       "      <td>0.959799</td>\n",
       "    </tr>\n",
       "    <tr>\n",
       "      <th>Recall</th>\n",
       "      <td>0.000000</td>\n",
       "      <td>0.391960</td>\n",
       "      <td>0.482412</td>\n",
       "      <td>0.924623</td>\n",
       "      <td>0.864322</td>\n",
       "      <td>0.874372</td>\n",
       "      <td>0.919598</td>\n",
       "      <td>0.924623</td>\n",
       "      <td>0.974874</td>\n",
       "      <td>0.959799</td>\n",
       "    </tr>\n",
       "  </tbody>\n",
       "</table>\n",
       "</div>"
      ],
      "text/plain": [
       "           most_frequent  stratified   uniform  Value_LogReg  Value_KNN  \\\n",
       "F1 Score        0.000000    0.361949  0.403361      0.934010   0.888889   \n",
       "accuracy        0.650877    0.517544  0.501754      0.954386   0.924561   \n",
       "ROC AUC         0.500000    0.488433  0.497271      0.947487   0.910597   \n",
       "Precision       0.000000    0.336207  0.346570      0.943590   0.914894   \n",
       "Recall          0.000000    0.391960  0.482412      0.924623   0.864322   \n",
       "\n",
       "           Value_LDA  Value_GNB  Value_RFC  Value_SVC  Value_NSVC  \n",
       "F1 Score    0.906250   0.903704   0.934010   0.965174    0.959799  \n",
       "accuracy    0.936842   0.931579   0.954386   0.975439    0.971930  \n",
       "ROC AUC     0.922361   0.928802   0.947487   0.975308    0.969118  \n",
       "Precision   0.940541   0.888350   0.943590   0.955665    0.959799  \n",
       "Recall      0.874372   0.919598   0.924623   0.974874    0.959799  "
      ]
     },
     "execution_count": 48,
     "metadata": {},
     "output_type": "execute_result"
    }
   ],
   "source": [
    "df_metric['Value_NSVC'] = metric_calculator(y_test , grid_nsvc.predict(X_test))\n",
    "df_metric"
   ]
  },
  {
   "cell_type": "markdown",
   "metadata": {},
   "source": [
    "### Health Score for All"
   ]
  },
  {
   "cell_type": "code",
   "execution_count": 49,
   "metadata": {
    "ExecuteTime": {
     "end_time": "2022-09-17T14:18:17.738606Z",
     "start_time": "2022-09-17T14:18:17.585015Z"
    }
   },
   "outputs": [
    {
     "data": {
      "text/html": [
       "<div>\n",
       "<style scoped>\n",
       "    .dataframe tbody tr th:only-of-type {\n",
       "        vertical-align: middle;\n",
       "    }\n",
       "\n",
       "    .dataframe tbody tr th {\n",
       "        vertical-align: top;\n",
       "    }\n",
       "\n",
       "    .dataframe thead th {\n",
       "        text-align: right;\n",
       "    }\n",
       "</style>\n",
       "<table border=\"1\" class=\"dataframe\">\n",
       "  <thead>\n",
       "    <tr style=\"text-align: right;\">\n",
       "      <th></th>\n",
       "      <th>no_warning_sign</th>\n",
       "      <th>BizActive?</th>\n",
       "      <th>AddedUsers/BoughtUser</th>\n",
       "      <th>ActiveUsers/AddedUsers</th>\n",
       "      <th>#Activities</th>\n",
       "      <th>ActivitiesWoutDeal/#Activities</th>\n",
       "      <th>AvgDelayTimeActivity</th>\n",
       "      <th>#Activities/#Deals</th>\n",
       "      <th>%NoAcquitance</th>\n",
       "      <th>TransformationSpeed</th>\n",
       "      <th>TransformationRate</th>\n",
       "      <th>%NoReasonFailure</th>\n",
       "      <th>#OngoingDeals/#Total(Correct)Deals</th>\n",
       "      <th>BizIsExpired?</th>\n",
       "      <th>Health_Score</th>\n",
       "      <th>BizDomainsId</th>\n",
       "    </tr>\n",
       "  </thead>\n",
       "  <tbody>\n",
       "    <tr>\n",
       "      <th>0</th>\n",
       "      <td>0.000000</td>\n",
       "      <td>0</td>\n",
       "      <td>0.642724</td>\n",
       "      <td>0.181397</td>\n",
       "      <td>1</td>\n",
       "      <td>0.866667</td>\n",
       "      <td>4</td>\n",
       "      <td>1.068966</td>\n",
       "      <td>0.310345</td>\n",
       "      <td>2</td>\n",
       "      <td>2</td>\n",
       "      <td>3</td>\n",
       "      <td>0.500000</td>\n",
       "      <td>1</td>\n",
       "      <td>1.122190</td>\n",
       "      <td>0006df37-709c-4121-be9e-5210adc6a044</td>\n",
       "    </tr>\n",
       "    <tr>\n",
       "      <th>1</th>\n",
       "      <td>0.238875</td>\n",
       "      <td>1</td>\n",
       "      <td>0.398507</td>\n",
       "      <td>0.274307</td>\n",
       "      <td>3</td>\n",
       "      <td>0.662252</td>\n",
       "      <td>3</td>\n",
       "      <td>0.688889</td>\n",
       "      <td>0.917526</td>\n",
       "      <td>2</td>\n",
       "      <td>2</td>\n",
       "      <td>1</td>\n",
       "      <td>0.627451</td>\n",
       "      <td>0</td>\n",
       "      <td>7.934546</td>\n",
       "      <td>002d52c3-6c10-41a5-a4b2-91422a1ab307</td>\n",
       "    </tr>\n",
       "    <tr>\n",
       "      <th>2</th>\n",
       "      <td>0.822599</td>\n",
       "      <td>0</td>\n",
       "      <td>1.000000</td>\n",
       "      <td>0.949580</td>\n",
       "      <td>1</td>\n",
       "      <td>0.000000</td>\n",
       "      <td>4</td>\n",
       "      <td>1.444444</td>\n",
       "      <td>0.000000</td>\n",
       "      <td>1</td>\n",
       "      <td>3</td>\n",
       "      <td>1</td>\n",
       "      <td>0.846154</td>\n",
       "      <td>0</td>\n",
       "      <td>5.445678</td>\n",
       "      <td>00428596-e168-49ce-8428-7949cd2215ea</td>\n",
       "    </tr>\n",
       "    <tr>\n",
       "      <th>3</th>\n",
       "      <td>0.000000</td>\n",
       "      <td>0</td>\n",
       "      <td>1.000000</td>\n",
       "      <td>0.211382</td>\n",
       "      <td>1</td>\n",
       "      <td>1.000000</td>\n",
       "      <td>3</td>\n",
       "      <td>0.000000</td>\n",
       "      <td>0.602430</td>\n",
       "      <td>2</td>\n",
       "      <td>2</td>\n",
       "      <td>2</td>\n",
       "      <td>0.506440</td>\n",
       "      <td>1</td>\n",
       "      <td>0.717712</td>\n",
       "      <td>0049986f-b17d-44ef-992f-88d478dd21b8</td>\n",
       "    </tr>\n",
       "    <tr>\n",
       "      <th>4</th>\n",
       "      <td>0.082940</td>\n",
       "      <td>1</td>\n",
       "      <td>1.000000</td>\n",
       "      <td>0.804726</td>\n",
       "      <td>4</td>\n",
       "      <td>0.773725</td>\n",
       "      <td>2</td>\n",
       "      <td>3.579350</td>\n",
       "      <td>0.182724</td>\n",
       "      <td>2</td>\n",
       "      <td>1</td>\n",
       "      <td>2</td>\n",
       "      <td>0.013858</td>\n",
       "      <td>0</td>\n",
       "      <td>7.646725</td>\n",
       "      <td>004c3ec1-da71-494d-9adb-8a4e660f9257</td>\n",
       "    </tr>\n",
       "  </tbody>\n",
       "</table>\n",
       "</div>"
      ],
      "text/plain": [
       "   no_warning_sign  BizActive?  AddedUsers/BoughtUser  ActiveUsers/AddedUsers  \\\n",
       "0         0.000000           0               0.642724                0.181397   \n",
       "1         0.238875           1               0.398507                0.274307   \n",
       "2         0.822599           0               1.000000                0.949580   \n",
       "3         0.000000           0               1.000000                0.211382   \n",
       "4         0.082940           1               1.000000                0.804726   \n",
       "\n",
       "   #Activities  ActivitiesWoutDeal/#Activities  AvgDelayTimeActivity  \\\n",
       "0            1                        0.866667                     4   \n",
       "1            3                        0.662252                     3   \n",
       "2            1                        0.000000                     4   \n",
       "3            1                        1.000000                     3   \n",
       "4            4                        0.773725                     2   \n",
       "\n",
       "   #Activities/#Deals  %NoAcquitance  TransformationSpeed  TransformationRate  \\\n",
       "0            1.068966       0.310345                    2                   2   \n",
       "1            0.688889       0.917526                    2                   2   \n",
       "2            1.444444       0.000000                    1                   3   \n",
       "3            0.000000       0.602430                    2                   2   \n",
       "4            3.579350       0.182724                    2                   1   \n",
       "\n",
       "   %NoReasonFailure  #OngoingDeals/#Total(Correct)Deals  BizIsExpired?  \\\n",
       "0                 3                            0.500000              1   \n",
       "1                 1                            0.627451              0   \n",
       "2                 1                            0.846154              0   \n",
       "3                 2                            0.506440              1   \n",
       "4                 2                            0.013858              0   \n",
       "\n",
       "   Health_Score                          BizDomainsId  \n",
       "0      1.122190  0006df37-709c-4121-be9e-5210adc6a044  \n",
       "1      7.934546  002d52c3-6c10-41a5-a4b2-91422a1ab307  \n",
       "2      5.445678  00428596-e168-49ce-8428-7949cd2215ea  \n",
       "3      0.717712  0049986f-b17d-44ef-992f-88d478dd21b8  \n",
       "4      7.646725  004c3ec1-da71-494d-9adb-8a4e660f9257  "
      ]
     },
     "execution_count": 49,
     "metadata": {},
     "output_type": "execute_result"
    }
   ],
   "source": [
    "nsvc = NuSVC(gamma='scale' , kernel='rbf' , shrinking=True,nu=0.1)\n",
    "y_dec_NSVC = ((nsvc.fit(X, y)).decision_function(X)).reshape(-1,1)\n",
    "y_dec_NSVC = MinMaxScaler(feature_range=(0, 10)).fit_transform(y_dec_NSVC)\n",
    "df_medoid['Health_Score'] = 10 - y_dec_NSVC\n",
    "df_medoid.head()"
   ]
  },
  {
   "cell_type": "markdown",
   "metadata": {},
   "source": [
    "### Successful Customers Checking"
   ]
  },
  {
   "cell_type": "code",
   "execution_count": 50,
   "metadata": {
    "ExecuteTime": {
     "end_time": "2022-09-17T14:18:17.909148Z",
     "start_time": "2022-09-17T14:18:17.741597Z"
    }
   },
   "outputs": [
    {
     "data": {
      "image/png": "[encoded data removed]",
      "text/plain": [
       "<Figure size 500x300 with 1 Axes>"
      ]
     },
     "metadata": {},
     "output_type": "display_data"
    }
   ],
   "source": [
    "successful  = pd.read_csv(r\"SuccesfulCustomers.csv\")\n",
    "successful = successful['BizDomainId'].str.lower()\n",
    "plt.figure(figsize=(5,3))\n",
    "plt.style.use('seaborn')\n",
    "sns.histplot(df_medoid.loc[df_medoid['BizDomainsId'].isin(successful),'Health_Score'])\n",
    "plt.title('Histogram of Successful BizDomains')\n",
    "plt.tight_layout()\n",
    "# plt.savefig('28. NuSVC Successful Biz.jpg',dpi=200)\n",
    "plt.show()"
   ]
  },
  {
   "cell_type": "markdown",
   "metadata": {},
   "source": [
    "### Export"
   ]
  },
  {
   "cell_type": "code",
   "execution_count": 51,
   "metadata": {
    "ExecuteTime": {
     "end_time": "2022-09-17T14:18:17.924109Z",
     "start_time": "2022-09-17T14:18:17.910145Z"
    }
   },
   "outputs": [],
   "source": [
    "# df_medoid.to_csv('8. medoid k=2 NuSVC Report.csv')"
   ]
  },
  {
   "cell_type": "markdown",
   "metadata": {},
   "source": [
    "## LinearSVC"
   ]
  },
  {
   "cell_type": "markdown",
   "metadata": {},
   "source": [
    "### GridSearch"
   ]
  },
  {
   "cell_type": "code",
   "execution_count": 52,
   "metadata": {
    "ExecuteTime": {
     "end_time": "2022-09-17T14:18:20.357715Z",
     "start_time": "2022-09-17T14:18:17.925107Z"
    }
   },
   "outputs": [
    {
     "name": "stdout",
     "output_type": "stream",
     "text": [
      "Fitting 30 folds for each of 20 candidates, totalling 600 fits\n",
      "best paramters= {'C': 1, 'loss': 'squared_hinge', 'penalty': 'l1'}\n",
      "best score= 0.9447566348096078\n"
     ]
    }
   ],
   "source": [
    "lsvc = LinearSVC(dual=False)\n",
    "params_lsvc = {'penalty':['l1','l2'], 'loss':['hinge', 'squared_hinge'],\n",
    "             'C': [0.1,1,10,100,250] }\n",
    "\n",
    "scorer = {\"AUC\": \"roc_auc\", \"F1\": make_scorer(f1_score) , \n",
    "          \"Accuracy\": 'accuracy'}\n",
    "cv = RepeatedStratifiedKFold(n_splits=10, n_repeats=3, random_state=1)\n",
    "grid_lsvc=GridSearchCV(lsvc ,param_grid=params_lsvc, n_jobs=-1 , cv=cv , verbose = 5,\n",
    "                         scoring=scorer , refit='F1')\n",
    "grid_lsvc.fit(X_train , y_train )\n",
    "print('best paramters= {}\\nbest score= {}'.format(grid_lsvc.best_params_ , grid_lsvc.best_score_) )"
   ]
  },
  {
   "cell_type": "markdown",
   "metadata": {},
   "source": [
    "### Metrics"
   ]
  },
  {
   "cell_type": "code",
   "execution_count": 53,
   "metadata": {
    "ExecuteTime": {
     "end_time": "2022-09-17T14:18:20.388587Z",
     "start_time": "2022-09-17T14:18:20.360668Z"
    }
   },
   "outputs": [
    {
     "data": {
      "text/html": [
       "<div>\n",
       "<style scoped>\n",
       "    .dataframe tbody tr th:only-of-type {\n",
       "        vertical-align: middle;\n",
       "    }\n",
       "\n",
       "    .dataframe tbody tr th {\n",
       "        vertical-align: top;\n",
       "    }\n",
       "\n",
       "    .dataframe thead th {\n",
       "        text-align: right;\n",
       "    }\n",
       "</style>\n",
       "<table border=\"1\" class=\"dataframe\">\n",
       "  <thead>\n",
       "    <tr style=\"text-align: right;\">\n",
       "      <th></th>\n",
       "      <th>most_frequent</th>\n",
       "      <th>stratified</th>\n",
       "      <th>uniform</th>\n",
       "      <th>Value_LogReg</th>\n",
       "      <th>Value_KNN</th>\n",
       "      <th>Value_LDA</th>\n",
       "      <th>Value_GNB</th>\n",
       "      <th>Value_RFC</th>\n",
       "      <th>Value_SVC</th>\n",
       "      <th>Value_NSVC</th>\n",
       "      <th>Value_LSVC</th>\n",
       "    </tr>\n",
       "  </thead>\n",
       "  <tbody>\n",
       "    <tr>\n",
       "      <th>F1 Score</th>\n",
       "      <td>0.000000</td>\n",
       "      <td>0.361949</td>\n",
       "      <td>0.403361</td>\n",
       "      <td>0.934010</td>\n",
       "      <td>0.888889</td>\n",
       "      <td>0.906250</td>\n",
       "      <td>0.903704</td>\n",
       "      <td>0.934010</td>\n",
       "      <td>0.965174</td>\n",
       "      <td>0.959799</td>\n",
       "      <td>0.946835</td>\n",
       "    </tr>\n",
       "    <tr>\n",
       "      <th>accuracy</th>\n",
       "      <td>0.650877</td>\n",
       "      <td>0.517544</td>\n",
       "      <td>0.501754</td>\n",
       "      <td>0.954386</td>\n",
       "      <td>0.924561</td>\n",
       "      <td>0.936842</td>\n",
       "      <td>0.931579</td>\n",
       "      <td>0.954386</td>\n",
       "      <td>0.975439</td>\n",
       "      <td>0.971930</td>\n",
       "      <td>0.963158</td>\n",
       "    </tr>\n",
       "    <tr>\n",
       "      <th>ROC AUC</th>\n",
       "      <td>0.500000</td>\n",
       "      <td>0.488433</td>\n",
       "      <td>0.497271</td>\n",
       "      <td>0.947487</td>\n",
       "      <td>0.910597</td>\n",
       "      <td>0.922361</td>\n",
       "      <td>0.928802</td>\n",
       "      <td>0.947487</td>\n",
       "      <td>0.975308</td>\n",
       "      <td>0.969118</td>\n",
       "      <td>0.957720</td>\n",
       "    </tr>\n",
       "    <tr>\n",
       "      <th>Precision</th>\n",
       "      <td>0.000000</td>\n",
       "      <td>0.336207</td>\n",
       "      <td>0.346570</td>\n",
       "      <td>0.943590</td>\n",
       "      <td>0.914894</td>\n",
       "      <td>0.940541</td>\n",
       "      <td>0.888350</td>\n",
       "      <td>0.943590</td>\n",
       "      <td>0.955665</td>\n",
       "      <td>0.959799</td>\n",
       "      <td>0.954082</td>\n",
       "    </tr>\n",
       "    <tr>\n",
       "      <th>Recall</th>\n",
       "      <td>0.000000</td>\n",
       "      <td>0.391960</td>\n",
       "      <td>0.482412</td>\n",
       "      <td>0.924623</td>\n",
       "      <td>0.864322</td>\n",
       "      <td>0.874372</td>\n",
       "      <td>0.919598</td>\n",
       "      <td>0.924623</td>\n",
       "      <td>0.974874</td>\n",
       "      <td>0.959799</td>\n",
       "      <td>0.939698</td>\n",
       "    </tr>\n",
       "  </tbody>\n",
       "</table>\n",
       "</div>"
      ],
      "text/plain": [
       "           most_frequent  stratified   uniform  Value_LogReg  Value_KNN  \\\n",
       "F1 Score        0.000000    0.361949  0.403361      0.934010   0.888889   \n",
       "accuracy        0.650877    0.517544  0.501754      0.954386   0.924561   \n",
       "ROC AUC         0.500000    0.488433  0.497271      0.947487   0.910597   \n",
       "Precision       0.000000    0.336207  0.346570      0.943590   0.914894   \n",
       "Recall          0.000000    0.391960  0.482412      0.924623   0.864322   \n",
       "\n",
       "           Value_LDA  Value_GNB  Value_RFC  Value_SVC  Value_NSVC  Value_LSVC  \n",
       "F1 Score    0.906250   0.903704   0.934010   0.965174    0.959799    0.946835  \n",
       "accuracy    0.936842   0.931579   0.954386   0.975439    0.971930    0.963158  \n",
       "ROC AUC     0.922361   0.928802   0.947487   0.975308    0.969118    0.957720  \n",
       "Precision   0.940541   0.888350   0.943590   0.955665    0.959799    0.954082  \n",
       "Recall      0.874372   0.919598   0.924623   0.974874    0.959799    0.939698  "
      ]
     },
     "execution_count": 53,
     "metadata": {},
     "output_type": "execute_result"
    }
   ],
   "source": [
    "df_metric['Value_LSVC'] = metric_calculator(y_test , grid_lsvc.predict(X_test))\n",
    "df_metric"
   ]
  },
  {
   "cell_type": "markdown",
   "metadata": {},
   "source": [
    "### Health Score for All"
   ]
  },
  {
   "cell_type": "code",
   "execution_count": 54,
   "metadata": {
    "ExecuteTime": {
     "end_time": "2022-09-17T14:18:20.482344Z",
     "start_time": "2022-09-17T14:18:20.391552Z"
    }
   },
   "outputs": [
    {
     "data": {
      "text/html": [
       "<div>\n",
       "<style scoped>\n",
       "    .dataframe tbody tr th:only-of-type {\n",
       "        vertical-align: middle;\n",
       "    }\n",
       "\n",
       "    .dataframe tbody tr th {\n",
       "        vertical-align: top;\n",
       "    }\n",
       "\n",
       "    .dataframe thead th {\n",
       "        text-align: right;\n",
       "    }\n",
       "</style>\n",
       "<table border=\"1\" class=\"dataframe\">\n",
       "  <thead>\n",
       "    <tr style=\"text-align: right;\">\n",
       "      <th></th>\n",
       "      <th>no_warning_sign</th>\n",
       "      <th>BizActive?</th>\n",
       "      <th>AddedUsers/BoughtUser</th>\n",
       "      <th>ActiveUsers/AddedUsers</th>\n",
       "      <th>#Activities</th>\n",
       "      <th>ActivitiesWoutDeal/#Activities</th>\n",
       "      <th>AvgDelayTimeActivity</th>\n",
       "      <th>#Activities/#Deals</th>\n",
       "      <th>%NoAcquitance</th>\n",
       "      <th>TransformationSpeed</th>\n",
       "      <th>TransformationRate</th>\n",
       "      <th>%NoReasonFailure</th>\n",
       "      <th>#OngoingDeals/#Total(Correct)Deals</th>\n",
       "      <th>BizIsExpired?</th>\n",
       "      <th>Health_Score</th>\n",
       "      <th>BizDomainsId</th>\n",
       "    </tr>\n",
       "  </thead>\n",
       "  <tbody>\n",
       "    <tr>\n",
       "      <th>0</th>\n",
       "      <td>0.000000</td>\n",
       "      <td>0</td>\n",
       "      <td>0.642724</td>\n",
       "      <td>0.181397</td>\n",
       "      <td>1</td>\n",
       "      <td>0.866667</td>\n",
       "      <td>4</td>\n",
       "      <td>1.068966</td>\n",
       "      <td>0.310345</td>\n",
       "      <td>2</td>\n",
       "      <td>2</td>\n",
       "      <td>3</td>\n",
       "      <td>0.500000</td>\n",
       "      <td>1</td>\n",
       "      <td>1.045719</td>\n",
       "      <td>0006df37-709c-4121-be9e-5210adc6a044</td>\n",
       "    </tr>\n",
       "    <tr>\n",
       "      <th>1</th>\n",
       "      <td>0.238875</td>\n",
       "      <td>1</td>\n",
       "      <td>0.398507</td>\n",
       "      <td>0.274307</td>\n",
       "      <td>3</td>\n",
       "      <td>0.662252</td>\n",
       "      <td>3</td>\n",
       "      <td>0.688889</td>\n",
       "      <td>0.917526</td>\n",
       "      <td>2</td>\n",
       "      <td>2</td>\n",
       "      <td>1</td>\n",
       "      <td>0.627451</td>\n",
       "      <td>0</td>\n",
       "      <td>6.491782</td>\n",
       "      <td>002d52c3-6c10-41a5-a4b2-91422a1ab307</td>\n",
       "    </tr>\n",
       "    <tr>\n",
       "      <th>2</th>\n",
       "      <td>0.822599</td>\n",
       "      <td>0</td>\n",
       "      <td>1.000000</td>\n",
       "      <td>0.949580</td>\n",
       "      <td>1</td>\n",
       "      <td>0.000000</td>\n",
       "      <td>4</td>\n",
       "      <td>1.444444</td>\n",
       "      <td>0.000000</td>\n",
       "      <td>1</td>\n",
       "      <td>3</td>\n",
       "      <td>1</td>\n",
       "      <td>0.846154</td>\n",
       "      <td>0</td>\n",
       "      <td>5.058761</td>\n",
       "      <td>00428596-e168-49ce-8428-7949cd2215ea</td>\n",
       "    </tr>\n",
       "    <tr>\n",
       "      <th>3</th>\n",
       "      <td>0.000000</td>\n",
       "      <td>0</td>\n",
       "      <td>1.000000</td>\n",
       "      <td>0.211382</td>\n",
       "      <td>1</td>\n",
       "      <td>1.000000</td>\n",
       "      <td>3</td>\n",
       "      <td>0.000000</td>\n",
       "      <td>0.602430</td>\n",
       "      <td>2</td>\n",
       "      <td>2</td>\n",
       "      <td>2</td>\n",
       "      <td>0.506440</td>\n",
       "      <td>1</td>\n",
       "      <td>1.314663</td>\n",
       "      <td>0049986f-b17d-44ef-992f-88d478dd21b8</td>\n",
       "    </tr>\n",
       "    <tr>\n",
       "      <th>4</th>\n",
       "      <td>0.082940</td>\n",
       "      <td>1</td>\n",
       "      <td>1.000000</td>\n",
       "      <td>0.804726</td>\n",
       "      <td>4</td>\n",
       "      <td>0.773725</td>\n",
       "      <td>2</td>\n",
       "      <td>3.579350</td>\n",
       "      <td>0.182724</td>\n",
       "      <td>2</td>\n",
       "      <td>1</td>\n",
       "      <td>2</td>\n",
       "      <td>0.013858</td>\n",
       "      <td>0</td>\n",
       "      <td>6.196868</td>\n",
       "      <td>004c3ec1-da71-494d-9adb-8a4e660f9257</td>\n",
       "    </tr>\n",
       "  </tbody>\n",
       "</table>\n",
       "</div>"
      ],
      "text/plain": [
       "   no_warning_sign  BizActive?  AddedUsers/BoughtUser  ActiveUsers/AddedUsers  \\\n",
       "0         0.000000           0               0.642724                0.181397   \n",
       "1         0.238875           1               0.398507                0.274307   \n",
       "2         0.822599           0               1.000000                0.949580   \n",
       "3         0.000000           0               1.000000                0.211382   \n",
       "4         0.082940           1               1.000000                0.804726   \n",
       "\n",
       "   #Activities  ActivitiesWoutDeal/#Activities  AvgDelayTimeActivity  \\\n",
       "0            1                        0.866667                     4   \n",
       "1            3                        0.662252                     3   \n",
       "2            1                        0.000000                     4   \n",
       "3            1                        1.000000                     3   \n",
       "4            4                        0.773725                     2   \n",
       "\n",
       "   #Activities/#Deals  %NoAcquitance  TransformationSpeed  TransformationRate  \\\n",
       "0            1.068966       0.310345                    2                   2   \n",
       "1            0.688889       0.917526                    2                   2   \n",
       "2            1.444444       0.000000                    1                   3   \n",
       "3            0.000000       0.602430                    2                   2   \n",
       "4            3.579350       0.182724                    2                   1   \n",
       "\n",
       "   %NoReasonFailure  #OngoingDeals/#Total(Correct)Deals  BizIsExpired?  \\\n",
       "0                 3                            0.500000              1   \n",
       "1                 1                            0.627451              0   \n",
       "2                 1                            0.846154              0   \n",
       "3                 2                            0.506440              1   \n",
       "4                 2                            0.013858              0   \n",
       "\n",
       "   Health_Score                          BizDomainsId  \n",
       "0      1.045719  0006df37-709c-4121-be9e-5210adc6a044  \n",
       "1      6.491782  002d52c3-6c10-41a5-a4b2-91422a1ab307  \n",
       "2      5.058761  00428596-e168-49ce-8428-7949cd2215ea  \n",
       "3      1.314663  0049986f-b17d-44ef-992f-88d478dd21b8  \n",
       "4      6.196868  004c3ec1-da71-494d-9adb-8a4e660f9257  "
      ]
     },
     "execution_count": 54,
     "metadata": {},
     "output_type": "execute_result"
    }
   ],
   "source": [
    "lsvc = LinearSVC(dual=False ,C= 1, loss= 'squared_hinge', penalty= 'l1')\n",
    "y_dec_LSVC = ((lsvc.fit(X, y)).decision_function(X)).reshape(-1,1)\n",
    "y_dec_LSVC = MinMaxScaler(feature_range=(0, 10)).fit_transform(y_dec_LSVC)\n",
    "df_medoid['Health_Score'] = 10 - y_dec_LSVC\n",
    "df_medoid.head()"
   ]
  },
  {
   "cell_type": "markdown",
   "metadata": {},
   "source": [
    "### Successful Customers Checking"
   ]
  },
  {
   "cell_type": "code",
   "execution_count": 55,
   "metadata": {
    "ExecuteTime": {
     "end_time": "2022-09-17T14:18:20.620937Z",
     "start_time": "2022-09-17T14:18:20.484315Z"
    }
   },
   "outputs": [
    {
     "data": {
      "image/png": "[encoded data removed]",
      "text/plain": [
       "<Figure size 500x300 with 1 Axes>"
      ]
     },
     "metadata": {},
     "output_type": "display_data"
    }
   ],
   "source": [
    "successful  = pd.read_csv(r\"SuccesfulCustomers.csv\")\n",
    "successful = successful['BizDomainId'].str.lower()\n",
    "plt.figure(figsize=(5,3))\n",
    "plt.style.use('seaborn')\n",
    "sns.histplot(df_medoid.loc[df_medoid['BizDomainsId'].isin(successful),'Health_Score'])\n",
    "plt.title('Histogram of Successful BizDomains')\n",
    "plt.tight_layout()\n",
    "# plt.savefig('29. LinearSVC Successful Biz.jpg',dpi=200)\n",
    "plt.show()"
   ]
  },
  {
   "cell_type": "markdown",
   "metadata": {},
   "source": [
    "### Export"
   ]
  },
  {
   "cell_type": "code",
   "execution_count": 56,
   "metadata": {
    "ExecuteTime": {
     "end_time": "2022-09-17T14:18:20.635906Z",
     "start_time": "2022-09-17T14:18:20.621935Z"
    }
   },
   "outputs": [],
   "source": [
    "# df_medoid.to_csv('9. medoid k=2 LinearSVC Report.csv')"
   ]
  },
  {
   "cell_type": "markdown",
   "metadata": {},
   "source": [
    "## GradientBoostingClassifier (Best)"
   ]
  },
  {
   "cell_type": "markdown",
   "metadata": {},
   "source": [
    "### GridSearch"
   ]
  },
  {
   "cell_type": "code",
   "execution_count": 57,
   "metadata": {
    "ExecuteTime": {
     "end_time": "2022-09-17T15:00:35.110174Z",
     "start_time": "2022-09-17T14:18:20.636895Z"
    }
   },
   "outputs": [
    {
     "name": "stdout",
     "output_type": "stream",
     "text": [
      "Fitting 30 folds for each of 300 candidates, totalling 9000 fits\n",
      "best paramters= {'learning_rate': 0.1, 'loss': 'log_loss', 'max_features': 'log2', 'n_estimators': 300, 'subsample': 0.8}\n",
      "best score= 0.9595635014782051\n"
     ]
    }
   ],
   "source": [
    "gbc = GradientBoostingClassifier()\n",
    "params_gbc = {'loss':['log_loss', 'exponential'], 'learning_rate':[0.01,0.05,0.1,0.15,0.2],\n",
    "             'n_estimators':[300,400],'subsample': [0.8,0.85,0.9,0.95,1],\n",
    "               'max_features':['sqrt', 'log2']}\n",
    "\n",
    "scorer = {\"AUC\": \"roc_auc\", \"F1\": make_scorer(f1_score) , \n",
    "          \"Accuracy\": 'accuracy'}\n",
    "cv = RepeatedStratifiedKFold(n_splits=10, n_repeats=3, random_state=1)\n",
    "grid_gbc=GridSearchCV(gbc ,param_grid=params_gbc, n_jobs=-1 , cv=cv , verbose = 5,\n",
    "                         scoring=scorer , refit='F1')\n",
    "grid_gbc.fit(X_train , y_train )\n",
    "print('best paramters= {}\\nbest score= {}'.format(grid_gbc.best_params_ , grid_gbc.best_score_) )"
   ]
  },
  {
   "cell_type": "markdown",
   "metadata": {},
   "source": [
    "### Metrics"
   ]
  },
  {
   "cell_type": "code",
   "execution_count": 58,
   "metadata": {
    "ExecuteTime": {
     "end_time": "2022-09-17T15:00:35.156016Z",
     "start_time": "2022-09-17T15:00:35.115125Z"
    }
   },
   "outputs": [
    {
     "data": {
      "text/html": [
       "<div>\n",
       "<style scoped>\n",
       "    .dataframe tbody tr th:only-of-type {\n",
       "        vertical-align: middle;\n",
       "    }\n",
       "\n",
       "    .dataframe tbody tr th {\n",
       "        vertical-align: top;\n",
       "    }\n",
       "\n",
       "    .dataframe thead th {\n",
       "        text-align: right;\n",
       "    }\n",
       "</style>\n",
       "<table border=\"1\" class=\"dataframe\">\n",
       "  <thead>\n",
       "    <tr style=\"text-align: right;\">\n",
       "      <th></th>\n",
       "      <th>most_frequent</th>\n",
       "      <th>stratified</th>\n",
       "      <th>uniform</th>\n",
       "      <th>Value_LogReg</th>\n",
       "      <th>Value_KNN</th>\n",
       "      <th>Value_LDA</th>\n",
       "      <th>Value_GNB</th>\n",
       "      <th>Value_RFC</th>\n",
       "      <th>Value_SVC</th>\n",
       "      <th>Value_NSVC</th>\n",
       "      <th>Value_LSVC</th>\n",
       "      <th>Value_GBR</th>\n",
       "    </tr>\n",
       "  </thead>\n",
       "  <tbody>\n",
       "    <tr>\n",
       "      <th>F1 Score</th>\n",
       "      <td>0.000000</td>\n",
       "      <td>0.361949</td>\n",
       "      <td>0.403361</td>\n",
       "      <td>0.934010</td>\n",
       "      <td>0.888889</td>\n",
       "      <td>0.906250</td>\n",
       "      <td>0.903704</td>\n",
       "      <td>0.934010</td>\n",
       "      <td>0.965174</td>\n",
       "      <td>0.959799</td>\n",
       "      <td>0.946835</td>\n",
       "      <td>0.962025</td>\n",
       "    </tr>\n",
       "    <tr>\n",
       "      <th>accuracy</th>\n",
       "      <td>0.650877</td>\n",
       "      <td>0.517544</td>\n",
       "      <td>0.501754</td>\n",
       "      <td>0.954386</td>\n",
       "      <td>0.924561</td>\n",
       "      <td>0.936842</td>\n",
       "      <td>0.931579</td>\n",
       "      <td>0.954386</td>\n",
       "      <td>0.975439</td>\n",
       "      <td>0.971930</td>\n",
       "      <td>0.963158</td>\n",
       "      <td>0.973684</td>\n",
       "    </tr>\n",
       "    <tr>\n",
       "      <th>ROC AUC</th>\n",
       "      <td>0.500000</td>\n",
       "      <td>0.488433</td>\n",
       "      <td>0.497271</td>\n",
       "      <td>0.947487</td>\n",
       "      <td>0.910597</td>\n",
       "      <td>0.922361</td>\n",
       "      <td>0.928802</td>\n",
       "      <td>0.947487</td>\n",
       "      <td>0.975308</td>\n",
       "      <td>0.969118</td>\n",
       "      <td>0.957720</td>\n",
       "      <td>0.969301</td>\n",
       "    </tr>\n",
       "    <tr>\n",
       "      <th>Precision</th>\n",
       "      <td>0.000000</td>\n",
       "      <td>0.336207</td>\n",
       "      <td>0.346570</td>\n",
       "      <td>0.943590</td>\n",
       "      <td>0.914894</td>\n",
       "      <td>0.940541</td>\n",
       "      <td>0.888350</td>\n",
       "      <td>0.943590</td>\n",
       "      <td>0.955665</td>\n",
       "      <td>0.959799</td>\n",
       "      <td>0.954082</td>\n",
       "      <td>0.969388</td>\n",
       "    </tr>\n",
       "    <tr>\n",
       "      <th>Recall</th>\n",
       "      <td>0.000000</td>\n",
       "      <td>0.391960</td>\n",
       "      <td>0.482412</td>\n",
       "      <td>0.924623</td>\n",
       "      <td>0.864322</td>\n",
       "      <td>0.874372</td>\n",
       "      <td>0.919598</td>\n",
       "      <td>0.924623</td>\n",
       "      <td>0.974874</td>\n",
       "      <td>0.959799</td>\n",
       "      <td>0.939698</td>\n",
       "      <td>0.954774</td>\n",
       "    </tr>\n",
       "  </tbody>\n",
       "</table>\n",
       "</div>"
      ],
      "text/plain": [
       "           most_frequent  stratified   uniform  Value_LogReg  Value_KNN  \\\n",
       "F1 Score        0.000000    0.361949  0.403361      0.934010   0.888889   \n",
       "accuracy        0.650877    0.517544  0.501754      0.954386   0.924561   \n",
       "ROC AUC         0.500000    0.488433  0.497271      0.947487   0.910597   \n",
       "Precision       0.000000    0.336207  0.346570      0.943590   0.914894   \n",
       "Recall          0.000000    0.391960  0.482412      0.924623   0.864322   \n",
       "\n",
       "           Value_LDA  Value_GNB  Value_RFC  Value_SVC  Value_NSVC  Value_LSVC  \\\n",
       "F1 Score    0.906250   0.903704   0.934010   0.965174    0.959799    0.946835   \n",
       "accuracy    0.936842   0.931579   0.954386   0.975439    0.971930    0.963158   \n",
       "ROC AUC     0.922361   0.928802   0.947487   0.975308    0.969118    0.957720   \n",
       "Precision   0.940541   0.888350   0.943590   0.955665    0.959799    0.954082   \n",
       "Recall      0.874372   0.919598   0.924623   0.974874    0.959799    0.939698   \n",
       "\n",
       "           Value_GBR  \n",
       "F1 Score    0.962025  \n",
       "accuracy    0.973684  \n",
       "ROC AUC     0.969301  \n",
       "Precision   0.969388  \n",
       "Recall      0.954774  "
      ]
     },
     "execution_count": 58,
     "metadata": {},
     "output_type": "execute_result"
    }
   ],
   "source": [
    "df_metric['Value_GBR'] = metric_calculator(y_test , grid_gbc.predict(X_test))\n",
    "df_metric"
   ]
  },
  {
   "cell_type": "markdown",
   "metadata": {},
   "source": [
    "### Health Score for All"
   ]
  },
  {
   "cell_type": "code",
   "execution_count": 59,
   "metadata": {
    "ExecuteTime": {
     "end_time": "2022-09-17T15:00:36.130410Z",
     "start_time": "2022-09-17T15:00:35.159007Z"
    }
   },
   "outputs": [
    {
     "data": {
      "text/html": [
       "<div>\n",
       "<style scoped>\n",
       "    .dataframe tbody tr th:only-of-type {\n",
       "        vertical-align: middle;\n",
       "    }\n",
       "\n",
       "    .dataframe tbody tr th {\n",
       "        vertical-align: top;\n",
       "    }\n",
       "\n",
       "    .dataframe thead th {\n",
       "        text-align: right;\n",
       "    }\n",
       "</style>\n",
       "<table border=\"1\" class=\"dataframe\">\n",
       "  <thead>\n",
       "    <tr style=\"text-align: right;\">\n",
       "      <th></th>\n",
       "      <th>no_warning_sign</th>\n",
       "      <th>BizActive?</th>\n",
       "      <th>AddedUsers/BoughtUser</th>\n",
       "      <th>ActiveUsers/AddedUsers</th>\n",
       "      <th>#Activities</th>\n",
       "      <th>ActivitiesWoutDeal/#Activities</th>\n",
       "      <th>AvgDelayTimeActivity</th>\n",
       "      <th>#Activities/#Deals</th>\n",
       "      <th>%NoAcquitance</th>\n",
       "      <th>TransformationSpeed</th>\n",
       "      <th>TransformationRate</th>\n",
       "      <th>%NoReasonFailure</th>\n",
       "      <th>#OngoingDeals/#Total(Correct)Deals</th>\n",
       "      <th>BizIsExpired?</th>\n",
       "      <th>Health_Score</th>\n",
       "      <th>BizDomainsId</th>\n",
       "    </tr>\n",
       "  </thead>\n",
       "  <tbody>\n",
       "    <tr>\n",
       "      <th>0</th>\n",
       "      <td>0.000000</td>\n",
       "      <td>0</td>\n",
       "      <td>0.642724</td>\n",
       "      <td>0.181397</td>\n",
       "      <td>1</td>\n",
       "      <td>0.866667</td>\n",
       "      <td>4</td>\n",
       "      <td>1.068966</td>\n",
       "      <td>0.310345</td>\n",
       "      <td>2</td>\n",
       "      <td>2</td>\n",
       "      <td>3</td>\n",
       "      <td>0.500000</td>\n",
       "      <td>1</td>\n",
       "      <td>2.337788</td>\n",
       "      <td>0006df37-709c-4121-be9e-5210adc6a044</td>\n",
       "    </tr>\n",
       "    <tr>\n",
       "      <th>1</th>\n",
       "      <td>0.238875</td>\n",
       "      <td>1</td>\n",
       "      <td>0.398507</td>\n",
       "      <td>0.274307</td>\n",
       "      <td>3</td>\n",
       "      <td>0.662252</td>\n",
       "      <td>3</td>\n",
       "      <td>0.688889</td>\n",
       "      <td>0.917526</td>\n",
       "      <td>2</td>\n",
       "      <td>2</td>\n",
       "      <td>1</td>\n",
       "      <td>0.627451</td>\n",
       "      <td>0</td>\n",
       "      <td>8.286262</td>\n",
       "      <td>002d52c3-6c10-41a5-a4b2-91422a1ab307</td>\n",
       "    </tr>\n",
       "    <tr>\n",
       "      <th>2</th>\n",
       "      <td>0.822599</td>\n",
       "      <td>0</td>\n",
       "      <td>1.000000</td>\n",
       "      <td>0.949580</td>\n",
       "      <td>1</td>\n",
       "      <td>0.000000</td>\n",
       "      <td>4</td>\n",
       "      <td>1.444444</td>\n",
       "      <td>0.000000</td>\n",
       "      <td>1</td>\n",
       "      <td>3</td>\n",
       "      <td>1</td>\n",
       "      <td>0.846154</td>\n",
       "      <td>0</td>\n",
       "      <td>6.926666</td>\n",
       "      <td>00428596-e168-49ce-8428-7949cd2215ea</td>\n",
       "    </tr>\n",
       "    <tr>\n",
       "      <th>3</th>\n",
       "      <td>0.000000</td>\n",
       "      <td>0</td>\n",
       "      <td>1.000000</td>\n",
       "      <td>0.211382</td>\n",
       "      <td>1</td>\n",
       "      <td>1.000000</td>\n",
       "      <td>3</td>\n",
       "      <td>0.000000</td>\n",
       "      <td>0.602430</td>\n",
       "      <td>2</td>\n",
       "      <td>2</td>\n",
       "      <td>2</td>\n",
       "      <td>0.506440</td>\n",
       "      <td>1</td>\n",
       "      <td>2.041020</td>\n",
       "      <td>0049986f-b17d-44ef-992f-88d478dd21b8</td>\n",
       "    </tr>\n",
       "    <tr>\n",
       "      <th>4</th>\n",
       "      <td>0.082940</td>\n",
       "      <td>1</td>\n",
       "      <td>1.000000</td>\n",
       "      <td>0.804726</td>\n",
       "      <td>4</td>\n",
       "      <td>0.773725</td>\n",
       "      <td>2</td>\n",
       "      <td>3.579350</td>\n",
       "      <td>0.182724</td>\n",
       "      <td>2</td>\n",
       "      <td>1</td>\n",
       "      <td>2</td>\n",
       "      <td>0.013858</td>\n",
       "      <td>0</td>\n",
       "      <td>7.495541</td>\n",
       "      <td>004c3ec1-da71-494d-9adb-8a4e660f9257</td>\n",
       "    </tr>\n",
       "  </tbody>\n",
       "</table>\n",
       "</div>"
      ],
      "text/plain": [
       "   no_warning_sign  BizActive?  AddedUsers/BoughtUser  ActiveUsers/AddedUsers  \\\n",
       "0         0.000000           0               0.642724                0.181397   \n",
       "1         0.238875           1               0.398507                0.274307   \n",
       "2         0.822599           0               1.000000                0.949580   \n",
       "3         0.000000           0               1.000000                0.211382   \n",
       "4         0.082940           1               1.000000                0.804726   \n",
       "\n",
       "   #Activities  ActivitiesWoutDeal/#Activities  AvgDelayTimeActivity  \\\n",
       "0            1                        0.866667                     4   \n",
       "1            3                        0.662252                     3   \n",
       "2            1                        0.000000                     4   \n",
       "3            1                        1.000000                     3   \n",
       "4            4                        0.773725                     2   \n",
       "\n",
       "   #Activities/#Deals  %NoAcquitance  TransformationSpeed  TransformationRate  \\\n",
       "0            1.068966       0.310345                    2                   2   \n",
       "1            0.688889       0.917526                    2                   2   \n",
       "2            1.444444       0.000000                    1                   3   \n",
       "3            0.000000       0.602430                    2                   2   \n",
       "4            3.579350       0.182724                    2                   1   \n",
       "\n",
       "   %NoReasonFailure  #OngoingDeals/#Total(Correct)Deals  BizIsExpired?  \\\n",
       "0                 3                            0.500000              1   \n",
       "1                 1                            0.627451              0   \n",
       "2                 1                            0.846154              0   \n",
       "3                 2                            0.506440              1   \n",
       "4                 2                            0.013858              0   \n",
       "\n",
       "   Health_Score                          BizDomainsId  \n",
       "0      2.337788  0006df37-709c-4121-be9e-5210adc6a044  \n",
       "1      8.286262  002d52c3-6c10-41a5-a4b2-91422a1ab307  \n",
       "2      6.926666  00428596-e168-49ce-8428-7949cd2215ea  \n",
       "3      2.041020  0049986f-b17d-44ef-992f-88d478dd21b8  \n",
       "4      7.495541  004c3ec1-da71-494d-9adb-8a4e660f9257  "
      ]
     },
     "execution_count": 59,
     "metadata": {},
     "output_type": "execute_result"
    }
   ],
   "source": [
    "gbr = GradientBoostingClassifier(learning_rate= 0.1, loss= 'log_loss',\n",
    "                                 max_features='log2', n_estimators= 300, subsample= 0.8)\n",
    "y_dec_gbr = ((gbr.fit(X, y)).decision_function(X)).reshape(-1,1)\n",
    "y_dec_gbr = MinMaxScaler(feature_range=(0, 10)).fit_transform(y_dec_gbr)\n",
    "df_medoid['Health_Score'] = 10 - y_dec_gbr\n",
    "df_medoid.head()"
   ]
  },
  {
   "cell_type": "markdown",
   "metadata": {},
   "source": [
    "### Feature Importance"
   ]
  },
  {
   "cell_type": "code",
   "execution_count": 60,
   "metadata": {
    "ExecuteTime": {
     "end_time": "2022-09-17T15:00:36.145371Z",
     "start_time": "2022-09-17T15:00:36.132405Z"
    }
   },
   "outputs": [
    {
     "data": {
      "text/html": [
       "<div>\n",
       "<style scoped>\n",
       "    .dataframe tbody tr th:only-of-type {\n",
       "        vertical-align: middle;\n",
       "    }\n",
       "\n",
       "    .dataframe tbody tr th {\n",
       "        vertical-align: top;\n",
       "    }\n",
       "\n",
       "    .dataframe thead th {\n",
       "        text-align: right;\n",
       "    }\n",
       "</style>\n",
       "<table border=\"1\" class=\"dataframe\">\n",
       "  <thead>\n",
       "    <tr style=\"text-align: right;\">\n",
       "      <th></th>\n",
       "      <th>Column Name</th>\n",
       "      <th>Importance</th>\n",
       "    </tr>\n",
       "  </thead>\n",
       "  <tbody>\n",
       "    <tr>\n",
       "      <th>0</th>\n",
       "      <td>no_warning_sign</td>\n",
       "      <td>0.091026</td>\n",
       "    </tr>\n",
       "    <tr>\n",
       "      <th>1</th>\n",
       "      <td>BizActive?</td>\n",
       "      <td>0.443928</td>\n",
       "    </tr>\n",
       "    <tr>\n",
       "      <th>2</th>\n",
       "      <td>AddedUsers/BoughtUser</td>\n",
       "      <td>0.006103</td>\n",
       "    </tr>\n",
       "    <tr>\n",
       "      <th>3</th>\n",
       "      <td>ActiveUsers/AddedUsers</td>\n",
       "      <td>0.028487</td>\n",
       "    </tr>\n",
       "    <tr>\n",
       "      <th>4</th>\n",
       "      <td>#Activities</td>\n",
       "      <td>0.158347</td>\n",
       "    </tr>\n",
       "    <tr>\n",
       "      <th>5</th>\n",
       "      <td>ActivitiesWoutDeal/#Activities</td>\n",
       "      <td>0.049150</td>\n",
       "    </tr>\n",
       "    <tr>\n",
       "      <th>6</th>\n",
       "      <td>AvgDelayTimeActivity</td>\n",
       "      <td>0.003220</td>\n",
       "    </tr>\n",
       "    <tr>\n",
       "      <th>7</th>\n",
       "      <td>#Activities/#Deals</td>\n",
       "      <td>0.057089</td>\n",
       "    </tr>\n",
       "    <tr>\n",
       "      <th>8</th>\n",
       "      <td>%NoAcquitance</td>\n",
       "      <td>0.007668</td>\n",
       "    </tr>\n",
       "    <tr>\n",
       "      <th>9</th>\n",
       "      <td>TransformationSpeed</td>\n",
       "      <td>0.000379</td>\n",
       "    </tr>\n",
       "    <tr>\n",
       "      <th>10</th>\n",
       "      <td>TransformationRate</td>\n",
       "      <td>0.012664</td>\n",
       "    </tr>\n",
       "    <tr>\n",
       "      <th>11</th>\n",
       "      <td>%NoReasonFailure</td>\n",
       "      <td>0.038239</td>\n",
       "    </tr>\n",
       "    <tr>\n",
       "      <th>12</th>\n",
       "      <td>#OngoingDeals/#Total(Correct)Deals</td>\n",
       "      <td>0.103700</td>\n",
       "    </tr>\n",
       "  </tbody>\n",
       "</table>\n",
       "</div>"
      ],
      "text/plain": [
       "                           Column Name  Importance\n",
       "0                      no_warning_sign    0.091026\n",
       "1                           BizActive?    0.443928\n",
       "2                AddedUsers/BoughtUser    0.006103\n",
       "3               ActiveUsers/AddedUsers    0.028487\n",
       "4                          #Activities    0.158347\n",
       "5       ActivitiesWoutDeal/#Activities    0.049150\n",
       "6                 AvgDelayTimeActivity    0.003220\n",
       "7                   #Activities/#Deals    0.057089\n",
       "8                        %NoAcquitance    0.007668\n",
       "9                  TransformationSpeed    0.000379\n",
       "10                  TransformationRate    0.012664\n",
       "11                    %NoReasonFailure    0.038239\n",
       "12  #OngoingDeals/#Total(Correct)Deals    0.103700"
      ]
     },
     "execution_count": 60,
     "metadata": {},
     "output_type": "execute_result"
    }
   ],
   "source": [
    "imp = gbr.feature_importances_\n",
    "pd.DataFrame({'Column Name':df_medoid.columns[:len(imp)] , 'Importance':imp})"
   ]
  },
  {
   "cell_type": "markdown",
   "metadata": {},
   "source": [
    "### Successful Customers Checking"
   ]
  },
  {
   "cell_type": "code",
   "execution_count": 62,
   "metadata": {
    "ExecuteTime": {
     "end_time": "2022-09-17T15:06:07.335272Z",
     "start_time": "2022-09-17T15:06:07.212585Z"
    },
    "scrolled": false
   },
   "outputs": [
    {
     "data": {
      "image/png": "[encoded data removed]",
      "text/plain": [
       "<Figure size 500x300 with 1 Axes>"
      ]
     },
     "metadata": {},
     "output_type": "display_data"
    }
   ],
   "source": [
    "successful  = pd.read_csv(r\"SuccesfulCustomers.csv\")\n",
    "successful = successful['BizDomainId'].str.lower()\n",
    "plt.figure(figsize=(5,3))\n",
    "plt.style.use('seaborn')\n",
    "sns.histplot(df_medoid.loc[df_medoid['BizDomainsId'].isin(successful),'Health_Score'])\n",
    "plt.title('Histogram of Successful BizDomains')\n",
    "plt.tight_layout()\n",
    "# plt.savefig('30. GBC Successful Biz.jpg',dpi=200)\n",
    "plt.show()"
   ]
  },
  {
   "cell_type": "markdown",
   "metadata": {},
   "source": [
    "### Export"
   ]
  },
  {
   "cell_type": "code",
   "execution_count": 63,
   "metadata": {
    "ExecuteTime": {
     "end_time": "2022-09-17T15:06:18.520918Z",
     "start_time": "2022-09-17T15:06:18.514951Z"
    }
   },
   "outputs": [],
   "source": [
    "df_medoid.to_csv('10. medoid k=2 GBC Report.csv')"
   ]
  }
 ],
 "metadata": {
  "kernelspec": {
   "display_name": "Python 3 (ipykernel)",
   "language": "python",
   "name": "python3"
  },
  "language_info": {
   "codemirror_mode": {
    "name": "ipython",
    "version": 3
   },
   "file_extension": ".py",
   "mimetype": "text/x-python",
   "name": "python",
   "nbconvert_exporter": "python",
   "pygments_lexer": "ipython3",
   "version": "3.8.5"
  },
  "toc": {
   "base_numbering": 1,
   "nav_menu": {},
   "number_sections": false,
   "sideBar": true,
   "skip_h1_title": false,
   "title_cell": "Table of Contents",
   "title_sidebar": "Contents",
   "toc_cell": false,
   "toc_position": {
    "height": "calc(100% - 180px)",
    "left": "10px",
    "top": "150px",
    "width": "256px"
   },
   "toc_section_display": true,
   "toc_window_display": true
  },
  "varInspector": {
   "cols": {
    "lenName": 16,
    "lenType": 16,
    "lenVar": 40
   },
   "kernels_config": {
    "python": {
     "delete_cmd_postfix": "",
     "delete_cmd_prefix": "del ",
     "library": "var_list.py",
     "varRefreshCmd": "print(var_dic_list())"
    },
    "r": {
     "delete_cmd_postfix": ") ",
     "delete_cmd_prefix": "rm(",
     "library": "var_list.r",
     "varRefreshCmd": "cat(var_dic_list()) "
    }
   },
   "types_to_exclude": [
    "module",
    "function",
    "builtin_function_or_method",
    "instance",
    "_Feature"
   ],
   "window_display": false
  }
 },
 "nbformat": 4,
 "nbformat_minor": 4
}
